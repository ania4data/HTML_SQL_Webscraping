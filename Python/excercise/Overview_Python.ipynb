{
 "cells": [
  {
   "cell_type": "code",
   "execution_count": 1,
   "metadata": {},
   "outputs": [],
   "source": [
    "import numpy as np\n",
    "import pandas as pd\n",
    "import matplotlib.pyplot as plt\n",
    "import seaborn as sns\n"
   ]
  },
  {
   "cell_type": "markdown",
   "metadata": {},
   "source": [
    "#### importing files"
   ]
  },
  {
   "cell_type": "code",
   "execution_count": 2,
   "metadata": {},
   "outputs": [
    {
     "data": {
      "text/html": [
       "<div>\n",
       "<style scoped>\n",
       "    .dataframe tbody tr th:only-of-type {\n",
       "        vertical-align: middle;\n",
       "    }\n",
       "\n",
       "    .dataframe tbody tr th {\n",
       "        vertical-align: top;\n",
       "    }\n",
       "\n",
       "    .dataframe thead th {\n",
       "        text-align: right;\n",
       "    }\n",
       "</style>\n",
       "<table border=\"1\" class=\"dataframe\">\n",
       "  <thead>\n",
       "    <tr style=\"text-align: right;\">\n",
       "      <th></th>\n",
       "      <th>age</th>\n",
       "      <th>workclass</th>\n",
       "      <th>education_level</th>\n",
       "      <th>education-num</th>\n",
       "      <th>marital-status</th>\n",
       "      <th>occupation</th>\n",
       "      <th>relationship</th>\n",
       "      <th>race</th>\n",
       "      <th>sex</th>\n",
       "      <th>capital-gain</th>\n",
       "      <th>capital-loss</th>\n",
       "      <th>hours-per-week</th>\n",
       "      <th>native-country</th>\n",
       "      <th>income</th>\n",
       "    </tr>\n",
       "  </thead>\n",
       "  <tbody>\n",
       "    <tr>\n",
       "      <th>0</th>\n",
       "      <td>39</td>\n",
       "      <td>State-gov</td>\n",
       "      <td>Bachelors</td>\n",
       "      <td>13.0</td>\n",
       "      <td>Never-married</td>\n",
       "      <td>Adm-clerical</td>\n",
       "      <td>Not-in-family</td>\n",
       "      <td>White</td>\n",
       "      <td>Male</td>\n",
       "      <td>2174.0</td>\n",
       "      <td>0.0</td>\n",
       "      <td>40.0</td>\n",
       "      <td>United-States</td>\n",
       "      <td>&lt;=50K</td>\n",
       "    </tr>\n",
       "    <tr>\n",
       "      <th>1</th>\n",
       "      <td>50</td>\n",
       "      <td>Self-emp-not-inc</td>\n",
       "      <td>Bachelors</td>\n",
       "      <td>13.0</td>\n",
       "      <td>Married-civ-spouse</td>\n",
       "      <td>Exec-managerial</td>\n",
       "      <td>Husband</td>\n",
       "      <td>White</td>\n",
       "      <td>Male</td>\n",
       "      <td>0.0</td>\n",
       "      <td>0.0</td>\n",
       "      <td>13.0</td>\n",
       "      <td>United-States</td>\n",
       "      <td>&lt;=50K</td>\n",
       "    </tr>\n",
       "    <tr>\n",
       "      <th>2</th>\n",
       "      <td>38</td>\n",
       "      <td>Private</td>\n",
       "      <td>HS-grad</td>\n",
       "      <td>9.0</td>\n",
       "      <td>Divorced</td>\n",
       "      <td>Handlers-cleaners</td>\n",
       "      <td>Not-in-family</td>\n",
       "      <td>White</td>\n",
       "      <td>Male</td>\n",
       "      <td>0.0</td>\n",
       "      <td>0.0</td>\n",
       "      <td>40.0</td>\n",
       "      <td>United-States</td>\n",
       "      <td>&lt;=50K</td>\n",
       "    </tr>\n",
       "    <tr>\n",
       "      <th>3</th>\n",
       "      <td>53</td>\n",
       "      <td>Private</td>\n",
       "      <td>11th</td>\n",
       "      <td>7.0</td>\n",
       "      <td>Married-civ-spouse</td>\n",
       "      <td>Handlers-cleaners</td>\n",
       "      <td>Husband</td>\n",
       "      <td>Black</td>\n",
       "      <td>Male</td>\n",
       "      <td>0.0</td>\n",
       "      <td>0.0</td>\n",
       "      <td>40.0</td>\n",
       "      <td>United-States</td>\n",
       "      <td>&lt;=50K</td>\n",
       "    </tr>\n",
       "    <tr>\n",
       "      <th>4</th>\n",
       "      <td>28</td>\n",
       "      <td>Private</td>\n",
       "      <td>Bachelors</td>\n",
       "      <td>13.0</td>\n",
       "      <td>Married-civ-spouse</td>\n",
       "      <td>Prof-specialty</td>\n",
       "      <td>Wife</td>\n",
       "      <td>Black</td>\n",
       "      <td>Female</td>\n",
       "      <td>0.0</td>\n",
       "      <td>0.0</td>\n",
       "      <td>40.0</td>\n",
       "      <td>Cuba</td>\n",
       "      <td>&lt;=50K</td>\n",
       "    </tr>\n",
       "  </tbody>\n",
       "</table>\n",
       "</div>"
      ],
      "text/plain": [
       "   age          workclass education_level  education-num       marital-status  \\\n",
       "0   39          State-gov       Bachelors           13.0        Never-married   \n",
       "1   50   Self-emp-not-inc       Bachelors           13.0   Married-civ-spouse   \n",
       "2   38            Private         HS-grad            9.0             Divorced   \n",
       "3   53            Private            11th            7.0   Married-civ-spouse   \n",
       "4   28            Private       Bachelors           13.0   Married-civ-spouse   \n",
       "\n",
       "           occupation    relationship    race      sex  capital-gain  \\\n",
       "0        Adm-clerical   Not-in-family   White     Male        2174.0   \n",
       "1     Exec-managerial         Husband   White     Male           0.0   \n",
       "2   Handlers-cleaners   Not-in-family   White     Male           0.0   \n",
       "3   Handlers-cleaners         Husband   Black     Male           0.0   \n",
       "4      Prof-specialty            Wife   Black   Female           0.0   \n",
       "\n",
       "   capital-loss  hours-per-week  native-country income  \n",
       "0           0.0            40.0   United-States  <=50K  \n",
       "1           0.0            13.0   United-States  <=50K  \n",
       "2           0.0            40.0   United-States  <=50K  \n",
       "3           0.0            40.0   United-States  <=50K  \n",
       "4           0.0            40.0            Cuba  <=50K  "
      ]
     },
     "execution_count": 2,
     "metadata": {},
     "output_type": "execute_result"
    }
   ],
   "source": [
    "df = pd.read_csv(\"census.csv\")\n",
    "df.head()"
   ]
  },
  {
   "cell_type": "code",
   "execution_count": 3,
   "metadata": {},
   "outputs": [
    {
     "data": {
      "text/html": [
       "<div>\n",
       "<style scoped>\n",
       "    .dataframe tbody tr th:only-of-type {\n",
       "        vertical-align: middle;\n",
       "    }\n",
       "\n",
       "    .dataframe tbody tr th {\n",
       "        vertical-align: top;\n",
       "    }\n",
       "\n",
       "    .dataframe thead th {\n",
       "        text-align: right;\n",
       "    }\n",
       "</style>\n",
       "<table border=\"1\" class=\"dataframe\">\n",
       "  <thead>\n",
       "    <tr style=\"text-align: right;\">\n",
       "      <th></th>\n",
       "      <th>age</th>\n",
       "    </tr>\n",
       "  </thead>\n",
       "  <tbody>\n",
       "    <tr>\n",
       "      <th>1</th>\n",
       "      <td>50</td>\n",
       "    </tr>\n",
       "    <tr>\n",
       "      <th>2</th>\n",
       "      <td>38</td>\n",
       "    </tr>\n",
       "    <tr>\n",
       "      <th>3</th>\n",
       "      <td>53</td>\n",
       "    </tr>\n",
       "    <tr>\n",
       "      <th>4</th>\n",
       "      <td>28</td>\n",
       "    </tr>\n",
       "  </tbody>\n",
       "</table>\n",
       "</div>"
      ],
      "text/plain": [
       "   age\n",
       "1   50\n",
       "2   38\n",
       "3   53\n",
       "4   28"
      ]
     },
     "execution_count": 3,
     "metadata": {},
     "output_type": "execute_result"
    }
   ],
   "source": [
    "df.loc[1:4,['age']]"
   ]
  },
  {
   "cell_type": "code",
   "execution_count": 5,
   "metadata": {},
   "outputs": [
    {
     "data": {
      "text/html": [
       "<div>\n",
       "<style scoped>\n",
       "    .dataframe tbody tr th:only-of-type {\n",
       "        vertical-align: middle;\n",
       "    }\n",
       "\n",
       "    .dataframe tbody tr th {\n",
       "        vertical-align: top;\n",
       "    }\n",
       "\n",
       "    .dataframe thead th {\n",
       "        text-align: right;\n",
       "    }\n",
       "</style>\n",
       "<table border=\"1\" class=\"dataframe\">\n",
       "  <thead>\n",
       "    <tr style=\"text-align: right;\">\n",
       "      <th></th>\n",
       "      <th>education_level</th>\n",
       "      <th>education-num</th>\n",
       "      <th>marital-status</th>\n",
       "      <th>occupation</th>\n",
       "      <th>relationship</th>\n",
       "      <th>race</th>\n",
       "      <th>sex</th>\n",
       "      <th>capital-gain</th>\n",
       "      <th>capital-loss</th>\n",
       "      <th>hours-per-week</th>\n",
       "      <th>native-country</th>\n",
       "      <th>income</th>\n",
       "    </tr>\n",
       "  </thead>\n",
       "  <tbody>\n",
       "    <tr>\n",
       "      <th>0</th>\n",
       "      <td>Bachelors</td>\n",
       "      <td>13.0</td>\n",
       "      <td>Never-married</td>\n",
       "      <td>Adm-clerical</td>\n",
       "      <td>Not-in-family</td>\n",
       "      <td>White</td>\n",
       "      <td>Male</td>\n",
       "      <td>2174.0</td>\n",
       "      <td>0.0</td>\n",
       "      <td>40.0</td>\n",
       "      <td>United-States</td>\n",
       "      <td>&lt;=50K</td>\n",
       "    </tr>\n",
       "    <tr>\n",
       "      <th>1</th>\n",
       "      <td>Bachelors</td>\n",
       "      <td>13.0</td>\n",
       "      <td>Married-civ-spouse</td>\n",
       "      <td>Exec-managerial</td>\n",
       "      <td>Husband</td>\n",
       "      <td>White</td>\n",
       "      <td>Male</td>\n",
       "      <td>0.0</td>\n",
       "      <td>0.0</td>\n",
       "      <td>13.0</td>\n",
       "      <td>United-States</td>\n",
       "      <td>&lt;=50K</td>\n",
       "    </tr>\n",
       "    <tr>\n",
       "      <th>2</th>\n",
       "      <td>HS-grad</td>\n",
       "      <td>9.0</td>\n",
       "      <td>Divorced</td>\n",
       "      <td>Handlers-cleaners</td>\n",
       "      <td>Not-in-family</td>\n",
       "      <td>White</td>\n",
       "      <td>Male</td>\n",
       "      <td>0.0</td>\n",
       "      <td>0.0</td>\n",
       "      <td>40.0</td>\n",
       "      <td>United-States</td>\n",
       "      <td>&lt;=50K</td>\n",
       "    </tr>\n",
       "    <tr>\n",
       "      <th>3</th>\n",
       "      <td>11th</td>\n",
       "      <td>7.0</td>\n",
       "      <td>Married-civ-spouse</td>\n",
       "      <td>Handlers-cleaners</td>\n",
       "      <td>Husband</td>\n",
       "      <td>Black</td>\n",
       "      <td>Male</td>\n",
       "      <td>0.0</td>\n",
       "      <td>0.0</td>\n",
       "      <td>40.0</td>\n",
       "      <td>United-States</td>\n",
       "      <td>&lt;=50K</td>\n",
       "    </tr>\n",
       "    <tr>\n",
       "      <th>4</th>\n",
       "      <td>Bachelors</td>\n",
       "      <td>13.0</td>\n",
       "      <td>Married-civ-spouse</td>\n",
       "      <td>Prof-specialty</td>\n",
       "      <td>Wife</td>\n",
       "      <td>Black</td>\n",
       "      <td>Female</td>\n",
       "      <td>0.0</td>\n",
       "      <td>0.0</td>\n",
       "      <td>40.0</td>\n",
       "      <td>Cuba</td>\n",
       "      <td>&lt;=50K</td>\n",
       "    </tr>\n",
       "  </tbody>\n",
       "</table>\n",
       "</div>"
      ],
      "text/plain": [
       "  education_level  education-num       marital-status          occupation  \\\n",
       "0       Bachelors           13.0        Never-married        Adm-clerical   \n",
       "1       Bachelors           13.0   Married-civ-spouse     Exec-managerial   \n",
       "2         HS-grad            9.0             Divorced   Handlers-cleaners   \n",
       "3            11th            7.0   Married-civ-spouse   Handlers-cleaners   \n",
       "4       Bachelors           13.0   Married-civ-spouse      Prof-specialty   \n",
       "\n",
       "     relationship    race      sex  capital-gain  capital-loss  \\\n",
       "0   Not-in-family   White     Male        2174.0           0.0   \n",
       "1         Husband   White     Male           0.0           0.0   \n",
       "2   Not-in-family   White     Male           0.0           0.0   \n",
       "3         Husband   Black     Male           0.0           0.0   \n",
       "4            Wife   Black   Female           0.0           0.0   \n",
       "\n",
       "   hours-per-week  native-country income  \n",
       "0            40.0   United-States  <=50K  \n",
       "1            13.0   United-States  <=50K  \n",
       "2            40.0   United-States  <=50K  \n",
       "3            40.0   United-States  <=50K  \n",
       "4            40.0            Cuba  <=50K  "
      ]
     },
     "execution_count": 5,
     "metadata": {},
     "output_type": "execute_result"
    }
   ],
   "source": [
    "df.drop(['age','workclass'],axis=1).head()"
   ]
  },
  {
   "cell_type": "code",
   "execution_count": 185,
   "metadata": {},
   "outputs": [
    {
     "data": {
      "text/html": [
       "<div>\n",
       "<style scoped>\n",
       "    .dataframe tbody tr th:only-of-type {\n",
       "        vertical-align: middle;\n",
       "    }\n",
       "\n",
       "    .dataframe tbody tr th {\n",
       "        vertical-align: top;\n",
       "    }\n",
       "\n",
       "    .dataframe thead th {\n",
       "        text-align: right;\n",
       "    }\n",
       "</style>\n",
       "<table border=\"1\" class=\"dataframe\">\n",
       "  <thead>\n",
       "    <tr style=\"text-align: right;\">\n",
       "      <th></th>\n",
       "      <th>age</th>\n",
       "      <th>education-num</th>\n",
       "      <th>capital-gain</th>\n",
       "      <th>capital-loss</th>\n",
       "      <th>hours-per-week</th>\n",
       "      <th>income_mapped</th>\n",
       "    </tr>\n",
       "  </thead>\n",
       "  <tbody>\n",
       "    <tr>\n",
       "      <th>count</th>\n",
       "      <td>45222.000000</td>\n",
       "      <td>45222.000000</td>\n",
       "      <td>45222.000000</td>\n",
       "      <td>45222.000000</td>\n",
       "      <td>45222.000000</td>\n",
       "      <td>45222.000000</td>\n",
       "    </tr>\n",
       "    <tr>\n",
       "      <th>mean</th>\n",
       "      <td>38.547941</td>\n",
       "      <td>10.118460</td>\n",
       "      <td>1101.430344</td>\n",
       "      <td>88.595418</td>\n",
       "      <td>40.938017</td>\n",
       "      <td>0.247844</td>\n",
       "    </tr>\n",
       "    <tr>\n",
       "      <th>std</th>\n",
       "      <td>13.217870</td>\n",
       "      <td>2.552881</td>\n",
       "      <td>7506.430084</td>\n",
       "      <td>404.956092</td>\n",
       "      <td>12.007508</td>\n",
       "      <td>0.431766</td>\n",
       "    </tr>\n",
       "    <tr>\n",
       "      <th>min</th>\n",
       "      <td>17.000000</td>\n",
       "      <td>1.000000</td>\n",
       "      <td>0.000000</td>\n",
       "      <td>0.000000</td>\n",
       "      <td>1.000000</td>\n",
       "      <td>0.000000</td>\n",
       "    </tr>\n",
       "    <tr>\n",
       "      <th>25%</th>\n",
       "      <td>28.000000</td>\n",
       "      <td>9.000000</td>\n",
       "      <td>0.000000</td>\n",
       "      <td>0.000000</td>\n",
       "      <td>40.000000</td>\n",
       "      <td>0.000000</td>\n",
       "    </tr>\n",
       "    <tr>\n",
       "      <th>50%</th>\n",
       "      <td>37.000000</td>\n",
       "      <td>10.000000</td>\n",
       "      <td>0.000000</td>\n",
       "      <td>0.000000</td>\n",
       "      <td>40.000000</td>\n",
       "      <td>0.000000</td>\n",
       "    </tr>\n",
       "    <tr>\n",
       "      <th>75%</th>\n",
       "      <td>47.000000</td>\n",
       "      <td>13.000000</td>\n",
       "      <td>0.000000</td>\n",
       "      <td>0.000000</td>\n",
       "      <td>45.000000</td>\n",
       "      <td>0.000000</td>\n",
       "    </tr>\n",
       "    <tr>\n",
       "      <th>max</th>\n",
       "      <td>90.000000</td>\n",
       "      <td>16.000000</td>\n",
       "      <td>99999.000000</td>\n",
       "      <td>4356.000000</td>\n",
       "      <td>99.000000</td>\n",
       "      <td>1.000000</td>\n",
       "    </tr>\n",
       "  </tbody>\n",
       "</table>\n",
       "</div>"
      ],
      "text/plain": [
       "                age  education-num  capital-gain  capital-loss  \\\n",
       "count  45222.000000   45222.000000  45222.000000  45222.000000   \n",
       "mean      38.547941      10.118460   1101.430344     88.595418   \n",
       "std       13.217870       2.552881   7506.430084    404.956092   \n",
       "min       17.000000       1.000000      0.000000      0.000000   \n",
       "25%       28.000000       9.000000      0.000000      0.000000   \n",
       "50%       37.000000      10.000000      0.000000      0.000000   \n",
       "75%       47.000000      13.000000      0.000000      0.000000   \n",
       "max       90.000000      16.000000  99999.000000   4356.000000   \n",
       "\n",
       "       hours-per-week  income_mapped  \n",
       "count    45222.000000   45222.000000  \n",
       "mean        40.938017       0.247844  \n",
       "std         12.007508       0.431766  \n",
       "min          1.000000       0.000000  \n",
       "25%         40.000000       0.000000  \n",
       "50%         40.000000       0.000000  \n",
       "75%         45.000000       0.000000  \n",
       "max         99.000000       1.000000  "
      ]
     },
     "execution_count": 185,
     "metadata": {},
     "output_type": "execute_result"
    }
   ],
   "source": [
    "df.describe()"
   ]
  },
  {
   "cell_type": "code",
   "execution_count": 186,
   "metadata": {},
   "outputs": [
    {
     "name": "stdout",
     "output_type": "stream",
     "text": [
      "<class 'pandas.core.frame.DataFrame'>\n",
      "RangeIndex: 45222 entries, 0 to 45221\n",
      "Data columns (total 16 columns):\n",
      "age                      45222 non-null int64\n",
      "workclass                45222 non-null object\n",
      "education_level          45222 non-null object\n",
      "education-num            45222 non-null float64\n",
      "marital-status           45222 non-null object\n",
      "occupation               45222 non-null object\n",
      "relationship             45222 non-null object\n",
      "race                     45222 non-null object\n",
      "sex                      45222 non-null object\n",
      "capital-gain             45222 non-null float64\n",
      "capital-loss             45222 non-null float64\n",
      "hours-per-week           45222 non-null float64\n",
      "native-country           45222 non-null object\n",
      "income                   45222 non-null object\n",
      "education_level_clean    45222 non-null object\n",
      "income_mapped            45222 non-null int64\n",
      "dtypes: float64(4), int64(2), object(10)\n",
      "memory usage: 5.5+ MB\n"
     ]
    }
   ],
   "source": [
    "df.info()"
   ]
  },
  {
   "cell_type": "code",
   "execution_count": 20,
   "metadata": {},
   "outputs": [
    {
     "data": {
      "text/plain": [
       "array([' Adm-clerical', ' Exec-managerial', ' Handlers-cleaners',\n",
       "       ' Prof-specialty', ' Other-service', ' Sales', ' Transport-moving',\n",
       "       ' Farming-fishing', ' Machine-op-inspct', ' Tech-support',\n",
       "       ' Craft-repair', ' Protective-serv', ' Armed-Forces',\n",
       "       ' Priv-house-serv'], dtype=object)"
      ]
     },
     "execution_count": 20,
     "metadata": {},
     "output_type": "execute_result"
    }
   ],
   "source": [
    "df.occupation.unique()"
   ]
  },
  {
   "cell_type": "code",
   "execution_count": 187,
   "metadata": {},
   "outputs": [
    {
     "data": {
      "text/plain": [
       "Index(['age', 'workclass', 'education_level', 'education-num',\n",
       "       'marital-status', 'occupation', 'relationship', 'race', 'sex',\n",
       "       'capital-gain', 'capital-loss', 'hours-per-week', 'native-country',\n",
       "       'income', 'education_level_clean', 'income_mapped'],\n",
       "      dtype='object')"
      ]
     },
     "execution_count": 187,
     "metadata": {},
     "output_type": "execute_result"
    }
   ],
   "source": [
    "df.columns"
   ]
  },
  {
   "cell_type": "code",
   "execution_count": 191,
   "metadata": {},
   "outputs": [
    {
     "data": {
      "text/html": [
       "<div>\n",
       "<style scoped>\n",
       "    .dataframe tbody tr th:only-of-type {\n",
       "        vertical-align: middle;\n",
       "    }\n",
       "\n",
       "    .dataframe tbody tr th {\n",
       "        vertical-align: top;\n",
       "    }\n",
       "\n",
       "    .dataframe thead th {\n",
       "        text-align: right;\n",
       "    }\n",
       "</style>\n",
       "<table border=\"1\" class=\"dataframe\">\n",
       "  <thead>\n",
       "    <tr style=\"text-align: right;\">\n",
       "      <th></th>\n",
       "      <th>age</th>\n",
       "      <th>workclass</th>\n",
       "      <th>education-num</th>\n",
       "      <th>marital-status</th>\n",
       "      <th>occupation</th>\n",
       "      <th>relationship</th>\n",
       "      <th>race</th>\n",
       "      <th>sex</th>\n",
       "      <th>capital-gain</th>\n",
       "      <th>capital-loss</th>\n",
       "      <th>hours-per-week</th>\n",
       "      <th>native-country</th>\n",
       "      <th>income</th>\n",
       "      <th>education_level_clean</th>\n",
       "      <th>income_mapped</th>\n",
       "    </tr>\n",
       "  </thead>\n",
       "  <tbody>\n",
       "    <tr>\n",
       "      <th>0</th>\n",
       "      <td>39</td>\n",
       "      <td>State-gov</td>\n",
       "      <td>13.0</td>\n",
       "      <td>Never-married</td>\n",
       "      <td>Adm-clerical</td>\n",
       "      <td>Not-in-family</td>\n",
       "      <td>White</td>\n",
       "      <td>Male</td>\n",
       "      <td>2174.0</td>\n",
       "      <td>0.0</td>\n",
       "      <td>40.0</td>\n",
       "      <td>United-States</td>\n",
       "      <td>&lt;=50K</td>\n",
       "      <td>Bachelors</td>\n",
       "      <td>0</td>\n",
       "    </tr>\n",
       "    <tr>\n",
       "      <th>1</th>\n",
       "      <td>50</td>\n",
       "      <td>Self-emp-not-inc</td>\n",
       "      <td>13.0</td>\n",
       "      <td>Married-civ-spouse</td>\n",
       "      <td>Exec-managerial</td>\n",
       "      <td>Husband</td>\n",
       "      <td>White</td>\n",
       "      <td>Male</td>\n",
       "      <td>0.0</td>\n",
       "      <td>0.0</td>\n",
       "      <td>13.0</td>\n",
       "      <td>United-States</td>\n",
       "      <td>&lt;=50K</td>\n",
       "      <td>Bachelors</td>\n",
       "      <td>0</td>\n",
       "    </tr>\n",
       "    <tr>\n",
       "      <th>2</th>\n",
       "      <td>38</td>\n",
       "      <td>Private</td>\n",
       "      <td>9.0</td>\n",
       "      <td>Divorced</td>\n",
       "      <td>Handlers-cleaners</td>\n",
       "      <td>Not-in-family</td>\n",
       "      <td>White</td>\n",
       "      <td>Male</td>\n",
       "      <td>0.0</td>\n",
       "      <td>0.0</td>\n",
       "      <td>40.0</td>\n",
       "      <td>United-States</td>\n",
       "      <td>&lt;=50K</td>\n",
       "      <td>HS-grad</td>\n",
       "      <td>0</td>\n",
       "    </tr>\n",
       "    <tr>\n",
       "      <th>3</th>\n",
       "      <td>53</td>\n",
       "      <td>Private</td>\n",
       "      <td>7.0</td>\n",
       "      <td>Married-civ-spouse</td>\n",
       "      <td>Handlers-cleaners</td>\n",
       "      <td>Husband</td>\n",
       "      <td>Black</td>\n",
       "      <td>Male</td>\n",
       "      <td>0.0</td>\n",
       "      <td>0.0</td>\n",
       "      <td>40.0</td>\n",
       "      <td>United-States</td>\n",
       "      <td>&lt;=50K</td>\n",
       "      <td>11th</td>\n",
       "      <td>0</td>\n",
       "    </tr>\n",
       "    <tr>\n",
       "      <th>4</th>\n",
       "      <td>28</td>\n",
       "      <td>Private</td>\n",
       "      <td>13.0</td>\n",
       "      <td>Married-civ-spouse</td>\n",
       "      <td>Prof-specialty</td>\n",
       "      <td>Wife</td>\n",
       "      <td>Black</td>\n",
       "      <td>Female</td>\n",
       "      <td>0.0</td>\n",
       "      <td>0.0</td>\n",
       "      <td>40.0</td>\n",
       "      <td>Cuba</td>\n",
       "      <td>&lt;=50K</td>\n",
       "      <td>Bachelors</td>\n",
       "      <td>0</td>\n",
       "    </tr>\n",
       "  </tbody>\n",
       "</table>\n",
       "</div>"
      ],
      "text/plain": [
       "   age          workclass  education-num       marital-status  \\\n",
       "0   39          State-gov           13.0        Never-married   \n",
       "1   50   Self-emp-not-inc           13.0   Married-civ-spouse   \n",
       "2   38            Private            9.0             Divorced   \n",
       "3   53            Private            7.0   Married-civ-spouse   \n",
       "4   28            Private           13.0   Married-civ-spouse   \n",
       "\n",
       "           occupation    relationship    race      sex  capital-gain  \\\n",
       "0        Adm-clerical   Not-in-family   White     Male        2174.0   \n",
       "1     Exec-managerial         Husband   White     Male           0.0   \n",
       "2   Handlers-cleaners   Not-in-family   White     Male           0.0   \n",
       "3   Handlers-cleaners         Husband   Black     Male           0.0   \n",
       "4      Prof-specialty            Wife   Black   Female           0.0   \n",
       "\n",
       "   capital-loss  hours-per-week  native-country income education_level_clean  \\\n",
       "0           0.0            40.0   United-States  <=50K             Bachelors   \n",
       "1           0.0            13.0   United-States  <=50K             Bachelors   \n",
       "2           0.0            40.0   United-States  <=50K               HS-grad   \n",
       "3           0.0            40.0   United-States  <=50K                  11th   \n",
       "4           0.0            40.0            Cuba  <=50K             Bachelors   \n",
       "\n",
       "   income_mapped  \n",
       "0              0  \n",
       "1              0  \n",
       "2              0  \n",
       "3              0  \n",
       "4              0  "
      ]
     },
     "execution_count": 191,
     "metadata": {},
     "output_type": "execute_result"
    }
   ],
   "source": [
    "df.drop(['education_level'], axis=1).head()"
   ]
  },
  {
   "cell_type": "code",
   "execution_count": 192,
   "metadata": {},
   "outputs": [
    {
     "data": {
      "text/plain": [
       "Index(['age', 'workclass', 'education_level', 'education-num',\n",
       "       'marital-status', 'occupation', 'relationship', 'race', 'sex',\n",
       "       'capital-gain', 'capital-loss', 'hours-per-week', 'native-country',\n",
       "       'income', 'education_level_clean', 'income_mapped'],\n",
       "      dtype='object')"
      ]
     },
     "execution_count": 192,
     "metadata": {},
     "output_type": "execute_result"
    }
   ],
   "source": [
    "df.columns"
   ]
  },
  {
   "cell_type": "code",
   "execution_count": 194,
   "metadata": {},
   "outputs": [],
   "source": [
    "df.drop_duplicates(inplace=True)"
   ]
  },
  {
   "cell_type": "code",
   "execution_count": 195,
   "metadata": {},
   "outputs": [
    {
     "data": {
      "text/plain": [
       "(39240, 16)"
      ]
     },
     "execution_count": 195,
     "metadata": {},
     "output_type": "execute_result"
    }
   ],
   "source": [
    "df.shape"
   ]
  },
  {
   "cell_type": "code",
   "execution_count": 24,
   "metadata": {},
   "outputs": [
    {
     "data": {
      "text/plain": [
       "(6020, 14)"
      ]
     },
     "execution_count": 24,
     "metadata": {},
     "output_type": "execute_result"
    }
   ],
   "source": [
    "df[df.occupation == ' Craft-repair'].shape"
   ]
  },
  {
   "cell_type": "code",
   "execution_count": 81,
   "metadata": {},
   "outputs": [
    {
     "data": {
      "text/plain": [
       "age                0\n",
       "workclass          0\n",
       "education_level    0\n",
       "education-num      0\n",
       "marital-status     0\n",
       "occupation         0\n",
       "relationship       0\n",
       "race               0\n",
       "sex                0\n",
       "capital-gain       0\n",
       "capital-loss       0\n",
       "hours-per-week     0\n",
       "native-country     0\n",
       "income             0\n",
       "dtype: int64"
      ]
     },
     "execution_count": 81,
     "metadata": {},
     "output_type": "execute_result"
    }
   ],
   "source": [
    "df.isnull().sum()"
   ]
  },
  {
   "cell_type": "code",
   "execution_count": 86,
   "metadata": {},
   "outputs": [
    {
     "data": {
      "text/plain": [
       "array([' Bachelors', ' HS-grad', ' 11th', ' Masters', ' 9th',\n",
       "       ' Some-college', ' Assoc-acdm', ' 7th-8th', ' Doctorate',\n",
       "       ' Assoc-voc', ' Prof-school', ' 5th-6th', ' 10th', ' Preschool',\n",
       "       ' 12th', ' 1st-4th'], dtype=object)"
      ]
     },
     "execution_count": 86,
     "metadata": {},
     "output_type": "execute_result"
    }
   ],
   "source": [
    "df.education_level.unique()"
   ]
  },
  {
   "cell_type": "code",
   "execution_count": 87,
   "metadata": {},
   "outputs": [],
   "source": [
    "df['education_level_clean'] = df['education_level'].apply(lambda x: x.strip())"
   ]
  },
  {
   "cell_type": "code",
   "execution_count": 88,
   "metadata": {},
   "outputs": [
    {
     "data": {
      "text/plain": [
       "array(['Bachelors', 'HS-grad', '11th', 'Masters', '9th', 'Some-college',\n",
       "       'Assoc-acdm', '7th-8th', 'Doctorate', 'Assoc-voc', 'Prof-school',\n",
       "       '5th-6th', '10th', 'Preschool', '12th', '1st-4th'], dtype=object)"
      ]
     },
     "execution_count": 88,
     "metadata": {},
     "output_type": "execute_result"
    }
   ],
   "source": [
    "df.education_level_clean.unique()"
   ]
  },
  {
   "cell_type": "code",
   "execution_count": 25,
   "metadata": {},
   "outputs": [],
   "source": [
    "dg = df[['education_level', 'race']]"
   ]
  },
  {
   "cell_type": "code",
   "execution_count": 96,
   "metadata": {},
   "outputs": [
    {
     "data": {
      "text/html": [
       "<div>\n",
       "<style scoped>\n",
       "    .dataframe tbody tr th:only-of-type {\n",
       "        vertical-align: middle;\n",
       "    }\n",
       "\n",
       "    .dataframe tbody tr th {\n",
       "        vertical-align: top;\n",
       "    }\n",
       "\n",
       "    .dataframe thead th {\n",
       "        text-align: right;\n",
       "    }\n",
       "</style>\n",
       "<table border=\"1\" class=\"dataframe\">\n",
       "  <thead>\n",
       "    <tr style=\"text-align: right;\">\n",
       "      <th></th>\n",
       "      <th>age</th>\n",
       "      <th>workclass</th>\n",
       "      <th>education_level</th>\n",
       "      <th>education-num</th>\n",
       "      <th>marital-status</th>\n",
       "      <th>occupation</th>\n",
       "      <th>relationship</th>\n",
       "      <th>race</th>\n",
       "      <th>sex</th>\n",
       "      <th>capital-gain</th>\n",
       "      <th>capital-loss</th>\n",
       "      <th>hours-per-week</th>\n",
       "      <th>native-country</th>\n",
       "      <th>income</th>\n",
       "      <th>education_level_clean</th>\n",
       "    </tr>\n",
       "  </thead>\n",
       "  <tbody>\n",
       "    <tr>\n",
       "      <th>0</th>\n",
       "      <td>39</td>\n",
       "      <td>State-gov</td>\n",
       "      <td>Bachelors</td>\n",
       "      <td>13.0</td>\n",
       "      <td>Never-married</td>\n",
       "      <td>Adm-clerical</td>\n",
       "      <td>Not-in-family</td>\n",
       "      <td>White</td>\n",
       "      <td>Male</td>\n",
       "      <td>2174.0</td>\n",
       "      <td>0.0</td>\n",
       "      <td>40.0</td>\n",
       "      <td>United-States</td>\n",
       "      <td>&lt;=50K</td>\n",
       "      <td>Bachelors</td>\n",
       "    </tr>\n",
       "    <tr>\n",
       "      <th>1</th>\n",
       "      <td>50</td>\n",
       "      <td>Self-emp-not-inc</td>\n",
       "      <td>Bachelors</td>\n",
       "      <td>13.0</td>\n",
       "      <td>Married-civ-spouse</td>\n",
       "      <td>Exec-managerial</td>\n",
       "      <td>Husband</td>\n",
       "      <td>White</td>\n",
       "      <td>Male</td>\n",
       "      <td>0.0</td>\n",
       "      <td>0.0</td>\n",
       "      <td>13.0</td>\n",
       "      <td>United-States</td>\n",
       "      <td>&lt;=50K</td>\n",
       "      <td>Bachelors</td>\n",
       "    </tr>\n",
       "    <tr>\n",
       "      <th>4</th>\n",
       "      <td>28</td>\n",
       "      <td>Private</td>\n",
       "      <td>Bachelors</td>\n",
       "      <td>13.0</td>\n",
       "      <td>Married-civ-spouse</td>\n",
       "      <td>Prof-specialty</td>\n",
       "      <td>Wife</td>\n",
       "      <td>Black</td>\n",
       "      <td>Female</td>\n",
       "      <td>0.0</td>\n",
       "      <td>0.0</td>\n",
       "      <td>40.0</td>\n",
       "      <td>Cuba</td>\n",
       "      <td>&lt;=50K</td>\n",
       "      <td>Bachelors</td>\n",
       "    </tr>\n",
       "    <tr>\n",
       "      <th>9</th>\n",
       "      <td>42</td>\n",
       "      <td>Private</td>\n",
       "      <td>Bachelors</td>\n",
       "      <td>13.0</td>\n",
       "      <td>Married-civ-spouse</td>\n",
       "      <td>Exec-managerial</td>\n",
       "      <td>Husband</td>\n",
       "      <td>White</td>\n",
       "      <td>Male</td>\n",
       "      <td>5178.0</td>\n",
       "      <td>0.0</td>\n",
       "      <td>40.0</td>\n",
       "      <td>United-States</td>\n",
       "      <td>&gt;50K</td>\n",
       "      <td>Bachelors</td>\n",
       "    </tr>\n",
       "    <tr>\n",
       "      <th>11</th>\n",
       "      <td>30</td>\n",
       "      <td>State-gov</td>\n",
       "      <td>Bachelors</td>\n",
       "      <td>13.0</td>\n",
       "      <td>Married-civ-spouse</td>\n",
       "      <td>Prof-specialty</td>\n",
       "      <td>Husband</td>\n",
       "      <td>Asian-Pac-Islander</td>\n",
       "      <td>Male</td>\n",
       "      <td>0.0</td>\n",
       "      <td>0.0</td>\n",
       "      <td>40.0</td>\n",
       "      <td>India</td>\n",
       "      <td>&gt;50K</td>\n",
       "      <td>Bachelors</td>\n",
       "    </tr>\n",
       "  </tbody>\n",
       "</table>\n",
       "</div>"
      ],
      "text/plain": [
       "    age          workclass education_level  education-num  \\\n",
       "0    39          State-gov       Bachelors           13.0   \n",
       "1    50   Self-emp-not-inc       Bachelors           13.0   \n",
       "4    28            Private       Bachelors           13.0   \n",
       "9    42            Private       Bachelors           13.0   \n",
       "11   30          State-gov       Bachelors           13.0   \n",
       "\n",
       "         marital-status        occupation    relationship  \\\n",
       "0         Never-married      Adm-clerical   Not-in-family   \n",
       "1    Married-civ-spouse   Exec-managerial         Husband   \n",
       "4    Married-civ-spouse    Prof-specialty            Wife   \n",
       "9    Married-civ-spouse   Exec-managerial         Husband   \n",
       "11   Married-civ-spouse    Prof-specialty         Husband   \n",
       "\n",
       "                   race      sex  capital-gain  capital-loss  hours-per-week  \\\n",
       "0                 White     Male        2174.0           0.0            40.0   \n",
       "1                 White     Male           0.0           0.0            13.0   \n",
       "4                 Black   Female           0.0           0.0            40.0   \n",
       "9                 White     Male        5178.0           0.0            40.0   \n",
       "11   Asian-Pac-Islander     Male           0.0           0.0            40.0   \n",
       "\n",
       "    native-country income education_level_clean  \n",
       "0    United-States  <=50K             Bachelors  \n",
       "1    United-States  <=50K             Bachelors  \n",
       "4             Cuba  <=50K             Bachelors  \n",
       "9    United-States   >50K             Bachelors  \n",
       "11           India   >50K             Bachelors  "
      ]
     },
     "execution_count": 96,
     "metadata": {},
     "output_type": "execute_result"
    }
   ],
   "source": [
    "df[df.education_level_clean.isin(['Bachelors'])].head()"
   ]
  },
  {
   "cell_type": "code",
   "execution_count": 99,
   "metadata": {},
   "outputs": [
    {
     "data": {
      "text/plain": [
       "array(['HS-grad', '11th', 'Masters', '9th', 'Some-college', 'Assoc-acdm',\n",
       "       '7th-8th', 'Doctorate', 'Assoc-voc', 'Prof-school', '5th-6th',\n",
       "       '10th', 'Preschool', '12th', '1st-4th'], dtype=object)"
      ]
     },
     "execution_count": 99,
     "metadata": {},
     "output_type": "execute_result"
    }
   ],
   "source": [
    "df[~df.education_level_clean.isin(['Bachelors'])]['education_level_clean'].unique()"
   ]
  },
  {
   "cell_type": "code",
   "execution_count": 102,
   "metadata": {},
   "outputs": [
    {
     "data": {
      "text/html": [
       "<div>\n",
       "<style scoped>\n",
       "    .dataframe tbody tr th:only-of-type {\n",
       "        vertical-align: middle;\n",
       "    }\n",
       "\n",
       "    .dataframe tbody tr th {\n",
       "        vertical-align: top;\n",
       "    }\n",
       "\n",
       "    .dataframe thead th {\n",
       "        text-align: right;\n",
       "    }\n",
       "</style>\n",
       "<table border=\"1\" class=\"dataframe\">\n",
       "  <thead>\n",
       "    <tr style=\"text-align: right;\">\n",
       "      <th></th>\n",
       "      <th>Amer-Indian-Eskimo</th>\n",
       "      <th>Asian-Pac-Islander</th>\n",
       "      <th>Black</th>\n",
       "      <th>Other</th>\n",
       "      <th>White</th>\n",
       "    </tr>\n",
       "  </thead>\n",
       "  <tbody>\n",
       "    <tr>\n",
       "      <th>0</th>\n",
       "      <td>0</td>\n",
       "      <td>0</td>\n",
       "      <td>0</td>\n",
       "      <td>0</td>\n",
       "      <td>1</td>\n",
       "    </tr>\n",
       "    <tr>\n",
       "      <th>1</th>\n",
       "      <td>0</td>\n",
       "      <td>0</td>\n",
       "      <td>0</td>\n",
       "      <td>0</td>\n",
       "      <td>1</td>\n",
       "    </tr>\n",
       "    <tr>\n",
       "      <th>2</th>\n",
       "      <td>0</td>\n",
       "      <td>0</td>\n",
       "      <td>0</td>\n",
       "      <td>0</td>\n",
       "      <td>1</td>\n",
       "    </tr>\n",
       "    <tr>\n",
       "      <th>3</th>\n",
       "      <td>0</td>\n",
       "      <td>0</td>\n",
       "      <td>1</td>\n",
       "      <td>0</td>\n",
       "      <td>0</td>\n",
       "    </tr>\n",
       "    <tr>\n",
       "      <th>4</th>\n",
       "      <td>0</td>\n",
       "      <td>0</td>\n",
       "      <td>1</td>\n",
       "      <td>0</td>\n",
       "      <td>0</td>\n",
       "    </tr>\n",
       "  </tbody>\n",
       "</table>\n",
       "</div>"
      ],
      "text/plain": [
       "    Amer-Indian-Eskimo   Asian-Pac-Islander   Black   Other   White\n",
       "0                    0                    0       0       0       1\n",
       "1                    0                    0       0       0       1\n",
       "2                    0                    0       0       0       1\n",
       "3                    0                    0       1       0       0\n",
       "4                    0                    0       1       0       0"
      ]
     },
     "execution_count": 102,
     "metadata": {},
     "output_type": "execute_result"
    }
   ],
   "source": [
    "pd.get_dummies(dg.race).head()"
   ]
  },
  {
   "cell_type": "code",
   "execution_count": 104,
   "metadata": {},
   "outputs": [
    {
     "data": {
      "text/html": [
       "<div>\n",
       "<style scoped>\n",
       "    .dataframe tbody tr th:only-of-type {\n",
       "        vertical-align: middle;\n",
       "    }\n",
       "\n",
       "    .dataframe tbody tr th {\n",
       "        vertical-align: top;\n",
       "    }\n",
       "\n",
       "    .dataframe thead th {\n",
       "        text-align: right;\n",
       "    }\n",
       "</style>\n",
       "<table border=\"1\" class=\"dataframe\">\n",
       "  <thead>\n",
       "    <tr style=\"text-align: right;\">\n",
       "      <th></th>\n",
       "      <th>education_level_ 10th</th>\n",
       "      <th>education_level_ 11th</th>\n",
       "      <th>education_level_ 12th</th>\n",
       "      <th>education_level_ 1st-4th</th>\n",
       "      <th>education_level_ 5th-6th</th>\n",
       "      <th>education_level_ 7th-8th</th>\n",
       "      <th>education_level_ 9th</th>\n",
       "      <th>education_level_ Assoc-acdm</th>\n",
       "      <th>education_level_ Assoc-voc</th>\n",
       "      <th>education_level_ Bachelors</th>\n",
       "      <th>...</th>\n",
       "      <th>education_level_ HS-grad</th>\n",
       "      <th>education_level_ Masters</th>\n",
       "      <th>education_level_ Preschool</th>\n",
       "      <th>education_level_ Prof-school</th>\n",
       "      <th>education_level_ Some-college</th>\n",
       "      <th>race_ Amer-Indian-Eskimo</th>\n",
       "      <th>race_ Asian-Pac-Islander</th>\n",
       "      <th>race_ Black</th>\n",
       "      <th>race_ Other</th>\n",
       "      <th>race_ White</th>\n",
       "    </tr>\n",
       "  </thead>\n",
       "  <tbody>\n",
       "    <tr>\n",
       "      <th>0</th>\n",
       "      <td>0</td>\n",
       "      <td>0</td>\n",
       "      <td>0</td>\n",
       "      <td>0</td>\n",
       "      <td>0</td>\n",
       "      <td>0</td>\n",
       "      <td>0</td>\n",
       "      <td>0</td>\n",
       "      <td>0</td>\n",
       "      <td>1</td>\n",
       "      <td>...</td>\n",
       "      <td>0</td>\n",
       "      <td>0</td>\n",
       "      <td>0</td>\n",
       "      <td>0</td>\n",
       "      <td>0</td>\n",
       "      <td>0</td>\n",
       "      <td>0</td>\n",
       "      <td>0</td>\n",
       "      <td>0</td>\n",
       "      <td>1</td>\n",
       "    </tr>\n",
       "    <tr>\n",
       "      <th>1</th>\n",
       "      <td>0</td>\n",
       "      <td>0</td>\n",
       "      <td>0</td>\n",
       "      <td>0</td>\n",
       "      <td>0</td>\n",
       "      <td>0</td>\n",
       "      <td>0</td>\n",
       "      <td>0</td>\n",
       "      <td>0</td>\n",
       "      <td>1</td>\n",
       "      <td>...</td>\n",
       "      <td>0</td>\n",
       "      <td>0</td>\n",
       "      <td>0</td>\n",
       "      <td>0</td>\n",
       "      <td>0</td>\n",
       "      <td>0</td>\n",
       "      <td>0</td>\n",
       "      <td>0</td>\n",
       "      <td>0</td>\n",
       "      <td>1</td>\n",
       "    </tr>\n",
       "    <tr>\n",
       "      <th>2</th>\n",
       "      <td>0</td>\n",
       "      <td>0</td>\n",
       "      <td>0</td>\n",
       "      <td>0</td>\n",
       "      <td>0</td>\n",
       "      <td>0</td>\n",
       "      <td>0</td>\n",
       "      <td>0</td>\n",
       "      <td>0</td>\n",
       "      <td>0</td>\n",
       "      <td>...</td>\n",
       "      <td>1</td>\n",
       "      <td>0</td>\n",
       "      <td>0</td>\n",
       "      <td>0</td>\n",
       "      <td>0</td>\n",
       "      <td>0</td>\n",
       "      <td>0</td>\n",
       "      <td>0</td>\n",
       "      <td>0</td>\n",
       "      <td>1</td>\n",
       "    </tr>\n",
       "    <tr>\n",
       "      <th>3</th>\n",
       "      <td>0</td>\n",
       "      <td>1</td>\n",
       "      <td>0</td>\n",
       "      <td>0</td>\n",
       "      <td>0</td>\n",
       "      <td>0</td>\n",
       "      <td>0</td>\n",
       "      <td>0</td>\n",
       "      <td>0</td>\n",
       "      <td>0</td>\n",
       "      <td>...</td>\n",
       "      <td>0</td>\n",
       "      <td>0</td>\n",
       "      <td>0</td>\n",
       "      <td>0</td>\n",
       "      <td>0</td>\n",
       "      <td>0</td>\n",
       "      <td>0</td>\n",
       "      <td>1</td>\n",
       "      <td>0</td>\n",
       "      <td>0</td>\n",
       "    </tr>\n",
       "    <tr>\n",
       "      <th>4</th>\n",
       "      <td>0</td>\n",
       "      <td>0</td>\n",
       "      <td>0</td>\n",
       "      <td>0</td>\n",
       "      <td>0</td>\n",
       "      <td>0</td>\n",
       "      <td>0</td>\n",
       "      <td>0</td>\n",
       "      <td>0</td>\n",
       "      <td>1</td>\n",
       "      <td>...</td>\n",
       "      <td>0</td>\n",
       "      <td>0</td>\n",
       "      <td>0</td>\n",
       "      <td>0</td>\n",
       "      <td>0</td>\n",
       "      <td>0</td>\n",
       "      <td>0</td>\n",
       "      <td>1</td>\n",
       "      <td>0</td>\n",
       "      <td>0</td>\n",
       "    </tr>\n",
       "  </tbody>\n",
       "</table>\n",
       "<p>5 rows × 21 columns</p>\n",
       "</div>"
      ],
      "text/plain": [
       "   education_level_ 10th  education_level_ 11th  education_level_ 12th  \\\n",
       "0                      0                      0                      0   \n",
       "1                      0                      0                      0   \n",
       "2                      0                      0                      0   \n",
       "3                      0                      1                      0   \n",
       "4                      0                      0                      0   \n",
       "\n",
       "   education_level_ 1st-4th  education_level_ 5th-6th  \\\n",
       "0                         0                         0   \n",
       "1                         0                         0   \n",
       "2                         0                         0   \n",
       "3                         0                         0   \n",
       "4                         0                         0   \n",
       "\n",
       "   education_level_ 7th-8th  education_level_ 9th  \\\n",
       "0                         0                     0   \n",
       "1                         0                     0   \n",
       "2                         0                     0   \n",
       "3                         0                     0   \n",
       "4                         0                     0   \n",
       "\n",
       "   education_level_ Assoc-acdm  education_level_ Assoc-voc  \\\n",
       "0                            0                           0   \n",
       "1                            0                           0   \n",
       "2                            0                           0   \n",
       "3                            0                           0   \n",
       "4                            0                           0   \n",
       "\n",
       "   education_level_ Bachelors     ...       education_level_ HS-grad  \\\n",
       "0                           1     ...                              0   \n",
       "1                           1     ...                              0   \n",
       "2                           0     ...                              1   \n",
       "3                           0     ...                              0   \n",
       "4                           1     ...                              0   \n",
       "\n",
       "   education_level_ Masters  education_level_ Preschool  \\\n",
       "0                         0                           0   \n",
       "1                         0                           0   \n",
       "2                         0                           0   \n",
       "3                         0                           0   \n",
       "4                         0                           0   \n",
       "\n",
       "   education_level_ Prof-school  education_level_ Some-college  \\\n",
       "0                             0                              0   \n",
       "1                             0                              0   \n",
       "2                             0                              0   \n",
       "3                             0                              0   \n",
       "4                             0                              0   \n",
       "\n",
       "   race_ Amer-Indian-Eskimo  race_ Asian-Pac-Islander  race_ Black  \\\n",
       "0                         0                         0            0   \n",
       "1                         0                         0            0   \n",
       "2                         0                         0            0   \n",
       "3                         0                         0            1   \n",
       "4                         0                         0            1   \n",
       "\n",
       "   race_ Other  race_ White  \n",
       "0            0            1  \n",
       "1            0            1  \n",
       "2            0            1  \n",
       "3            0            0  \n",
       "4            0            0  \n",
       "\n",
       "[5 rows x 21 columns]"
      ]
     },
     "execution_count": 104,
     "metadata": {},
     "output_type": "execute_result"
    }
   ],
   "source": [
    "pd.get_dummies(dg).head()"
   ]
  },
  {
   "cell_type": "code",
   "execution_count": 26,
   "metadata": {},
   "outputs": [
    {
     "data": {
      "text/html": [
       "<div>\n",
       "<style scoped>\n",
       "    .dataframe tbody tr th:only-of-type {\n",
       "        vertical-align: middle;\n",
       "    }\n",
       "\n",
       "    .dataframe tbody tr th {\n",
       "        vertical-align: top;\n",
       "    }\n",
       "\n",
       "    .dataframe thead th {\n",
       "        text-align: right;\n",
       "    }\n",
       "</style>\n",
       "<table border=\"1\" class=\"dataframe\">\n",
       "  <thead>\n",
       "    <tr style=\"text-align: right;\">\n",
       "      <th></th>\n",
       "      <th>education_level</th>\n",
       "      <th>race</th>\n",
       "    </tr>\n",
       "  </thead>\n",
       "  <tbody>\n",
       "    <tr>\n",
       "      <th>0</th>\n",
       "      <td>Bachelors</td>\n",
       "      <td>White</td>\n",
       "    </tr>\n",
       "    <tr>\n",
       "      <th>1</th>\n",
       "      <td>Bachelors</td>\n",
       "      <td>White</td>\n",
       "    </tr>\n",
       "    <tr>\n",
       "      <th>2</th>\n",
       "      <td>HS-grad</td>\n",
       "      <td>White</td>\n",
       "    </tr>\n",
       "    <tr>\n",
       "      <th>3</th>\n",
       "      <td>11th</td>\n",
       "      <td>Black</td>\n",
       "    </tr>\n",
       "    <tr>\n",
       "      <th>4</th>\n",
       "      <td>Bachelors</td>\n",
       "      <td>Black</td>\n",
       "    </tr>\n",
       "  </tbody>\n",
       "</table>\n",
       "</div>"
      ],
      "text/plain": [
       "  education_level    race\n",
       "0       Bachelors   White\n",
       "1       Bachelors   White\n",
       "2         HS-grad   White\n",
       "3            11th   Black\n",
       "4       Bachelors   Black"
      ]
     },
     "execution_count": 26,
     "metadata": {},
     "output_type": "execute_result"
    }
   ],
   "source": [
    "dg.head()"
   ]
  },
  {
   "cell_type": "code",
   "execution_count": 27,
   "metadata": {},
   "outputs": [
    {
     "data": {
      "text/plain": [
       "array([' Bachelors', ' HS-grad', ' 11th', ' Masters', ' 9th',\n",
       "       ' Some-college', ' Assoc-acdm', ' 7th-8th', ' Doctorate',\n",
       "       ' Assoc-voc', ' Prof-school', ' 5th-6th', ' 10th', ' Preschool',\n",
       "       ' 12th', ' 1st-4th'], dtype=object)"
      ]
     },
     "execution_count": 27,
     "metadata": {},
     "output_type": "execute_result"
    }
   ],
   "source": [
    "dg.education_level.unique()"
   ]
  },
  {
   "cell_type": "code",
   "execution_count": 31,
   "metadata": {},
   "outputs": [
    {
     "data": {
      "text/plain": [
       "array([' White', ' Black', ' Asian-Pac-Islander', ' Amer-Indian-Eskimo',\n",
       "       ' Other'], dtype=object)"
      ]
     },
     "execution_count": 31,
     "metadata": {},
     "output_type": "execute_result"
    }
   ],
   "source": [
    "dg.race.unique()"
   ]
  },
  {
   "cell_type": "code",
   "execution_count": 33,
   "metadata": {},
   "outputs": [
    {
     "data": {
      "text/html": [
       "<div>\n",
       "<style scoped>\n",
       "    .dataframe tbody tr th:only-of-type {\n",
       "        vertical-align: middle;\n",
       "    }\n",
       "\n",
       "    .dataframe tbody tr th {\n",
       "        vertical-align: top;\n",
       "    }\n",
       "\n",
       "    .dataframe thead th {\n",
       "        text-align: right;\n",
       "    }\n",
       "</style>\n",
       "<table border=\"1\" class=\"dataframe\">\n",
       "  <thead>\n",
       "    <tr style=\"text-align: right;\">\n",
       "      <th>education_level</th>\n",
       "      <th>10th</th>\n",
       "      <th>11th</th>\n",
       "      <th>12th</th>\n",
       "      <th>1st-4th</th>\n",
       "      <th>5th-6th</th>\n",
       "      <th>7th-8th</th>\n",
       "      <th>9th</th>\n",
       "      <th>Assoc-acdm</th>\n",
       "      <th>Assoc-voc</th>\n",
       "      <th>Bachelors</th>\n",
       "      <th>Doctorate</th>\n",
       "      <th>HS-grad</th>\n",
       "      <th>Masters</th>\n",
       "      <th>Preschool</th>\n",
       "      <th>Prof-school</th>\n",
       "      <th>Some-college</th>\n",
       "    </tr>\n",
       "  </thead>\n",
       "  <tbody>\n",
       "    <tr>\n",
       "      <th>0</th>\n",
       "      <td>NaN</td>\n",
       "      <td>NaN</td>\n",
       "      <td>NaN</td>\n",
       "      <td>NaN</td>\n",
       "      <td>NaN</td>\n",
       "      <td>NaN</td>\n",
       "      <td>NaN</td>\n",
       "      <td>NaN</td>\n",
       "      <td>NaN</td>\n",
       "      <td>White</td>\n",
       "      <td>NaN</td>\n",
       "      <td>NaN</td>\n",
       "      <td>NaN</td>\n",
       "      <td>NaN</td>\n",
       "      <td>NaN</td>\n",
       "      <td>NaN</td>\n",
       "    </tr>\n",
       "    <tr>\n",
       "      <th>1</th>\n",
       "      <td>NaN</td>\n",
       "      <td>NaN</td>\n",
       "      <td>NaN</td>\n",
       "      <td>NaN</td>\n",
       "      <td>NaN</td>\n",
       "      <td>NaN</td>\n",
       "      <td>NaN</td>\n",
       "      <td>NaN</td>\n",
       "      <td>NaN</td>\n",
       "      <td>White</td>\n",
       "      <td>NaN</td>\n",
       "      <td>NaN</td>\n",
       "      <td>NaN</td>\n",
       "      <td>NaN</td>\n",
       "      <td>NaN</td>\n",
       "      <td>NaN</td>\n",
       "    </tr>\n",
       "    <tr>\n",
       "      <th>2</th>\n",
       "      <td>NaN</td>\n",
       "      <td>NaN</td>\n",
       "      <td>NaN</td>\n",
       "      <td>NaN</td>\n",
       "      <td>NaN</td>\n",
       "      <td>NaN</td>\n",
       "      <td>NaN</td>\n",
       "      <td>NaN</td>\n",
       "      <td>NaN</td>\n",
       "      <td>NaN</td>\n",
       "      <td>NaN</td>\n",
       "      <td>White</td>\n",
       "      <td>NaN</td>\n",
       "      <td>NaN</td>\n",
       "      <td>NaN</td>\n",
       "      <td>NaN</td>\n",
       "    </tr>\n",
       "    <tr>\n",
       "      <th>3</th>\n",
       "      <td>NaN</td>\n",
       "      <td>Black</td>\n",
       "      <td>NaN</td>\n",
       "      <td>NaN</td>\n",
       "      <td>NaN</td>\n",
       "      <td>NaN</td>\n",
       "      <td>NaN</td>\n",
       "      <td>NaN</td>\n",
       "      <td>NaN</td>\n",
       "      <td>NaN</td>\n",
       "      <td>NaN</td>\n",
       "      <td>NaN</td>\n",
       "      <td>NaN</td>\n",
       "      <td>NaN</td>\n",
       "      <td>NaN</td>\n",
       "      <td>NaN</td>\n",
       "    </tr>\n",
       "    <tr>\n",
       "      <th>4</th>\n",
       "      <td>NaN</td>\n",
       "      <td>NaN</td>\n",
       "      <td>NaN</td>\n",
       "      <td>NaN</td>\n",
       "      <td>NaN</td>\n",
       "      <td>NaN</td>\n",
       "      <td>NaN</td>\n",
       "      <td>NaN</td>\n",
       "      <td>NaN</td>\n",
       "      <td>Black</td>\n",
       "      <td>NaN</td>\n",
       "      <td>NaN</td>\n",
       "      <td>NaN</td>\n",
       "      <td>NaN</td>\n",
       "      <td>NaN</td>\n",
       "      <td>NaN</td>\n",
       "    </tr>\n",
       "  </tbody>\n",
       "</table>\n",
       "</div>"
      ],
      "text/plain": [
       "education_level  10th    11th  12th  1st-4th  5th-6th  7th-8th  9th  \\\n",
       "0                 NaN     NaN   NaN      NaN      NaN      NaN  NaN   \n",
       "1                 NaN     NaN   NaN      NaN      NaN      NaN  NaN   \n",
       "2                 NaN     NaN   NaN      NaN      NaN      NaN  NaN   \n",
       "3                 NaN   Black   NaN      NaN      NaN      NaN  NaN   \n",
       "4                 NaN     NaN   NaN      NaN      NaN      NaN  NaN   \n",
       "\n",
       "education_level  Assoc-acdm  Assoc-voc  Bachelors  Doctorate  HS-grad  \\\n",
       "0                       NaN        NaN      White        NaN      NaN   \n",
       "1                       NaN        NaN      White        NaN      NaN   \n",
       "2                       NaN        NaN        NaN        NaN    White   \n",
       "3                       NaN        NaN        NaN        NaN      NaN   \n",
       "4                       NaN        NaN      Black        NaN      NaN   \n",
       "\n",
       "education_level  Masters  Preschool  Prof-school  Some-college  \n",
       "0                    NaN        NaN          NaN           NaN  \n",
       "1                    NaN        NaN          NaN           NaN  \n",
       "2                    NaN        NaN          NaN           NaN  \n",
       "3                    NaN        NaN          NaN           NaN  \n",
       "4                    NaN        NaN          NaN           NaN  "
      ]
     },
     "execution_count": 33,
     "metadata": {},
     "output_type": "execute_result"
    }
   ],
   "source": [
    "dg.pivot(columns='education_level', values='race').head()"
   ]
  },
  {
   "cell_type": "code",
   "execution_count": 36,
   "metadata": {},
   "outputs": [
    {
     "data": {
      "text/html": [
       "<div>\n",
       "<style scoped>\n",
       "    .dataframe tbody tr th:only-of-type {\n",
       "        vertical-align: middle;\n",
       "    }\n",
       "\n",
       "    .dataframe tbody tr th {\n",
       "        vertical-align: top;\n",
       "    }\n",
       "\n",
       "    .dataframe thead th {\n",
       "        text-align: right;\n",
       "    }\n",
       "</style>\n",
       "<table border=\"1\" class=\"dataframe\">\n",
       "  <thead>\n",
       "    <tr style=\"text-align: right;\">\n",
       "      <th></th>\n",
       "      <th>education_level</th>\n",
       "    </tr>\n",
       "    <tr>\n",
       "      <th>race</th>\n",
       "      <th></th>\n",
       "    </tr>\n",
       "  </thead>\n",
       "  <tbody>\n",
       "    <tr>\n",
       "      <th>Amer-Indian-Eskimo</th>\n",
       "      <td>435</td>\n",
       "    </tr>\n",
       "    <tr>\n",
       "      <th>Asian-Pac-Islander</th>\n",
       "      <td>1303</td>\n",
       "    </tr>\n",
       "    <tr>\n",
       "      <th>Black</th>\n",
       "      <td>4228</td>\n",
       "    </tr>\n",
       "    <tr>\n",
       "      <th>Other</th>\n",
       "      <td>353</td>\n",
       "    </tr>\n",
       "    <tr>\n",
       "      <th>White</th>\n",
       "      <td>38903</td>\n",
       "    </tr>\n",
       "  </tbody>\n",
       "</table>\n",
       "</div>"
      ],
      "text/plain": [
       "                     education_level\n",
       "race                                \n",
       " Amer-Indian-Eskimo              435\n",
       " Asian-Pac-Islander             1303\n",
       " Black                          4228\n",
       " Other                           353\n",
       " White                         38903"
      ]
     },
     "execution_count": 36,
     "metadata": {},
     "output_type": "execute_result"
    }
   ],
   "source": [
    "dg.groupby(by='race').count()"
   ]
  },
  {
   "cell_type": "code",
   "execution_count": 42,
   "metadata": {},
   "outputs": [],
   "source": [
    "x1 = df.groupby(by=['education_level', 'race'])['age'].count()"
   ]
  },
  {
   "cell_type": "code",
   "execution_count": 50,
   "metadata": {},
   "outputs": [],
   "source": [
    "x1 = x1.reset_index()"
   ]
  },
  {
   "cell_type": "code",
   "execution_count": 52,
   "metadata": {},
   "outputs": [
    {
     "data": {
      "text/html": [
       "<div>\n",
       "<style scoped>\n",
       "    .dataframe tbody tr th:only-of-type {\n",
       "        vertical-align: middle;\n",
       "    }\n",
       "\n",
       "    .dataframe tbody tr th {\n",
       "        vertical-align: top;\n",
       "    }\n",
       "\n",
       "    .dataframe thead th {\n",
       "        text-align: right;\n",
       "    }\n",
       "</style>\n",
       "<table border=\"1\" class=\"dataframe\">\n",
       "  <thead>\n",
       "    <tr style=\"text-align: right;\">\n",
       "      <th></th>\n",
       "      <th>education_level</th>\n",
       "      <th>race</th>\n",
       "      <th>age</th>\n",
       "    </tr>\n",
       "  </thead>\n",
       "  <tbody>\n",
       "    <tr>\n",
       "      <th>0</th>\n",
       "      <td>10th</td>\n",
       "      <td>Amer-Indian-Eskimo</td>\n",
       "      <td>19</td>\n",
       "    </tr>\n",
       "    <tr>\n",
       "      <th>1</th>\n",
       "      <td>10th</td>\n",
       "      <td>Asian-Pac-Islander</td>\n",
       "      <td>13</td>\n",
       "    </tr>\n",
       "    <tr>\n",
       "      <th>2</th>\n",
       "      <td>10th</td>\n",
       "      <td>Black</td>\n",
       "      <td>163</td>\n",
       "    </tr>\n",
       "    <tr>\n",
       "      <th>3</th>\n",
       "      <td>10th</td>\n",
       "      <td>Other</td>\n",
       "      <td>10</td>\n",
       "    </tr>\n",
       "    <tr>\n",
       "      <th>4</th>\n",
       "      <td>10th</td>\n",
       "      <td>White</td>\n",
       "      <td>1018</td>\n",
       "    </tr>\n",
       "  </tbody>\n",
       "</table>\n",
       "</div>"
      ],
      "text/plain": [
       "  education_level                 race   age\n",
       "0            10th   Amer-Indian-Eskimo    19\n",
       "1            10th   Asian-Pac-Islander    13\n",
       "2            10th                Black   163\n",
       "3            10th                Other    10\n",
       "4            10th                White  1018"
      ]
     },
     "execution_count": 52,
     "metadata": {},
     "output_type": "execute_result"
    }
   ],
   "source": [
    "x1.head()"
   ]
  },
  {
   "cell_type": "code",
   "execution_count": 53,
   "metadata": {},
   "outputs": [],
   "source": [
    "x2 = df.groupby(by=['education_level'])['age'].count().reset_index()"
   ]
  },
  {
   "cell_type": "code",
   "execution_count": 54,
   "metadata": {},
   "outputs": [
    {
     "data": {
      "text/html": [
       "<div>\n",
       "<style scoped>\n",
       "    .dataframe tbody tr th:only-of-type {\n",
       "        vertical-align: middle;\n",
       "    }\n",
       "\n",
       "    .dataframe tbody tr th {\n",
       "        vertical-align: top;\n",
       "    }\n",
       "\n",
       "    .dataframe thead th {\n",
       "        text-align: right;\n",
       "    }\n",
       "</style>\n",
       "<table border=\"1\" class=\"dataframe\">\n",
       "  <thead>\n",
       "    <tr style=\"text-align: right;\">\n",
       "      <th></th>\n",
       "      <th>education_level</th>\n",
       "      <th>age</th>\n",
       "    </tr>\n",
       "  </thead>\n",
       "  <tbody>\n",
       "    <tr>\n",
       "      <th>0</th>\n",
       "      <td>10th</td>\n",
       "      <td>1223</td>\n",
       "    </tr>\n",
       "    <tr>\n",
       "      <th>1</th>\n",
       "      <td>11th</td>\n",
       "      <td>1619</td>\n",
       "    </tr>\n",
       "    <tr>\n",
       "      <th>2</th>\n",
       "      <td>12th</td>\n",
       "      <td>577</td>\n",
       "    </tr>\n",
       "    <tr>\n",
       "      <th>3</th>\n",
       "      <td>1st-4th</td>\n",
       "      <td>222</td>\n",
       "    </tr>\n",
       "    <tr>\n",
       "      <th>4</th>\n",
       "      <td>5th-6th</td>\n",
       "      <td>449</td>\n",
       "    </tr>\n",
       "  </tbody>\n",
       "</table>\n",
       "</div>"
      ],
      "text/plain": [
       "  education_level   age\n",
       "0            10th  1223\n",
       "1            11th  1619\n",
       "2            12th   577\n",
       "3         1st-4th   222\n",
       "4         5th-6th   449"
      ]
     },
     "execution_count": 54,
     "metadata": {},
     "output_type": "execute_result"
    }
   ],
   "source": [
    "x2.head()"
   ]
  },
  {
   "cell_type": "code",
   "execution_count": 6,
   "metadata": {
    "scrolled": true
   },
   "outputs": [
    {
     "data": {
      "text/plain": [
       "<=50K    34014\n",
       ">50K     11208\n",
       "Name: income, dtype: int64"
      ]
     },
     "execution_count": 6,
     "metadata": {},
     "output_type": "execute_result"
    }
   ],
   "source": [
    "df.income.value_counts()"
   ]
  },
  {
   "cell_type": "code",
   "execution_count": 56,
   "metadata": {},
   "outputs": [],
   "source": [
    "x3 = pd.merge(x1, x2, how='inner', on='education_level')"
   ]
  },
  {
   "cell_type": "code",
   "execution_count": 57,
   "metadata": {},
   "outputs": [],
   "source": [
    "x3['portion'] = x3.age_x*100/x3.age_y"
   ]
  },
  {
   "cell_type": "code",
   "execution_count": 58,
   "metadata": {},
   "outputs": [
    {
     "data": {
      "text/html": [
       "<div>\n",
       "<style scoped>\n",
       "    .dataframe tbody tr th:only-of-type {\n",
       "        vertical-align: middle;\n",
       "    }\n",
       "\n",
       "    .dataframe tbody tr th {\n",
       "        vertical-align: top;\n",
       "    }\n",
       "\n",
       "    .dataframe thead th {\n",
       "        text-align: right;\n",
       "    }\n",
       "</style>\n",
       "<table border=\"1\" class=\"dataframe\">\n",
       "  <thead>\n",
       "    <tr style=\"text-align: right;\">\n",
       "      <th></th>\n",
       "      <th>education_level</th>\n",
       "      <th>race</th>\n",
       "      <th>age_x</th>\n",
       "      <th>age_y</th>\n",
       "      <th>portion</th>\n",
       "    </tr>\n",
       "  </thead>\n",
       "  <tbody>\n",
       "    <tr>\n",
       "      <th>0</th>\n",
       "      <td>10th</td>\n",
       "      <td>Amer-Indian-Eskimo</td>\n",
       "      <td>19</td>\n",
       "      <td>1223</td>\n",
       "      <td>1.553557</td>\n",
       "    </tr>\n",
       "    <tr>\n",
       "      <th>1</th>\n",
       "      <td>10th</td>\n",
       "      <td>Asian-Pac-Islander</td>\n",
       "      <td>13</td>\n",
       "      <td>1223</td>\n",
       "      <td>1.062960</td>\n",
       "    </tr>\n",
       "    <tr>\n",
       "      <th>2</th>\n",
       "      <td>10th</td>\n",
       "      <td>Black</td>\n",
       "      <td>163</td>\n",
       "      <td>1223</td>\n",
       "      <td>13.327882</td>\n",
       "    </tr>\n",
       "    <tr>\n",
       "      <th>3</th>\n",
       "      <td>10th</td>\n",
       "      <td>Other</td>\n",
       "      <td>10</td>\n",
       "      <td>1223</td>\n",
       "      <td>0.817661</td>\n",
       "    </tr>\n",
       "    <tr>\n",
       "      <th>4</th>\n",
       "      <td>10th</td>\n",
       "      <td>White</td>\n",
       "      <td>1018</td>\n",
       "      <td>1223</td>\n",
       "      <td>83.237939</td>\n",
       "    </tr>\n",
       "  </tbody>\n",
       "</table>\n",
       "</div>"
      ],
      "text/plain": [
       "  education_level                 race  age_x  age_y    portion\n",
       "0            10th   Amer-Indian-Eskimo     19   1223   1.553557\n",
       "1            10th   Asian-Pac-Islander     13   1223   1.062960\n",
       "2            10th                Black    163   1223  13.327882\n",
       "3            10th                Other     10   1223   0.817661\n",
       "4            10th                White   1018   1223  83.237939"
      ]
     },
     "execution_count": 58,
     "metadata": {},
     "output_type": "execute_result"
    }
   ],
   "source": [
    "x3.head()"
   ]
  },
  {
   "cell_type": "code",
   "execution_count": 72,
   "metadata": {},
   "outputs": [
    {
     "data": {
      "text/plain": [
       "(0, 20)"
      ]
     },
     "execution_count": 72,
     "metadata": {},
     "output_type": "execute_result"
    },
    {
     "data": {
      "image/png": "[encoded data removed]",
      "text/plain": [
       "<Figure size 1440x288 with 1 Axes>"
      ]
     },
     "metadata": {},
     "output_type": "display_data"
    }
   ],
   "source": [
    "plt.figure(figsize=(20,4))\n",
    "sns.boxplot(x='education_level', y='portion', hue='race', data=x3)\n",
    "plt.ylim([0,20])"
   ]
  },
  {
   "cell_type": "code",
   "execution_count": 79,
   "metadata": {},
   "outputs": [
    {
     "data": {
      "text/plain": [
       "<matplotlib.axes._subplots.AxesSubplot at 0x2a150a8d9b0>"
      ]
     },
     "execution_count": 79,
     "metadata": {},
     "output_type": "execute_result"
    },
    {
     "data": {
      "image/png": "[encoded data removed]",
      "text/plain": [
       "<Figure size 1440x288 with 1 Axes>"
      ]
     },
     "metadata": {},
     "output_type": "display_data"
    }
   ],
   "source": [
    "plt.figure(figsize=(20,4))\n",
    "sns.barplot(x='education_level', y='portion', hue='race', data=x3)"
   ]
  },
  {
   "cell_type": "code",
   "execution_count": 10,
   "metadata": {},
   "outputs": [
    {
     "data": {
      "text/plain": [
       "Index(['age', 'workclass', 'education_level', 'education-num',\n",
       "       'marital-status', 'occupation', 'relationship', 'race', 'sex',\n",
       "       'capital-gain', 'capital-loss', 'hours-per-week', 'native-country',\n",
       "       'income'],\n",
       "      dtype='object')"
      ]
     },
     "execution_count": 10,
     "metadata": {},
     "output_type": "execute_result"
    }
   ],
   "source": [
    "df.columns"
   ]
  },
  {
   "cell_type": "code",
   "execution_count": 14,
   "metadata": {},
   "outputs": [
    {
     "data": {
      "text/plain": [
       "count    45222.000000\n",
       "mean      1101.430344\n",
       "std       7506.430084\n",
       "min          0.000000\n",
       "25%          0.000000\n",
       "50%          0.000000\n",
       "75%          0.000000\n",
       "max      99999.000000\n",
       "Name: capital-gain, dtype: float64"
      ]
     },
     "execution_count": 14,
     "metadata": {},
     "output_type": "execute_result"
    }
   ],
   "source": [
    "df['capital-gain'].describe()"
   ]
  },
  {
   "cell_type": "code",
   "execution_count": 15,
   "metadata": {},
   "outputs": [
    {
     "data": {
      "text/html": [
       "<div>\n",
       "<style scoped>\n",
       "    .dataframe tbody tr th:only-of-type {\n",
       "        vertical-align: middle;\n",
       "    }\n",
       "\n",
       "    .dataframe tbody tr th {\n",
       "        vertical-align: top;\n",
       "    }\n",
       "\n",
       "    .dataframe thead th {\n",
       "        text-align: right;\n",
       "    }\n",
       "</style>\n",
       "<table border=\"1\" class=\"dataframe\">\n",
       "  <thead>\n",
       "    <tr style=\"text-align: right;\">\n",
       "      <th></th>\n",
       "      <th>age</th>\n",
       "      <th>education-num</th>\n",
       "      <th>capital-gain</th>\n",
       "      <th>capital-loss</th>\n",
       "      <th>hours-per-week</th>\n",
       "    </tr>\n",
       "  </thead>\n",
       "  <tbody>\n",
       "    <tr>\n",
       "      <th>count</th>\n",
       "      <td>45222.000000</td>\n",
       "      <td>45222.000000</td>\n",
       "      <td>45222.000000</td>\n",
       "      <td>45222.000000</td>\n",
       "      <td>45222.000000</td>\n",
       "    </tr>\n",
       "    <tr>\n",
       "      <th>mean</th>\n",
       "      <td>38.547941</td>\n",
       "      <td>10.118460</td>\n",
       "      <td>1101.430344</td>\n",
       "      <td>88.595418</td>\n",
       "      <td>40.938017</td>\n",
       "    </tr>\n",
       "    <tr>\n",
       "      <th>std</th>\n",
       "      <td>13.217870</td>\n",
       "      <td>2.552881</td>\n",
       "      <td>7506.430084</td>\n",
       "      <td>404.956092</td>\n",
       "      <td>12.007508</td>\n",
       "    </tr>\n",
       "    <tr>\n",
       "      <th>min</th>\n",
       "      <td>17.000000</td>\n",
       "      <td>1.000000</td>\n",
       "      <td>0.000000</td>\n",
       "      <td>0.000000</td>\n",
       "      <td>1.000000</td>\n",
       "    </tr>\n",
       "    <tr>\n",
       "      <th>25%</th>\n",
       "      <td>28.000000</td>\n",
       "      <td>9.000000</td>\n",
       "      <td>0.000000</td>\n",
       "      <td>0.000000</td>\n",
       "      <td>40.000000</td>\n",
       "    </tr>\n",
       "    <tr>\n",
       "      <th>50%</th>\n",
       "      <td>37.000000</td>\n",
       "      <td>10.000000</td>\n",
       "      <td>0.000000</td>\n",
       "      <td>0.000000</td>\n",
       "      <td>40.000000</td>\n",
       "    </tr>\n",
       "    <tr>\n",
       "      <th>75%</th>\n",
       "      <td>47.000000</td>\n",
       "      <td>13.000000</td>\n",
       "      <td>0.000000</td>\n",
       "      <td>0.000000</td>\n",
       "      <td>45.000000</td>\n",
       "    </tr>\n",
       "    <tr>\n",
       "      <th>max</th>\n",
       "      <td>90.000000</td>\n",
       "      <td>16.000000</td>\n",
       "      <td>99999.000000</td>\n",
       "      <td>4356.000000</td>\n",
       "      <td>99.000000</td>\n",
       "    </tr>\n",
       "  </tbody>\n",
       "</table>\n",
       "</div>"
      ],
      "text/plain": [
       "                age  education-num  capital-gain  capital-loss  hours-per-week\n",
       "count  45222.000000   45222.000000  45222.000000  45222.000000    45222.000000\n",
       "mean      38.547941      10.118460   1101.430344     88.595418       40.938017\n",
       "std       13.217870       2.552881   7506.430084    404.956092       12.007508\n",
       "min       17.000000       1.000000      0.000000      0.000000        1.000000\n",
       "25%       28.000000       9.000000      0.000000      0.000000       40.000000\n",
       "50%       37.000000      10.000000      0.000000      0.000000       40.000000\n",
       "75%       47.000000      13.000000      0.000000      0.000000       45.000000\n",
       "max       90.000000      16.000000  99999.000000   4356.000000       99.000000"
      ]
     },
     "execution_count": 15,
     "metadata": {},
     "output_type": "execute_result"
    }
   ],
   "source": [
    "df.describe()"
   ]
  },
  {
   "cell_type": "code",
   "execution_count": 16,
   "metadata": {},
   "outputs": [
    {
     "data": {
      "text/plain": [
       "age                 74\n",
       "workclass            7\n",
       "education_level     16\n",
       "education-num       16\n",
       "marital-status       7\n",
       "occupation          14\n",
       "relationship         6\n",
       "race                 5\n",
       "sex                  2\n",
       "capital-gain       121\n",
       "capital-loss        97\n",
       "hours-per-week      96\n",
       "native-country      41\n",
       "income               2\n",
       "dtype: int64"
      ]
     },
     "execution_count": 16,
     "metadata": {},
     "output_type": "execute_result"
    }
   ],
   "source": [
    "df.nunique()"
   ]
  },
  {
   "cell_type": "code",
   "execution_count": 17,
   "metadata": {},
   "outputs": [
    {
     "data": {
      "text/plain": [
       "array([40., 13., 16., 45., 50., 80., 30., 35., 60., 20., 52., 44., 15.,\n",
       "       25., 43., 38., 55., 48., 58., 32., 70., 22., 56., 41., 28., 36.,\n",
       "       24., 46.,  2., 42., 12., 65.,  1., 34., 75., 98., 33., 54., 10.,\n",
       "        6., 64., 19., 18., 72.,  8.,  9., 47., 37., 21., 26., 14.,  5.,\n",
       "        7., 99., 53., 39., 62., 59., 57., 78., 90., 66., 11., 49., 84.,\n",
       "       17., 68.,  3., 27., 85., 31., 51., 77., 63., 23.,  4., 87., 88.,\n",
       "       73., 89., 97., 94., 29., 96., 67., 82., 86., 91., 81., 76., 92.,\n",
       "       61., 74., 95., 79., 69.])"
      ]
     },
     "execution_count": 17,
     "metadata": {},
     "output_type": "execute_result"
    }
   ],
   "source": [
    "df['hours-per-week'].unique()"
   ]
  },
  {
   "cell_type": "code",
   "execution_count": 19,
   "metadata": {},
   "outputs": [
    {
     "data": {
      "text/plain": [
       "(45222, 14)"
      ]
     },
     "execution_count": 19,
     "metadata": {},
     "output_type": "execute_result"
    }
   ],
   "source": [
    "df.shape"
   ]
  },
  {
   "cell_type": "code",
   "execution_count": 105,
   "metadata": {},
   "outputs": [],
   "source": [
    "z={\"<=50K\":0,\">50K\":1}\n",
    "\n",
    "df['income_mapped'] = df['income'].map(z)"
   ]
  },
  {
   "cell_type": "code",
   "execution_count": 110,
   "metadata": {},
   "outputs": [
    {
     "data": {
      "text/html": [
       "<div>\n",
       "<style scoped>\n",
       "    .dataframe tbody tr th:only-of-type {\n",
       "        vertical-align: middle;\n",
       "    }\n",
       "\n",
       "    .dataframe tbody tr th {\n",
       "        vertical-align: top;\n",
       "    }\n",
       "\n",
       "    .dataframe thead th {\n",
       "        text-align: right;\n",
       "    }\n",
       "</style>\n",
       "<table border=\"1\" class=\"dataframe\">\n",
       "  <thead>\n",
       "    <tr style=\"text-align: right;\">\n",
       "      <th></th>\n",
       "      <th>income</th>\n",
       "      <th>income_mapped</th>\n",
       "    </tr>\n",
       "  </thead>\n",
       "  <tbody>\n",
       "    <tr>\n",
       "      <th>0</th>\n",
       "      <td>&lt;=50K</td>\n",
       "      <td>0</td>\n",
       "    </tr>\n",
       "    <tr>\n",
       "      <th>1</th>\n",
       "      <td>&lt;=50K</td>\n",
       "      <td>0</td>\n",
       "    </tr>\n",
       "    <tr>\n",
       "      <th>2</th>\n",
       "      <td>&lt;=50K</td>\n",
       "      <td>0</td>\n",
       "    </tr>\n",
       "    <tr>\n",
       "      <th>3</th>\n",
       "      <td>&lt;=50K</td>\n",
       "      <td>0</td>\n",
       "    </tr>\n",
       "    <tr>\n",
       "      <th>4</th>\n",
       "      <td>&lt;=50K</td>\n",
       "      <td>0</td>\n",
       "    </tr>\n",
       "    <tr>\n",
       "      <th>5</th>\n",
       "      <td>&lt;=50K</td>\n",
       "      <td>0</td>\n",
       "    </tr>\n",
       "    <tr>\n",
       "      <th>6</th>\n",
       "      <td>&lt;=50K</td>\n",
       "      <td>0</td>\n",
       "    </tr>\n",
       "    <tr>\n",
       "      <th>7</th>\n",
       "      <td>&gt;50K</td>\n",
       "      <td>1</td>\n",
       "    </tr>\n",
       "    <tr>\n",
       "      <th>8</th>\n",
       "      <td>&gt;50K</td>\n",
       "      <td>1</td>\n",
       "    </tr>\n",
       "    <tr>\n",
       "      <th>9</th>\n",
       "      <td>&gt;50K</td>\n",
       "      <td>1</td>\n",
       "    </tr>\n",
       "  </tbody>\n",
       "</table>\n",
       "</div>"
      ],
      "text/plain": [
       "  income  income_mapped\n",
       "0  <=50K              0\n",
       "1  <=50K              0\n",
       "2  <=50K              0\n",
       "3  <=50K              0\n",
       "4  <=50K              0\n",
       "5  <=50K              0\n",
       "6  <=50K              0\n",
       "7   >50K              1\n",
       "8   >50K              1\n",
       "9   >50K              1"
      ]
     },
     "execution_count": 110,
     "metadata": {},
     "output_type": "execute_result"
    }
   ],
   "source": [
    "df[['income', 'income_mapped']].head(10)"
   ]
  },
  {
   "cell_type": "code",
   "execution_count": 119,
   "metadata": {},
   "outputs": [],
   "source": [
    "x_1 = np.random.random((10000))"
   ]
  },
  {
   "cell_type": "code",
   "execution_count": 118,
   "metadata": {},
   "outputs": [
    {
     "data": {
      "text/plain": [
       "array([0.49882635, 0.47916533, 0.86903313])"
      ]
     },
     "execution_count": 118,
     "metadata": {},
     "output_type": "execute_result"
    }
   ],
   "source": [
    "np.random.random((3))"
   ]
  },
  {
   "cell_type": "code",
   "execution_count": 112,
   "metadata": {},
   "outputs": [
    {
     "data": {
      "text/plain": [
       "array([[0., 0.],\n",
       "       [0., 0.],\n",
       "       [0., 0.]])"
      ]
     },
     "execution_count": 112,
     "metadata": {},
     "output_type": "execute_result"
    }
   ],
   "source": [
    "np.zeros((3,2))"
   ]
  },
  {
   "cell_type": "code",
   "execution_count": 120,
   "metadata": {},
   "outputs": [],
   "source": [
    "x_2 = np.random.randn((10000))"
   ]
  },
  {
   "cell_type": "code",
   "execution_count": 124,
   "metadata": {},
   "outputs": [
    {
     "data": {
      "text/plain": [
       "(array([1074.,  981., 1006.,  972., 1018., 1027.,  998.,  966.,  975.,\n",
       "         983.]),\n",
       " array([1.41309614e-04, 1.00122137e-01, 2.00102963e-01, 3.00083790e-01,\n",
       "        4.00064617e-01, 5.00045444e-01, 6.00026271e-01, 7.00007098e-01,\n",
       "        7.99987925e-01, 8.99968752e-01, 9.99949579e-01]),\n",
       " <a list of 10 Patch objects>)"
      ]
     },
     "execution_count": 124,
     "metadata": {},
     "output_type": "execute_result"
    },
    {
     "data": {
      "image/png": "[encoded data removed]",
      "text/plain": [
       "<Figure size 432x288 with 1 Axes>"
      ]
     },
     "metadata": {},
     "output_type": "display_data"
    }
   ],
   "source": [
    "plt.hist(x_1)\n"
   ]
  },
  {
   "cell_type": "code",
   "execution_count": 123,
   "metadata": {},
   "outputs": [
    {
     "data": {
      "text/plain": [
       "(array([1.000e+00, 2.000e+00, 4.300e+01, 5.300e+02, 2.095e+03, 3.674e+03,\n",
       "        2.698e+03, 8.510e+02, 9.800e+01, 8.000e+00]),\n",
       " array([-5.4441011 , -4.48419923, -3.52429736, -2.56439549, -1.60449362,\n",
       "        -0.64459174,  0.31531013,  1.275212  ,  2.23511387,  3.19501574,\n",
       "         4.15491762]),\n",
       " <a list of 10 Patch objects>)"
      ]
     },
     "execution_count": 123,
     "metadata": {},
     "output_type": "execute_result"
    },
    {
     "data": {
      "image/png": "[encoded data removed]",
      "text/plain": [
       "<Figure size 432x288 with 1 Axes>"
      ]
     },
     "metadata": {},
     "output_type": "display_data"
    }
   ],
   "source": [
    "plt.hist(x_2)"
   ]
  },
  {
   "cell_type": "code",
   "execution_count": 129,
   "metadata": {},
   "outputs": [],
   "source": [
    "X_concat = np.concatenate(([x_1], [x_2]))"
   ]
  },
  {
   "cell_type": "code",
   "execution_count": 130,
   "metadata": {},
   "outputs": [
    {
     "data": {
      "text/plain": [
       "array([[ 0.74709201,  0.24387599,  0.62189263, ...,  0.26887264,\n",
       "         0.00278089,  0.55808269],\n",
       "       [ 0.98833004,  0.77320049,  0.37494574, ...,  1.2311792 ,\n",
       "         0.45962446, -0.77759858]])"
      ]
     },
     "execution_count": 130,
     "metadata": {},
     "output_type": "execute_result"
    }
   ],
   "source": [
    "X_concat"
   ]
  },
  {
   "cell_type": "code",
   "execution_count": 131,
   "metadata": {},
   "outputs": [
    {
     "data": {
      "text/plain": [
       "(2, 10000)"
      ]
     },
     "execution_count": 131,
     "metadata": {},
     "output_type": "execute_result"
    }
   ],
   "source": [
    "X_concat.shape"
   ]
  },
  {
   "cell_type": "code",
   "execution_count": 135,
   "metadata": {},
   "outputs": [
    {
     "name": "stdout",
     "output_type": "stream",
     "text": [
      "age,workclass,education_level,education-num,marital-status,occupation,relationship,race,sex,capital-gain,capital-loss,hours-per-week,native-country,income\n",
      "\n",
      "['age', 'workclass', 'education_level', 'education-num', 'marital-status', 'occupation', 'relationship', 'race', 'sex', 'capital-gain', 'capital-loss', 'hours-per-week', 'native-country', 'income']\n",
      "39, State-gov, Bachelors,13.0, Never-married, Adm-clerical, Not-in-family, White, Male,2174.0,0.0,40.0, United-States,<=50K\n",
      "\n",
      "['39', ' State-gov', ' Bachelors', '13.0', ' Never-married', ' Adm-clerical', ' Not-in-family', ' White', ' Male', '2174.0', '0.0', '40.0', ' United-States', '<=50K']\n",
      "50, Self-emp-not-inc, Bachelors,13.0, Married-civ-spouse, Exec-managerial, Husband, White, Male,0.0,0.0,13.0, United-States,<=50K\n",
      "\n",
      "['50', ' Self-emp-not-inc', ' Bachelors', '13.0', ' Married-civ-spouse', ' Exec-managerial', ' Husband', ' White', ' Male', '0.0', '0.0', '13.0', ' United-States', '<=50K']\n"
     ]
    }
   ],
   "source": [
    "counter = 0\n",
    "for line in open(\"census.csv\"):\n",
    "    counter += 1\n",
    "    if (counter<4):\n",
    "        print(line)\n",
    "        print(line.replace('\\n','').split(','))\n",
    "    "
   ]
  },
  {
   "cell_type": "code",
   "execution_count": 241,
   "metadata": {},
   "outputs": [
    {
     "name": "stdout",
     "output_type": "stream",
     "text": [
      "age,workclass,education_level,education-num,marital-status,occupation,relationship,race,sex,capital-gain,capital-loss,hours-per-week,native-country,income\n",
      "\n",
      "39, State-gov, Bachelors,13.0, Never-married, Adm-clerical, Not-in-family, White, Male,2174.0,0.0,40.0, United-States,<=50K\n",
      "\n",
      "['39', ' State-gov', ' Bachelors', '13.0', ' Never-married', ' Adm-clerical', ' Not-in-family', ' White', ' Male', '2174.0', '0.0', '40.0', ' United-States', '<=50K\\n']\n",
      "50, Self-emp-not-inc, Bachelors,13.0, Married-civ-spouse, Exec-managerial, Husband, White, Male,0.0,0.0,13.0, United-States,<=50K\n",
      "\n",
      "['50', ' Self-emp-not-inc', ' Bachelors', '13.0', ' Married-civ-spouse', ' Exec-managerial', ' Husband', ' White', ' Male', '0.0', '0.0', '13.0', ' United-States', '<=50K\\n']\n",
      "38, Private, HS-grad,9.0, Divorced, Handlers-cleaners, Not-in-family, White, Male,0.0,0.0,40.0, United-States,<=50K\n",
      "\n",
      "['38', ' Private', ' HS-grad', '9.0', ' Divorced', ' Handlers-cleaners', ' Not-in-family', ' White', ' Male', '0.0', '0.0', '40.0', ' United-States', '<=50K\\n']\n"
     ]
    }
   ],
   "source": [
    "counter = 1\n",
    "with open(\"census.csv\") as file:\n",
    "    line = file.readline()\n",
    "    print(line)\n",
    "    while line:\n",
    "        line = file.readline()\n",
    "        print(line)\n",
    "        print(line.split(','))\n",
    "        counter += 1\n",
    "        if(counter>3):\n",
    "            break\n",
    "  "
   ]
  },
  {
   "cell_type": "code",
   "execution_count": 356,
   "metadata": {},
   "outputs": [],
   "source": [
    "list1 = [2,3,6]\n",
    "list1.append(10)"
   ]
  },
  {
   "cell_type": "code",
   "execution_count": 357,
   "metadata": {},
   "outputs": [
    {
     "data": {
      "text/plain": [
       "[2, 3, 6, 10]"
      ]
     },
     "execution_count": 357,
     "metadata": {},
     "output_type": "execute_result"
    }
   ],
   "source": [
    "list1"
   ]
  },
  {
   "cell_type": "code",
   "execution_count": 144,
   "metadata": {},
   "outputs": [],
   "source": [
    "list1.append(5)"
   ]
  },
  {
   "cell_type": "code",
   "execution_count": 145,
   "metadata": {},
   "outputs": [
    {
     "data": {
      "text/plain": [
       "[2, 3, 6, 5, 5]"
      ]
     },
     "execution_count": 145,
     "metadata": {},
     "output_type": "execute_result"
    }
   ],
   "source": [
    "list1"
   ]
  },
  {
   "cell_type": "code",
   "execution_count": 358,
   "metadata": {},
   "outputs": [],
   "source": [
    "set_list = set(list1)"
   ]
  },
  {
   "cell_type": "code",
   "execution_count": 359,
   "metadata": {},
   "outputs": [
    {
     "data": {
      "text/plain": [
       "{2, 3, 6, 10}"
      ]
     },
     "execution_count": 359,
     "metadata": {},
     "output_type": "execute_result"
    }
   ],
   "source": [
    "set_list"
   ]
  },
  {
   "cell_type": "code",
   "execution_count": 360,
   "metadata": {},
   "outputs": [
    {
     "data": {
      "text/plain": [
       "True"
      ]
     },
     "execution_count": 360,
     "metadata": {},
     "output_type": "execute_result"
    }
   ],
   "source": [
    "10 in set_list"
   ]
  },
  {
   "cell_type": "code",
   "execution_count": null,
   "metadata": {},
   "outputs": [],
   "source": []
  },
  {
   "cell_type": "code",
   "execution_count": 151,
   "metadata": {},
   "outputs": [],
   "source": [
    "list1 = [2,3,6]\n",
    "list2 = [5]"
   ]
  },
  {
   "cell_type": "code",
   "execution_count": 149,
   "metadata": {},
   "outputs": [],
   "source": [
    "list1.append(list2)"
   ]
  },
  {
   "cell_type": "code",
   "execution_count": 150,
   "metadata": {},
   "outputs": [
    {
     "data": {
      "text/plain": [
       "[2, 3, 6, [5]]"
      ]
     },
     "execution_count": 150,
     "metadata": {},
     "output_type": "execute_result"
    }
   ],
   "source": [
    "list1"
   ]
  },
  {
   "cell_type": "code",
   "execution_count": 152,
   "metadata": {},
   "outputs": [],
   "source": [
    "list1 = [2,3,6]\n",
    "list2 = [5]\n",
    "list1.extend(list2)"
   ]
  },
  {
   "cell_type": "code",
   "execution_count": 153,
   "metadata": {},
   "outputs": [
    {
     "data": {
      "text/plain": [
       "[2, 3, 6, 5]"
      ]
     },
     "execution_count": 153,
     "metadata": {},
     "output_type": "execute_result"
    }
   ],
   "source": [
    "list1"
   ]
  },
  {
   "cell_type": "code",
   "execution_count": null,
   "metadata": {},
   "outputs": [],
   "source": [
    "np.random."
   ]
  },
  {
   "cell_type": "code",
   "execution_count": 365,
   "metadata": {},
   "outputs": [],
   "source": [
    "xx = np.random.random(5)"
   ]
  },
  {
   "cell_type": "code",
   "execution_count": 368,
   "metadata": {},
   "outputs": [],
   "source": [
    "yy = xx[::-1]   #no"
   ]
  },
  {
   "cell_type": "code",
   "execution_count": 370,
   "metadata": {},
   "outputs": [
    {
     "data": {
      "text/plain": [
       "(5,)"
      ]
     },
     "execution_count": 370,
     "metadata": {},
     "output_type": "execute_result"
    }
   ],
   "source": [
    "xx.shape"
   ]
  },
  {
   "cell_type": "code",
   "execution_count": 371,
   "metadata": {},
   "outputs": [
    {
     "data": {
      "text/plain": [
       "(5,)"
      ]
     },
     "execution_count": 371,
     "metadata": {},
     "output_type": "execute_result"
    }
   ],
   "source": [
    "yy.shape"
   ]
  },
  {
   "cell_type": "code",
   "execution_count": 374,
   "metadata": {},
   "outputs": [],
   "source": [
    "random.seed(41)\n",
    "x1 = np.random.random((3,4))"
   ]
  },
  {
   "cell_type": "code",
   "execution_count": 378,
   "metadata": {},
   "outputs": [
    {
     "data": {
      "text/plain": [
       "array([[0.94302548, 0.3638962 , 0.06075324, 0.55117757],\n",
       "       [0.69983654, 0.11291173, 0.42650407, 0.49637427],\n",
       "       [0.47556059, 0.19990652, 0.07009077, 0.18480791]])"
      ]
     },
     "execution_count": 378,
     "metadata": {},
     "output_type": "execute_result"
    }
   ],
   "source": [
    "x1"
   ]
  },
  {
   "cell_type": "code",
   "execution_count": 377,
   "metadata": {},
   "outputs": [
    {
     "data": {
      "text/plain": [
       "array([0.94302548, 0.3638962 , 0.06075324, 0.55117757, 0.69983654,\n",
       "       0.11291173, 0.42650407, 0.49637427, 0.47556059, 0.19990652,\n",
       "       0.07009077, 0.18480791])"
      ]
     },
     "execution_count": 377,
     "metadata": {},
     "output_type": "execute_result"
    }
   ],
   "source": [
    "x1.flatten()"
   ]
  },
  {
   "cell_type": "code",
   "execution_count": 375,
   "metadata": {},
   "outputs": [
    {
     "data": {
      "text/plain": [
       "array([[0.94302548, 0.3638962 , 0.06075324, 0.55117757],\n",
       "       [0.69983654, 0.11291173, 0.42650407, 0.49637427],\n",
       "       [0.47556059, 0.19990652, 0.07009077, 0.18480791]])"
      ]
     },
     "execution_count": 375,
     "metadata": {},
     "output_type": "execute_result"
    }
   ],
   "source": [
    "x1"
   ]
  },
  {
   "cell_type": "code",
   "execution_count": 376,
   "metadata": {},
   "outputs": [
    {
     "data": {
      "text/plain": [
       "array([[0.94302548, 0.3638962 , 0.06075324],\n",
       "       [0.55117757, 0.69983654, 0.11291173],\n",
       "       [0.42650407, 0.49637427, 0.47556059],\n",
       "       [0.19990652, 0.07009077, 0.18480791]])"
      ]
     },
     "execution_count": 376,
     "metadata": {},
     "output_type": "execute_result"
    }
   ],
   "source": [
    "x1.reshape(4,3)"
   ]
  },
  {
   "cell_type": "code",
   "execution_count": 159,
   "metadata": {},
   "outputs": [
    {
     "data": {
      "text/plain": [
       "array([[-0.04053708, -0.07042104,  1.44515762],\n",
       "       [ 1.07033506,  0.87603534,  0.81602075]])"
      ]
     },
     "execution_count": 159,
     "metadata": {},
     "output_type": "execute_result"
    }
   ],
   "source": [
    "np.random.randn(2,3)"
   ]
  },
  {
   "cell_type": "code",
   "execution_count": 161,
   "metadata": {},
   "outputs": [
    {
     "data": {
      "text/plain": [
       "array([[0.90046995, 0.16850593, 0.77513248],\n",
       "       [0.1864248 , 0.61031753, 0.4605763 ]])"
      ]
     },
     "execution_count": 161,
     "metadata": {},
     "output_type": "execute_result"
    }
   ],
   "source": [
    "np.random.random((2,3))"
   ]
  },
  {
   "cell_type": "code",
   "execution_count": 384,
   "metadata": {},
   "outputs": [
    {
     "data": {
      "text/plain": [
       "array([[0.94302548, 0.3638962 , 0.06075324, 0.55117757],\n",
       "       [0.69983654, 0.11291173, 0.42650407, 0.49637427],\n",
       "       [0.47556059, 0.19990652, 0.07009077, 0.18480791]])"
      ]
     },
     "execution_count": 384,
     "metadata": {},
     "output_type": "execute_result"
    }
   ],
   "source": [
    "x1"
   ]
  },
  {
   "cell_type": "code",
   "execution_count": 391,
   "metadata": {},
   "outputs": [],
   "source": [
    "x2 = np.random.choice(x1.flatten(), 20, replace=True)"
   ]
  },
  {
   "cell_type": "code",
   "execution_count": 398,
   "metadata": {},
   "outputs": [
    {
     "data": {
      "text/plain": [
       "array([0.49637427, 0.19990652, 0.06075324, 0.94302548, 0.06075324,\n",
       "       0.19990652, 0.47556059, 0.11291173, 0.94302548, 0.3638962 ,\n",
       "       0.94302548, 0.69983654, 0.18480791, 0.11291173, 0.3638962 ,\n",
       "       0.42650407, 0.69983654, 0.47556059, 0.11291173, 0.06075324])"
      ]
     },
     "execution_count": 398,
     "metadata": {},
     "output_type": "execute_result"
    }
   ],
   "source": [
    "x2"
   ]
  },
  {
   "cell_type": "code",
   "execution_count": 412,
   "metadata": {},
   "outputs": [
    {
     "name": "stdout",
     "output_type": "stream",
     "text": [
      "0.4963742687306969 1\n",
      "0.19990652140769993 2\n",
      "0.06075324047070507 3\n",
      "0.943025481237091 3\n",
      "0.06075324047070507 3\n",
      "0.19990652140769993 2\n",
      "0.4755605860203065 2\n",
      "0.1129117298425022 3\n",
      "0.943025481237091 3\n",
      "0.3638961960021645 2\n",
      "0.943025481237091 3\n",
      "0.6998365409420341 2\n",
      "0.1848079124640849 1\n",
      "0.1129117298425022 3\n",
      "0.3638961960021645 2\n",
      "0.42650406906917215 1\n",
      "0.6998365409420341 2\n",
      "0.4755605860203065 2\n",
      "0.1129117298425022 3\n",
      "0.06075324047070507 3\n"
     ]
    }
   ],
   "source": [
    "dict1 = {}\n",
    "x3 = list(x2)\n",
    "for number in x2:\n",
    "\n",
    "    dict1[number] = dict1.get(number, 0) + 1\n",
    "    print(number, x3.count(number))   #set(x3)  for number in set(x3): dict1[number] = x3.count(number)\n",
    "    "
   ]
  },
  {
   "cell_type": "code",
   "execution_count": 406,
   "metadata": {},
   "outputs": [
    {
     "data": {
      "text/plain": [
       "{0.06075324047070507: 3,\n",
       " 0.1129117298425022: 3,\n",
       " 0.1848079124640849: 1,\n",
       " 0.19990652140769993: 2,\n",
       " 0.3638961960021645: 2,\n",
       " 0.42650406906917215: 1,\n",
       " 0.4755605860203065: 2,\n",
       " 0.4963742687306969: 1,\n",
       " 0.6998365409420341: 2,\n",
       " 0.943025481237091: 3}"
      ]
     },
     "execution_count": 406,
     "metadata": {},
     "output_type": "execute_result"
    }
   ],
   "source": [
    "dict1"
   ]
  },
  {
   "cell_type": "code",
   "execution_count": 395,
   "metadata": {},
   "outputs": [
    {
     "data": {
      "text/plain": [
       "(array([0.06075324, 0.11291173, 0.18480791, 0.19990652, 0.3638962 ,\n",
       "        0.42650407, 0.47556059, 0.49637427, 0.69983654, 0.94302548]),\n",
       " array([3, 3, 1, 2, 2, 1, 2, 1, 2, 3], dtype=int64))"
      ]
     },
     "execution_count": 395,
     "metadata": {},
     "output_type": "execute_result"
    }
   ],
   "source": [
    "x3 = np.unique(x2,return_counts=True)\n",
    "x3"
   ]
  },
  {
   "cell_type": "code",
   "execution_count": 396,
   "metadata": {},
   "outputs": [
    {
     "data": {
      "text/plain": [
       "array([0.06075324, 0.11291173, 0.18480791, 0.19990652, 0.3638962 ,\n",
       "       0.42650407, 0.47556059, 0.49637427, 0.69983654, 0.94302548])"
      ]
     },
     "execution_count": 396,
     "metadata": {},
     "output_type": "execute_result"
    }
   ],
   "source": [
    "x3[0]"
   ]
  },
  {
   "cell_type": "code",
   "execution_count": 397,
   "metadata": {},
   "outputs": [
    {
     "data": {
      "text/plain": [
       "array([3, 3, 1, 2, 2, 1, 2, 1, 2, 3], dtype=int64)"
      ]
     },
     "execution_count": 397,
     "metadata": {},
     "output_type": "execute_result"
    }
   ],
   "source": [
    "x3[1]"
   ]
  },
  {
   "cell_type": "code",
   "execution_count": 162,
   "metadata": {},
   "outputs": [
    {
     "data": {
      "text/plain": [
       "array([[0., 0., 0.],\n",
       "       [0., 0., 0.]])"
      ]
     },
     "execution_count": 162,
     "metadata": {},
     "output_type": "execute_result"
    }
   ],
   "source": [
    "np.zeros((2, 3))"
   ]
  },
  {
   "cell_type": "code",
   "execution_count": 207,
   "metadata": {},
   "outputs": [
    {
     "data": {
      "text/plain": [
       "array([-3,  3,  5, 12])"
      ]
     },
     "execution_count": 207,
     "metadata": {},
     "output_type": "execute_result"
    }
   ],
   "source": [
    "x= [3,12,5,-3]\n",
    "np.sort(x)"
   ]
  },
  {
   "cell_type": "code",
   "execution_count": 208,
   "metadata": {},
   "outputs": [
    {
     "data": {
      "text/plain": [
       "[-3, 3, 5, 12]"
      ]
     },
     "execution_count": 208,
     "metadata": {},
     "output_type": "execute_result"
    }
   ],
   "source": [
    "sorted(x)"
   ]
  },
  {
   "cell_type": "code",
   "execution_count": 178,
   "metadata": {},
   "outputs": [],
   "source": [
    "y = np.sort(x)"
   ]
  },
  {
   "cell_type": "code",
   "execution_count": 180,
   "metadata": {},
   "outputs": [
    {
     "data": {
      "text/plain": [
       "array([12,  5,  3, -3])"
      ]
     },
     "execution_count": 180,
     "metadata": {},
     "output_type": "execute_result"
    }
   ],
   "source": [
    "y[::-1]"
   ]
  },
  {
   "cell_type": "code",
   "execution_count": 407,
   "metadata": {},
   "outputs": [
    {
     "data": {
      "text/plain": [
       "array([ 87029, 113407,  84843, 104994,  99327,  92052,  60684])"
      ]
     },
     "execution_count": 407,
     "metadata": {},
     "output_type": "execute_result"
    }
   ],
   "source": [
    "x"
   ]
  },
  {
   "cell_type": "code",
   "execution_count": 408,
   "metadata": {},
   "outputs": [
    {
     "data": {
      "text/plain": [
       "array([6, 2, 0, 5, 4, 3, 1], dtype=int64)"
      ]
     },
     "execution_count": 408,
     "metadata": {},
     "output_type": "execute_result"
    }
   ],
   "source": [
    "np.argsort(x)"
   ]
  },
  {
   "cell_type": "code",
   "execution_count": 165,
   "metadata": {},
   "outputs": [],
   "source": [
    "a = np.argsort(x)"
   ]
  },
  {
   "cell_type": "code",
   "execution_count": 170,
   "metadata": {},
   "outputs": [
    {
     "data": {
      "text/plain": [
       "3"
      ]
     },
     "execution_count": 170,
     "metadata": {},
     "output_type": "execute_result"
    }
   ],
   "source": [
    "a[0]"
   ]
  },
  {
   "cell_type": "code",
   "execution_count": 177,
   "metadata": {},
   "outputs": [
    {
     "data": {
      "text/plain": [
       "-3"
      ]
     },
     "execution_count": 177,
     "metadata": {},
     "output_type": "execute_result"
    }
   ],
   "source": [
    "x[a[0]]"
   ]
  },
  {
   "cell_type": "code",
   "execution_count": 184,
   "metadata": {},
   "outputs": [
    {
     "data": {
      "text/plain": [
       "2"
      ]
     },
     "execution_count": 184,
     "metadata": {},
     "output_type": "execute_result"
    }
   ],
   "source": [
    "x = [12,3,3,-2,-2,1,0]\n",
    "x.count(3)"
   ]
  },
  {
   "cell_type": "code",
   "execution_count": 196,
   "metadata": {},
   "outputs": [],
   "source": [
    "str_test = '[5, 4, 2]'"
   ]
  },
  {
   "cell_type": "code",
   "execution_count": 197,
   "metadata": {},
   "outputs": [
    {
     "data": {
      "text/plain": [
       "'[5, 4, 2]'"
      ]
     },
     "execution_count": 197,
     "metadata": {},
     "output_type": "execute_result"
    }
   ],
   "source": [
    "str_test"
   ]
  },
  {
   "cell_type": "code",
   "execution_count": 200,
   "metadata": {},
   "outputs": [
    {
     "data": {
      "text/plain": [
       "[5, 4, 2]"
      ]
     },
     "execution_count": 200,
     "metadata": {},
     "output_type": "execute_result"
    }
   ],
   "source": [
    "eval(str_test)"
   ]
  },
  {
   "cell_type": "code",
   "execution_count": 206,
   "metadata": {},
   "outputs": [
    {
     "data": {
      "text/plain": [
       "<matplotlib.axes._subplots.AxesSubplot at 0x2a154b8a668>"
      ]
     },
     "execution_count": 206,
     "metadata": {},
     "output_type": "execute_result"
    },
    {
     "data": {
      "image/png": "[encoded data removed]",
      "text/plain": [
       "<Figure size 432x288 with 2 Axes>"
      ]
     },
     "metadata": {},
     "output_type": "display_data"
    }
   ],
   "source": [
    "sns.heatmap(df[['age', 'education-num', 'capital-loss', 'hours-per-week']].isnull(), cmap='coolwarm')"
   ]
  },
  {
   "cell_type": "code",
   "execution_count": 209,
   "metadata": {},
   "outputs": [],
   "source": [
    "keepcolumns_list= ['Country', 'Happiness (Rank)', 'Happiness (Score)', 'Economy (GDP.per.Capita)', 'Family','Health (Life.Expectancy)', 'Freedom', 'Generosity','Trust (Government.Corruption)', 'Dystopia (Residual)']"
   ]
  },
  {
   "cell_type": "code",
   "execution_count": 210,
   "metadata": {},
   "outputs": [
    {
     "data": {
      "text/plain": [
       "['Country',\n",
       " 'Happiness (Rank)_2019',\n",
       " 'Happiness (Score)_2019',\n",
       " 'Economy (GDP.per.Capita)_2019',\n",
       " 'Family_2019',\n",
       " 'Health (Life.Expectancy)_2019',\n",
       " 'Freedom_2019',\n",
       " 'Generosity_2019',\n",
       " 'Trust (Government.Corruption)_2019',\n",
       " 'Dystopia (Residual)_2019']"
      ]
     },
     "execution_count": 210,
     "metadata": {},
     "output_type": "execute_result"
    }
   ],
   "source": [
    "year = 2019\n",
    "[col+'_'+str(year)  if col != 'Country' else col for col in keepcolumns_list]"
   ]
  },
  {
   "cell_type": "code",
   "execution_count": 415,
   "metadata": {},
   "outputs": [
    {
     "data": {
      "text/plain": [
       "['Country',\n",
       " 'Happiness (Rank)_2000',\n",
       " 'Happiness (Score)_2000',\n",
       " 'Economy (GDP.per.Capita)_2000',\n",
       " 'Family_2000',\n",
       " 'Health (Life.Expectancy)_2000',\n",
       " 'Freedom_2000',\n",
       " 'Generosity_2000',\n",
       " 'Trust (Government.Corruption)_2000',\n",
       " 'Dystopia (Residual)_2000']"
      ]
     },
     "execution_count": 415,
     "metadata": {},
     "output_type": "execute_result"
    }
   ],
   "source": [
    "keepcolumns_list= ['Country', 'Happiness (Rank)', 'Happiness (Score)', 'Economy (GDP.per.Capita)', 'Family','Health (Life.Expectancy)', 'Freedom', 'Generosity','Trust (Government.Corruption)', 'Dystopia (Residual)']\n",
    "year = 2000\n",
    "new_col = []\n",
    "for col in keepcolumns_list:\n",
    "    if(col != 'Country'):\n",
    "        new_col.append(col + \"_\" + str(year))\n",
    "    else:\n",
    "        new_col.append(col)\n",
    "        \n",
    "new_col        "
   ]
  },
  {
   "cell_type": "code",
   "execution_count": 211,
   "metadata": {},
   "outputs": [],
   "source": [
    "import re"
   ]
  },
  {
   "cell_type": "code",
   "execution_count": 24,
   "metadata": {},
   "outputs": [],
   "source": [
    "text = 'The project, which started in March 2001, test@gmail.com is supporting seven http://www.website.com co-operative farms in Kosan County (7,426 farmers, 3,121 ha of arable land and a population of 15,019 persons).'"
   ]
  },
  {
   "cell_type": "code",
   "execution_count": 421,
   "metadata": {},
   "outputs": [
    {
     "data": {
      "text/plain": [
       "'The project, which started in March 2001, test@gmail.com is supporting seven http://www.website.com co-operative farms in Kosan County (7,426 farmers, 3,121 ha of arable land and a population of 15,019 persons).'"
      ]
     },
     "execution_count": 421,
     "metadata": {},
     "output_type": "execute_result"
    }
   ],
   "source": [
    "text"
   ]
  },
  {
   "cell_type": "code",
   "execution_count": 422,
   "metadata": {},
   "outputs": [
    {
     "data": {
      "text/plain": [
       "-1"
      ]
     },
     "execution_count": 422,
     "metadata": {},
     "output_type": "execute_result"
    }
   ],
   "source": [
    "text.find(\"system\")"
   ]
  },
  {
   "cell_type": "code",
   "execution_count": 25,
   "metadata": {},
   "outputs": [
    {
     "data": {
      "text/plain": [
       "4"
      ]
     },
     "execution_count": 25,
     "metadata": {},
     "output_type": "execute_result"
    }
   ],
   "source": [
    "text.find(\"project\")"
   ]
  },
  {
   "cell_type": "code",
   "execution_count": 424,
   "metadata": {},
   "outputs": [],
   "source": [
    "import re\n",
    "url_patt = 'http[s]?://(?:[a-zA-Z]|[0-9]|[$-_@.&+]|[!*\\(\\),]|(?:%[0-9a-fA-F][0-9a-fA-F]))+'\n",
    "email_patt = '[a-zA-Z0-9+_\\-\\.]+@[0-9a-zA-Z][.-0-9a-zA-Z]*.[a-zA-Z]+'\n",
    "url_cases = re.findall(url_patt, text)\n",
    "email_cases = re.findall(email_patt, text)"
   ]
  },
  {
   "cell_type": "code",
   "execution_count": 425,
   "metadata": {},
   "outputs": [
    {
     "data": {
      "text/plain": [
       "['http://www.website.com']"
      ]
     },
     "execution_count": 425,
     "metadata": {},
     "output_type": "execute_result"
    }
   ],
   "source": [
    "url_cases"
   ]
  },
  {
   "cell_type": "code",
   "execution_count": 426,
   "metadata": {},
   "outputs": [
    {
     "data": {
      "text/plain": [
       "['test@gmail.com is']"
      ]
     },
     "execution_count": 426,
     "metadata": {},
     "output_type": "execute_result"
    }
   ],
   "source": [
    "email_cases"
   ]
  },
  {
   "cell_type": "code",
   "execution_count": 427,
   "metadata": {},
   "outputs": [],
   "source": [
    "for urls in url_cases:\n",
    "    text = re.sub(urls, 'url_placeholder', text)"
   ]
  },
  {
   "cell_type": "code",
   "execution_count": 428,
   "metadata": {},
   "outputs": [
    {
     "data": {
      "text/plain": [
       "'The project, which started in March 2001, test@gmail.com is supporting seven url_placeholder co-operative farms in Kosan County (7,426 farmers, 3,121 ha of arable land and a population of 15,019 persons).'"
      ]
     },
     "execution_count": 428,
     "metadata": {},
     "output_type": "execute_result"
    }
   ],
   "source": [
    "text"
   ]
  },
  {
   "cell_type": "code",
   "execution_count": 429,
   "metadata": {},
   "outputs": [],
   "source": [
    "for emails in email_cases:\n",
    "    text = re.sub(emails, 'email_placeholder', text)"
   ]
  },
  {
   "cell_type": "code",
   "execution_count": 430,
   "metadata": {},
   "outputs": [
    {
     "data": {
      "text/plain": [
       "'The project, which started in March 2001, email_placeholder supporting seven url_placeholder co-operative farms in Kosan County (7,426 farmers, 3,121 ha of arable land and a population of 15,019 persons).'"
      ]
     },
     "execution_count": 430,
     "metadata": {},
     "output_type": "execute_result"
    }
   ],
   "source": [
    "text"
   ]
  },
  {
   "cell_type": "code",
   "execution_count": 258,
   "metadata": {},
   "outputs": [
    {
     "data": {
      "text/plain": [
       "'The project, which started in March 2001, email_placeholder supporting seven url_placeholder co-operative farms in Kosan County (7,426 farmers, 3,121 ha of arable land and a population of 15,019 persons).'"
      ]
     },
     "execution_count": 258,
     "metadata": {},
     "output_type": "execute_result"
    }
   ],
   "source": [
    "text"
   ]
  },
  {
   "cell_type": "code",
   "execution_count": 431,
   "metadata": {},
   "outputs": [],
   "source": [
    "pattern = re.compile(r'[^a-zA-z]')"
   ]
  },
  {
   "cell_type": "code",
   "execution_count": 432,
   "metadata": {},
   "outputs": [],
   "source": [
    "text = re.sub(pattern, ' ', text)\n"
   ]
  },
  {
   "cell_type": "code",
   "execution_count": 433,
   "metadata": {},
   "outputs": [
    {
     "data": {
      "text/plain": [
       "'The project  which started in March       email_placeholder supporting seven url_placeholder co operative farms in Kosan County        farmers        ha of arable land and a population of        persons  '"
      ]
     },
     "execution_count": 433,
     "metadata": {},
     "output_type": "execute_result"
    }
   ],
   "source": [
    "text"
   ]
  },
  {
   "cell_type": "code",
   "execution_count": 434,
   "metadata": {},
   "outputs": [
    {
     "name": "stdout",
     "output_type": "stream",
     "text": [
      "can't\n"
     ]
    }
   ],
   "source": [
    "\n",
    "try:\n",
    "    print(0/0)\n",
    "except ZeroDivisionError:\n",
    "    print(\"can't\")"
   ]
  },
  {
   "cell_type": "code",
   "execution_count": 266,
   "metadata": {},
   "outputs": [
    {
     "data": {
      "text/plain": [
       "[0, 1, 2, 3, 4, 5, 6, 7, 8, 9]"
      ]
     },
     "execution_count": 266,
     "metadata": {},
     "output_type": "execute_result"
    }
   ],
   "source": [
    "[x for x in range(10)]"
   ]
  },
  {
   "cell_type": "code",
   "execution_count": 267,
   "metadata": {},
   "outputs": [
    {
     "data": {
      "text/plain": [
       "[0, 2, 4, 6, 8]"
      ]
     },
     "execution_count": 267,
     "metadata": {},
     "output_type": "execute_result"
    }
   ],
   "source": [
    "[x for x in range(10) if x % 2 == 0 ]"
   ]
  },
  {
   "cell_type": "code",
   "execution_count": 271,
   "metadata": {},
   "outputs": [
    {
     "data": {
      "text/plain": [
       "{0: 0, 1: 1, 2: 4, 3: 9, 4: 16}"
      ]
     },
     "execution_count": 271,
     "metadata": {},
     "output_type": "execute_result"
    }
   ],
   "source": [
    "{x:x*x for x in range(5)}"
   ]
  },
  {
   "cell_type": "code",
   "execution_count": 441,
   "metadata": {},
   "outputs": [
    {
     "data": {
      "text/plain": [
       "{'0': '00000', '1': '11111', '2': '22222', '3': '33333', '4': '44444'}"
      ]
     },
     "execution_count": 441,
     "metadata": {},
     "output_type": "execute_result"
    }
   ],
   "source": [
    "{str(x):str(x)*5 for x in range(5)}"
   ]
  },
  {
   "cell_type": "code",
   "execution_count": 438,
   "metadata": {},
   "outputs": [
    {
     "data": {
      "text/plain": [
       "{1, 4}"
      ]
     },
     "execution_count": 438,
     "metadata": {},
     "output_type": "execute_result"
    }
   ],
   "source": [
    "{x*x for x in [-2, -1, 1, 2]}   #set"
   ]
  },
  {
   "cell_type": "code",
   "execution_count": 437,
   "metadata": {},
   "outputs": [
    {
     "data": {
      "text/plain": [
       "[4, 1, 1, 4]"
      ]
     },
     "execution_count": 437,
     "metadata": {},
     "output_type": "execute_result"
    }
   ],
   "source": [
    "[x*x for x in [-2, -1, 1, 2]]"
   ]
  },
  {
   "cell_type": "code",
   "execution_count": 439,
   "metadata": {},
   "outputs": [
    {
     "data": {
      "text/plain": [
       "[2, 1, 1, 2]"
      ]
     },
     "execution_count": 439,
     "metadata": {},
     "output_type": "execute_result"
    }
   ],
   "source": [
    "[abs(x) for x in [-2, -1, 1, 2]]"
   ]
  },
  {
   "cell_type": "code",
   "execution_count": 442,
   "metadata": {},
   "outputs": [
    {
     "data": {
      "text/plain": [
       "[(0, 0),\n",
       " (0, 1),\n",
       " (0, 2),\n",
       " (0, 3),\n",
       " (0, 4),\n",
       " (0, 5),\n",
       " (1, 0),\n",
       " (1, 1),\n",
       " (1, 2),\n",
       " (1, 3),\n",
       " (1, 4),\n",
       " (1, 5),\n",
       " (2, 0),\n",
       " (2, 1),\n",
       " (2, 2),\n",
       " (2, 3),\n",
       " (2, 4),\n",
       " (2, 5),\n",
       " (3, 0),\n",
       " (3, 1),\n",
       " (3, 2),\n",
       " (3, 3),\n",
       " (3, 4),\n",
       " (3, 5),\n",
       " (4, 0),\n",
       " (4, 1),\n",
       " (4, 2),\n",
       " (4, 3),\n",
       " (4, 4),\n",
       " (4, 5)]"
      ]
     },
     "execution_count": 442,
     "metadata": {},
     "output_type": "execute_result"
    }
   ],
   "source": [
    "[(x,y)\n",
    " for x in range(5)\n",
    " for y in range(6)]"
   ]
  },
  {
   "cell_type": "code",
   "execution_count": 443,
   "metadata": {},
   "outputs": [
    {
     "data": {
      "text/plain": [
       "[[0, 0],\n",
       " [0, 1],\n",
       " [0, 2],\n",
       " [0, 3],\n",
       " [0, 4],\n",
       " [0, 5],\n",
       " [1, 0],\n",
       " [1, 1],\n",
       " [1, 2],\n",
       " [1, 3],\n",
       " [1, 4],\n",
       " [1, 5],\n",
       " [2, 0],\n",
       " [2, 1],\n",
       " [2, 2],\n",
       " [2, 3],\n",
       " [2, 4],\n",
       " [2, 5],\n",
       " [3, 0],\n",
       " [3, 1],\n",
       " [3, 2],\n",
       " [3, 3],\n",
       " [3, 4],\n",
       " [3, 5],\n",
       " [4, 0],\n",
       " [4, 1],\n",
       " [4, 2],\n",
       " [4, 3],\n",
       " [4, 4],\n",
       " [4, 5]]"
      ]
     },
     "execution_count": 443,
     "metadata": {},
     "output_type": "execute_result"
    }
   ],
   "source": [
    "[[x,y]\n",
    " for x in range(5)\n",
    " for y in range(6)]"
   ]
  },
  {
   "cell_type": "code",
   "execution_count": 274,
   "metadata": {},
   "outputs": [
    {
     "data": {
      "text/plain": [
       "array([0.25092362, 0.04609582, 0.67681624, 0.04346949])"
      ]
     },
     "execution_count": 274,
     "metadata": {},
     "output_type": "execute_result"
    }
   ],
   "source": [
    "np.random.seed(41)\n",
    "np.random.random(4)"
   ]
  },
  {
   "cell_type": "code",
   "execution_count": 275,
   "metadata": {},
   "outputs": [
    {
     "data": {
      "text/plain": [
       "array([0.25092362, 0.04609582, 0.67681624, 0.04346949])"
      ]
     },
     "execution_count": 275,
     "metadata": {},
     "output_type": "execute_result"
    }
   ],
   "source": [
    "np.random.seed(41)\n",
    "np.random.random(4)"
   ]
  },
  {
   "cell_type": "code",
   "execution_count": 444,
   "metadata": {},
   "outputs": [],
   "source": [
    "list_ = np.arange(10)"
   ]
  },
  {
   "cell_type": "code",
   "execution_count": 445,
   "metadata": {},
   "outputs": [
    {
     "data": {
      "text/plain": [
       "array([0, 1, 2, 3, 4, 5, 6, 7, 8, 9])"
      ]
     },
     "execution_count": 445,
     "metadata": {},
     "output_type": "execute_result"
    }
   ],
   "source": [
    "list_"
   ]
  },
  {
   "cell_type": "code",
   "execution_count": 446,
   "metadata": {},
   "outputs": [
    {
     "data": {
      "text/plain": [
       "array([8, 1, 9, 7, 2])"
      ]
     },
     "execution_count": 446,
     "metadata": {},
     "output_type": "execute_result"
    }
   ],
   "source": [
    "np.random.choice(list_, 5, replace=False)"
   ]
  },
  {
   "cell_type": "code",
   "execution_count": 449,
   "metadata": {},
   "outputs": [
    {
     "data": {
      "text/plain": [
       "array([6, 7, 2, 5, 2])"
      ]
     },
     "execution_count": 449,
     "metadata": {},
     "output_type": "execute_result"
    }
   ],
   "source": [
    "np.random.choice(list_, 5, replace=True)"
   ]
  },
  {
   "cell_type": "code",
   "execution_count": 461,
   "metadata": {},
   "outputs": [
    {
     "name": "stdout",
     "output_type": "stream",
     "text": [
      "600\n"
     ]
    }
   ],
   "source": [
    "from functools import reduce\n",
    "\n",
    "list_ = [1, 4, 5, 30]\n",
    "\n",
    "def square(x, y):\n",
    "    return x*y\n",
    "print(reduce(square, list_))"
   ]
  },
  {
   "cell_type": "code",
   "execution_count": 27,
   "metadata": {},
   "outputs": [
    {
     "data": {
      "text/plain": [
       "1.5"
      ]
     },
     "execution_count": 27,
     "metadata": {},
     "output_type": "execute_result"
    }
   ],
   "source": [
    "3/2"
   ]
  },
  {
   "cell_type": "code",
   "execution_count": 11,
   "metadata": {},
   "outputs": [
    {
     "data": {
      "text/plain": [
       "2654"
      ]
     },
     "execution_count": 11,
     "metadata": {},
     "output_type": "execute_result"
    }
   ],
   "source": [
    "5*10+13*100*2+4"
   ]
  },
  {
   "cell_type": "code",
   "execution_count": 13,
   "metadata": {},
   "outputs": [],
   "source": []
  },
  {
   "cell_type": "code",
   "execution_count": 17,
   "metadata": {},
   "outputs": [
    {
     "name": "stdout",
     "output_type": "stream",
     "text": [
      "['5', '10']\n",
      "['13', '100', '2']\n",
      "['4']\n",
      "2654.0\n"
     ]
    }
   ],
   "source": [
    "text = '5*10+13*100*2+4'\n",
    "summ = 0\n",
    "for text_ in text.split('+'):\n",
    "    multi_split = text_.split('*')\n",
    "    print(multi_split)\n",
    "    multi = 1 \n",
    "    for multi_split_ in multi_split:\n",
    "        multi *= np.float(multi_split_)\n",
    "    summ += multi\n",
    "print(summ)"
   ]
  },
  {
   "cell_type": "code",
   "execution_count": 451,
   "metadata": {},
   "outputs": [
    {
     "data": {
      "text/plain": [
       "[13.0, 100.0, 2.0]"
      ]
     },
     "execution_count": 451,
     "metadata": {},
     "output_type": "execute_result"
    }
   ],
   "source": [
    "list_ = ['13', '100', '2']\n",
    "list(map(lambda x: np.float(x), list_))"
   ]
  },
  {
   "cell_type": "code",
   "execution_count": 455,
   "metadata": {},
   "outputs": [
    {
     "data": {
      "text/plain": [
       "[13.0, 100.0, 2.0]"
      ]
     },
     "execution_count": 455,
     "metadata": {},
     "output_type": "execute_result"
    }
   ],
   "source": [
    "def float_maker(x):\n",
    "    return  np.float(x)\n",
    "\n",
    "list(map(lambda x: float_maker(x), list_))"
   ]
  },
  {
   "cell_type": "code",
   "execution_count": 458,
   "metadata": {},
   "outputs": [
    {
     "data": {
      "text/plain": [
       "[13.0, 100.0, 2.0]"
      ]
     },
     "execution_count": 458,
     "metadata": {},
     "output_type": "execute_result"
    }
   ],
   "source": [
    "list(map(float_maker, list_))"
   ]
  },
  {
   "cell_type": "code",
   "execution_count": 462,
   "metadata": {},
   "outputs": [
    {
     "data": {
      "text/plain": [
       "600"
      ]
     },
     "execution_count": 462,
     "metadata": {},
     "output_type": "execute_result"
    }
   ],
   "source": [
    "reduce(square, list_)"
   ]
  },
  {
   "cell_type": "code",
   "execution_count": 465,
   "metadata": {},
   "outputs": [
    {
     "data": {
      "text/plain": [
       "['5*10', '13*100*2', '4']"
      ]
     },
     "execution_count": 465,
     "metadata": {},
     "output_type": "execute_result"
    }
   ],
   "source": [
    "text = '5*10+13*100*2+4'\n",
    "text1 = text.split('+')\n",
    "text1"
   ]
  },
  {
   "cell_type": "code",
   "execution_count": 467,
   "metadata": {},
   "outputs": [],
   "source": [
    "list_try = list(map(lambda x: x.split('*'), text1))"
   ]
  },
  {
   "cell_type": "code",
   "execution_count": 19,
   "metadata": {},
   "outputs": [
    {
     "data": {
      "text/plain": [
       "2600"
      ]
     },
     "execution_count": 19,
     "metadata": {},
     "output_type": "execute_result"
    }
   ],
   "source": [
    "#text_ = text.split('+')\n",
    "list_ = [13, 100, 2]\n",
    "reduce(lambda x,y : x*y, list_)\n"
   ]
  },
  {
   "cell_type": "code",
   "execution_count": 5,
   "metadata": {},
   "outputs": [
    {
     "data": {
      "text/plain": [
       "4"
      ]
     },
     "execution_count": 5,
     "metadata": {},
     "output_type": "execute_result"
    }
   ],
   "source": [
    "square(2)"
   ]
  },
  {
   "cell_type": "code",
   "execution_count": 282,
   "metadata": {},
   "outputs": [
    {
     "ename": "SyntaxError",
     "evalue": "unexpected EOF while parsing (<ipython-input-282-c0625f958e5b>, line 1)",
     "output_type": "error",
     "traceback": [
      "\u001b[1;36m  File \u001b[1;32m\"<ipython-input-282-c0625f958e5b>\"\u001b[1;36m, line \u001b[1;32m1\u001b[0m\n\u001b[1;33m    if __name__ == '__main__':\u001b[0m\n\u001b[1;37m                              ^\u001b[0m\n\u001b[1;31mSyntaxError\u001b[0m\u001b[1;31m:\u001b[0m unexpected EOF while parsing\n"
     ]
    }
   ],
   "source": [
    "if __name__ == '__main__':"
   ]
  },
  {
   "cell_type": "code",
   "execution_count": null,
   "metadata": {},
   "outputs": [],
   "source": [
    "df_2017 = cleandata(\"data/2017.csv\", year = 2017)\n",
    "df_2016 = cleandata(\"data/2016.csv\", year = 2016)\n",
    "df_2015 = cleandata(\"data/2015.csv\", year = 2015)\n",
    "dfs = [df_2017, df_2016, df_2015]\n",
    "df_final = reduce(lambda left,right: pd.merge(left,right,on='Country'), dfs)"
   ]
  },
  {
   "cell_type": "markdown",
   "metadata": {},
   "source": [
    "## Data type"
   ]
  },
  {
   "cell_type": "code",
   "execution_count": 17,
   "metadata": {},
   "outputs": [
    {
     "data": {
      "text/plain": [
       "str"
      ]
     },
     "execution_count": 17,
     "metadata": {},
     "output_type": "execute_result"
    }
   ],
   "source": [
    "type(\"3\")"
   ]
  },
  {
   "cell_type": "code",
   "execution_count": 305,
   "metadata": {},
   "outputs": [
    {
     "data": {
      "text/plain": [
       "int"
      ]
     },
     "execution_count": 305,
     "metadata": {},
     "output_type": "execute_result"
    }
   ],
   "source": [
    "type(2)"
   ]
  },
  {
   "cell_type": "code",
   "execution_count": 306,
   "metadata": {},
   "outputs": [
    {
     "data": {
      "text/plain": [
       "float"
      ]
     },
     "execution_count": 306,
     "metadata": {},
     "output_type": "execute_result"
    }
   ],
   "source": [
    "type(3.5)"
   ]
  },
  {
   "cell_type": "code",
   "execution_count": 307,
   "metadata": {},
   "outputs": [
    {
     "data": {
      "text/plain": [
       "bool"
      ]
     },
     "execution_count": 307,
     "metadata": {},
     "output_type": "execute_result"
    }
   ],
   "source": [
    "type(True)"
   ]
  },
  {
   "cell_type": "code",
   "execution_count": 26,
   "metadata": {},
   "outputs": [],
   "source": [
    "text = \"this is just a test's text\""
   ]
  },
  {
   "cell_type": "code",
   "execution_count": 326,
   "metadata": {},
   "outputs": [
    {
     "data": {
      "text/plain": [
       "\" this is just a test's text1this is just a test's text this is just a test's text2this is just a test's text this is just a test's text3this is just a test's text this is just a test's text4\""
      ]
     },
     "execution_count": 326,
     "metadata": {},
     "output_type": "execute_result"
    }
   ],
   "source": [
    "text.join(\" 1 2 3 4\")"
   ]
  },
  {
   "cell_type": "code",
   "execution_count": 27,
   "metadata": {},
   "outputs": [
    {
     "data": {
      "text/plain": [
       "'a,b,c'"
      ]
     },
     "execution_count": 27,
     "metadata": {},
     "output_type": "execute_result"
    }
   ],
   "source": [
    "\",\".join(\"abc\")  #opposite of split(), joins the elements in the given list together using the string as the delimite"
   ]
  },
  {
   "cell_type": "code",
   "execution_count": 28,
   "metadata": {},
   "outputs": [],
   "source": [
    "text = (\n",
    "\"%d little pigs come out, \"\n",
    "\"or I'll %s, and I'll %s, \"\n",
    "\"and I'll blow your %s down.\"\n",
    "% (3, 'huff', 'puff', 'house'))"
   ]
  },
  {
   "cell_type": "code",
   "execution_count": 29,
   "metadata": {},
   "outputs": [
    {
     "name": "stdout",
     "output_type": "stream",
     "text": [
      "3 little pigs come out, or I'll huff, and I'll puff, and I'll blow your house down.\n"
     ]
    }
   ],
   "source": [
    "print(text)"
   ]
  },
  {
   "cell_type": "code",
   "execution_count": 32,
   "metadata": {},
   "outputs": [],
   "source": [
    "text = (\n",
    "\"{} little pigs come out, \"\n",
    "\"or I'll {}, and I'll {}, \"\n",
    "\"and I'll blow your {} down.\".format(3, 'huff', 'puff', 'house'))"
   ]
  },
  {
   "cell_type": "code",
   "execution_count": 33,
   "metadata": {},
   "outputs": [
    {
     "name": "stdout",
     "output_type": "stream",
     "text": [
      "3 little pigs come out, or I'll huff, and I'll puff, and I'll blow your house down.\n"
     ]
    }
   ],
   "source": [
    "print(text)"
   ]
  },
  {
   "cell_type": "code",
   "execution_count": 38,
   "metadata": {},
   "outputs": [
    {
     "name": "stdout",
     "output_type": "stream",
     "text": [
      "3 little pigs come out, or I'll huff, and I'll puff, and I'll blow your house down 34.6780.\n"
     ]
    }
   ],
   "source": [
    "print(\n",
    "\"{0:d} little pigs come out, \"\n",
    "\"or I'll {1:s}, and I'll {2:s}, \"\n",
    "\"and I'll blow your {3:s} down {4:3.4f}.\".format(3, 'huff', 'puff', 'house',34.678))"
   ]
  },
  {
   "cell_type": "code",
   "execution_count": 332,
   "metadata": {},
   "outputs": [
    {
     "data": {
      "text/plain": [
       "1"
      ]
     },
     "execution_count": 332,
     "metadata": {},
     "output_type": "execute_result"
    }
   ],
   "source": [
    "text.count(\"x\")"
   ]
  },
  {
   "cell_type": "code",
   "execution_count": 315,
   "metadata": {},
   "outputs": [
    {
     "data": {
      "text/plain": [
       "2"
      ]
     },
     "execution_count": 315,
     "metadata": {},
     "output_type": "execute_result"
    }
   ],
   "source": [
    "text.index(\"i\")"
   ]
  },
  {
   "cell_type": "code",
   "execution_count": 24,
   "metadata": {},
   "outputs": [
    {
     "data": {
      "text/plain": [
       "0"
      ]
     },
     "execution_count": 24,
     "metadata": {},
     "output_type": "execute_result"
    }
   ],
   "source": [
    "text.find(\"t\")"
   ]
  },
  {
   "cell_type": "code",
   "execution_count": 25,
   "metadata": {},
   "outputs": [
    {
     "data": {
      "text/plain": [
       "\"This is just a test's text\""
      ]
     },
     "execution_count": 25,
     "metadata": {},
     "output_type": "execute_result"
    }
   ],
   "source": [
    "text.capitalize()"
   ]
  },
  {
   "cell_type": "code",
   "execution_count": 30,
   "metadata": {},
   "outputs": [
    {
     "data": {
      "text/plain": [
       "False"
      ]
     },
     "execution_count": 30,
     "metadata": {},
     "output_type": "execute_result"
    }
   ],
   "source": [
    "text.endswith(\"s\")"
   ]
  },
  {
   "cell_type": "code",
   "execution_count": 34,
   "metadata": {},
   "outputs": [
    {
     "data": {
      "text/plain": [
       "True"
      ]
     },
     "execution_count": 34,
     "metadata": {},
     "output_type": "execute_result"
    }
   ],
   "source": [
    "text.endswith(\"t\")  # T False"
   ]
  },
  {
   "cell_type": "code",
   "execution_count": 36,
   "metadata": {},
   "outputs": [
    {
     "data": {
      "text/plain": [
       "4"
      ]
     },
     "execution_count": 36,
     "metadata": {},
     "output_type": "execute_result"
    }
   ],
   "source": [
    "text.index(\" \")  #first occurance index"
   ]
  },
  {
   "cell_type": "code",
   "execution_count": 38,
   "metadata": {},
   "outputs": [
    {
     "data": {
      "text/plain": [
       "False"
      ]
     },
     "execution_count": 38,
     "metadata": {},
     "output_type": "execute_result"
    }
   ],
   "source": [
    "text.isdigit()"
   ]
  },
  {
   "cell_type": "code",
   "execution_count": 39,
   "metadata": {},
   "outputs": [
    {
     "data": {
      "text/plain": [
       "True"
      ]
     },
     "execution_count": 39,
     "metadata": {},
     "output_type": "execute_result"
    }
   ],
   "source": [
    "text.islower()"
   ]
  },
  {
   "cell_type": "code",
   "execution_count": 40,
   "metadata": {},
   "outputs": [
    {
     "data": {
      "text/plain": [
       "False"
      ]
     },
     "execution_count": 40,
     "metadata": {},
     "output_type": "execute_result"
    }
   ],
   "source": [
    "text.isnumeric()"
   ]
  },
  {
   "cell_type": "code",
   "execution_count": 41,
   "metadata": {},
   "outputs": [
    {
     "data": {
      "text/plain": [
       "False"
      ]
     },
     "execution_count": 41,
     "metadata": {},
     "output_type": "execute_result"
    }
   ],
   "source": [
    "text.isupper()"
   ]
  },
  {
   "cell_type": "code",
   "execution_count": 42,
   "metadata": {},
   "outputs": [
    {
     "data": {
      "text/plain": [
       "\"this  is  just  a  test's  text\""
      ]
     },
     "execution_count": 42,
     "metadata": {},
     "output_type": "execute_result"
    }
   ],
   "source": [
    "text.replace(\" \",\"  \")  # view, need to texy = text.replace()"
   ]
  },
  {
   "cell_type": "code",
   "execution_count": 43,
   "metadata": {},
   "outputs": [
    {
     "data": {
      "text/plain": [
       "\"this is just a test's text\""
      ]
     },
     "execution_count": 43,
     "metadata": {},
     "output_type": "execute_result"
    }
   ],
   "source": [
    "text"
   ]
  },
  {
   "cell_type": "code",
   "execution_count": 44,
   "metadata": {},
   "outputs": [
    {
     "data": {
      "text/plain": [
       "['this', 'is', 'just', 'a', \"test's\", 'text']"
      ]
     },
     "execution_count": 44,
     "metadata": {},
     "output_type": "execute_result"
    }
   ],
   "source": [
    "text.split()"
   ]
  },
  {
   "cell_type": "code",
   "execution_count": 333,
   "metadata": {},
   "outputs": [],
   "source": [
    "text = 'This is to check {} and {} of the system\\''  #put \\' with ''"
   ]
  },
  {
   "cell_type": "code",
   "execution_count": 345,
   "metadata": {},
   "outputs": [],
   "source": [
    "text = 'This is to check {0:.2f} and {0:.4f} of the system\\''"
   ]
  },
  {
   "cell_type": "code",
   "execution_count": 39,
   "metadata": {},
   "outputs": [
    {
     "name": "stdout",
     "output_type": "stream",
     "text": [
      "This is to check 1.20 and 1.5000 of the system'\n"
     ]
    }
   ],
   "source": [
    "print('This is to check {0:.2f} and {1:.4f} of the system\\''.format(6/5,3/2))"
   ]
  },
  {
   "cell_type": "code",
   "execution_count": 47,
   "metadata": {},
   "outputs": [
    {
     "name": "stdout",
     "output_type": "stream",
     "text": [
      "This is to check quality and quantity of the system'\n"
     ]
    }
   ],
   "source": [
    "print(text.format('quality','quantity'))"
   ]
  },
  {
   "cell_type": "code",
   "execution_count": 49,
   "metadata": {},
   "outputs": [
    {
     "data": {
      "text/plain": [
       "False"
      ]
     },
     "execution_count": 49,
     "metadata": {},
     "output_type": "execute_result"
    }
   ],
   "source": [
    "13.37.is_integer()  "
   ]
  },
  {
   "cell_type": "code",
   "execution_count": 347,
   "metadata": {},
   "outputs": [
    {
     "data": {
      "text/plain": [
       "<function str.count>"
      ]
     },
     "execution_count": 347,
     "metadata": {},
     "output_type": "execute_result"
    }
   ],
   "source": [
    "text.islower"
   ]
  },
  {
   "cell_type": "code",
   "execution_count": 51,
   "metadata": {},
   "outputs": [],
   "source": [
    "13.37.islower()  # error"
   ]
  },
  {
   "cell_type": "code",
   "execution_count": 53,
   "metadata": {},
   "outputs": [
    {
     "data": {
      "text/plain": [
       "['This', 'is', 'to', 'check', '{}', 'and', '{}', 'of', 'the', \"system'\"]"
      ]
     },
     "execution_count": 53,
     "metadata": {},
     "output_type": "execute_result"
    }
   ],
   "source": [
    "text.split()"
   ]
  },
  {
   "cell_type": "code",
   "execution_count": 55,
   "metadata": {},
   "outputs": [
    {
     "data": {
      "text/plain": [
       "['This', 'is', 'to', 'check', '{}', \"and {} of the system'\"]"
      ]
     },
     "execution_count": 55,
     "metadata": {},
     "output_type": "execute_result"
    }
   ],
   "source": [
    "text.split(' ',5)  # just split into 5 segment, rest bundle as last"
   ]
  },
  {
   "cell_type": "code",
   "execution_count": 77,
   "metadata": {},
   "outputs": [
    {
     "data": {
      "text/plain": [
       "\"T5h5i5s5 5i5s5 5t5o5 5c5h5e5c5k5 5{5}5 5a5n5d5 5{5}5 5o5f5 5t5h5e5 5s5y5s5t5e5m5'\""
      ]
     },
     "execution_count": 77,
     "metadata": {},
     "output_type": "execute_result"
    }
   ],
   "source": [
    "'5'.join(text)  # text is as iterator"
   ]
  },
  {
   "cell_type": "code",
   "execution_count": 78,
   "metadata": {},
   "outputs": [
    {
     "data": {
      "text/plain": [
       "\"T\\nh\\ni\\ns\\n \\ni\\ns\\n \\nt\\no\\n \\nc\\nh\\ne\\nc\\nk\\n \\n{\\n}\\n \\na\\nn\\nd\\n \\n{\\n}\\n \\no\\nf\\n \\nt\\nh\\ne\\n \\ns\\ny\\ns\\nt\\ne\\nm\\n'\""
      ]
     },
     "execution_count": 78,
     "metadata": {},
     "output_type": "execute_result"
    }
   ],
   "source": [
    "\"\\n\".join(text)"
   ]
  },
  {
   "cell_type": "code",
   "execution_count": 56,
   "metadata": {},
   "outputs": [],
   "source": [
    "list_of_random_things = [1, 3.4, 'a string', True]"
   ]
  },
  {
   "cell_type": "code",
   "execution_count": 57,
   "metadata": {},
   "outputs": [
    {
     "data": {
      "text/plain": [
       "True"
      ]
     },
     "execution_count": 57,
     "metadata": {},
     "output_type": "execute_result"
    }
   ],
   "source": [
    "list_of_random_things[-1]"
   ]
  },
  {
   "cell_type": "code",
   "execution_count": 58,
   "metadata": {},
   "outputs": [
    {
     "data": {
      "text/plain": [
       "'a string'"
      ]
     },
     "execution_count": 58,
     "metadata": {},
     "output_type": "execute_result"
    }
   ],
   "source": [
    "list_of_random_things[-2]"
   ]
  },
  {
   "cell_type": "code",
   "execution_count": 59,
   "metadata": {},
   "outputs": [
    {
     "data": {
      "text/plain": [
       "[True, 'a string', 3.4, 1]"
      ]
     },
     "execution_count": 59,
     "metadata": {},
     "output_type": "execute_result"
    }
   ],
   "source": [
    "list_of_random_things[::-1]"
   ]
  },
  {
   "cell_type": "code",
   "execution_count": 63,
   "metadata": {},
   "outputs": [
    {
     "data": {
      "text/plain": [
       "[3.4, 'a string']"
      ]
     },
     "execution_count": 63,
     "metadata": {},
     "output_type": "execute_result"
    }
   ],
   "source": [
    "list_of_random_things[-3:-1]"
   ]
  },
  {
   "cell_type": "code",
   "execution_count": 64,
   "metadata": {},
   "outputs": [
    {
     "data": {
      "text/plain": [
       "True"
      ]
     },
     "execution_count": 64,
     "metadata": {},
     "output_type": "execute_result"
    }
   ],
   "source": [
    "3.4 in list_of_random_things"
   ]
  },
  {
   "cell_type": "code",
   "execution_count": 351,
   "metadata": {},
   "outputs": [
    {
     "data": {
      "text/plain": [
       "\"This is to check {0:.2f} and {0:.4f} of the system'\""
      ]
     },
     "execution_count": 351,
     "metadata": {},
     "output_type": "execute_result"
    }
   ],
   "source": [
    "text"
   ]
  },
  {
   "cell_type": "code",
   "execution_count": 468,
   "metadata": {},
   "outputs": [],
   "source": [
    "list_of_random_things = [1, 3.4, 'a string', True]"
   ]
  },
  {
   "cell_type": "code",
   "execution_count": 353,
   "metadata": {},
   "outputs": [
    {
     "data": {
      "text/plain": [
       "True"
      ]
     },
     "execution_count": 353,
     "metadata": {},
     "output_type": "execute_result"
    }
   ],
   "source": [
    "\"This\" in text"
   ]
  },
  {
   "cell_type": "code",
   "execution_count": 469,
   "metadata": {},
   "outputs": [
    {
     "data": {
      "text/plain": [
       "True"
      ]
     },
     "execution_count": 469,
     "metadata": {},
     "output_type": "execute_result"
    }
   ],
   "source": [
    "'a string' in list_of_random_things"
   ]
  },
  {
   "cell_type": "code",
   "execution_count": 470,
   "metadata": {},
   "outputs": [
    {
     "data": {
      "text/plain": [
       "True"
      ]
     },
     "execution_count": 470,
     "metadata": {},
     "output_type": "execute_result"
    }
   ],
   "source": [
    "5 not in list_of_random_things"
   ]
  },
  {
   "cell_type": "code",
   "execution_count": null,
   "metadata": {},
   "outputs": [],
   "source": [
    "# both string and list are orders, can access the elements by index"
   ]
  },
  {
   "cell_type": "code",
   "execution_count": 68,
   "metadata": {},
   "outputs": [],
   "source": [
    "greeting = \"Hello there\"\n",
    "greeting[0] = 'M'   # don't work, string are immutable"
   ]
  },
  {
   "cell_type": "code",
   "execution_count": 70,
   "metadata": {},
   "outputs": [
    {
     "data": {
      "text/plain": [
       "['one', 2, 3, 4, 5]"
      ]
     },
     "execution_count": 70,
     "metadata": {},
     "output_type": "execute_result"
    }
   ],
   "source": [
    "my_lst = [1, 2, 3, 4, 5]\n",
    "my_lst[0] = 'one'   # lists are mutable \n",
    "my_lst"
   ]
  },
  {
   "cell_type": "code",
   "execution_count": 82,
   "metadata": {},
   "outputs": [
    {
     "name": "stdout",
     "output_type": "stream",
     "text": [
      "text1\n",
      "text2\n",
      "text3\n"
     ]
    }
   ],
   "source": [
    "print(\"\\n\".join(list([\"text1\", \"text2\", \"text3\"]))) "
   ]
  },
  {
   "cell_type": "code",
   "execution_count": 84,
   "metadata": {},
   "outputs": [
    {
     "data": {
      "text/plain": [
       "'text1\\ntext2\\ntext3'"
      ]
     },
     "execution_count": 84,
     "metadata": {},
     "output_type": "execute_result"
    }
   ],
   "source": [
    "test = \"\\n\".join(list([\"text1\", \"text2\", \"text3\"]))  # need print command\n",
    "test"
   ]
  },
  {
   "cell_type": "code",
   "execution_count": 471,
   "metadata": {},
   "outputs": [],
   "source": [
    "list_of_random_things.append(\"more random\")"
   ]
  },
  {
   "cell_type": "code",
   "execution_count": 472,
   "metadata": {},
   "outputs": [
    {
     "data": {
      "text/plain": [
       "[1, 3.4, 'a string', True, 'more random']"
      ]
     },
     "execution_count": 472,
     "metadata": {},
     "output_type": "execute_result"
    }
   ],
   "source": [
    "list_of_random_things"
   ]
  },
  {
   "cell_type": "code",
   "execution_count": 473,
   "metadata": {},
   "outputs": [],
   "source": [
    "list_of_random_things.extend(\"extnd it\")  # if it was array, it would break it down before adding as well"
   ]
  },
  {
   "cell_type": "code",
   "execution_count": 474,
   "metadata": {},
   "outputs": [
    {
     "data": {
      "text/plain": [
       "[1,\n",
       " 3.4,\n",
       " 'a string',\n",
       " True,\n",
       " 'more random',\n",
       " 'e',\n",
       " 'x',\n",
       " 't',\n",
       " 'n',\n",
       " 'd',\n",
       " ' ',\n",
       " 'i',\n",
       " 't']"
      ]
     },
     "execution_count": 474,
     "metadata": {},
     "output_type": "execute_result"
    }
   ],
   "source": [
    "list_of_random_things"
   ]
  },
  {
   "cell_type": "code",
   "execution_count": 475,
   "metadata": {},
   "outputs": [
    {
     "data": {
      "text/plain": [
       "'e'"
      ]
     },
     "execution_count": 475,
     "metadata": {},
     "output_type": "execute_result"
    }
   ],
   "source": [
    "list_of_random_things.pop(5)"
   ]
  },
  {
   "cell_type": "code",
   "execution_count": 476,
   "metadata": {},
   "outputs": [
    {
     "data": {
      "text/plain": [
       "[1, 3.4, 'a string', True, 'more random', 'x', 't', 'n', 'd', ' ', 'i', 't']"
      ]
     },
     "execution_count": 476,
     "metadata": {},
     "output_type": "execute_result"
    }
   ],
   "source": [
    "list_of_random_things"
   ]
  },
  {
   "cell_type": "code",
   "execution_count": 107,
   "metadata": {},
   "outputs": [
    {
     "data": {
      "text/plain": [
       "[1, 3.4, 'a string', True, 'more random']"
      ]
     },
     "execution_count": 107,
     "metadata": {},
     "output_type": "execute_result"
    }
   ],
   "source": [
    "list_of_random_things"
   ]
  },
  {
   "cell_type": "code",
   "execution_count": 111,
   "metadata": {},
   "outputs": [
    {
     "data": {
      "text/plain": [
       "['0', '11', '13', '5', '7', 'book']"
      ]
     },
     "execution_count": 111,
     "metadata": {},
     "output_type": "execute_result"
    }
   ],
   "source": [
    "sorted([\"5\", \"7\", \"11\", \"0\",\"13\", \"book\"])"
   ]
  },
  {
   "cell_type": "code",
   "execution_count": 477,
   "metadata": {},
   "outputs": [],
   "source": [
    "dimensions = (52, 40, 100)"
   ]
  },
  {
   "cell_type": "code",
   "execution_count": 478,
   "metadata": {},
   "outputs": [
    {
     "name": "stdout",
     "output_type": "stream",
     "text": [
      "This the first 52 second 40 and third 100\n"
     ]
    }
   ],
   "source": [
    "print(\"This the first {} second {} and third {}\".format(dimensions[0],dimensions[1],dimensions[2]))"
   ]
  },
  {
   "cell_type": "code",
   "execution_count": 479,
   "metadata": {},
   "outputs": [
    {
     "data": {
      "text/plain": [
       "(52, 40, 100)"
      ]
     },
     "execution_count": 479,
     "metadata": {},
     "output_type": "execute_result"
    }
   ],
   "source": [
    "dimensions"
   ]
  },
  {
   "cell_type": "code",
   "execution_count": 119,
   "metadata": {},
   "outputs": [],
   "source": [
    "dimensions[0] = 5  # error tuples are ordered by immutable"
   ]
  },
  {
   "cell_type": "code",
   "execution_count": 120,
   "metadata": {},
   "outputs": [],
   "source": [
    "numbers = [1, 2, 6, 3, 1, 1, 6]"
   ]
  },
  {
   "cell_type": "code",
   "execution_count": 121,
   "metadata": {},
   "outputs": [
    {
     "data": {
      "text/plain": [
       "{1, 2, 3, 6}"
      ]
     },
     "execution_count": 121,
     "metadata": {},
     "output_type": "execute_result"
    }
   ],
   "source": [
    "set(numbers)"
   ]
  },
  {
   "cell_type": "code",
   "execution_count": 481,
   "metadata": {},
   "outputs": [],
   "source": [
    "fruit = {\"apple\", \"banana\", \"orange\", \"grapefruit\"}"
   ]
  },
  {
   "cell_type": "code",
   "execution_count": 482,
   "metadata": {},
   "outputs": [
    {
     "data": {
      "text/plain": [
       "True"
      ]
     },
     "execution_count": 482,
     "metadata": {},
     "output_type": "execute_result"
    }
   ],
   "source": [
    "\"apple\" in fruit"
   ]
  },
  {
   "cell_type": "code",
   "execution_count": 483,
   "metadata": {},
   "outputs": [
    {
     "data": {
      "text/plain": [
       "False"
      ]
     },
     "execution_count": 483,
     "metadata": {},
     "output_type": "execute_result"
    }
   ],
   "source": [
    "\"watermelon\" in fruit"
   ]
  },
  {
   "cell_type": "code",
   "execution_count": 486,
   "metadata": {},
   "outputs": [
    {
     "data": {
      "text/plain": [
       "'orange'"
      ]
     },
     "execution_count": 486,
     "metadata": {},
     "output_type": "execute_result"
    }
   ],
   "source": [
    "fruit.pop()  #random"
   ]
  },
  {
   "cell_type": "code",
   "execution_count": 487,
   "metadata": {},
   "outputs": [
    {
     "data": {
      "text/plain": [
       "{'apple', 'grapefruit'}"
      ]
     },
     "execution_count": 487,
     "metadata": {},
     "output_type": "execute_result"
    }
   ],
   "source": [
    "fruit"
   ]
  },
  {
   "cell_type": "code",
   "execution_count": 488,
   "metadata": {},
   "outputs": [],
   "source": [
    "fruit.add(\"tomato\")  # append of set!"
   ]
  },
  {
   "cell_type": "code",
   "execution_count": 489,
   "metadata": {},
   "outputs": [
    {
     "data": {
      "text/plain": [
       "{'apple', 'grapefruit', 'tomato'}"
      ]
     },
     "execution_count": 489,
     "metadata": {},
     "output_type": "execute_result"
    }
   ],
   "source": [
    "fruit"
   ]
  },
  {
   "cell_type": "code",
   "execution_count": 490,
   "metadata": {},
   "outputs": [],
   "source": [
    "fruit.add(\"tomato\")"
   ]
  },
  {
   "cell_type": "code",
   "execution_count": 491,
   "metadata": {},
   "outputs": [
    {
     "data": {
      "text/plain": [
       "{'apple', 'grapefruit', 'tomato'}"
      ]
     },
     "execution_count": 491,
     "metadata": {},
     "output_type": "execute_result"
    }
   ],
   "source": [
    "fruit"
   ]
  },
  {
   "cell_type": "code",
   "execution_count": 495,
   "metadata": {},
   "outputs": [],
   "source": [
    "veggie = {\"tomato\",\"pepper\"}"
   ]
  },
  {
   "cell_type": "code",
   "execution_count": 496,
   "metadata": {},
   "outputs": [
    {
     "data": {
      "text/plain": [
       "{'apple', 'grapefruit', 'tomato'}"
      ]
     },
     "execution_count": 496,
     "metadata": {},
     "output_type": "execute_result"
    }
   ],
   "source": [
    "fruit"
   ]
  },
  {
   "cell_type": "code",
   "execution_count": 497,
   "metadata": {},
   "outputs": [
    {
     "data": {
      "text/plain": [
       "{'apple', 'grapefruit'}"
      ]
     },
     "execution_count": 497,
     "metadata": {},
     "output_type": "execute_result"
    }
   ],
   "source": [
    "fruit.difference(veggie) # -"
   ]
  },
  {
   "cell_type": "code",
   "execution_count": 498,
   "metadata": {},
   "outputs": [
    {
     "data": {
      "text/plain": [
       "{'apple', 'grapefruit', 'tomato'}"
      ]
     },
     "execution_count": 498,
     "metadata": {},
     "output_type": "execute_result"
    }
   ],
   "source": [
    "fruit"
   ]
  },
  {
   "cell_type": "code",
   "execution_count": 499,
   "metadata": {},
   "outputs": [
    {
     "data": {
      "text/plain": [
       "{'tomato'}"
      ]
     },
     "execution_count": 499,
     "metadata": {},
     "output_type": "execute_result"
    }
   ],
   "source": [
    "fruit.intersection(veggie)   # &"
   ]
  },
  {
   "cell_type": "code",
   "execution_count": 133,
   "metadata": {},
   "outputs": [
    {
     "data": {
      "text/plain": [
       "{'apple', 'grapefruit', 'orange', 'pepper', 'tomato'}"
      ]
     },
     "execution_count": 133,
     "metadata": {},
     "output_type": "execute_result"
    }
   ],
   "source": [
    "fruit.union(veggie)  # |"
   ]
  },
  {
   "cell_type": "code",
   "execution_count": 503,
   "metadata": {},
   "outputs": [],
   "source": [
    "fruit.add(\"grapefruit\")"
   ]
  },
  {
   "cell_type": "code",
   "execution_count": 504,
   "metadata": {},
   "outputs": [
    {
     "data": {
      "text/plain": [
       "{'apple', 'grapefruit', 'tomato'}"
      ]
     },
     "execution_count": 504,
     "metadata": {},
     "output_type": "execute_result"
    }
   ],
   "source": [
    "fruit"
   ]
  },
  {
   "cell_type": "code",
   "execution_count": 505,
   "metadata": {},
   "outputs": [],
   "source": [
    "fruit.remove(\"grapefruit\")  # similar to pop but pop is random"
   ]
  },
  {
   "cell_type": "code",
   "execution_count": 506,
   "metadata": {},
   "outputs": [
    {
     "data": {
      "text/plain": [
       "{'apple', 'tomato'}"
      ]
     },
     "execution_count": 506,
     "metadata": {},
     "output_type": "execute_result"
    }
   ],
   "source": [
    "fruit"
   ]
  },
  {
   "cell_type": "code",
   "execution_count": 507,
   "metadata": {},
   "outputs": [
    {
     "data": {
      "text/plain": [
       "{4, 5, 9, 10}"
      ]
     },
     "execution_count": 507,
     "metadata": {},
     "output_type": "execute_result"
    }
   ],
   "source": [
    "lst1 = [15, 9, 10, 56, 23, 78, 5, 4, 9] \n",
    "lst2 = [9, 4, 5, 36, 47, 26, 10, 45, 87]\n",
    "\n",
    "(set(lst1) & set(lst2))  # intersection"
   ]
  },
  {
   "cell_type": "code",
   "execution_count": 512,
   "metadata": {},
   "outputs": [
    {
     "data": {
      "text/plain": [
       "{4, 5, 9, 10, 15, 23, 26, 36, 45, 47, 56, 78, 87}"
      ]
     },
     "execution_count": 512,
     "metadata": {},
     "output_type": "execute_result"
    }
   ],
   "source": [
    "(set(lst1) | set(lst2))  # union"
   ]
  },
  {
   "cell_type": "code",
   "execution_count": 513,
   "metadata": {},
   "outputs": [
    {
     "data": {
      "text/plain": [
       "{15, 23, 56, 78}"
      ]
     },
     "execution_count": 513,
     "metadata": {},
     "output_type": "execute_result"
    }
   ],
   "source": [
    "(set(lst1) - set(lst2))  # difference"
   ]
  },
  {
   "cell_type": "code",
   "execution_count": null,
   "metadata": {},
   "outputs": [],
   "source": [
    "(set(lst1) | set(lst2))"
   ]
  },
  {
   "cell_type": "code",
   "execution_count": 510,
   "metadata": {},
   "outputs": [
    {
     "data": {
      "text/plain": [
       "{4, 5, 9, 10, 26, 36, 45, 47, 87}"
      ]
     },
     "execution_count": 510,
     "metadata": {},
     "output_type": "execute_result"
    }
   ],
   "source": [
    "set(lst2)"
   ]
  },
  {
   "cell_type": "code",
   "execution_count": 508,
   "metadata": {},
   "outputs": [
    {
     "data": {
      "text/plain": [
       "{4, 5, 9, 10, 15, 23, 56, 78}"
      ]
     },
     "execution_count": 508,
     "metadata": {},
     "output_type": "execute_result"
    }
   ],
   "source": [
    "set(lst1)"
   ]
  },
  {
   "cell_type": "markdown",
   "metadata": {},
   "source": [
    "## Dictionary"
   ]
  },
  {
   "cell_type": "code",
   "execution_count": 514,
   "metadata": {},
   "outputs": [],
   "source": [
    "elements = {\"hydrogen\": 1, \"helium\": 2, \"carbon\": 6}"
   ]
  },
  {
   "cell_type": "code",
   "execution_count": 140,
   "metadata": {},
   "outputs": [
    {
     "data": {
      "text/plain": [
       "1"
      ]
     },
     "execution_count": 140,
     "metadata": {},
     "output_type": "execute_result"
    }
   ],
   "source": [
    "elements[\"hydrogen\"]"
   ]
  },
  {
   "cell_type": "code",
   "execution_count": 146,
   "metadata": {},
   "outputs": [
    {
     "data": {
      "text/plain": [
       "dict_keys(['hydrogen', 'helium', 'carbon'])"
      ]
     },
     "execution_count": 146,
     "metadata": {},
     "output_type": "execute_result"
    }
   ],
   "source": [
    "elements.keys()"
   ]
  },
  {
   "cell_type": "code",
   "execution_count": 147,
   "metadata": {},
   "outputs": [
    {
     "data": {
      "text/plain": [
       "dict_values([1, 2, 6])"
      ]
     },
     "execution_count": 147,
     "metadata": {},
     "output_type": "execute_result"
    }
   ],
   "source": [
    "elements.values()"
   ]
  },
  {
   "cell_type": "code",
   "execution_count": 148,
   "metadata": {},
   "outputs": [
    {
     "data": {
      "text/plain": [
       "dict_items([('hydrogen', 1), ('helium', 2), ('carbon', 6)])"
      ]
     },
     "execution_count": 148,
     "metadata": {},
     "output_type": "execute_result"
    }
   ],
   "source": [
    "elements.items()"
   ]
  },
  {
   "cell_type": "code",
   "execution_count": 141,
   "metadata": {},
   "outputs": [
    {
     "data": {
      "text/plain": [
       "True"
      ]
     },
     "execution_count": 141,
     "metadata": {},
     "output_type": "execute_result"
    }
   ],
   "source": [
    "\"helium\" in elements"
   ]
  },
  {
   "cell_type": "code",
   "execution_count": 515,
   "metadata": {},
   "outputs": [
    {
     "data": {
      "text/plain": [
       "False"
      ]
     },
     "execution_count": 515,
     "metadata": {},
     "output_type": "execute_result"
    }
   ],
   "source": [
    "6 in elements   # looking for key"
   ]
  },
  {
   "cell_type": "code",
   "execution_count": 516,
   "metadata": {},
   "outputs": [
    {
     "data": {
      "text/plain": [
       "True"
      ]
     },
     "execution_count": 516,
     "metadata": {},
     "output_type": "execute_result"
    }
   ],
   "source": [
    "6 in elements.values()"
   ]
  },
  {
   "cell_type": "code",
   "execution_count": 518,
   "metadata": {},
   "outputs": [],
   "source": [
    "elements[\"oxygen\"]  # error not defined"
   ]
  },
  {
   "cell_type": "code",
   "execution_count": 149,
   "metadata": {},
   "outputs": [
    {
     "data": {
      "text/plain": [
       "'not available'"
      ]
     },
     "execution_count": 149,
     "metadata": {},
     "output_type": "execute_result"
    }
   ],
   "source": [
    "elements.get(\"oxygen\",\"not available\")"
   ]
  },
  {
   "cell_type": "code",
   "execution_count": 151,
   "metadata": {},
   "outputs": [
    {
     "name": "stdout",
     "output_type": "stream",
     "text": [
      "None\n"
     ]
    }
   ],
   "source": [
    "print(elements.get(\"oxygen\"))"
   ]
  },
  {
   "cell_type": "code",
   "execution_count": 155,
   "metadata": {},
   "outputs": [
    {
     "data": {
      "text/plain": [
       "{}"
      ]
     },
     "execution_count": 155,
     "metadata": {},
     "output_type": "execute_result"
    }
   ],
   "source": [
    "dictt1 = dict()  # {}\n",
    "dictt1"
   ]
  },
  {
   "cell_type": "code",
   "execution_count": 519,
   "metadata": {},
   "outputs": [],
   "source": [
    "dictt1 = {\"book\":\"school\", \"class\":1,1:\"first\",\"list_element\":[1,2,3], 2.3:\"float\"} # [1,3]:\"list\" doesn't work no list in key"
   ]
  },
  {
   "cell_type": "code",
   "execution_count": 520,
   "metadata": {},
   "outputs": [
    {
     "data": {
      "text/plain": [
       "{1: 'first',\n",
       " 2.3: 'float',\n",
       " 'book': 'school',\n",
       " 'class': 1,\n",
       " 'list_element': [1, 2, 3]}"
      ]
     },
     "execution_count": 520,
     "metadata": {},
     "output_type": "execute_result"
    }
   ],
   "source": [
    "dictt1"
   ]
  },
  {
   "cell_type": "code",
   "execution_count": 162,
   "metadata": {},
   "outputs": [
    {
     "data": {
      "text/plain": [
       "3"
      ]
     },
     "execution_count": 162,
     "metadata": {},
     "output_type": "execute_result"
    }
   ],
   "source": [
    "dictt1[\"list_element\"][2]"
   ]
  },
  {
   "cell_type": "code",
   "execution_count": 521,
   "metadata": {},
   "outputs": [],
   "source": [
    "elements = {\"hydrogen\": {\"number\": 1,\n",
    "                         \"weight\": 1.00794,\n",
    "                         \"symbol\": \"H\"},\n",
    "              \"helium\": {\"number\": 2,\n",
    "                         \"weight\": 4.002602,\n",
    "                         \"symbol\": \"He\"}}"
   ]
  },
  {
   "cell_type": "code",
   "execution_count": 522,
   "metadata": {},
   "outputs": [
    {
     "data": {
      "text/plain": [
       "{'number': 1, 'symbol': 'H', 'weight': 1.00794}"
      ]
     },
     "execution_count": 522,
     "metadata": {},
     "output_type": "execute_result"
    }
   ],
   "source": [
    "elements[\"hydrogen\"]"
   ]
  },
  {
   "cell_type": "code",
   "execution_count": 165,
   "metadata": {},
   "outputs": [
    {
     "data": {
      "text/plain": [
       "'H'"
      ]
     },
     "execution_count": 165,
     "metadata": {},
     "output_type": "execute_result"
    }
   ],
   "source": [
    "elements[\"hydrogen\"]['symbol']"
   ]
  },
  {
   "cell_type": "code",
   "execution_count": 523,
   "metadata": {},
   "outputs": [],
   "source": [
    "elements['hydrogen']['is_noble_gas'] = False"
   ]
  },
  {
   "cell_type": "code",
   "execution_count": 524,
   "metadata": {},
   "outputs": [],
   "source": [
    "elements['helium']['is_noble_gas'] = True"
   ]
  },
  {
   "cell_type": "code",
   "execution_count": 525,
   "metadata": {},
   "outputs": [
    {
     "data": {
      "text/plain": [
       "{'helium': {'is_noble_gas': True,\n",
       "  'number': 2,\n",
       "  'symbol': 'He',\n",
       "  'weight': 4.002602},\n",
       " 'hydrogen': {'is_noble_gas': False,\n",
       "  'number': 1,\n",
       "  'symbol': 'H',\n",
       "  'weight': 1.00794}}"
      ]
     },
     "execution_count": 525,
     "metadata": {},
     "output_type": "execute_result"
    }
   ],
   "source": [
    "elements"
   ]
  },
  {
   "cell_type": "code",
   "execution_count": 526,
   "metadata": {},
   "outputs": [],
   "source": [
    "elements[\"helium\"][\"number\"] =\"replace\""
   ]
  },
  {
   "cell_type": "code",
   "execution_count": 527,
   "metadata": {},
   "outputs": [
    {
     "data": {
      "text/plain": [
       "{'helium': {'is_noble_gas': True,\n",
       "  'number': 'replace',\n",
       "  'symbol': 'He',\n",
       "  'weight': 4.002602},\n",
       " 'hydrogen': {'is_noble_gas': False,\n",
       "  'number': 1,\n",
       "  'symbol': 'H',\n",
       "  'weight': 1.00794}}"
      ]
     },
     "execution_count": 527,
     "metadata": {},
     "output_type": "execute_result"
    }
   ],
   "source": [
    "elements"
   ]
  },
  {
   "cell_type": "code",
   "execution_count": null,
   "metadata": {},
   "outputs": [],
   "source": [
    "Data     Ordered\tMutable\tConstructor\tExample\n",
    "int\t        NA\tNA\tint()\t5\n",
    "float\t    NA\tNA\tfloat()\t6.5\n",
    "string\t    Yes\tNo\t' ' or \" \" or str()\t\"this is a string\"\n",
    "bool\t    NA\tNA\tNA\tTrue or False\n",
    "list\t    Yes\tYes\t[ ] or list(),   []\t[5, 'yes', 5.7]\n",
    "tuple\t    Yes\tNo\t( ) or tuple()\t(5, 'yes', 5.7)\n",
    "set\t        No\tYes\t{ } or set()\t{5, 'yes', 5.7}\n",
    "dictionary\tNo\tKeys: No\t{ } or dict()\t{'Jun':75, 'Jul':89}"
   ]
  },
  {
   "cell_type": "code",
   "execution_count": null,
   "metadata": {},
   "outputs": [],
   "source": [
    "%  mod remain\n",
    "// int div\n",
    "/ float div"
   ]
  },
  {
   "cell_type": "code",
   "execution_count": 169,
   "metadata": {},
   "outputs": [
    {
     "data": {
      "text/plain": [
       "1.5"
      ]
     },
     "execution_count": 169,
     "metadata": {},
     "output_type": "execute_result"
    }
   ],
   "source": [
    "3/2"
   ]
  },
  {
   "cell_type": "code",
   "execution_count": 170,
   "metadata": {},
   "outputs": [
    {
     "data": {
      "text/plain": [
       "1"
      ]
     },
     "execution_count": 170,
     "metadata": {},
     "output_type": "execute_result"
    }
   ],
   "source": [
    "3//2"
   ]
  },
  {
   "cell_type": "code",
   "execution_count": 171,
   "metadata": {},
   "outputs": [
    {
     "data": {
      "text/plain": [
       "2"
      ]
     },
     "execution_count": 171,
     "metadata": {},
     "output_type": "execute_result"
    }
   ],
   "source": [
    "6%4"
   ]
  },
  {
   "cell_type": "code",
   "execution_count": 178,
   "metadata": {},
   "outputs": [],
   "source": [
    "list_ = [5,2,11]\n",
    "list_.sort()"
   ]
  },
  {
   "cell_type": "code",
   "execution_count": 181,
   "metadata": {},
   "outputs": [
    {
     "data": {
      "text/plain": [
       "{2, 5, 11}"
      ]
     },
     "execution_count": 181,
     "metadata": {},
     "output_type": "execute_result"
    }
   ],
   "source": [
    "list_ = [5,2,11]\n",
    "set(list_)"
   ]
  },
  {
   "cell_type": "code",
   "execution_count": 180,
   "metadata": {},
   "outputs": [
    {
     "data": {
      "text/plain": [
       "[2, 5, 11]"
      ]
     },
     "execution_count": 180,
     "metadata": {},
     "output_type": "execute_result"
    }
   ],
   "source": [
    "list_"
   ]
  },
  {
   "cell_type": "code",
   "execution_count": 184,
   "metadata": {},
   "outputs": [
    {
     "name": "stdout",
     "output_type": "stream",
     "text": [
      "0\n"
     ]
    }
   ],
   "source": [
    "list_ = [0,-5]\n",
    "listnew = list(set(list_)) # get sorted here\n",
    "if(len(listnew)>1):\n",
    "    print(listnew[-2])\n",
    "else:\n",
    "    print(listnew[0])"
   ]
  },
  {
   "cell_type": "code",
   "execution_count": 186,
   "metadata": {},
   "outputs": [],
   "source": [
    "m =max(list_)"
   ]
  },
  {
   "cell_type": "code",
   "execution_count": 188,
   "metadata": {},
   "outputs": [],
   "source": [
    "list_.remove(m)"
   ]
  },
  {
   "cell_type": "code",
   "execution_count": 189,
   "metadata": {},
   "outputs": [
    {
     "data": {
      "text/plain": [
       "[-5]"
      ]
     },
     "execution_count": 189,
     "metadata": {},
     "output_type": "execute_result"
    }
   ],
   "source": [
    "list_"
   ]
  },
  {
   "cell_type": "code",
   "execution_count": 529,
   "metadata": {},
   "outputs": [
    {
     "data": {
      "text/plain": [
       "12"
      ]
     },
     "execution_count": 529,
     "metadata": {},
     "output_type": "execute_result"
    }
   ],
   "source": [
    "list_ = [1,12,12,11,11,2]\n",
    "max(list_)"
   ]
  },
  {
   "cell_type": "code",
   "execution_count": 530,
   "metadata": {},
   "outputs": [],
   "source": [
    "list_.remove(max(list_))"
   ]
  },
  {
   "cell_type": "code",
   "execution_count": 531,
   "metadata": {},
   "outputs": [
    {
     "data": {
      "text/plain": [
       "[1, 12, 11, 11, 2]"
      ]
     },
     "execution_count": 531,
     "metadata": {},
     "output_type": "execute_result"
    }
   ],
   "source": [
    "list_"
   ]
  },
  {
   "cell_type": "code",
   "execution_count": 7,
   "metadata": {},
   "outputs": [],
   "source": [
    "ar = [10, 20, 20, 10, 10, 30, 50 ,10, 20]"
   ]
  },
  {
   "cell_type": "code",
   "execution_count": 3,
   "metadata": {},
   "outputs": [
    {
     "data": {
      "text/plain": [
       "array([10, 20, 30, 50])"
      ]
     },
     "execution_count": 3,
     "metadata": {},
     "output_type": "execute_result"
    }
   ],
   "source": [
    "np.unique(ar)"
   ]
  },
  {
   "cell_type": "code",
   "execution_count": 14,
   "metadata": {},
   "outputs": [
    {
     "name": "stdout",
     "output_type": "stream",
     "text": [
      "4\n",
      "3\n",
      "1\n",
      "1\n"
     ]
    }
   ],
   "source": [
    "ar_array = np.array(ar)\n",
    "\n",
    "for i in list(set(ar)):\n",
    "    print(ar.count(i))\n",
    "    "
   ]
  },
  {
   "cell_type": "code",
   "execution_count": 13,
   "metadata": {},
   "outputs": [
    {
     "data": {
      "text/plain": [
       "4"
      ]
     },
     "execution_count": 13,
     "metadata": {},
     "output_type": "execute_result"
    }
   ],
   "source": [
    "ar_array = np.array(ar)\n",
    "len(ar_array[ar_array == 10])"
   ]
  },
  {
   "cell_type": "code",
   "execution_count": 16,
   "metadata": {},
   "outputs": [
    {
     "data": {
      "text/plain": [
       "False"
      ]
     },
     "execution_count": 16,
     "metadata": {},
     "output_type": "execute_result"
    }
   ],
   "source": [
    "\"L\".islower()"
   ]
  },
  {
   "cell_type": "code",
   "execution_count": 18,
   "metadata": {},
   "outputs": [
    {
     "data": {
      "text/plain": [
       "'l'"
      ]
     },
     "execution_count": 18,
     "metadata": {},
     "output_type": "execute_result"
    }
   ],
   "source": [
    "\"L\".lower()"
   ]
  },
  {
   "cell_type": "code",
   "execution_count": 22,
   "metadata": {},
   "outputs": [],
   "source": [
    "string = \"this is a string\"\n",
    "string_split = string.split(\" \")"
   ]
  },
  {
   "cell_type": "code",
   "execution_count": 25,
   "metadata": {},
   "outputs": [
    {
     "data": {
      "text/plain": [
       "'this-is-a-string'"
      ]
     },
     "execution_count": 25,
     "metadata": {},
     "output_type": "execute_result"
    }
   ],
   "source": [
    "string.replace(\" \",\"-\")"
   ]
  },
  {
   "cell_type": "code",
   "execution_count": 27,
   "metadata": {},
   "outputs": [
    {
     "data": {
      "text/plain": [
       "[0]"
      ]
     },
     "execution_count": 27,
     "metadata": {},
     "output_type": "execute_result"
    }
   ],
   "source": [
    "list_ = []\n",
    "list_.insert(2,0)\n",
    "list_.insert()"
   ]
  },
  {
   "cell_type": "code",
   "execution_count": null,
   "metadata": {},
   "outputs": [],
   "source": [
    "12\n",
    "insert 0 5\n",
    "insert 1 10\n",
    "insert 0 6\n",
    "print\n",
    "remove 6\n",
    "append 9\n",
    "append 1\n",
    "sort\n",
    "print\n",
    "pop\n",
    "reverse\n",
    "print\n",
    "\n",
    "insert i e: Insert integer e at position i.\n",
    "print: Print the list.\n",
    "remove e: Delete the first occurrence of integer e.\n",
    "append e: Insert integer e at the end of the list.\n",
    "sort: Sort the list.\n",
    "pop: Pop the last element from the list.\n",
    "reverse: Reverse the list."
   ]
  },
  {
   "cell_type": "code",
   "execution_count": 32,
   "metadata": {},
   "outputs": [
    {
     "name": "stdout",
     "output_type": "stream",
     "text": [
      "[1, 10]\n"
     ]
    }
   ],
   "source": [
    "x = [1,5,10]\n",
    "x.remove(5)  # actual element\n",
    "print(x)"
   ]
  },
  {
   "cell_type": "code",
   "execution_count": 42,
   "metadata": {},
   "outputs": [
    {
     "data": {
      "text/plain": [
       "-5"
      ]
     },
     "execution_count": 42,
     "metadata": {},
     "output_type": "execute_result"
    }
   ],
   "source": [
    "x = [11,39,8,-5,32]\n",
    "x.pop(3)  # index, for set random"
   ]
  },
  {
   "cell_type": "code",
   "execution_count": 44,
   "metadata": {},
   "outputs": [
    {
     "data": {
      "text/plain": [
       "[11, 39, 8, 32]"
      ]
     },
     "execution_count": 44,
     "metadata": {},
     "output_type": "execute_result"
    }
   ],
   "source": [
    "x"
   ]
  },
  {
   "cell_type": "code",
   "execution_count": 45,
   "metadata": {},
   "outputs": [],
   "source": [
    "x.sort()"
   ]
  },
  {
   "cell_type": "code",
   "execution_count": 46,
   "metadata": {},
   "outputs": [
    {
     "data": {
      "text/plain": [
       "[8, 11, 32, 39]"
      ]
     },
     "execution_count": 46,
     "metadata": {},
     "output_type": "execute_result"
    }
   ],
   "source": [
    "x"
   ]
  },
  {
   "cell_type": "code",
   "execution_count": 47,
   "metadata": {},
   "outputs": [],
   "source": [
    "x.reverse()"
   ]
  },
  {
   "cell_type": "code",
   "execution_count": 48,
   "metadata": {},
   "outputs": [
    {
     "data": {
      "text/plain": [
       "[39, 32, 11, 8]"
      ]
     },
     "execution_count": 48,
     "metadata": {},
     "output_type": "execute_result"
    }
   ],
   "source": [
    "x"
   ]
  },
  {
   "cell_type": "code",
   "execution_count": null,
   "metadata": {},
   "outputs": [],
   "source": [
    "n = int(input())  #read first line\n",
    "integer_list = map(int, input().split())  # read 2nd line split text ti list of string, then list of integer, then list\n"
   ]
  },
  {
   "cell_type": "code",
   "execution_count": 52,
   "metadata": {},
   "outputs": [
    {
     "data": {
      "text/plain": [
       "(39, 32, 11, 8)"
      ]
     },
     "execution_count": 52,
     "metadata": {},
     "output_type": "execute_result"
    }
   ],
   "source": [
    "tuple(x)"
   ]
  },
  {
   "cell_type": "markdown",
   "metadata": {},
   "source": [
    "## Control flow"
   ]
  },
  {
   "cell_type": "code",
   "execution_count": null,
   "metadata": {},
   "outputs": [],
   "source": [
    "-constants defined to be false are None and False\n",
    "-zero of any numeric type: 0, 0.0, 0j, Decimal(0), Fraction(0, 1)\n",
    "-empty sequences and collections: '\"\", (), [], {}, set(), range(0)"
   ]
  },
  {
   "cell_type": "code",
   "execution_count": null,
   "metadata": {},
   "outputs": [],
   "source": [
    "range(start=0, stop, step=1) # 1 letter range(5) means (0,5,1), two letter (2,5) means (2,5,1), three is all"
   ]
  },
  {
   "cell_type": "code",
   "execution_count": 55,
   "metadata": {},
   "outputs": [
    {
     "data": {
      "text/plain": [
       "['joey_tribbiani', 'monica_geller', 'chandler_bing', 'phoebe_buffay']"
      ]
     },
     "execution_count": 55,
     "metadata": {},
     "output_type": "execute_result"
    }
   ],
   "source": [
    "names = [\"Joey Tribbiani\", \"Monica Geller\", \"Chandler Bing\", \"Phoebe Buffay\"]\n",
    "# usernames = [\"joey_tribbiani\", \"monica_geller\", \"chandler_bing\", \"phoebe_buffay\"]\n",
    "usernames = [name.lower().replace(\" \",\"_\") for name in names]\n",
    "usernames"
   ]
  },
  {
   "cell_type": "code",
   "execution_count": 58,
   "metadata": {},
   "outputs": [
    {
     "name": "stdout",
     "output_type": "stream",
     "text": [
      "['joey_tribbiani', 'monica_geller', 'chandler_bing', 'phoebe_buffay']\n"
     ]
    }
   ],
   "source": [
    "names = [\"Joey Tribbiani\", \"Monica Geller\", \"Chandler Bing\", \"Phoebe Buffay\"]\n",
    "\n",
    "for i,name in enumerate(names):\n",
    "    names[i] = name.lower().replace(\" \", \"_\")\n",
    "\n",
    "print(names)"
   ]
  },
  {
   "cell_type": "code",
   "execution_count": 534,
   "metadata": {},
   "outputs": [
    {
     "data": {
      "text/plain": [
       "True"
      ]
     },
     "execution_count": 534,
     "metadata": {},
     "output_type": "execute_result"
    }
   ],
   "source": [
    "text = \"<testtest>\"\n",
    "text.endswith(\">\")"
   ]
  },
  {
   "cell_type": "code",
   "execution_count": 60,
   "metadata": {},
   "outputs": [
    {
     "name": "stdout",
     "output_type": "stream",
     "text": [
      "2\n"
     ]
    }
   ],
   "source": [
    "tokens = ['<greeting>', 'Hello World!', '</greeting>']\n",
    "count = 0 \n",
    "for string in tokens:  # string[0], string[-1]\n",
    "    \n",
    "    if(string.startswith(\"<\") and string.endswith(\">\")):\n",
    "        count += 1\n",
    "print(count)        "
   ]
  },
  {
   "cell_type": "code",
   "execution_count": null,
   "metadata": {},
   "outputs": [],
   "source": [
    "''''\n",
    "<ul>\n",
    "<li>first string</li>\n",
    "<li>second string</li>\n",
    "</ul>\n",
    "'''\n",
    "\n"
   ]
  },
  {
   "cell_type": "code",
   "execution_count": null,
   "metadata": {},
   "outputs": [],
   "source": [
    "text = 'first string'"
   ]
  },
  {
   "cell_type": "code",
   "execution_count": 63,
   "metadata": {},
   "outputs": [
    {
     "name": "stdout",
     "output_type": "stream",
     "text": [
      "<ul>\n",
      "<li>first string</li>\n",
      "<li>second string</li>\n",
      "</ul>\n"
     ]
    }
   ],
   "source": [
    "items = ['first string', 'second string']\n",
    "html_items = \"<ul>\\n\"\n",
    "\n",
    "for item in items:\n",
    "    html_items +=  \"<li>\" + item + \"</li>\\n\"   # html_str += \"<li>{}</li>\\n\".format(item) better\n",
    "html_items += \"</ul>\"\n",
    "print(html_items)"
   ]
  },
  {
   "cell_type": "code",
   "execution_count": 64,
   "metadata": {},
   "outputs": [
    {
     "name": "stdout",
     "output_type": "stream",
     "text": [
      "[]\n"
     ]
    }
   ],
   "source": [
    "print(list(range(0,-5)))"
   ]
  },
  {
   "cell_type": "code",
   "execution_count": 65,
   "metadata": {},
   "outputs": [
    {
     "name": "stdout",
     "output_type": "stream",
     "text": [
      "[0, -1, -2, -3, -4]\n"
     ]
    }
   ],
   "source": [
    "print(list(range(0,-5,-1)))"
   ]
  },
  {
   "cell_type": "code",
   "execution_count": 68,
   "metadata": {},
   "outputs": [
    {
     "data": {
      "text/plain": [
       "{1, 2, 3, 4, 6}"
      ]
     },
     "execution_count": 68,
     "metadata": {},
     "output_type": "execute_result"
    }
   ],
   "source": [
    "list_ = {1,2,3,4}  # can't do add for list/string\n",
    "list_.add(6)\n",
    "list_"
   ]
  },
  {
   "cell_type": "code",
   "execution_count": 69,
   "metadata": {},
   "outputs": [
    {
     "name": "stdout",
     "output_type": "stream",
     "text": [
      "{'great': 2, 'expectations': 1, 'the': 2, 'adventures': 2, 'of': 2, 'sherlock': 1, 'holmes': 1, 'gasby': 1, 'hamlet': 1, 'huckleberry': 1, 'fin': 1}\n"
     ]
    }
   ],
   "source": [
    "book_title =  ['great', 'expectations','the', 'adventures', 'of', 'sherlock','holmes','the','great','gasby','hamlet','adventures','of','huckleberry','fin']\n",
    "\n",
    "book_count = {}\n",
    "\n",
    "for book in book_title:\n",
    "    if book in book_count:\n",
    "        book_count[book] += 1\n",
    "    else:\n",
    "        book_count[book] = 1\n",
    "print(book_count)"
   ]
  },
  {
   "cell_type": "code",
   "execution_count": 71,
   "metadata": {},
   "outputs": [
    {
     "name": "stdout",
     "output_type": "stream",
     "text": [
      "{'great': 2, 'expectations': 1, 'the': 2, 'adventures': 2, 'of': 2, 'sherlock': 1, 'holmes': 1, 'gasby': 1, 'hamlet': 1, 'huckleberry': 1, 'fin': 1}\n"
     ]
    }
   ],
   "source": [
    "book_count = {}\n",
    "\n",
    "for book in book_title:\n",
    "    \n",
    "    book_count[book] = book_count.get(book,0) + 1\n",
    "print(book_count)"
   ]
  },
  {
   "cell_type": "code",
   "execution_count": 73,
   "metadata": {},
   "outputs": [
    {
     "name": "stdout",
     "output_type": "stream",
     "text": [
      "Name : Jerry Seinfeld, acting_name: Jerry Seinfeld\n",
      "Name : Julia Louis-Dreyfus, acting_name: Elaine Benes\n",
      "Name : Jason Alexander, acting_name: George Costanza\n",
      "Name : Michael Richards, acting_name: Cosmo Kramer\n"
     ]
    }
   ],
   "source": [
    "cast = {\n",
    "           \"Jerry Seinfeld\": \"Jerry Seinfeld\",\n",
    "           \"Julia Louis-Dreyfus\": \"Elaine Benes\",\n",
    "           \"Jason Alexander\": \"George Costanza\",\n",
    "           \"Michael Richards\": \"Cosmo Kramer\"\n",
    "       }\n",
    "\n",
    "for name, role in cast.items():\n",
    "    print(\"Name : {}, acting_name: {}\".format(name,role))"
   ]
  },
  {
   "cell_type": "code",
   "execution_count": 75,
   "metadata": {},
   "outputs": [
    {
     "name": "stdout",
     "output_type": "stream",
     "text": [
      "23\n"
     ]
    }
   ],
   "source": [
    "result = 0\n",
    "basket_items = {'apples': 4, 'oranges': 19, 'kites': 3, 'sandwiches': 8}\n",
    "fruits = ['apples', 'oranges', 'pears', 'peaches', 'grapes', 'bananas']\n",
    "\n",
    "for item, count in basket_items.items():\n",
    "    if (item in fruits):\n",
    "        result += count\n",
    "print(result)"
   ]
  },
  {
   "cell_type": "code",
   "execution_count": 76,
   "metadata": {},
   "outputs": [
    {
     "name": "stdout",
     "output_type": "stream",
     "text": [
      "23 11\n"
     ]
    }
   ],
   "source": [
    "fruit_count, not_fruit_count = 0, 0\n",
    "basket_items = {'apples': 4, 'oranges': 19, 'kites': 3, 'sandwiches': 8}\n",
    "fruits = ['apples', 'oranges', 'pears', 'peaches', 'grapes', 'bananas']\n",
    "\n",
    "for item, count in basket_items.items():\n",
    "    if (item in fruits):\n",
    "        fruit_count += count\n",
    "    else:\n",
    "        not_fruit_count += count\n",
    "        \n",
    "print(fruit_count, not_fruit_count)"
   ]
  },
  {
   "cell_type": "code",
   "execution_count": 78,
   "metadata": {},
   "outputs": [
    {
     "name": "stdout",
     "output_type": "stream",
     "text": [
      "7\n",
      "6\n",
      "5\n"
     ]
    }
   ],
   "source": [
    "list_ = [5,6,7] #\n",
    "\n",
    "for i in range(3):\n",
    "    print(list_.pop()) # pop from end of the list and stops after 3 pop"
   ]
  },
  {
   "cell_type": "code",
   "execution_count": 79,
   "metadata": {},
   "outputs": [
    {
     "name": "stdout",
     "output_type": "stream",
     "text": [
      "[10]\n",
      "[10, 8]\n"
     ]
    }
   ],
   "source": [
    "card_deck = [4, 11, 8, 5, 13, 2, 8, 10]\n",
    "hand = []\n",
    "\n",
    "# adds the last element of the card_deck list to the hand list\n",
    "# until the values in hand add up to 17 or more\n",
    "while sum(hand)  < 17:\n",
    "    hand.append(card_deck.pop())\n",
    "    print(hand)"
   ]
  },
  {
   "cell_type": "code",
   "execution_count": 126,
   "metadata": {},
   "outputs": [
    {
     "name": "stdout",
     "output_type": "stream",
     "text": [
      "402387260077093773543702433923003985719374864210714632543799910429938512398629020592044208486969404800479988610197196058631666872994808558901323829669944590997424504087073759918823627727188732519779505950995276120874975462497043601418278094646496291056393887437886487337119181045825783647849977012476632889835955735432513185323958463075557409114262417474349347553428646576611667797396668820291207379143853719588249808126867838374559731746136085379534524221586593201928090878297308431392844403281231558611036976801357304216168747609675871348312025478589320767169132448426236131412508780208000261683151027341827977704784635868170164365024153691398281264810213092761244896359928705114964975419909342221566832572080821333186116811553615836546984046708975602900950537616475847728421889679646244945160765353408198901385442487984959953319101723355556602139450399736280750137837615307127761926849034352625200015888535147331611702103968175921510907788019393178114194545257223865541461062892187960223838971476088506276862967146674697562911234082439208160153780889893964518263243671616762179168909779911903754031274622289988005195444414282012187361745992642956581746628302955570299024324153181617210465832036786906117260158783520751516284225540265170483304226143974286933061690897968482590125458327168226458066526769958652682272807075781391858178889652208164348344825993266043367660176999612831860788386150279465955131156552036093988180612138558600301435694527224206344631797460594682573103790084024432438465657245014402821885252470935190620929023136493273497565513958720559654228749774011413346962715422845862377387538230483865688976461927383814900140767310446640259899490222221765904339901886018566526485061799702356193897017860040811889729918311021171229845901641921068884387121855646124960798722908519296819372388642614839657382291123125024186649353143970137428531926649875337218940694281434118520158014123344828015051399694290153483077644569099073152433278288269864602789864321139083506217095002597389863554277196742822248757586765752344220207573630569498825087968928162753848863396909959826280956121450994871701244516461260379029309120889086942028510640182154399457156805941872748998094254742173582401063677404595741785160829230135358081840096996372524230560855903700624271243416909004153690105933983835777939410970027753472000000000000000000000000000000000000000000000000000000000000000000000000000000000000000000000000000000000000000000000000000000000000000000000000000000000000000000000000000000000000000000000000000000000000000000000000000000000000000000000000000000000\n",
      "0.0010255424322167528\n"
     ]
    }
   ],
   "source": [
    "import timeit\n",
    "start = timeit.default_timer()\n",
    "def factorial(n):\n",
    "    multi = 1\n",
    "    while (n>1):\n",
    "        \n",
    "        multi *= n\n",
    "        n -= 1\n",
    "    return multi\n",
    "\n",
    "print(factorial(1000))\n",
    "finish = timeit.default_timer()\n",
    "print(finish - start)"
   ]
  },
  {
   "cell_type": "code",
   "execution_count": 127,
   "metadata": {},
   "outputs": [
    {
     "name": "stdout",
     "output_type": "stream",
     "text": [
      "402387260077093773543702433923003985719374864210714632543799910429938512398629020592044208486969404800479988610197196058631666872994808558901323829669944590997424504087073759918823627727188732519779505950995276120874975462497043601418278094646496291056393887437886487337119181045825783647849977012476632889835955735432513185323958463075557409114262417474349347553428646576611667797396668820291207379143853719588249808126867838374559731746136085379534524221586593201928090878297308431392844403281231558611036976801357304216168747609675871348312025478589320767169132448426236131412508780208000261683151027341827977704784635868170164365024153691398281264810213092761244896359928705114964975419909342221566832572080821333186116811553615836546984046708975602900950537616475847728421889679646244945160765353408198901385442487984959953319101723355556602139450399736280750137837615307127761926849034352625200015888535147331611702103968175921510907788019393178114194545257223865541461062892187960223838971476088506276862967146674697562911234082439208160153780889893964518263243671616762179168909779911903754031274622289988005195444414282012187361745992642956581746628302955570299024324153181617210465832036786906117260158783520751516284225540265170483304226143974286933061690897968482590125458327168226458066526769958652682272807075781391858178889652208164348344825993266043367660176999612831860788386150279465955131156552036093988180612138558600301435694527224206344631797460594682573103790084024432438465657245014402821885252470935190620929023136493273497565513958720559654228749774011413346962715422845862377387538230483865688976461927383814900140767310446640259899490222221765904339901886018566526485061799702356193897017860040811889729918311021171229845901641921068884387121855646124960798722908519296819372388642614839657382291123125024186649353143970137428531926649875337218940694281434118520158014123344828015051399694290153483077644569099073152433278288269864602789864321139083506217095002597389863554277196742822248757586765752344220207573630569498825087968928162753848863396909959826280956121450994871701244516461260379029309120889086942028510640182154399457156805941872748998094254742173582401063677404595741785160829230135358081840096996372524230560855903700624271243416909004153690105933983835777939410970027753472000000000000000000000000000000000000000000000000000000000000000000000000000000000000000000000000000000000000000000000000000000000000000000000000000000000000000000000000000000000000000000000000000000000000000000000000000000000000000000000000000000000\n",
      "0.000744353604659409\n"
     ]
    }
   ],
   "source": [
    "start = timeit.default_timer()\n",
    "def recur_factorial(n):\n",
    "    \"\"\"\n",
    "    Function to return the factorial\n",
    "    of a number using recursion\n",
    "    \"\"\"\n",
    "    if n == 1:\n",
    "        return n\n",
    "    else:\n",
    "        return n*recur_factorial(n-1)\n",
    "print(factorial(1000))\n",
    "\n",
    "finish = timeit.default_timer()\n",
    "print(finish - start)"
   ]
  },
  {
   "cell_type": "code",
   "execution_count": 128,
   "metadata": {},
   "outputs": [
    {
     "name": "stdout",
     "output_type": "stream",
     "text": [
      "402387260077093773543702433923003985719374864210714632543799910429938512398629020592044208486969404800479988610197196058631666872994808558901323829669944590997424504087073759918823627727188732519779505950995276120874975462497043601418278094646496291056393887437886487337119181045825783647849977012476632889835955735432513185323958463075557409114262417474349347553428646576611667797396668820291207379143853719588249808126867838374559731746136085379534524221586593201928090878297308431392844403281231558611036976801357304216168747609675871348312025478589320767169132448426236131412508780208000261683151027341827977704784635868170164365024153691398281264810213092761244896359928705114964975419909342221566832572080821333186116811553615836546984046708975602900950537616475847728421889679646244945160765353408198901385442487984959953319101723355556602139450399736280750137837615307127761926849034352625200015888535147331611702103968175921510907788019393178114194545257223865541461062892187960223838971476088506276862967146674697562911234082439208160153780889893964518263243671616762179168909779911903754031274622289988005195444414282012187361745992642956581746628302955570299024324153181617210465832036786906117260158783520751516284225540265170483304226143974286933061690897968482590125458327168226458066526769958652682272807075781391858178889652208164348344825993266043367660176999612831860788386150279465955131156552036093988180612138558600301435694527224206344631797460594682573103790084024432438465657245014402821885252470935190620929023136493273497565513958720559654228749774011413346962715422845862377387538230483865688976461927383814900140767310446640259899490222221765904339901886018566526485061799702356193897017860040811889729918311021171229845901641921068884387121855646124960798722908519296819372388642614839657382291123125024186649353143970137428531926649875337218940694281434118520158014123344828015051399694290153483077644569099073152433278288269864602789864321139083506217095002597389863554277196742822248757586765752344220207573630569498825087968928162753848863396909959826280956121450994871701244516461260379029309120889086942028510640182154399457156805941872748998094254742173582401063677404595741785160829230135358081840096996372524230560855903700624271243416909004153690105933983835777939410970027753472000000000000000000000000000000000000000000000000000000000000000000000000000000000000000000000000000000000000000000000000000000000000000000000000000000000000000000000000000000000000000000000000000000000000000000000000000000000000000000000000000000000\n",
      "0.0010558717572166643\n"
     ]
    }
   ],
   "source": [
    "start = timeit.default_timer()\n",
    "def factorial(n):\n",
    "    multi = 1\n",
    "    for i in range(2,n+1):       \n",
    "        multi *= i\n",
    "    return multi\n",
    "\n",
    "print(factorial(1000))\n",
    "finish = timeit.default_timer()\n",
    "print(finish - start)"
   ]
  },
  {
   "cell_type": "code",
   "execution_count": null,
   "metadata": {},
   "outputs": [],
   "source": [
    "'''\n",
    "Write a while loop that finds the largest square number less than an integer limit\n",
    "and stores it in a variable nearest_square. A square number is the product of an integer multiplied by itself,\n",
    "for example 36 is a square number because it equals 6*6.\n",
    "\n",
    "For example, if limit is 40, your code should set the nearest_square to 36.\n",
    "'''"
   ]
  },
  {
   "cell_type": "code",
   "execution_count": 120,
   "metadata": {},
   "outputs": [
    {
     "name": "stdout",
     "output_type": "stream",
     "text": [
      "10000\n",
      "0.00013879521657145233\n"
     ]
    }
   ],
   "source": [
    "start = timeit.default_timer()\n",
    "n = 10000\n",
    "\n",
    "while (n % int(n**0.5)**2 != 0):\n",
    "    n -= 1\n",
    "    \n",
    "print(n)    \n",
    "finish = timeit.default_timer()\n",
    "print(finish - start)    \n",
    "    "
   ]
  },
  {
   "cell_type": "code",
   "execution_count": 121,
   "metadata": {},
   "outputs": [
    {
     "name": "stdout",
     "output_type": "stream",
     "text": [
      "9801\n",
      "0.00030843381409795256\n"
     ]
    }
   ],
   "source": [
    "start = timeit.default_timer()\n",
    "limit = 10000\n",
    "\n",
    "num = 0\n",
    "while (num+1)**2 < limit:\n",
    "    num += 1\n",
    "nearest_square = num**2\n",
    "\n",
    "print(nearest_square)\n",
    "finish = timeit.default_timer()\n",
    "print(finish - start)"
   ]
  },
  {
   "cell_type": "code",
   "execution_count": 107,
   "metadata": {},
   "outputs": [
    {
     "data": {
      "text/plain": [
       "36.0"
      ]
     },
     "execution_count": 107,
     "metadata": {},
     "output_type": "execute_result"
    }
   ],
   "source": [
    "int(40**0.5)**2.0"
   ]
  },
  {
   "cell_type": "code",
   "execution_count": 108,
   "metadata": {},
   "outputs": [
    {
     "data": {
      "text/plain": [
       "True"
      ]
     },
     "execution_count": 108,
     "metadata": {},
     "output_type": "execute_result"
    }
   ],
   "source": [
    "n = 40\n",
    "n % int(n**0.5)**2 != 0"
   ]
  },
  {
   "cell_type": "code",
   "execution_count": 134,
   "metadata": {},
   "outputs": [
    {
     "name": "stdout",
     "output_type": "stream",
     "text": [
      "Not last: Local Bear Eaten by Man , Length 24\n",
      "Not last: Local Bear Eaten by Man Legislature Announces New Laws , Length 55\n",
      "Not last: Local Bear Eaten by Man Legislature Announces New Laws Peasant Discovers Violence Inherent in System , Length 101\n",
      "Not last: Local Bear Eaten by Man Legislature Announces New Laws Peasant Discovers Violence Inherent in System Cat Rescues Fireman Stuck in Tree , Length 135\n",
      "Last line: Local Bear Eaten by Man Legislature Announces New Laws Peasant Discovers Violence Inherent in System Cat Rescues Fireman Stuck in Tree Brave\n"
     ]
    }
   ],
   "source": [
    "headlines = [\"Local Bear Eaten by Man\",\n",
    "             \"Legislature Announces New Laws\",\n",
    "             \"Peasant Discovers Violence Inherent in System\",\n",
    "             \"Cat Rescues Fireman Stuck in Tree\",\n",
    "             \"Brave Knight Runs Away\",\n",
    "             \"Papperbok Review: Totally Triffic\"]\n",
    "\n",
    "news_ticker = \"\"\n",
    "\n",
    "for headline in headlines:\n",
    "    \n",
    "    news_ticker += headline + \" \"\n",
    "    if(len(news_ticker)<140): # just needed for printing\n",
    "        print('Not last: {}, Length {}'.format(news_ticker, len(news_ticker)))\n",
    "        continue       \n",
    "    else:\n",
    "        final_sticker = news_ticker[0:140]\n",
    "        print(\"Last line: {}\".format(final_sticker))\n",
    "        break\n",
    "        "
   ]
  },
  {
   "cell_type": "code",
   "execution_count": 135,
   "metadata": {},
   "outputs": [
    {
     "name": "stdout",
     "output_type": "stream",
     "text": [
      "a: 1\n",
      "b: 2\n",
      "c: 3\n"
     ]
    }
   ],
   "source": [
    "letters = ['a', 'b', 'c']\n",
    "nums = [1, 2, 3]\n",
    "\n",
    "for letter, num in zip(letters, nums):\n",
    "    print(\"{}: {}\".format(letter, num))"
   ]
  },
  {
   "cell_type": "code",
   "execution_count": 137,
   "metadata": {},
   "outputs": [
    {
     "data": {
      "text/plain": [
       "<zip at 0x1de7701ff88>"
      ]
     },
     "execution_count": 137,
     "metadata": {},
     "output_type": "execute_result"
    }
   ],
   "source": [
    "zip(letters, nums)  #iterator"
   ]
  },
  {
   "cell_type": "code",
   "execution_count": 154,
   "metadata": {},
   "outputs": [],
   "source": [
    "zipped = zip(letters, nums)"
   ]
  },
  {
   "cell_type": "code",
   "execution_count": 152,
   "metadata": {},
   "outputs": [
    {
     "data": {
      "text/plain": [
       "[('a', 1), ('b', 2), ('c', 3)]"
      ]
     },
     "execution_count": 152,
     "metadata": {},
     "output_type": "execute_result"
    }
   ],
   "source": [
    "list(zipped)"
   ]
  },
  {
   "cell_type": "code",
   "execution_count": 156,
   "metadata": {},
   "outputs": [
    {
     "data": {
      "text/plain": [
       "(('a', 'b', 'c'), (1, 2, 3))"
      ]
     },
     "execution_count": 156,
     "metadata": {},
     "output_type": "execute_result"
    }
   ],
   "source": [
    "zipped = zip(letters, nums)\n",
    "x , y = zip(*zipped)  #tuple output   *zipped unpack *list unpack\n",
    "x , y"
   ]
  },
  {
   "cell_type": "code",
   "execution_count": 157,
   "metadata": {},
   "outputs": [
    {
     "data": {
      "text/plain": [
       "('a', 'b', 'c')"
      ]
     },
     "execution_count": 157,
     "metadata": {},
     "output_type": "execute_result"
    }
   ],
   "source": [
    "x"
   ]
  },
  {
   "cell_type": "code",
   "execution_count": 158,
   "metadata": {},
   "outputs": [
    {
     "data": {
      "text/plain": [
       "(1, 2, 3)"
      ]
     },
     "execution_count": 158,
     "metadata": {},
     "output_type": "execute_result"
    }
   ],
   "source": [
    "y"
   ]
  },
  {
   "cell_type": "code",
   "execution_count": 159,
   "metadata": {},
   "outputs": [
    {
     "name": "stdout",
     "output_type": "stream",
     "text": [
      "['F: 23, 677, 4', 'J: 53, 233, 16', 'A: 2, 405, -6', 'Q: -12, 433, -42', 'Y: 95, 905, 3', 'B: 103, 376, -6', 'W: 14, 432, 23', 'X: -5, 445, -1']\n"
     ]
    }
   ],
   "source": [
    "'''\n",
    "Use zip to write a for loop that creates a string specifying the label\n",
    "and coordinates of each point and appends it to the list points. Each string should be formatted as label: x, y, z.\n",
    "For example, the string for the first coordinate should be F: 23, 677, 4.\n",
    "'''\n",
    "\n",
    "x_coord = [23, 53, 2, -12, 95, 103, 14, -5]\n",
    "y_coord = [677, 233, 405, 433, 905, 376, 432, 445]\n",
    "z_coord = [4, 16, -6, -42, 3, -6, 23, -1]\n",
    "labels = [\"F\", \"J\", \"A\", \"Q\", \"Y\", \"B\", \"W\", \"X\"]\n",
    "\n",
    "coord_list = []\n",
    "for label, x, y, z in zip(labels, x_coord, y_coord, z_coord):  # point = label, x, y, z\n",
    "    coord_list.append(\"{}: {}, {}, {}\".format(label, x, y, z))  # format(*point)\n",
    "\n",
    "print(coord_list)\n",
    "    \n"
   ]
  },
  {
   "cell_type": "code",
   "execution_count": 160,
   "metadata": {},
   "outputs": [
    {
     "name": "stdout",
     "output_type": "stream",
     "text": [
      "['F: 23, 677, 4', 'J: 53, 233, 16', 'A: 2, 405, -6', 'Q: -12, 433, -42', 'Y: 95, 905, 3', 'B: 103, 376, -6', 'W: 14, 432, 23', 'X: -5, 445, -1']\n"
     ]
    }
   ],
   "source": [
    "coord_list = []\n",
    "for  point in zip(labels, x_coord, y_coord, z_coord): \n",
    "    coord_list.append(\"{}: {}, {}, {}\".format(*point)) \n",
    "\n",
    "print(coord_list)"
   ]
  },
  {
   "cell_type": "code",
   "execution_count": 535,
   "metadata": {},
   "outputs": [
    {
     "name": "stdout",
     "output_type": "stream",
     "text": [
      "{'Barney': 72, 'Robin': 68, 'Ted': 72, 'Lily': 66, 'Marshall': 76}\n"
     ]
    }
   ],
   "source": [
    "'''\n",
    "Use zip to create a dictionary cast that uses names as keys and heights as values.\n",
    "'''\n",
    "cast_names = [\"Barney\", \"Robin\", \"Ted\", \"Lily\", \"Marshall\"]\n",
    "cast_heights = [72, 68, 72, 66, 76]\n",
    "\n",
    "cast = {}\n",
    "\n",
    "for name, height in zip(cast_names, cast_heights):\n",
    "    cast[name] = height\n",
    "\n",
    "print(cast)\n"
   ]
  },
  {
   "cell_type": "markdown",
   "metadata": {},
   "source": [
    "## NICE"
   ]
  },
  {
   "cell_type": "code",
   "execution_count": 536,
   "metadata": {},
   "outputs": [
    {
     "data": {
      "text/plain": [
       "{'Barney': 72, 'Lily': 66, 'Marshall': 76, 'Robin': 68, 'Ted': 72}"
      ]
     },
     "execution_count": 536,
     "metadata": {},
     "output_type": "execute_result"
    }
   ],
   "source": [
    "cast = dict(zip(cast_names, cast_heights))\n",
    "cast"
   ]
  },
  {
   "cell_type": "code",
   "execution_count": 537,
   "metadata": {},
   "outputs": [
    {
     "data": {
      "text/plain": [
       "{'Barney': 72, 'Lily': 66, 'Marshall': 76, 'Robin': 68, 'Ted': 72}"
      ]
     },
     "execution_count": 537,
     "metadata": {},
     "output_type": "execute_result"
    }
   ],
   "source": [
    "dict(cast)"
   ]
  },
  {
   "cell_type": "code",
   "execution_count": 167,
   "metadata": {},
   "outputs": [
    {
     "name": "stdout",
     "output_type": "stream",
     "text": [
      "('Barney', 'Robin', 'Ted', 'Lily', 'Marshall')\n",
      "(72, 68, 72, 66, 76)\n"
     ]
    }
   ],
   "source": [
    "cast = ((\"Barney\", 72), (\"Robin\", 68), (\"Ted\", 72), (\"Lily\", 66), (\"Marshall\", 76))\n",
    "name, number = zip(*cast)\n",
    "print(name)\n",
    "print(number)"
   ]
  },
  {
   "cell_type": "code",
   "execution_count": 169,
   "metadata": {},
   "outputs": [
    {
     "name": "stdout",
     "output_type": "stream",
     "text": [
      "(0, 3, 6, 9)\n",
      "(1, 4, 7, 10)\n",
      "(2, 5, 8, 11)\n"
     ]
    }
   ],
   "source": [
    "'''\n",
    "Use zip to transpose data from a 4-by-3 matrix to a 3-by-4 matrix.\n",
    "There's actually a cool trick for this! Feel free to look at the solutions if you can't figure it out.\n",
    "'''\n",
    "\n",
    "data = ((0, 1, 2), (3, 4, 5), (6, 7, 8), (9, 10, 11))\n",
    "\n",
    "x, y, z = (zip(*data))\n",
    "print(x)\n",
    "print(y)\n",
    "print(z)"
   ]
  },
  {
   "cell_type": "code",
   "execution_count": 170,
   "metadata": {},
   "outputs": [
    {
     "name": "stdout",
     "output_type": "stream",
     "text": [
      "((0, 3, 6, 9), (1, 4, 7, 10), (2, 5, 8, 11))\n"
     ]
    }
   ],
   "source": [
    "new = tuple((zip(*data)))\n",
    "print(new)"
   ]
  },
  {
   "cell_type": "code",
   "execution_count": 171,
   "metadata": {},
   "outputs": [],
   "source": [
    "Albert = {}\n",
    "\n",
    "Albert ['does not like'] = ('Apple', 'banana')"
   ]
  },
  {
   "cell_type": "code",
   "execution_count": 172,
   "metadata": {},
   "outputs": [
    {
     "data": {
      "text/plain": [
       "{'does not like': ('Apple', 'banana')}"
      ]
     },
     "execution_count": 172,
     "metadata": {},
     "output_type": "execute_result"
    }
   ],
   "source": [
    "Albert "
   ]
  },
  {
   "cell_type": "code",
   "execution_count": 175,
   "metadata": {},
   "outputs": [],
   "source": [
    "Albert ['does like'] = ['orange', 'tangerine']"
   ]
  },
  {
   "cell_type": "code",
   "execution_count": 176,
   "metadata": {},
   "outputs": [
    {
     "data": {
      "text/plain": [
       "{'does like': ['orange', 'tangerine'], 'does not like': ('Apple', 'banana')}"
      ]
     },
     "execution_count": 176,
     "metadata": {},
     "output_type": "execute_result"
    }
   ],
   "source": [
    "Albert "
   ]
  },
  {
   "cell_type": "code",
   "execution_count": 178,
   "metadata": {},
   "outputs": [],
   "source": [
    "Albert ['if fat put one'] = 1"
   ]
  },
  {
   "cell_type": "code",
   "execution_count": 180,
   "metadata": {},
   "outputs": [],
   "source": [
    "Albert [5] = 'is no. five'"
   ]
  },
  {
   "cell_type": "code",
   "execution_count": 181,
   "metadata": {},
   "outputs": [
    {
     "data": {
      "text/plain": [
       "{5: 'is no. five',\n",
       " 'does like': ['orange', 'tangerine'],\n",
       " 'does not like': ('Apple', 'banana'),\n",
       " 'if fat put one': 1}"
      ]
     },
     "execution_count": 181,
     "metadata": {},
     "output_type": "execute_result"
    }
   ],
   "source": [
    "Albert "
   ]
  },
  {
   "cell_type": "code",
   "execution_count": 183,
   "metadata": {},
   "outputs": [],
   "source": [
    "Albert[('tuple', 'not tuple')] ='tuple'"
   ]
  },
  {
   "cell_type": "code",
   "execution_count": 184,
   "metadata": {},
   "outputs": [
    {
     "data": {
      "text/plain": [
       "{('tuple', 'not tuple'): 'tuple',\n",
       " 5: 'is no. five',\n",
       " 'does like': ['orange', 'tangerine'],\n",
       " 'does not like': ('Apple', 'banana'),\n",
       " 'if fat put one': 1,\n",
       " 'tuple': 'tuple'}"
      ]
     },
     "execution_count": 184,
     "metadata": {},
     "output_type": "execute_result"
    }
   ],
   "source": [
    "Albert "
   ]
  },
  {
   "cell_type": "code",
   "execution_count": 186,
   "metadata": {},
   "outputs": [
    {
     "data": {
      "text/plain": [
       "7573301058840656803"
      ]
     },
     "execution_count": 186,
     "metadata": {},
     "output_type": "execute_result"
    }
   ],
   "source": [
    "hash((5,6,7))"
   ]
  },
  {
   "cell_type": "code",
   "execution_count": 188,
   "metadata": {},
   "outputs": [],
   "source": [
    "hash([5,6,7]) #unhashable type: 'list'\n"
   ]
  },
  {
   "cell_type": "code",
   "execution_count": 190,
   "metadata": {},
   "outputs": [
    {
     "name": "stdout",
     "output_type": "stream",
     "text": [
      "['Barney Stinson 72', 'Robin Scherbatsky 68', 'Ted Mosby 72', 'Lily Aldrin 66', 'Marshall Eriksen 76']\n"
     ]
    }
   ],
   "source": [
    "'''\n",
    "Use enumerate to modify the cast list so that each element contains the name followed by the character's corresponding\n",
    "height.\n",
    "For example, the first element of cast should change from \"Barney Stinson\" to \"Barney Stinson 72\".\n",
    "'''\n",
    "\n",
    "cast = [\"Barney Stinson\", \"Robin Scherbatsky\", \"Ted Mosby\", \"Lily Aldrin\", \"Marshall Eriksen\"]\n",
    "heights = [72, 68, 72, 66, 76]\n",
    "\n",
    "for i, name in enumerate(cast):   #  height,name zip(cast,heights)   str(height)\n",
    "    cast[i] = name + \" \" + str(heights[i])\n",
    "print(cast)"
   ]
  },
  {
   "cell_type": "code",
   "execution_count": 192,
   "metadata": {},
   "outputs": [
    {
     "data": {
      "text/plain": [
       "[1, 4, 9]"
      ]
     },
     "execution_count": 192,
     "metadata": {},
     "output_type": "execute_result"
    }
   ],
   "source": [
    "list(map(lambda x: x*x, [1,2,3]))"
   ]
  },
  {
   "cell_type": "code",
   "execution_count": 195,
   "metadata": {},
   "outputs": [
    {
     "data": {
      "text/plain": [
       "[3, 9, 15]"
      ]
     },
     "execution_count": 195,
     "metadata": {},
     "output_type": "execute_result"
    }
   ],
   "source": [
    "def complexstuff(x):\n",
    "    return (x*5 -3 ) + x\n",
    "\n",
    "list(map(lambda x: complexstuff(x), [1,2,3]))"
   ]
  },
  {
   "cell_type": "code",
   "execution_count": 201,
   "metadata": {},
   "outputs": [
    {
     "data": {
      "text/plain": [
       "-60"
      ]
     },
     "execution_count": 201,
     "metadata": {},
     "output_type": "execute_result"
    }
   ],
   "source": [
    "import functools \n",
    "def complexstuff(x, y):\n",
    "    return x * y\n",
    "\n",
    "functools.reduce(lambda x,y: complexstuff(x,y), [-1,2,3,10])"
   ]
  },
  {
   "cell_type": "code",
   "execution_count": null,
   "metadata": {},
   "outputs": [],
   "source": [
    "Notice that we can still access the value of the global variable word within this function.\n",
    "However, the value of a global variable can not be modified inside the function.\n",
    "If you want to modify that variables value inside this function,\n",
    "it should be passed in as an argument.\n",
    "\n"
   ]
  },
  {
   "cell_type": "code",
   "execution_count": 246,
   "metadata": {},
   "outputs": [
    {
     "name": "stdout",
     "output_type": "stream",
     "text": [
      "hello\n"
     ]
    }
   ],
   "source": [
    "word = \"hello\"\n",
    "\n",
    "def some_function():\n",
    "    print(word)\n",
    "\n",
    "some_function()"
   ]
  },
  {
   "cell_type": "code",
   "execution_count": null,
   "metadata": {},
   "outputs": [],
   "source": [
    "Below code causes an UnboundLocalError, because the variable egg_count in the first line has global scope.\n",
    "Note that it is not passed as an argument into the function,\n",
    "so the function assumes the egg_count being referred to is the global variable.\n"
   ]
  },
  {
   "cell_type": "code",
   "execution_count": 248,
   "metadata": {},
   "outputs": [],
   "source": [
    "egg_count = 0\n",
    "\n",
    "def buy_eggs():\n",
    "    egg_count += 12 # can not modify global variable, have to pass it through argument, then with return assign it\n",
    "    \n",
    "buy_eggs()   # error local variable 'egg_count' referenced before assignment"
   ]
  },
  {
   "cell_type": "code",
   "execution_count": null,
   "metadata": {},
   "outputs": [],
   "source": [
    "Good practice: It is best to define variables in the smallest scope they will be needed in."
   ]
  },
  {
   "cell_type": "code",
   "execution_count": 249,
   "metadata": {},
   "outputs": [
    {
     "name": "stdout",
     "output_type": "stream",
     "text": [
      "12\n"
     ]
    }
   ],
   "source": [
    "egg_count = 0\n",
    "\n",
    "def buy_eggs(count):\n",
    "    return count + 12  # purchase a dozen eggs\n",
    "\n",
    "egg_count = buy_eggs(egg_count)\n",
    "print(egg_count)"
   ]
  },
  {
   "cell_type": "markdown",
   "metadata": {},
   "source": [
    "## List comprehension"
   ]
  },
  {
   "cell_type": "code",
   "execution_count": null,
   "metadata": {},
   "outputs": [],
   "source": [
    "squares = [x**2 for x in range(9) if x % 2 == 0]  # no else, if comes at the end\n",
    "squares = [x**2 if x % 2 == 0 else x + 3 for x in range(9)]  # if have else, both come at the beginning"
   ]
  },
  {
   "cell_type": "code",
   "execution_count": 202,
   "metadata": {},
   "outputs": [
    {
     "name": "stdout",
     "output_type": "stream",
     "text": [
      "['rick', 'morty', 'summer', 'jerry', 'beth']\n"
     ]
    }
   ],
   "source": [
    "names = [\"Rick Sanchez\", \"Morty Smith\", \"Summer Smith\", \"Jerry Smith\", \"Beth Smith\"]\n",
    "\n",
    "# lower case just first name\n",
    "lower_name = [name.split()[0].lower() for name in names]\n",
    "print(lower_name)"
   ]
  },
  {
   "cell_type": "code",
   "execution_count": 204,
   "metadata": {},
   "outputs": [],
   "source": [
    "# Use a list comprehension to create a list multiples_3 containing the first 20 multiples of 3.\n",
    "\n",
    "multiples_3 = [i for i in range(100) if (i%3 == 0)]"
   ]
  },
  {
   "cell_type": "code",
   "execution_count": 207,
   "metadata": {},
   "outputs": [],
   "source": [
    "#multiples_3"
   ]
  },
  {
   "cell_type": "code",
   "execution_count": 206,
   "metadata": {},
   "outputs": [
    {
     "name": "stdout",
     "output_type": "stream",
     "text": [
      "[3, 6, 9, 12, 15, 18, 21, 24, 27, 30, 33, 36, 39, 42, 45, 48, 51, 54, 57, 60]\n"
     ]
    }
   ],
   "source": [
    "multiples_3 = [x * 3 for x in range(1, 21)]\n",
    "print(multiples_3)"
   ]
  },
  {
   "cell_type": "code",
   "execution_count": 209,
   "metadata": {},
   "outputs": [
    {
     "data": {
      "text/plain": [
       "['Rick', 'Summer', 'Beth']"
      ]
     },
     "execution_count": 209,
     "metadata": {},
     "output_type": "execute_result"
    }
   ],
   "source": [
    "scores = {\n",
    "             \"Rick Sanchez\": 70,\n",
    "             \"Morty Smith\": 35,\n",
    "             \"Summer Smith\": 82,\n",
    "             \"Jerry Smith\": 23,\n",
    "             \"Beth Smith\": 98\n",
    "          }\n",
    "\n",
    "score_65 = [name.split()[0] for name, age in scores.items() if age >= 65]\n",
    "score_65"
   ]
  },
  {
   "cell_type": "markdown",
   "metadata": {},
   "source": [
    "## Generators"
   ]
  },
  {
   "cell_type": "code",
   "execution_count": null,
   "metadata": {},
   "outputs": [],
   "source": [
    "Iterables are objects that can return one of their elements at a time, such as a list.\n",
    "Many of the built-in functions we’ve used so far, like 'enumerate,' return an iterator.\n",
    "\n",
    "An iterator is an object that represents a stream of data. This is different from a list,\n",
    "which is also an iterable, but is not an iterator because it is not a stream of data.\n",
    "\n",
    "Generators are a simple way to create iterators using functions.\n",
    "You can also define iterators using classes, which you can read more about here."
   ]
  },
  {
   "cell_type": "code",
   "execution_count": null,
   "metadata": {},
   "outputs": [],
   "source": [
    "yield the function to return values one at a time, and start where it left off each time it’s called.\n",
    "This yield keyword is what differentiates a generator from a typical function."
   ]
  },
  {
   "cell_type": "code",
   "execution_count": null,
   "metadata": {},
   "outputs": [],
   "source": [
    "Generators are a lazy way to build iterables.\n",
    "They are useful when the fully realized list would not fit in memory,\n",
    "or when the cost to calculate each list element is high and you want to do it as late as possible.\n",
    "But they can only be iterated over once."
   ]
  },
  {
   "cell_type": "code",
   "execution_count": 212,
   "metadata": {},
   "outputs": [
    {
     "name": "stdout",
     "output_type": "stream",
     "text": [
      "0\n",
      "1\n",
      "2\n",
      "3\n",
      "4\n",
      "5\n",
      "6\n",
      "7\n",
      "8\n",
      "9\n"
     ]
    }
   ],
   "source": [
    "def my_range(x):\n",
    "    i = 0\n",
    "    while i < x:\n",
    "        yield i\n",
    "        i += 1\n",
    "        \n",
    "for i in my_range(10):\n",
    "    print(i)"
   ]
  },
  {
   "cell_type": "code",
   "execution_count": 216,
   "metadata": {},
   "outputs": [
    {
     "name": "stdout",
     "output_type": "stream",
     "text": [
      "0\n",
      "1\n",
      "2\n",
      "3\n",
      "4\n"
     ]
    }
   ],
   "source": [
    "range(10) #iterator\n",
    "for i in range(5):\n",
    "    print(i)"
   ]
  },
  {
   "cell_type": "code",
   "execution_count": 214,
   "metadata": {},
   "outputs": [
    {
     "name": "stdout",
     "output_type": "stream",
     "text": [
      "Lesson 0: Why Python Programming\n",
      "Lesson 1: Data Types and Operators\n",
      "Lesson 2: Control Flow\n",
      "Lesson 3: Functions\n"
     ]
    }
   ],
   "source": [
    "lessons = [\"Why Python Programming\", \"Data Types and Operators\", \"Control Flow\", \"Functions\", \"Scripting\"]\n",
    "\n",
    "def my_enumerate(list_, max_count):\n",
    "    i = 0\n",
    "    while (i < max_count):\n",
    "        yield i, list_[i]\n",
    "        i += 1\n",
    "        \n",
    "\n",
    "for i, lesson in my_enumerate(lessons, 4):\n",
    "    print(\"Lesson {}: {}\".format(i, lesson))"
   ]
  },
  {
   "cell_type": "code",
   "execution_count": 217,
   "metadata": {},
   "outputs": [
    {
     "data": {
      "text/plain": [
       "<generator object my_enumerate at 0x000001DE774C5B48>"
      ]
     },
     "execution_count": 217,
     "metadata": {},
     "output_type": "execute_result"
    }
   ],
   "source": [
    "my_enumerate(lessons, 4)  #object without a for loop"
   ]
  },
  {
   "cell_type": "code",
   "execution_count": 538,
   "metadata": {},
   "outputs": [
    {
     "data": {
      "text/plain": [
       "range(0, 5)"
      ]
     },
     "execution_count": 538,
     "metadata": {},
     "output_type": "execute_result"
    }
   ],
   "source": [
    "range(5)"
   ]
  },
  {
   "cell_type": "code",
   "execution_count": null,
   "metadata": {},
   "outputs": [],
   "source": [
    "If you have an iterable that is too large to fit in memory in full\n",
    "(e.g., when dealing with large files), being able to take and use chunks of it at a time can be very valuable.\n",
    "\n",
    "Implement a generator function, chunker, that takes in an iterable and yields a chunk of a specified size at a time."
   ]
  },
  {
   "cell_type": "code",
   "execution_count": 235,
   "metadata": {},
   "outputs": [
    {
     "data": {
      "text/plain": [
       "range(0, 25)"
      ]
     },
     "execution_count": 235,
     "metadata": {},
     "output_type": "execute_result"
    }
   ],
   "source": [
    "range(25)"
   ]
  },
  {
   "cell_type": "code",
   "execution_count": 237,
   "metadata": {},
   "outputs": [
    {
     "data": {
      "text/plain": [
       "25"
      ]
     },
     "execution_count": 237,
     "metadata": {},
     "output_type": "execute_result"
    }
   ],
   "source": [
    "len(range(25))"
   ]
  },
  {
   "cell_type": "code",
   "execution_count": 238,
   "metadata": {},
   "outputs": [
    {
     "data": {
      "text/plain": [
       "range(0, 5)"
      ]
     },
     "execution_count": 238,
     "metadata": {},
     "output_type": "execute_result"
    }
   ],
   "source": [
    "range(25)[0:5]"
   ]
  },
  {
   "cell_type": "code",
   "execution_count": 240,
   "metadata": {},
   "outputs": [
    {
     "data": {
      "text/plain": [
       "[0, 1, 2, 3, 4]"
      ]
     },
     "execution_count": 240,
     "metadata": {},
     "output_type": "execute_result"
    }
   ],
   "source": [
    "list(range(25)[0:5])"
   ]
  },
  {
   "cell_type": "code",
   "execution_count": 242,
   "metadata": {},
   "outputs": [
    {
     "data": {
      "text/plain": [
       "[0, 1, 2, 3, 4, 5, 6, 7, 8, 9]"
      ]
     },
     "execution_count": 242,
     "metadata": {},
     "output_type": "execute_result"
    }
   ],
   "source": [
    "list(range(10))"
   ]
  },
  {
   "cell_type": "code",
   "execution_count": 231,
   "metadata": {},
   "outputs": [],
   "source": [
    "def chunker(iterable, count):\n",
    "    start = 0\n",
    "    end = start + count\n",
    "    for i in range(0, len(iterable), count):\n",
    "        yield iterable[i: i + count]\n",
    "   "
   ]
  },
  {
   "cell_type": "code",
   "execution_count": 232,
   "metadata": {},
   "outputs": [
    {
     "name": "stdout",
     "output_type": "stream",
     "text": [
      "[0, 1, 2, 3]\n",
      "[4, 5, 6, 7]\n",
      "[8, 9, 10, 11]\n",
      "[12, 13, 14, 15]\n",
      "[16, 17, 18, 19]\n",
      "[20, 21, 22, 23]\n",
      "[24]\n"
     ]
    }
   ],
   "source": [
    "for chunk in chunker(range(25), 4):\n",
    "    print(list(chunk))"
   ]
  },
  {
   "cell_type": "code",
   "execution_count": 243,
   "metadata": {},
   "outputs": [
    {
     "data": {
      "text/plain": [
       "[0, 1, 4, 9, 16, 25, 36, 49, 64, 81]"
      ]
     },
     "execution_count": 243,
     "metadata": {},
     "output_type": "execute_result"
    }
   ],
   "source": [
    "sq_list = [x**2 for x in range(10)]   # list comprehension\n",
    "sq_list"
   ]
  },
  {
   "cell_type": "markdown",
   "metadata": {},
   "source": [
    "### Generator comprehension"
   ]
  },
  {
   "cell_type": "code",
   "execution_count": 244,
   "metadata": {},
   "outputs": [
    {
     "data": {
      "text/plain": [
       "<generator object <genexpr> at 0x000001DE77F7C938>"
      ]
     },
     "execution_count": 244,
     "metadata": {},
     "output_type": "execute_result"
    }
   ],
   "source": [
    "sq_iterator = (x**2 for x in range(10)) \n",
    "# iterator comprehension [x**2] list comprehen, {x**2} set comprehe, {x:x**2} dict compre, (x**2) generator\n",
    "sq_iterator"
   ]
  },
  {
   "cell_type": "code",
   "execution_count": 245,
   "metadata": {},
   "outputs": [
    {
     "name": "stdout",
     "output_type": "stream",
     "text": [
      "0\n",
      "1\n",
      "4\n",
      "9\n",
      "16\n",
      "25\n",
      "36\n",
      "49\n",
      "64\n",
      "81\n"
     ]
    }
   ],
   "source": [
    "for i in sq_iterator:\n",
    "    print(i)"
   ]
  },
  {
   "cell_type": "markdown",
   "metadata": {},
   "source": [
    "## Python modules"
   ]
  },
  {
   "cell_type": "code",
   "execution_count": null,
   "metadata": {},
   "outputs": [],
   "source": [
    "csv: very convenient for reading and writing csv files\n",
    "collections: useful extensions of the usual data types including OrderedDict, defaultdict and namedtuple\n",
    "random: generates pseudo-random numbers, shuffles sequences randomly and chooses random items\n",
    "string: more functions on strings. This module also contains useful collections of letters like string.digits (a string containing all characters which are valid digits).\n",
    "re: pattern-matching in strings via regular expressions\n",
    "math: some standard mathematical functions\n",
    "os: interacting with operating systems\n",
    "os.path: submodule of os for manipulating path names\n",
    "sys: work directly with the Python interpreter\n",
    "json: good for reading and writing json files (good for web work)"
   ]
  },
  {
   "cell_type": "code",
   "execution_count": 250,
   "metadata": {},
   "outputs": [
    {
     "data": {
      "text/plain": [
       "20.085536923187668"
      ]
     },
     "execution_count": 250,
     "metadata": {},
     "output_type": "execute_result"
    }
   ],
   "source": [
    "import math\n",
    "math.exp(3)"
   ]
  },
  {
   "cell_type": "code",
   "execution_count": null,
   "metadata": {},
   "outputs": [],
   "source": [
    "Write a function called generate_password that selects three random words from the list of words word_list and concatenates\n",
    "them into a single string. \n",
    "Your function should not accept any arguments and should reference the global variable word_list to build the password."
   ]
  },
  {
   "cell_type": "code",
   "execution_count": 543,
   "metadata": {},
   "outputs": [
    {
     "data": {
      "text/plain": [
       "'sldkjf'"
      ]
     },
     "execution_count": 543,
     "metadata": {},
     "output_type": "execute_result"
    }
   ],
   "source": [
    "import random\n",
    "word_list = ['qwer', 'sldkjf', 'sdfhj', 'kjf5', 'xdrfj']\n",
    "\n",
    "random.choice(word_list)"
   ]
  },
  {
   "cell_type": "code",
   "execution_count": 257,
   "metadata": {},
   "outputs": [
    {
     "data": {
      "text/plain": [
       "0.5725959617579202"
      ]
     },
     "execution_count": 257,
     "metadata": {},
     "output_type": "execute_result"
    }
   ],
   "source": [
    "random.random()   # [0,1)"
   ]
  },
  {
   "cell_type": "code",
   "execution_count": 260,
   "metadata": {},
   "outputs": [
    {
     "data": {
      "text/plain": [
       "'sldkjf'"
      ]
     },
     "execution_count": 260,
     "metadata": {},
     "output_type": "execute_result"
    }
   ],
   "source": [
    "random.choice(word_list)     #seq"
   ]
  },
  {
   "cell_type": "code",
   "execution_count": 261,
   "metadata": {},
   "outputs": [
    {
     "data": {
      "text/plain": [
       "['kjf5', 'qwer', 'sdfhj']"
      ]
     },
     "execution_count": 261,
     "metadata": {},
     "output_type": "execute_result"
    }
   ],
   "source": [
    "random.sample(word_list, 3)"
   ]
  },
  {
   "cell_type": "code",
   "execution_count": null,
   "metadata": {},
   "outputs": [],
   "source": [
    "word_list = ['qwer', 'sldkjf', 'sdfhj', 'kjf5', 'xdrfj']\n",
    "def generate_password():\n",
    "    return random.choice(word_list) + random.choice(word_list) + random.choice(word_list)"
   ]
  },
  {
   "cell_type": "code",
   "execution_count": 267,
   "metadata": {},
   "outputs": [],
   "source": [
    "x = np.array([87029, 113407, 84843, 104994, 99327, 92052, 60684])"
   ]
  },
  {
   "cell_type": "code",
   "execution_count": 277,
   "metadata": {},
   "outputs": [
    {
     "data": {
      "text/plain": [
       "5953.940741700838"
      ]
     },
     "execution_count": 277,
     "metadata": {},
     "output_type": "execute_result"
    }
   ],
   "source": [
    "np.std(x)/np.sqrt(7)"
   ]
  },
  {
   "cell_type": "code",
   "execution_count": 278,
   "metadata": {},
   "outputs": [
    {
     "data": {
      "text/plain": [
       "(80092.56186055207, 103432.00956801935)"
      ]
     },
     "execution_count": 278,
     "metadata": {},
     "output_type": "execute_result"
    }
   ],
   "source": [
    "(np.mean(x)- np.std(x) *1.96/np.sqrt(7), np.mean(x)+ np.std(x) *1.96/np.sqrt(7))"
   ]
  },
  {
   "cell_type": "code",
   "execution_count": 280,
   "metadata": {},
   "outputs": [
    {
     "data": {
      "text/plain": [
       "(79157.54332794026, 104367.02810063116)"
      ]
     },
     "execution_count": 280,
     "metadata": {},
     "output_type": "execute_result"
    }
   ],
   "source": [
    "(np.mean(x)- 6430.991013441551 *1.96, np.mean(x)+ 6430.991013441551*1.96)"
   ]
  },
  {
   "cell_type": "code",
   "execution_count": 279,
   "metadata": {},
   "outputs": [
    {
     "data": {
      "text/plain": [
       "6430.991013441551"
      ]
     },
     "execution_count": 279,
     "metadata": {},
     "output_type": "execute_result"
    }
   ],
   "source": [
    "np.std(x)/np.sqrt(7-1)"
   ]
  },
  {
   "cell_type": "code",
   "execution_count": 284,
   "metadata": {},
   "outputs": [],
   "source": [
    "Xs_cont = [196, 200, 200, 216, 212, 185, 225, 187, 205, 211, 192, 196, 223, 192]\n",
    "Ns_cont = [2029, 1991, 1951, 1985, 1973, 2021, 2041, 1980, 1951, 1988, 1977, 2019, 2035, 2007]\n",
    "Xs_exp = [179, 208, 205, 175, 191, 291, 278, 216, 225, 207, 205, 200, 297, 299]\n",
    "Ns_exp = [1971, 2009, 2049, 2015, 2027, 1979, 1959, 2020, 2049, 2012, 2023, 1981, 1965, 1993]\n"
   ]
  },
  {
   "cell_type": "code",
   "execution_count": 289,
   "metadata": {},
   "outputs": [],
   "source": [
    "sum_x_c = sum(Xs_cont)\n",
    "sum_n_c = sum(Ns_cont)\n",
    "sum_x_e = sum(Xs_exp)\n",
    "sum_n_e = sum(Ns_exp)\n",
    "\n",
    "p_c = sum_x_c/sum_n_c\n",
    "p_e = sum_x_e/sum_n_e"
   ]
  },
  {
   "cell_type": "code",
   "execution_count": 293,
   "metadata": {},
   "outputs": [],
   "source": [
    "se_emp_5000 = 0.0062\n",
    "se_emp_current = se_emp_5000 * ((1.0/sum_n_c) + (1.0/sum_n_e))**0.5 / ((1.0/5000.0) + (1.0/5000))**0.5"
   ]
  },
  {
   "cell_type": "code",
   "execution_count": 294,
   "metadata": {},
   "outputs": [
    {
     "data": {
      "text/plain": [
       "0.002619982707795742"
      ]
     },
     "execution_count": 294,
     "metadata": {},
     "output_type": "execute_result"
    }
   ],
   "source": [
    "se_emp_current"
   ]
  },
  {
   "cell_type": "code",
   "execution_count": 298,
   "metadata": {},
   "outputs": [
    {
     "data": {
      "text/plain": [
       "3176"
      ]
     },
     "execution_count": 298,
     "metadata": {},
     "output_type": "execute_result"
    }
   ],
   "source": [
    "sum_x_e"
   ]
  },
  {
   "cell_type": "code",
   "execution_count": 299,
   "metadata": {},
   "outputs": [
    {
     "data": {
      "text/plain": [
       "-0.011601019603516588"
      ]
     },
     "execution_count": 299,
     "metadata": {},
     "output_type": "execute_result"
    }
   ],
   "source": [
    "p_c - p_e"
   ]
  },
  {
   "cell_type": "code",
   "execution_count": 303,
   "metadata": {},
   "outputs": [],
   "source": [
    "ctr_c = np.array(Xs_cont)/np.array(Ns_cont)"
   ]
  },
  {
   "cell_type": "code",
   "execution_count": 302,
   "metadata": {},
   "outputs": [],
   "source": [
    "ctr_e = np.array(Xs_exp)/np.array(Ns_exp)"
   ]
  },
  {
   "cell_type": "code",
   "execution_count": 304,
   "metadata": {},
   "outputs": [
    {
     "data": {
      "text/plain": [
       "array([-0.00578247,  0.00308206, -0.00246273, -0.02196749, -0.01322266,\n",
       "        0.05550512,  0.03166906,  0.01248625,  0.00473534, -0.00325412,\n",
       "        0.00421781,  0.00388135,  0.04156273,  0.05435992])"
      ]
     },
     "execution_count": 304,
     "metadata": {},
     "output_type": "execute_result"
    }
   ],
   "source": [
    "ctr_e - ctr_c"
   ]
  },
  {
   "cell_type": "markdown",
   "metadata": {},
   "source": [
    "## Numpy"
   ]
  },
  {
   "cell_type": "code",
   "execution_count": 2,
   "metadata": {},
   "outputs": [],
   "source": [
    "x = np.array([1,2,3,4,5])\n"
   ]
  },
  {
   "cell_type": "code",
   "execution_count": 3,
   "metadata": {},
   "outputs": [],
   "source": [
    "np.save('my_sample_array',x)"
   ]
  },
  {
   "cell_type": "code",
   "execution_count": 4,
   "metadata": {},
   "outputs": [
    {
     "data": {
      "text/plain": [
       "array([1, 2, 3, 4, 5])"
      ]
     },
     "execution_count": 4,
     "metadata": {},
     "output_type": "execute_result"
    }
   ],
   "source": [
    "np.load('my_sample_array.npy')"
   ]
  },
  {
   "cell_type": "code",
   "execution_count": 5,
   "metadata": {},
   "outputs": [
    {
     "data": {
      "text/plain": [
       "numpy.ndarray"
      ]
     },
     "execution_count": 5,
     "metadata": {},
     "output_type": "execute_result"
    }
   ],
   "source": [
    "type(x)"
   ]
  },
  {
   "cell_type": "code",
   "execution_count": 9,
   "metadata": {},
   "outputs": [
    {
     "data": {
      "text/plain": [
       "dtype('int32')"
      ]
     },
     "execution_count": 9,
     "metadata": {},
     "output_type": "execute_result"
    }
   ],
   "source": [
    "x.dtype"
   ]
  },
  {
   "cell_type": "code",
   "execution_count": 10,
   "metadata": {},
   "outputs": [],
   "source": [
    "x = np.array([1.5, 2.2, 3.7, 4.0, 5.9], dtype = np.int64)"
   ]
  },
  {
   "cell_type": "code",
   "execution_count": 11,
   "metadata": {},
   "outputs": [
    {
     "data": {
      "text/plain": [
       "array([1, 2, 3, 4, 5], dtype=int64)"
      ]
     },
     "execution_count": 11,
     "metadata": {},
     "output_type": "execute_result"
    }
   ],
   "source": [
    "x"
   ]
  },
  {
   "cell_type": "code",
   "execution_count": 14,
   "metadata": {},
   "outputs": [],
   "source": [
    "x = np.array([1, 2, 3, 4, 5], dtype = np.float64)"
   ]
  },
  {
   "cell_type": "code",
   "execution_count": 15,
   "metadata": {},
   "outputs": [
    {
     "data": {
      "text/plain": [
       "array([1., 2., 3., 4., 5.])"
      ]
     },
     "execution_count": 15,
     "metadata": {},
     "output_type": "execute_result"
    }
   ],
   "source": [
    "x"
   ]
  },
  {
   "cell_type": "code",
   "execution_count": 19,
   "metadata": {},
   "outputs": [
    {
     "data": {
      "text/plain": [
       "dtype('float64')"
      ]
     },
     "execution_count": 19,
     "metadata": {},
     "output_type": "execute_result"
    }
   ],
   "source": [
    "x.dtype"
   ]
  },
  {
   "cell_type": "code",
   "execution_count": 22,
   "metadata": {},
   "outputs": [
    {
     "data": {
      "text/plain": [
       "[1, 2, 3, 4, 5]"
      ]
     },
     "execution_count": 22,
     "metadata": {},
     "output_type": "execute_result"
    }
   ],
   "source": [
    "list(map(lambda xx:int(xx), x))"
   ]
  },
  {
   "cell_type": "code",
   "execution_count": 23,
   "metadata": {},
   "outputs": [
    {
     "data": {
      "text/plain": [
       "array([1., 2., 3., 4., 5.])"
      ]
     },
     "execution_count": 23,
     "metadata": {},
     "output_type": "execute_result"
    }
   ],
   "source": [
    "x"
   ]
  },
  {
   "cell_type": "code",
   "execution_count": 24,
   "metadata": {},
   "outputs": [],
   "source": [
    "y = np.array(x, dtype=np.int64)"
   ]
  },
  {
   "cell_type": "code",
   "execution_count": 25,
   "metadata": {},
   "outputs": [
    {
     "data": {
      "text/plain": [
       "array([1, 2, 3, 4, 5], dtype=int64)"
      ]
     },
     "execution_count": 25,
     "metadata": {},
     "output_type": "execute_result"
    }
   ],
   "source": [
    "y"
   ]
  },
  {
   "cell_type": "code",
   "execution_count": 41,
   "metadata": {},
   "outputs": [
    {
     "data": {
      "text/plain": [
       "array([[1, 0, 0],\n",
       "       [0, 1, 0],\n",
       "       [0, 0, 1]], dtype=int16)"
      ]
     },
     "execution_count": 41,
     "metadata": {},
     "output_type": "execute_result"
    }
   ],
   "source": [
    "np.identity(3, dtype=np.int16)"
   ]
  },
  {
   "cell_type": "code",
   "execution_count": 33,
   "metadata": {},
   "outputs": [],
   "source": [
    "a = np.array([5], dtype=np.int32)"
   ]
  },
  {
   "cell_type": "code",
   "execution_count": 39,
   "metadata": {},
   "outputs": [],
   "source": [
    "a[0] = 2**31 -1"
   ]
  },
  {
   "cell_type": "code",
   "execution_count": 40,
   "metadata": {},
   "outputs": [
    {
     "data": {
      "text/plain": [
       "array([2147483647])"
      ]
     },
     "execution_count": 40,
     "metadata": {},
     "output_type": "execute_result"
    }
   ],
   "source": [
    "a"
   ]
  },
  {
   "cell_type": "code",
   "execution_count": 42,
   "metadata": {},
   "outputs": [
    {
     "data": {
      "text/plain": [
       "array([[1.5, 1.5],\n",
       "       [1.5, 1.5],\n",
       "       [1.5, 1.5]])"
      ]
     },
     "execution_count": 42,
     "metadata": {},
     "output_type": "execute_result"
    }
   ],
   "source": [
    "np.full((3,2), 1.5)"
   ]
  },
  {
   "cell_type": "code",
   "execution_count": 44,
   "metadata": {},
   "outputs": [
    {
     "data": {
      "text/plain": [
       "array([[1, 0, 0, 0, 0],\n",
       "       [0, 1, 0, 0, 0],\n",
       "       [0, 0, 1, 0, 0],\n",
       "       [0, 0, 0, 1, 0],\n",
       "       [0, 0, 0, 0, 1]])"
      ]
     },
     "execution_count": 44,
     "metadata": {},
     "output_type": "execute_result"
    }
   ],
   "source": [
    "np.eye(5, dtype =np.int32)"
   ]
  },
  {
   "cell_type": "code",
   "execution_count": 45,
   "metadata": {},
   "outputs": [
    {
     "data": {
      "text/plain": [
       "array([[2, 0, 0],\n",
       "       [0, 3, 0],\n",
       "       [0, 0, 4]])"
      ]
     },
     "execution_count": 45,
     "metadata": {},
     "output_type": "execute_result"
    }
   ],
   "source": [
    "np.diag([2,3,4])"
   ]
  },
  {
   "cell_type": "code",
   "execution_count": 46,
   "metadata": {},
   "outputs": [
    {
     "data": {
      "text/plain": [
       "array([0, 1, 2, 3, 4])"
      ]
     },
     "execution_count": 46,
     "metadata": {},
     "output_type": "execute_result"
    }
   ],
   "source": [
    "np.arange(5)   #int only"
   ]
  },
  {
   "cell_type": "code",
   "execution_count": 47,
   "metadata": {},
   "outputs": [
    {
     "data": {
      "text/plain": [
       "array([3, 4, 5, 6, 7, 8, 9])"
      ]
     },
     "execution_count": 47,
     "metadata": {},
     "output_type": "execute_result"
    }
   ],
   "source": [
    "np.arange(3,10)"
   ]
  },
  {
   "cell_type": "code",
   "execution_count": 48,
   "metadata": {},
   "outputs": [
    {
     "data": {
      "text/plain": [
       "array([ 3,  5,  7,  9, 11])"
      ]
     },
     "execution_count": 48,
     "metadata": {},
     "output_type": "execute_result"
    }
   ],
   "source": [
    "np.arange(3,12,2)"
   ]
  },
  {
   "cell_type": "code",
   "execution_count": 50,
   "metadata": {},
   "outputs": [
    {
     "data": {
      "text/plain": [
       "[3, 5, 7, 9]"
      ]
     },
     "execution_count": 50,
     "metadata": {},
     "output_type": "execute_result"
    }
   ],
   "source": [
    "list(range(3,10,2)) # start, finish, spacing"
   ]
  },
  {
   "cell_type": "code",
   "execution_count": 54,
   "metadata": {},
   "outputs": [
    {
     "data": {
      "text/plain": [
       "array([0.1       , 0.42222222, 0.74444444, 1.06666667, 1.38888889,\n",
       "       1.71111111, 2.03333333, 2.35555556, 2.67777778, 3.        ])"
      ]
     },
     "execution_count": 54,
     "metadata": {},
     "output_type": "execute_result"
    }
   ],
   "source": [
    "np.linspace(0.1, 3.0, 10, dtype=np.float64)  # start, finish, count  # endpoint default inclusive"
   ]
  },
  {
   "cell_type": "code",
   "execution_count": 55,
   "metadata": {},
   "outputs": [
    {
     "data": {
      "text/plain": [
       "array([0.1 , 0.39, 0.68, 0.97, 1.26, 1.55, 1.84, 2.13, 2.42, 2.71])"
      ]
     },
     "execution_count": 55,
     "metadata": {},
     "output_type": "execute_result"
    }
   ],
   "source": [
    "np.linspace(0.1, 3.0, 10, dtype=np.float64, endpoint=False) "
   ]
  },
  {
   "cell_type": "code",
   "execution_count": 56,
   "metadata": {},
   "outputs": [],
   "source": [
    "xx = np.linspace(0.5, 2.5, 10)"
   ]
  },
  {
   "cell_type": "code",
   "execution_count": 57,
   "metadata": {},
   "outputs": [
    {
     "data": {
      "text/plain": [
       "array([0.5       , 0.72222222, 0.94444444, 1.16666667, 1.38888889,\n",
       "       1.61111111, 1.83333333, 2.05555556, 2.27777778, 2.5       ])"
      ]
     },
     "execution_count": 57,
     "metadata": {},
     "output_type": "execute_result"
    }
   ],
   "source": [
    "xx"
   ]
  },
  {
   "cell_type": "code",
   "execution_count": 58,
   "metadata": {},
   "outputs": [
    {
     "data": {
      "text/plain": [
       "array([[0.5       , 0.72222222, 0.94444444, 1.16666667, 1.38888889],\n",
       "       [1.61111111, 1.83333333, 2.05555556, 2.27777778, 2.5       ]])"
      ]
     },
     "execution_count": 58,
     "metadata": {},
     "output_type": "execute_result"
    }
   ],
   "source": [
    "xx.reshape(2,5)"
   ]
  },
  {
   "cell_type": "code",
   "execution_count": 59,
   "metadata": {},
   "outputs": [
    {
     "data": {
      "text/plain": [
       "array([[0.5       , 0.72222222],\n",
       "       [0.94444444, 1.16666667],\n",
       "       [1.38888889, 1.61111111],\n",
       "       [1.83333333, 2.05555556],\n",
       "       [2.27777778, 2.5       ]])"
      ]
     },
     "execution_count": 59,
     "metadata": {},
     "output_type": "execute_result"
    }
   ],
   "source": [
    "np.linspace(0.5, 2.5, 10).reshape(5,2)"
   ]
  },
  {
   "cell_type": "code",
   "execution_count": 60,
   "metadata": {},
   "outputs": [
    {
     "data": {
      "text/plain": [
       "array([[0.62566978, 0.25720294],\n",
       "       [0.78379894, 0.64746405],\n",
       "       [0.69140356, 0.27475423],\n",
       "       [0.76427581, 0.38130864],\n",
       "       [0.2198819 , 0.00452049]])"
      ]
     },
     "execution_count": 60,
     "metadata": {},
     "output_type": "execute_result"
    }
   ],
   "source": [
    "np.random.random((5,2)) #[0.1)"
   ]
  },
  {
   "cell_type": "code",
   "execution_count": 62,
   "metadata": {},
   "outputs": [
    {
     "data": {
      "text/plain": [
       "array([[12,  2,  5],\n",
       "       [ 7,  6,  9],\n",
       "       [ 6,  8, 12]])"
      ]
     },
     "execution_count": 62,
     "metadata": {},
     "output_type": "execute_result"
    }
   ],
   "source": [
    "np.random.randint(2,15,(3,3))  # start, finish, shape"
   ]
  },
  {
   "cell_type": "code",
   "execution_count": 63,
   "metadata": {},
   "outputs": [],
   "source": [
    "a = np.random.randint(2,15,(3,3))  # start, finish, shape"
   ]
  },
  {
   "cell_type": "code",
   "execution_count": 65,
   "metadata": {},
   "outputs": [
    {
     "data": {
      "text/plain": [
       "(3, 3)"
      ]
     },
     "execution_count": 65,
     "metadata": {},
     "output_type": "execute_result"
    }
   ],
   "source": [
    "a.shape"
   ]
  },
  {
   "cell_type": "code",
   "execution_count": 66,
   "metadata": {},
   "outputs": [
    {
     "data": {
      "text/plain": [
       "9"
      ]
     },
     "execution_count": 66,
     "metadata": {},
     "output_type": "execute_result"
    }
   ],
   "source": [
    "a.size"
   ]
  },
  {
   "cell_type": "code",
   "execution_count": 14,
   "metadata": {},
   "outputs": [
    {
     "data": {
      "image/png": "[encoded data removed]",
      "text/plain": [
       "<Figure size 432x288 with 1 Axes>"
      ]
     },
     "metadata": {},
     "output_type": "display_data"
    }
   ],
   "source": [
    "plt.hist(np.random.randn(100000),bins=100);"
   ]
  },
  {
   "cell_type": "code",
   "execution_count": 2,
   "metadata": {},
   "outputs": [],
   "source": [
    "t1 = np.random.normal(0,1,100000)"
   ]
  },
  {
   "cell_type": "code",
   "execution_count": 3,
   "metadata": {},
   "outputs": [
    {
     "data": {
      "text/plain": [
       "[<matplotlib.lines.Line2D at 0x1626e15f550>]"
      ]
     },
     "execution_count": 3,
     "metadata": {},
     "output_type": "execute_result"
    },
    {
     "data": {
      "image/png": "[encoded data removed]",
      "text/plain": [
       "<Figure size 432x288 with 1 Axes>"
      ]
     },
     "metadata": {},
     "output_type": "display_data"
    }
   ],
   "source": [
    "plt.plot(t1)"
   ]
  },
  {
   "cell_type": "code",
   "execution_count": 7,
   "metadata": {},
   "outputs": [
    {
     "data": {
      "image/png": "[encoded data removed]",
      "text/plain": [
       "<Figure size 432x288 with 1 Axes>"
      ]
     },
     "metadata": {},
     "output_type": "display_data"
    }
   ],
   "source": [
    "plt.hist(t1, bins=100);"
   ]
  },
  {
   "cell_type": "code",
   "execution_count": 8,
   "metadata": {},
   "outputs": [
    {
     "data": {
      "text/plain": [
       "100000"
      ]
     },
     "execution_count": 8,
     "metadata": {},
     "output_type": "execute_result"
    }
   ],
   "source": [
    "len(t1)"
   ]
  },
  {
   "cell_type": "code",
   "execution_count": 9,
   "metadata": {},
   "outputs": [
    {
     "data": {
      "text/plain": [
       "-0.0015538701484554972"
      ]
     },
     "execution_count": 9,
     "metadata": {},
     "output_type": "execute_result"
    }
   ],
   "source": [
    "t1.mean()"
   ]
  },
  {
   "cell_type": "code",
   "execution_count": 10,
   "metadata": {},
   "outputs": [
    {
     "data": {
      "text/plain": [
       "0.999719366732232"
      ]
     },
     "execution_count": 10,
     "metadata": {},
     "output_type": "execute_result"
    }
   ],
   "source": [
    "t1.std()"
   ]
  },
  {
   "cell_type": "code",
   "execution_count": 11,
   "metadata": {},
   "outputs": [
    {
     "data": {
      "text/plain": [
       "0.0007861328473758333"
      ]
     },
     "execution_count": 11,
     "metadata": {},
     "output_type": "execute_result"
    }
   ],
   "source": [
    "np.percentile(t1, 50)"
   ]
  },
  {
   "cell_type": "code",
   "execution_count": 79,
   "metadata": {},
   "outputs": [
    {
     "data": {
      "text/plain": [
       "-0.003790869977938572"
      ]
     },
     "execution_count": 79,
     "metadata": {},
     "output_type": "execute_result"
    }
   ],
   "source": [
    "np.median(t1)"
   ]
  },
  {
   "cell_type": "code",
   "execution_count": 81,
   "metadata": {},
   "outputs": [
    {
     "data": {
      "text/plain": [
       "-3.745736596263019"
      ]
     },
     "execution_count": 81,
     "metadata": {},
     "output_type": "execute_result"
    }
   ],
   "source": [
    "t1.min()"
   ]
  },
  {
   "cell_type": "code",
   "execution_count": 82,
   "metadata": {},
   "outputs": [
    {
     "data": {
      "text/plain": [
       "3.6748375397357163"
      ]
     },
     "execution_count": 82,
     "metadata": {},
     "output_type": "execute_result"
    }
   ],
   "source": [
    "t1.max()"
   ]
  },
  {
   "cell_type": "code",
   "execution_count": 84,
   "metadata": {},
   "outputs": [
    {
     "data": {
      "text/plain": [
       "4991"
      ]
     },
     "execution_count": 84,
     "metadata": {},
     "output_type": "execute_result"
    }
   ],
   "source": [
    "np.sum(t1>0)"
   ]
  },
  {
   "cell_type": "code",
   "execution_count": 85,
   "metadata": {},
   "outputs": [
    {
     "data": {
      "text/plain": [
       "5009"
      ]
     },
     "execution_count": 85,
     "metadata": {},
     "output_type": "execute_result"
    }
   ],
   "source": [
    "np.sum(t1<0)"
   ]
  },
  {
   "cell_type": "code",
   "execution_count": 86,
   "metadata": {},
   "outputs": [
    {
     "data": {
      "text/plain": [
       "0.9749"
      ]
     },
     "execution_count": 86,
     "metadata": {},
     "output_type": "execute_result"
    }
   ],
   "source": [
    "np.sum(t1<1.96)/len(t1)"
   ]
  },
  {
   "cell_type": "code",
   "execution_count": 87,
   "metadata": {},
   "outputs": [
    {
     "data": {
      "text/plain": [
       "0.5009"
      ]
     },
     "execution_count": 87,
     "metadata": {},
     "output_type": "execute_result"
    }
   ],
   "source": [
    "np.sum(t1<0)/len(t1)"
   ]
  },
  {
   "cell_type": "code",
   "execution_count": 88,
   "metadata": {},
   "outputs": [
    {
     "data": {
      "text/plain": [
       "0.8384"
      ]
     },
     "execution_count": 88,
     "metadata": {},
     "output_type": "execute_result"
    }
   ],
   "source": [
    "np.sum(t1<1.0)/len(t1)"
   ]
  },
  {
   "cell_type": "code",
   "execution_count": 21,
   "metadata": {},
   "outputs": [],
   "source": [
    "x = np.random.random((5,3))"
   ]
  },
  {
   "cell_type": "code",
   "execution_count": 22,
   "metadata": {},
   "outputs": [
    {
     "data": {
      "text/plain": [
       "array([[0.30874781, 0.5186376 , 0.14462014],\n",
       "       [0.39916964, 0.93979453, 0.38973235],\n",
       "       [0.31904537, 0.91487862, 0.56207738],\n",
       "       [0.61352906, 0.31084919, 0.24733807],\n",
       "       [0.09072392, 0.26692949, 0.38214374]])"
      ]
     },
     "execution_count": 22,
     "metadata": {},
     "output_type": "execute_result"
    }
   ],
   "source": [
    "x"
   ]
  },
  {
   "cell_type": "code",
   "execution_count": 23,
   "metadata": {},
   "outputs": [
    {
     "data": {
      "text/plain": [
       "array([0.30874781, 0.5186376 , 0.14462014])"
      ]
     },
     "execution_count": 23,
     "metadata": {},
     "output_type": "execute_result"
    }
   ],
   "source": [
    "x[0]"
   ]
  },
  {
   "cell_type": "code",
   "execution_count": 24,
   "metadata": {},
   "outputs": [
    {
     "data": {
      "text/plain": [
       "0.30874781123119754"
      ]
     },
     "execution_count": 24,
     "metadata": {},
     "output_type": "execute_result"
    }
   ],
   "source": [
    "x[0][0]"
   ]
  },
  {
   "cell_type": "code",
   "execution_count": 25,
   "metadata": {},
   "outputs": [
    {
     "data": {
      "text/plain": [
       "0.30874781123119754"
      ]
     },
     "execution_count": 25,
     "metadata": {},
     "output_type": "execute_result"
    }
   ],
   "source": [
    "x[0,0]"
   ]
  },
  {
   "cell_type": "code",
   "execution_count": 28,
   "metadata": {},
   "outputs": [
    {
     "data": {
      "text/plain": [
       "array([0.39916964, 0.93979453])"
      ]
     },
     "execution_count": 28,
     "metadata": {},
     "output_type": "execute_result"
    }
   ],
   "source": [
    "x[1][0:2]"
   ]
  },
  {
   "cell_type": "code",
   "execution_count": 29,
   "metadata": {},
   "outputs": [
    {
     "data": {
      "text/plain": [
       "array([0.39916964, 0.93979453])"
      ]
     },
     "execution_count": 29,
     "metadata": {},
     "output_type": "execute_result"
    }
   ],
   "source": [
    "x[1,0:2]"
   ]
  },
  {
   "cell_type": "code",
   "execution_count": 31,
   "metadata": {},
   "outputs": [],
   "source": [
    "x[0][0] = 0"
   ]
  },
  {
   "cell_type": "code",
   "execution_count": 32,
   "metadata": {},
   "outputs": [
    {
     "data": {
      "text/plain": [
       "array([[0.        , 0.5186376 , 0.14462014],\n",
       "       [0.39916964, 0.93979453, 0.38973235],\n",
       "       [0.31904537, 0.91487862, 0.56207738],\n",
       "       [0.61352906, 0.31084919, 0.24733807],\n",
       "       [0.09072392, 0.26692949, 0.38214374]])"
      ]
     },
     "execution_count": 32,
     "metadata": {},
     "output_type": "execute_result"
    }
   ],
   "source": [
    "x"
   ]
  },
  {
   "cell_type": "code",
   "execution_count": 34,
   "metadata": {},
   "outputs": [],
   "source": [
    "x[0,0] = 4"
   ]
  },
  {
   "cell_type": "code",
   "execution_count": 35,
   "metadata": {},
   "outputs": [
    {
     "data": {
      "text/plain": [
       "array([[4.        , 0.5186376 , 0.14462014],\n",
       "       [0.39916964, 0.93979453, 0.38973235],\n",
       "       [0.31904537, 0.91487862, 0.56207738],\n",
       "       [0.61352906, 0.31084919, 0.24733807],\n",
       "       [0.09072392, 0.26692949, 0.38214374]])"
      ]
     },
     "execution_count": 35,
     "metadata": {},
     "output_type": "execute_result"
    }
   ],
   "source": [
    "x"
   ]
  },
  {
   "cell_type": "code",
   "execution_count": 39,
   "metadata": {},
   "outputs": [],
   "source": [
    "y = np.arange(10)"
   ]
  },
  {
   "cell_type": "code",
   "execution_count": 40,
   "metadata": {},
   "outputs": [
    {
     "data": {
      "text/plain": [
       "array([0, 1, 2, 3, 4, 6, 7, 8, 9])"
      ]
     },
     "execution_count": 40,
     "metadata": {},
     "output_type": "execute_result"
    }
   ],
   "source": [
    "np.delete(y, 5)"
   ]
  },
  {
   "cell_type": "code",
   "execution_count": 42,
   "metadata": {},
   "outputs": [
    {
     "data": {
      "text/plain": [
       "array([[0.39916964, 0.93979453, 0.38973235],\n",
       "       [0.31904537, 0.91487862, 0.56207738],\n",
       "       [0.61352906, 0.31084919, 0.24733807],\n",
       "       [0.09072392, 0.26692949, 0.38214374]])"
      ]
     },
     "execution_count": 42,
     "metadata": {},
     "output_type": "execute_result"
    }
   ],
   "source": [
    "np.delete(x,0,axis=0)  # index 0 from row"
   ]
  },
  {
   "cell_type": "code",
   "execution_count": 43,
   "metadata": {},
   "outputs": [
    {
     "data": {
      "text/plain": [
       "array([[0.5186376 , 0.14462014],\n",
       "       [0.93979453, 0.38973235],\n",
       "       [0.91487862, 0.56207738],\n",
       "       [0.31084919, 0.24733807],\n",
       "       [0.26692949, 0.38214374]])"
      ]
     },
     "execution_count": 43,
     "metadata": {},
     "output_type": "execute_result"
    }
   ],
   "source": [
    "np.delete(x,0,axis=1) "
   ]
  },
  {
   "cell_type": "code",
   "execution_count": 44,
   "metadata": {},
   "outputs": [
    {
     "data": {
      "text/plain": [
       "array([[0.39916964, 0.93979453, 0.38973235],\n",
       "       [0.31904537, 0.91487862, 0.56207738],\n",
       "       [0.61352906, 0.31084919, 0.24733807]])"
      ]
     },
     "execution_count": 44,
     "metadata": {},
     "output_type": "execute_result"
    }
   ],
   "source": [
    "np.delete(x,[0,4], axis=0)"
   ]
  },
  {
   "cell_type": "code",
   "execution_count": 46,
   "metadata": {},
   "outputs": [
    {
     "data": {
      "text/plain": [
       "array([0, 1, 2, 3, 4, 5])"
      ]
     },
     "execution_count": 46,
     "metadata": {},
     "output_type": "execute_result"
    }
   ],
   "source": [
    "a =np.arange(6)\n",
    "a"
   ]
  },
  {
   "cell_type": "code",
   "execution_count": 47,
   "metadata": {},
   "outputs": [
    {
     "data": {
      "text/plain": [
       "array([0, 1, 2, 3, 4, 5, 6])"
      ]
     },
     "execution_count": 47,
     "metadata": {},
     "output_type": "execute_result"
    }
   ],
   "source": [
    "np.append(a,6)"
   ]
  },
  {
   "cell_type": "code",
   "execution_count": 49,
   "metadata": {},
   "outputs": [
    {
     "data": {
      "text/plain": [
       "array([0, 1, 2, 3, 4, 5, 6, 7, 8])"
      ]
     },
     "execution_count": 49,
     "metadata": {},
     "output_type": "execute_result"
    }
   ],
   "source": [
    "np.append(a,[6,7,8])"
   ]
  },
  {
   "cell_type": "code",
   "execution_count": 53,
   "metadata": {},
   "outputs": [
    {
     "data": {
      "text/plain": [
       "array([[4.        , 0.5186376 , 0.14462014],\n",
       "       [0.39916964, 0.93979453, 0.38973235],\n",
       "       [0.31904537, 0.91487862, 0.56207738],\n",
       "       [0.61352906, 0.31084919, 0.24733807],\n",
       "       [0.09072392, 0.26692949, 0.38214374],\n",
       "       [0.        , 0.        , 0.        ]])"
      ]
     },
     "execution_count": 53,
     "metadata": {},
     "output_type": "execute_result"
    }
   ],
   "source": [
    "np.append(x, [[0, 0, 0]], axis=0)"
   ]
  },
  {
   "cell_type": "code",
   "execution_count": 58,
   "metadata": {},
   "outputs": [
    {
     "data": {
      "text/plain": [
       "array([[4.        , 0.5186376 , 0.14462014],\n",
       "       [0.39916964, 0.93979453, 0.38973235],\n",
       "       [0.31904537, 0.91487862, 0.56207738],\n",
       "       [0.61352906, 0.31084919, 0.24733807],\n",
       "       [0.09072392, 0.26692949, 0.38214374]])"
      ]
     },
     "execution_count": 58,
     "metadata": {},
     "output_type": "execute_result"
    }
   ],
   "source": [
    "x"
   ]
  },
  {
   "cell_type": "code",
   "execution_count": 63,
   "metadata": {},
   "outputs": [
    {
     "data": {
      "text/plain": [
       "array([[4.        , 0.5186376 , 0.14462014, 0.        ],\n",
       "       [0.39916964, 0.93979453, 0.38973235, 0.        ],\n",
       "       [0.31904537, 0.91487862, 0.56207738, 0.        ],\n",
       "       [0.61352906, 0.31084919, 0.24733807, 0.        ],\n",
       "       [0.09072392, 0.26692949, 0.38214374, 0.        ]])"
      ]
     },
     "execution_count": 63,
     "metadata": {},
     "output_type": "execute_result"
    }
   ],
   "source": [
    "np.append(x, [[0],[0],[0],[0],[0]], axis=1)"
   ]
  },
  {
   "cell_type": "code",
   "execution_count": 64,
   "metadata": {},
   "outputs": [
    {
     "data": {
      "text/plain": [
       "array([[4.        , 0.5186376 , 0.14462014, 0.        ],\n",
       "       [0.39916964, 0.93979453, 0.38973235, 0.        ],\n",
       "       [0.31904537, 0.91487862, 0.56207738, 0.        ],\n",
       "       [0.61352906, 0.31084919, 0.24733807, 0.        ],\n",
       "       [0.09072392, 0.26692949, 0.38214374, 0.        ]])"
      ]
     },
     "execution_count": 64,
     "metadata": {},
     "output_type": "execute_result"
    }
   ],
   "source": [
    "np.append(x, np.zeros((5,1)), axis=1)"
   ]
  },
  {
   "cell_type": "code",
   "execution_count": 65,
   "metadata": {},
   "outputs": [],
   "source": [
    "x = np.append(x, np.zeros((5,1)), axis=1)"
   ]
  },
  {
   "cell_type": "code",
   "execution_count": 66,
   "metadata": {},
   "outputs": [
    {
     "data": {
      "text/plain": [
       "array([[4.        , 0.5186376 , 0.14462014, 0.        ],\n",
       "       [0.39916964, 0.93979453, 0.38973235, 0.        ],\n",
       "       [0.31904537, 0.91487862, 0.56207738, 0.        ],\n",
       "       [0.61352906, 0.31084919, 0.24733807, 0.        ],\n",
       "       [0.09072392, 0.26692949, 0.38214374, 0.        ]])"
      ]
     },
     "execution_count": 66,
     "metadata": {},
     "output_type": "execute_result"
    }
   ],
   "source": [
    "x"
   ]
  },
  {
   "cell_type": "code",
   "execution_count": 68,
   "metadata": {},
   "outputs": [
    {
     "data": {
      "text/plain": [
       "array([[0.        , 4.        , 0.5186376 , 0.14462014, 0.        ],\n",
       "       [1.        , 0.39916964, 0.93979453, 0.38973235, 0.        ],\n",
       "       [2.        , 0.31904537, 0.91487862, 0.56207738, 0.        ],\n",
       "       [3.        , 0.61352906, 0.31084919, 0.24733807, 0.        ],\n",
       "       [4.        , 0.09072392, 0.26692949, 0.38214374, 0.        ]])"
      ]
     },
     "execution_count": 68,
     "metadata": {},
     "output_type": "execute_result"
    }
   ],
   "source": [
    "np.insert(x, 0, [0, 1, 2 , 3, 4], axis=1)   # array, index, values (should correspond to size of that particular axis)"
   ]
  },
  {
   "cell_type": "code",
   "execution_count": 71,
   "metadata": {},
   "outputs": [
    {
     "data": {
      "text/plain": [
       "array([[0.        , 1.        , 2.        , 3.        ],\n",
       "       [4.        , 0.5186376 , 0.14462014, 0.        ],\n",
       "       [0.39916964, 0.93979453, 0.38973235, 0.        ],\n",
       "       [0.31904537, 0.91487862, 0.56207738, 0.        ],\n",
       "       [0.61352906, 0.31084919, 0.24733807, 0.        ],\n",
       "       [0.09072392, 0.26692949, 0.38214374, 0.        ]])"
      ]
     },
     "execution_count": 71,
     "metadata": {},
     "output_type": "execute_result"
    }
   ],
   "source": [
    "np.insert(x, 0, np.arange(x.shape[1]), axis=0)"
   ]
  },
  {
   "cell_type": "code",
   "execution_count": 73,
   "metadata": {},
   "outputs": [
    {
     "data": {
      "text/plain": [
       "array([[4.00000000e+00, 5.18637604e-01, 1.44620139e-01, 0.00000000e+00],\n",
       "       [1.00000000e+02, 1.00000000e+02, 1.00000000e+02, 1.00000000e+02],\n",
       "       [3.99169639e-01, 9.39794533e-01, 3.89732355e-01, 0.00000000e+00],\n",
       "       [3.19045373e-01, 9.14878622e-01, 5.62077384e-01, 0.00000000e+00],\n",
       "       [6.13529060e-01, 3.10849189e-01, 2.47338074e-01, 0.00000000e+00],\n",
       "       [9.07239168e-02, 2.66929486e-01, 3.82143736e-01, 0.00000000e+00]])"
      ]
     },
     "execution_count": 73,
     "metadata": {},
     "output_type": "execute_result"
    }
   ],
   "source": [
    "np.insert(x, 1, 100, axis=0)  # if one number copy that to that axis and index multiple time to fill up"
   ]
  },
  {
   "cell_type": "code",
   "execution_count": 74,
   "metadata": {},
   "outputs": [
    {
     "data": {
      "text/plain": [
       "array([[4.        , 0.5186376 , 0.14462014, 0.        ],\n",
       "       [0.39916964, 0.93979453, 0.38973235, 0.        ],\n",
       "       [0.31904537, 0.91487862, 0.56207738, 0.        ],\n",
       "       [0.61352906, 0.31084919, 0.24733807, 0.        ],\n",
       "       [0.09072392, 0.26692949, 0.38214374, 0.        ]])"
      ]
     },
     "execution_count": 74,
     "metadata": {},
     "output_type": "execute_result"
    }
   ],
   "source": [
    "x"
   ]
  },
  {
   "cell_type": "code",
   "execution_count": 75,
   "metadata": {},
   "outputs": [
    {
     "data": {
      "text/plain": [
       "array([[4.00000000e+00, 5.18637604e-01, 1.00000000e+02, 1.44620139e-01,\n",
       "        0.00000000e+00],\n",
       "       [3.99169639e-01, 9.39794533e-01, 1.00000000e+02, 3.89732355e-01,\n",
       "        0.00000000e+00],\n",
       "       [3.19045373e-01, 9.14878622e-01, 1.00000000e+02, 5.62077384e-01,\n",
       "        0.00000000e+00],\n",
       "       [6.13529060e-01, 3.10849189e-01, 1.00000000e+02, 2.47338074e-01,\n",
       "        0.00000000e+00],\n",
       "       [9.07239168e-02, 2.66929486e-01, 1.00000000e+02, 3.82143736e-01,\n",
       "        0.00000000e+00]])"
      ]
     },
     "execution_count": 75,
     "metadata": {},
     "output_type": "execute_result"
    }
   ],
   "source": [
    "np.insert(x, 2, 100, axis=1)"
   ]
  },
  {
   "cell_type": "code",
   "execution_count": 77,
   "metadata": {},
   "outputs": [],
   "source": [
    "X = np.zeros((2,3))"
   ]
  },
  {
   "cell_type": "code",
   "execution_count": 78,
   "metadata": {},
   "outputs": [],
   "source": [
    "Y = np.full((2,3), 1.5)"
   ]
  },
  {
   "cell_type": "code",
   "execution_count": 79,
   "metadata": {},
   "outputs": [
    {
     "data": {
      "text/plain": [
       "array([[0., 0., 0.],\n",
       "       [0., 0., 0.]])"
      ]
     },
     "execution_count": 79,
     "metadata": {},
     "output_type": "execute_result"
    }
   ],
   "source": [
    "X"
   ]
  },
  {
   "cell_type": "code",
   "execution_count": 80,
   "metadata": {},
   "outputs": [
    {
     "data": {
      "text/plain": [
       "array([[1.5, 1.5, 1.5],\n",
       "       [1.5, 1.5, 1.5]])"
      ]
     },
     "execution_count": 80,
     "metadata": {},
     "output_type": "execute_result"
    }
   ],
   "source": [
    "Y"
   ]
  },
  {
   "cell_type": "code",
   "execution_count": 82,
   "metadata": {},
   "outputs": [
    {
     "data": {
      "text/plain": [
       "array([[0. , 0. , 0. , 1.5, 1.5, 1.5],\n",
       "       [0. , 0. , 0. , 1.5, 1.5, 1.5]])"
      ]
     },
     "execution_count": 82,
     "metadata": {},
     "output_type": "execute_result"
    }
   ],
   "source": [
    "np.hstack((X, Y))"
   ]
  },
  {
   "cell_type": "code",
   "execution_count": 83,
   "metadata": {},
   "outputs": [
    {
     "data": {
      "text/plain": [
       "array([[0. , 0. , 0. ],\n",
       "       [0. , 0. , 0. ],\n",
       "       [1.5, 1.5, 1.5],\n",
       "       [1.5, 1.5, 1.5]])"
      ]
     },
     "execution_count": 83,
     "metadata": {},
     "output_type": "execute_result"
    }
   ],
   "source": [
    "np.vstack((X, Y))"
   ]
  },
  {
   "cell_type": "code",
   "execution_count": 143,
   "metadata": {},
   "outputs": [
    {
     "data": {
      "text/plain": [
       "array([[  1.,   2.,   3.,   4.,   5.,   6.,   7.,   8.,   9.,  10.],\n",
       "       [ 11.,  12.,  13.,  14.,  15.,  16.,  17.,  18.,  19.,  20.],\n",
       "       [ 21.,  22.,  23.,  24.,  25.,  26.,  27.,  28.,  29.,  30.],\n",
       "       [ 31.,  32.,  33.,  34.,  35.,  36.,  37.,  38.,  39.,  40.],\n",
       "       [ 41.,  42.,  43.,  44.,  45.,  46.,  47.,  48.,  49.,  50.],\n",
       "       [ 51.,  52.,  53.,  54.,  55.,  56.,  57.,  58.,  59.,  60.],\n",
       "       [ 61.,  62.,  63.,  64.,  65.,  66.,  67.,  68.,  69.,  70.],\n",
       "       [ 71.,  72.,  73.,  74.,  75.,  76.,  77.,  78.,  79.,  80.],\n",
       "       [ 81.,  82.,  83.,  84.,  85.,  86.,  87.,  88.,  89.,  90.],\n",
       "       [ 91.,  92.,  93.,  94.,  95.,  96.,  97.,  98.,  99., 100.]])"
      ]
     },
     "execution_count": 143,
     "metadata": {},
     "output_type": "execute_result"
    }
   ],
   "source": [
    "x = np.linspace(1, 100, 100).reshape(10,10)\n",
    "x"
   ]
  },
  {
   "cell_type": "code",
   "execution_count": 86,
   "metadata": {},
   "outputs": [
    {
     "data": {
      "text/plain": [
       "array([ 1., 11., 21., 31., 41., 51., 61., 71., 81., 91.])"
      ]
     },
     "execution_count": 86,
     "metadata": {},
     "output_type": "execute_result"
    }
   ],
   "source": [
    "x[:,0]"
   ]
  },
  {
   "cell_type": "code",
   "execution_count": 101,
   "metadata": {},
   "outputs": [],
   "source": [
    "x = np.arange(1,5).reshape(2,2)"
   ]
  },
  {
   "cell_type": "code",
   "execution_count": 103,
   "metadata": {},
   "outputs": [
    {
     "data": {
      "text/plain": [
       "array([[1, 2],\n",
       "       [3, 4]])"
      ]
     },
     "execution_count": 103,
     "metadata": {},
     "output_type": "execute_result"
    }
   ],
   "source": [
    "x"
   ]
  },
  {
   "cell_type": "code",
   "execution_count": 106,
   "metadata": {},
   "outputs": [],
   "source": [
    "y = np.full((2,2),2)"
   ]
  },
  {
   "cell_type": "code",
   "execution_count": 107,
   "metadata": {},
   "outputs": [
    {
     "data": {
      "text/plain": [
       "array([[2, 2],\n",
       "       [2, 2]])"
      ]
     },
     "execution_count": 107,
     "metadata": {},
     "output_type": "execute_result"
    }
   ],
   "source": [
    "y"
   ]
  },
  {
   "cell_type": "code",
   "execution_count": 108,
   "metadata": {},
   "outputs": [
    {
     "data": {
      "text/plain": [
       "array([[2, 4],\n",
       "       [6, 8]])"
      ]
     },
     "execution_count": 108,
     "metadata": {},
     "output_type": "execute_result"
    }
   ],
   "source": [
    "x*y"
   ]
  },
  {
   "cell_type": "code",
   "execution_count": 109,
   "metadata": {},
   "outputs": [
    {
     "data": {
      "text/plain": [
       "array([[ 6,  6],\n",
       "       [14, 14]])"
      ]
     },
     "execution_count": 109,
     "metadata": {},
     "output_type": "execute_result"
    }
   ],
   "source": [
    "np.dot(x,y)"
   ]
  },
  {
   "cell_type": "code",
   "execution_count": 111,
   "metadata": {},
   "outputs": [],
   "source": [
    "x = np.linspace(1, 100, 100).reshape(10,10)\n",
    "iden = np.eye(10)\n",
    "#xnew = np.dot(x, iden)"
   ]
  },
  {
   "cell_type": "code",
   "execution_count": 116,
   "metadata": {},
   "outputs": [
    {
     "data": {
      "text/plain": [
       "array([  1.,  12.,  23.,  34.,  45.,  56.,  67.,  78.,  89., 100.])"
      ]
     },
     "execution_count": 116,
     "metadata": {},
     "output_type": "execute_result"
    }
   ],
   "source": [
    "x[x*iden != 0]"
   ]
  },
  {
   "cell_type": "code",
   "execution_count": 92,
   "metadata": {},
   "outputs": [
    {
     "data": {
      "text/plain": [
       "array([[1., 0., 0., 0., 0., 0., 0., 0., 0., 0.],\n",
       "       [0., 1., 0., 0., 0., 0., 0., 0., 0., 0.],\n",
       "       [0., 0., 1., 0., 0., 0., 0., 0., 0., 0.],\n",
       "       [0., 0., 0., 1., 0., 0., 0., 0., 0., 0.],\n",
       "       [0., 0., 0., 0., 1., 0., 0., 0., 0., 0.],\n",
       "       [0., 0., 0., 0., 0., 1., 0., 0., 0., 0.],\n",
       "       [0., 0., 0., 0., 0., 0., 1., 0., 0., 0.],\n",
       "       [0., 0., 0., 0., 0., 0., 0., 1., 0., 0.],\n",
       "       [0., 0., 0., 0., 0., 0., 0., 0., 1., 0.],\n",
       "       [0., 0., 0., 0., 0., 0., 0., 0., 0., 1.]])"
      ]
     },
     "execution_count": 92,
     "metadata": {},
     "output_type": "execute_result"
    }
   ],
   "source": [
    "np.identity(10)"
   ]
  },
  {
   "cell_type": "code",
   "execution_count": 117,
   "metadata": {},
   "outputs": [
    {
     "data": {
      "text/plain": [
       "array([[  1.,   2.,   3.,   4.,   5.,   6.,   7.,   8.,   9.,  10.],\n",
       "       [ 11.,  12.,  13.,  14.,  15.,  16.,  17.,  18.,  19.,  20.],\n",
       "       [ 21.,  22.,  23.,  24.,  25.,  26.,  27.,  28.,  29.,  30.],\n",
       "       [ 31.,  32.,  33.,  34.,  35.,  36.,  37.,  38.,  39.,  40.],\n",
       "       [ 41.,  42.,  43.,  44.,  45.,  46.,  47.,  48.,  49.,  50.],\n",
       "       [ 51.,  52.,  53.,  54.,  55.,  56.,  57.,  58.,  59.,  60.],\n",
       "       [ 61.,  62.,  63.,  64.,  65.,  66.,  67.,  68.,  69.,  70.],\n",
       "       [ 71.,  72.,  73.,  74.,  75.,  76.,  77.,  78.,  79.,  80.],\n",
       "       [ 81.,  82.,  83.,  84.,  85.,  86.,  87.,  88.,  89.,  90.],\n",
       "       [ 91.,  92.,  93.,  94.,  95.,  96.,  97.,  98.,  99., 100.]])"
      ]
     },
     "execution_count": 117,
     "metadata": {},
     "output_type": "execute_result"
    }
   ],
   "source": [
    "x"
   ]
  },
  {
   "cell_type": "code",
   "execution_count": 118,
   "metadata": {},
   "outputs": [
    {
     "data": {
      "text/plain": [
       "array([[44., 45., 46., 47., 48.],\n",
       "       [54., 55., 56., 57., 58.],\n",
       "       [64., 65., 66., 67., 68.],\n",
       "       [74., 75., 76., 77., 78.],\n",
       "       [84., 85., 86., 87., 88.]])"
      ]
     },
     "execution_count": 118,
     "metadata": {},
     "output_type": "execute_result"
    }
   ],
   "source": [
    "x[4:9,3:8]"
   ]
  },
  {
   "cell_type": "code",
   "execution_count": 122,
   "metadata": {},
   "outputs": [
    {
     "data": {
      "text/plain": [
       "array([[41., 42., 43., 44., 45., 46., 47., 48., 49., 50.],\n",
       "       [51., 52., 53., 54., 55., 56., 57., 58., 59., 60.],\n",
       "       [61., 62., 63., 64., 65., 66., 67., 68., 69., 70.],\n",
       "       [71., 72., 73., 74., 75., 76., 77., 78., 79., 80.],\n",
       "       [81., 82., 83., 84., 85., 86., 87., 88., 89., 90.]])"
      ]
     },
     "execution_count": 122,
     "metadata": {},
     "output_type": "execute_result"
    }
   ],
   "source": [
    "x[4:9]"
   ]
  },
  {
   "cell_type": "code",
   "execution_count": 124,
   "metadata": {},
   "outputs": [
    {
     "data": {
      "text/plain": [
       "array([[44., 45., 46., 47., 48.],\n",
       "       [54., 55., 56., 57., 58.],\n",
       "       [64., 65., 66., 67., 68.],\n",
       "       [74., 75., 76., 77., 78.],\n",
       "       [84., 85., 86., 87., 88.]])"
      ]
     },
     "execution_count": 124,
     "metadata": {},
     "output_type": "execute_result"
    }
   ],
   "source": [
    "x[4:9][:,3:8]"
   ]
  },
  {
   "cell_type": "code",
   "execution_count": 125,
   "metadata": {},
   "outputs": [
    {
     "data": {
      "text/plain": [
       "array([41., 42., 43., 44., 45., 46., 47., 48., 49., 50.])"
      ]
     },
     "execution_count": 125,
     "metadata": {},
     "output_type": "execute_result"
    }
   ],
   "source": [
    "x[4,:]"
   ]
  },
  {
   "cell_type": "code",
   "execution_count": 126,
   "metadata": {},
   "outputs": [
    {
     "data": {
      "text/plain": [
       "array([ 5., 15., 25., 35., 45., 55., 65., 75., 85., 95.])"
      ]
     },
     "execution_count": 126,
     "metadata": {},
     "output_type": "execute_result"
    }
   ],
   "source": [
    "x[:,4]"
   ]
  },
  {
   "cell_type": "code",
   "execution_count": 3,
   "metadata": {},
   "outputs": [],
   "source": [
    "import numpy as np\n",
    "xp = np.array([1,2,3])\n",
    "temp = xp[0:1]"
   ]
  },
  {
   "cell_type": "code",
   "execution_count": 4,
   "metadata": {},
   "outputs": [
    {
     "data": {
      "text/plain": [
       "array([1, 2, 3])"
      ]
     },
     "execution_count": 4,
     "metadata": {},
     "output_type": "execute_result"
    }
   ],
   "source": [
    "xp"
   ]
  },
  {
   "cell_type": "code",
   "execution_count": 5,
   "metadata": {},
   "outputs": [
    {
     "data": {
      "text/plain": [
       "array([1])"
      ]
     },
     "execution_count": 5,
     "metadata": {},
     "output_type": "execute_result"
    }
   ],
   "source": [
    "temp"
   ]
  },
  {
   "cell_type": "code",
   "execution_count": 6,
   "metadata": {},
   "outputs": [
    {
     "data": {
      "text/plain": [
       "3"
      ]
     },
     "execution_count": 6,
     "metadata": {},
     "output_type": "execute_result"
    }
   ],
   "source": [
    "temp[0] = 3\n",
    "temp[0]\n"
   ]
  },
  {
   "cell_type": "code",
   "execution_count": 7,
   "metadata": {},
   "outputs": [
    {
     "data": {
      "text/plain": [
       "array([3, 2, 3])"
      ]
     },
     "execution_count": 7,
     "metadata": {},
     "output_type": "execute_result"
    }
   ],
   "source": [
    "xp"
   ]
  },
  {
   "cell_type": "code",
   "execution_count": 8,
   "metadata": {},
   "outputs": [
    {
     "data": {
      "text/plain": [
       "[1, 2, 3]"
      ]
     },
     "execution_count": 8,
     "metadata": {},
     "output_type": "execute_result"
    }
   ],
   "source": [
    "xp = [1,2,3]\n",
    "temp = xp[0:1]\n",
    "temp[0] = 3\n",
    "xp"
   ]
  },
  {
   "cell_type": "code",
   "execution_count": 9,
   "metadata": {},
   "outputs": [
    {
     "data": {
      "text/plain": [
       "[0, 0, 0, 0, 0, 0, 0, 0]"
      ]
     },
     "execution_count": 9,
     "metadata": {},
     "output_type": "execute_result"
    }
   ],
   "source": [
    "[0]*8"
   ]
  },
  {
   "cell_type": "code",
   "execution_count": 10,
   "metadata": {},
   "outputs": [
    {
     "data": {
      "text/plain": [
       "[0, 0, 1, 1, 1, 1, 1]"
      ]
     },
     "execution_count": 10,
     "metadata": {},
     "output_type": "execute_result"
    }
   ],
   "source": [
    "[0]*2 + [1]*5"
   ]
  },
  {
   "cell_type": "code",
   "execution_count": 144,
   "metadata": {},
   "outputs": [],
   "source": [
    "z = x[4:9,3:8] *1  # if I don't put any operation on x[4:9,3:8] e.g multiply even 1, \n",
    "# z = x[4:9,3:8] , z will have same pointer as x, so changing any individual element of z, will change x unless use copy()\n",
    "# Z = np.copy(x[4:9,3:8])\n",
    "# if use an even simple operation like *1, then pointer will chang and changing inside of z will not impact x"
   ]
  },
  {
   "cell_type": "code",
   "execution_count": 145,
   "metadata": {},
   "outputs": [
    {
     "data": {
      "text/plain": [
       "array([[44., 45., 46., 47., 48.],\n",
       "       [54., 55., 56., 57., 58.],\n",
       "       [64., 65., 66., 67., 68.],\n",
       "       [74., 75., 76., 77., 78.],\n",
       "       [84., 85., 86., 87., 88.]])"
      ]
     },
     "execution_count": 145,
     "metadata": {},
     "output_type": "execute_result"
    }
   ],
   "source": [
    "z"
   ]
  },
  {
   "cell_type": "code",
   "execution_count": 137,
   "metadata": {},
   "outputs": [
    {
     "data": {
      "text/plain": [
       "array([[  1.,   2.,   3.,   4.,   5.,   6.,   7.,   8.,   9.,  10.],\n",
       "       [ 11.,  12.,  13.,  14.,  15.,  16.,  17.,  18.,  19.,  20.],\n",
       "       [ 21.,  22.,  23.,  24.,  25.,  26.,  27.,  28.,  29.,  30.],\n",
       "       [ 31.,  32.,  33.,  34.,  35.,  36.,  37.,  38.,  39.,  40.],\n",
       "       [ 41.,  42.,  43.,  44.,  45.,  46.,  47.,  48.,  49.,  50.],\n",
       "       [ 51.,  52.,  53.,  54.,  55.,  56.,  57.,  58.,  59.,  60.],\n",
       "       [ 61.,  62.,  63.,  64.,  65.,  66.,  67.,  68.,  69.,  70.],\n",
       "       [ 71.,  72.,  73.,  74.,  75.,  76.,  77.,  78.,  79.,  80.],\n",
       "       [ 81.,  82.,  83.,  84.,  85.,  86.,  87.,  88.,  89.,  90.],\n",
       "       [ 91.,  92.,  93.,  94.,  95.,  96.,  97.,  98.,  99., 100.]])"
      ]
     },
     "execution_count": 137,
     "metadata": {},
     "output_type": "execute_result"
    }
   ],
   "source": [
    "x"
   ]
  },
  {
   "cell_type": "code",
   "execution_count": 146,
   "metadata": {},
   "outputs": [],
   "source": [
    "z[0,0] = 4400"
   ]
  },
  {
   "cell_type": "code",
   "execution_count": 147,
   "metadata": {},
   "outputs": [
    {
     "data": {
      "text/plain": [
       "array([[4400.,   45.,   46.,   47.,   48.],\n",
       "       [  54.,   55.,   56.,   57.,   58.],\n",
       "       [  64.,   65.,   66.,   67.,   68.],\n",
       "       [  74.,   75.,   76.,   77.,   78.],\n",
       "       [  84.,   85.,   86.,   87.,   88.]])"
      ]
     },
     "execution_count": 147,
     "metadata": {},
     "output_type": "execute_result"
    }
   ],
   "source": [
    "z"
   ]
  },
  {
   "cell_type": "code",
   "execution_count": 148,
   "metadata": {},
   "outputs": [
    {
     "data": {
      "text/plain": [
       "array([[  1.,   2.,   3.,   4.,   5.,   6.,   7.,   8.,   9.,  10.],\n",
       "       [ 11.,  12.,  13.,  14.,  15.,  16.,  17.,  18.,  19.,  20.],\n",
       "       [ 21.,  22.,  23.,  24.,  25.,  26.,  27.,  28.,  29.,  30.],\n",
       "       [ 31.,  32.,  33.,  34.,  35.,  36.,  37.,  38.,  39.,  40.],\n",
       "       [ 41.,  42.,  43.,  44.,  45.,  46.,  47.,  48.,  49.,  50.],\n",
       "       [ 51.,  52.,  53.,  54.,  55.,  56.,  57.,  58.,  59.,  60.],\n",
       "       [ 61.,  62.,  63.,  64.,  65.,  66.,  67.,  68.,  69.,  70.],\n",
       "       [ 71.,  72.,  73.,  74.,  75.,  76.,  77.,  78.,  79.,  80.],\n",
       "       [ 81.,  82.,  83.,  84.,  85.,  86.,  87.,  88.,  89.,  90.],\n",
       "       [ 91.,  92.,  93.,  94.,  95.,  96.,  97.,  98.,  99., 100.]])"
      ]
     },
     "execution_count": 148,
     "metadata": {},
     "output_type": "execute_result"
    }
   ],
   "source": [
    "x"
   ]
  },
  {
   "cell_type": "code",
   "execution_count": 151,
   "metadata": {},
   "outputs": [
    {
     "data": {
      "text/plain": [
       "array([  1.,  12.,  23.,  34.,  45.,  56.,  67.,  78.,  89., 100.])"
      ]
     },
     "execution_count": 151,
     "metadata": {},
     "output_type": "execute_result"
    }
   ],
   "source": [
    "np.diag(x)"
   ]
  },
  {
   "cell_type": "code",
   "execution_count": 152,
   "metadata": {},
   "outputs": [
    {
     "data": {
      "text/plain": [
       "array([ 2., 13., 24., 35., 46., 57., 68., 79., 90.])"
      ]
     },
     "execution_count": 152,
     "metadata": {},
     "output_type": "execute_result"
    }
   ],
   "source": [
    "np.diag(x, k=1)"
   ]
  },
  {
   "cell_type": "code",
   "execution_count": 153,
   "metadata": {},
   "outputs": [
    {
     "data": {
      "text/plain": [
       "array([11., 22., 33., 44., 55., 66., 77., 88., 99.])"
      ]
     },
     "execution_count": 153,
     "metadata": {},
     "output_type": "execute_result"
    }
   ],
   "source": [
    "np.diag(x, k=-1)"
   ]
  },
  {
   "cell_type": "code",
   "execution_count": 155,
   "metadata": {},
   "outputs": [
    {
     "data": {
      "text/plain": [
       "array([91.])"
      ]
     },
     "execution_count": 155,
     "metadata": {},
     "output_type": "execute_result"
    }
   ],
   "source": [
    "np.diag(x, k=-9)"
   ]
  },
  {
   "cell_type": "code",
   "execution_count": 156,
   "metadata": {},
   "outputs": [
    {
     "data": {
      "text/plain": [
       "array([10.])"
      ]
     },
     "execution_count": 156,
     "metadata": {},
     "output_type": "execute_result"
    }
   ],
   "source": [
    "np.diag(x, k=9)"
   ]
  },
  {
   "cell_type": "code",
   "execution_count": 163,
   "metadata": {},
   "outputs": [],
   "source": [
    "array1 = x[(x%3 == 0) & (x%2 == 0)]"
   ]
  },
  {
   "cell_type": "code",
   "execution_count": 164,
   "metadata": {},
   "outputs": [],
   "source": [
    "array2 = x[(x%3 == 0) | (x%2 == 0)]"
   ]
  },
  {
   "cell_type": "code",
   "execution_count": 165,
   "metadata": {},
   "outputs": [
    {
     "data": {
      "text/plain": [
       "array([ 6., 12., 18., 24., 30., 36., 42., 48., 54., 60., 66., 72., 78.,\n",
       "       84., 90., 96.])"
      ]
     },
     "execution_count": 165,
     "metadata": {},
     "output_type": "execute_result"
    }
   ],
   "source": [
    "np.intersect1d(array1, array2)"
   ]
  },
  {
   "cell_type": "code",
   "execution_count": 169,
   "metadata": {},
   "outputs": [
    {
     "data": {
      "text/plain": [
       "67"
      ]
     },
     "execution_count": 169,
     "metadata": {},
     "output_type": "execute_result"
    }
   ],
   "source": [
    "len(np.union1d(array1, array2))"
   ]
  },
  {
   "cell_type": "code",
   "execution_count": 168,
   "metadata": {},
   "outputs": [
    {
     "data": {
      "text/plain": [
       "67"
      ]
     },
     "execution_count": 168,
     "metadata": {},
     "output_type": "execute_result"
    }
   ],
   "source": [
    "len(set(np.union1d(array1, array2)))"
   ]
  },
  {
   "cell_type": "code",
   "execution_count": 170,
   "metadata": {},
   "outputs": [
    {
     "data": {
      "text/plain": [
       "array([], dtype=float64)"
      ]
     },
     "execution_count": 170,
     "metadata": {},
     "output_type": "execute_result"
    }
   ],
   "source": [
    "np.setdiff1d(array1, array2)"
   ]
  },
  {
   "cell_type": "code",
   "execution_count": 171,
   "metadata": {},
   "outputs": [
    {
     "data": {
      "text/plain": [
       "array([  2.,   3.,   4.,   8.,   9.,  10.,  14.,  15.,  16.,  20.,  21.,\n",
       "        22.,  26.,  27.,  28.,  32.,  33.,  34.,  38.,  39.,  40.,  44.,\n",
       "        45.,  46.,  50.,  51.,  52.,  56.,  57.,  58.,  62.,  63.,  64.,\n",
       "        68.,  69.,  70.,  74.,  75.,  76.,  80.,  81.,  82.,  86.,  87.,\n",
       "        88.,  92.,  93.,  94.,  98.,  99., 100.])"
      ]
     },
     "execution_count": 171,
     "metadata": {},
     "output_type": "execute_result"
    }
   ],
   "source": [
    "np.setdiff1d(array2, array1)"
   ]
  },
  {
   "cell_type": "code",
   "execution_count": 174,
   "metadata": {},
   "outputs": [],
   "source": [
    "xp = np.arange(100, 0, -1).reshape(10,10)"
   ]
  },
  {
   "cell_type": "code",
   "execution_count": 175,
   "metadata": {},
   "outputs": [
    {
     "data": {
      "text/plain": [
       "array([[100,  99,  98,  97,  96,  95,  94,  93,  92,  91],\n",
       "       [ 90,  89,  88,  87,  86,  85,  84,  83,  82,  81],\n",
       "       [ 80,  79,  78,  77,  76,  75,  74,  73,  72,  71],\n",
       "       [ 70,  69,  68,  67,  66,  65,  64,  63,  62,  61],\n",
       "       [ 60,  59,  58,  57,  56,  55,  54,  53,  52,  51],\n",
       "       [ 50,  49,  48,  47,  46,  45,  44,  43,  42,  41],\n",
       "       [ 40,  39,  38,  37,  36,  35,  34,  33,  32,  31],\n",
       "       [ 30,  29,  28,  27,  26,  25,  24,  23,  22,  21],\n",
       "       [ 20,  19,  18,  17,  16,  15,  14,  13,  12,  11],\n",
       "       [ 10,   9,   8,   7,   6,   5,   4,   3,   2,   1]])"
      ]
     },
     "execution_count": 175,
     "metadata": {},
     "output_type": "execute_result"
    }
   ],
   "source": [
    "xp"
   ]
  },
  {
   "cell_type": "code",
   "execution_count": 176,
   "metadata": {},
   "outputs": [
    {
     "data": {
      "text/plain": [
       "array([[ 10,   9,   8,   7,   6,   5,   4,   3,   2,   1],\n",
       "       [ 20,  19,  18,  17,  16,  15,  14,  13,  12,  11],\n",
       "       [ 30,  29,  28,  27,  26,  25,  24,  23,  22,  21],\n",
       "       [ 40,  39,  38,  37,  36,  35,  34,  33,  32,  31],\n",
       "       [ 50,  49,  48,  47,  46,  45,  44,  43,  42,  41],\n",
       "       [ 60,  59,  58,  57,  56,  55,  54,  53,  52,  51],\n",
       "       [ 70,  69,  68,  67,  66,  65,  64,  63,  62,  61],\n",
       "       [ 80,  79,  78,  77,  76,  75,  74,  73,  72,  71],\n",
       "       [ 90,  89,  88,  87,  86,  85,  84,  83,  82,  81],\n",
       "       [100,  99,  98,  97,  96,  95,  94,  93,  92,  91]])"
      ]
     },
     "execution_count": 176,
     "metadata": {},
     "output_type": "execute_result"
    }
   ],
   "source": [
    "np.sort(xp, axis=0) # axis assignment not intuiitive"
   ]
  },
  {
   "cell_type": "code",
   "execution_count": 179,
   "metadata": {},
   "outputs": [],
   "source": [
    "x = np.random.random(10)"
   ]
  },
  {
   "cell_type": "code",
   "execution_count": 182,
   "metadata": {},
   "outputs": [
    {
     "data": {
      "text/plain": [
       "array([0.85302757, 0.55664828, 0.98959513, 0.01191204, 0.48676616,\n",
       "       0.57882088, 0.88070709, 0.30612324, 0.06667262, 0.91479783])"
      ]
     },
     "execution_count": 182,
     "metadata": {},
     "output_type": "execute_result"
    }
   ],
   "source": [
    "x"
   ]
  },
  {
   "cell_type": "code",
   "execution_count": 181,
   "metadata": {},
   "outputs": [
    {
     "data": {
      "text/plain": [
       "array([0.01191204, 0.06667262, 0.30612324, 0.48676616, 0.55664828,\n",
       "       0.57882088, 0.85302757, 0.88070709, 0.91479783, 0.98959513])"
      ]
     },
     "execution_count": 181,
     "metadata": {},
     "output_type": "execute_result"
    }
   ],
   "source": [
    "np.sort(x)  # if do x.sort() will replace the x but np.sort(x) doesn't"
   ]
  },
  {
   "cell_type": "code",
   "execution_count": 184,
   "metadata": {},
   "outputs": [],
   "source": [
    "index_ = np.argsort(x)"
   ]
  },
  {
   "cell_type": "code",
   "execution_count": 187,
   "metadata": {},
   "outputs": [
    {
     "data": {
      "text/plain": [
       "array([0.01191204, 0.06667262, 0.30612324, 0.48676616, 0.55664828])"
      ]
     },
     "execution_count": 187,
     "metadata": {},
     "output_type": "execute_result"
    }
   ],
   "source": [
    "x[index_][0:5]"
   ]
  },
  {
   "cell_type": "code",
   "execution_count": 186,
   "metadata": {},
   "outputs": [
    {
     "data": {
      "text/plain": [
       "array([0.85302757, 0.55664828, 0.98959513, 0.01191204, 0.48676616,\n",
       "       0.57882088, 0.88070709, 0.30612324, 0.06667262, 0.91479783])"
      ]
     },
     "execution_count": 186,
     "metadata": {},
     "output_type": "execute_result"
    }
   ],
   "source": [
    "x"
   ]
  },
  {
   "cell_type": "code",
   "execution_count": 188,
   "metadata": {},
   "outputs": [
    {
     "data": {
      "text/plain": [
       "2"
      ]
     },
     "execution_count": 188,
     "metadata": {},
     "output_type": "execute_result"
    }
   ],
   "source": [
    "np.argmax(x)"
   ]
  },
  {
   "cell_type": "code",
   "execution_count": 189,
   "metadata": {},
   "outputs": [
    {
     "data": {
      "text/plain": [
       "3"
      ]
     },
     "execution_count": 189,
     "metadata": {},
     "output_type": "execute_result"
    }
   ],
   "source": [
    "np.argmin(x)"
   ]
  },
  {
   "cell_type": "code",
   "execution_count": 192,
   "metadata": {},
   "outputs": [
    {
     "data": {
      "text/plain": [
       "array([[3],\n",
       "       [4],\n",
       "       [7],\n",
       "       [8]], dtype=int64)"
      ]
     },
     "execution_count": 192,
     "metadata": {},
     "output_type": "execute_result"
    }
   ],
   "source": [
    "np.argwhere(x<0.5)"
   ]
  },
  {
   "cell_type": "code",
   "execution_count": 191,
   "metadata": {},
   "outputs": [
    {
     "data": {
      "text/plain": [
       "array([0.01191204, 0.48676616, 0.30612324, 0.06667262])"
      ]
     },
     "execution_count": 191,
     "metadata": {},
     "output_type": "execute_result"
    }
   ],
   "source": [
    "x[x<0.5]"
   ]
  },
  {
   "cell_type": "code",
   "execution_count": 193,
   "metadata": {},
   "outputs": [],
   "source": [
    "indices1 = np.triu_indices(10,2)  # size 10 original 10*10, k=2=> k>2 when k=0 is diagonal"
   ]
  },
  {
   "cell_type": "code",
   "execution_count": 194,
   "metadata": {},
   "outputs": [
    {
     "data": {
      "text/plain": [
       "(array([0, 0, 0, 0, 0, 0, 0, 0, 1, 1, 1, 1, 1, 1, 1, 2, 2, 2, 2, 2, 2, 3,\n",
       "        3, 3, 3, 3, 4, 4, 4, 4, 5, 5, 5, 6, 6, 7], dtype=int64),\n",
       " array([2, 3, 4, 5, 6, 7, 8, 9, 3, 4, 5, 6, 7, 8, 9, 4, 5, 6, 7, 8, 9, 5,\n",
       "        6, 7, 8, 9, 6, 7, 8, 9, 7, 8, 9, 8, 9, 9], dtype=int64))"
      ]
     },
     "execution_count": 194,
     "metadata": {},
     "output_type": "execute_result"
    }
   ],
   "source": [
    "indices1"
   ]
  },
  {
   "cell_type": "code",
   "execution_count": 201,
   "metadata": {},
   "outputs": [
    {
     "data": {
      "text/plain": [
       "array([[  1.,   2.,   3.,   4.,   5.,   6.,   7.,   8.,   9.,  10.],\n",
       "       [ 11.,  12.,  13.,  14.,  15.,  16.,  17.,  18.,  19.,  20.],\n",
       "       [ 21.,  22.,  23.,  24.,  25.,  26.,  27.,  28.,  29.,  30.],\n",
       "       [ 31.,  32.,  33.,  34.,  35.,  36.,  37.,  38.,  39.,  40.],\n",
       "       [ 41.,  42.,  43.,  44.,  45.,  46.,  47.,  48.,  49.,  50.],\n",
       "       [ 51.,  52.,  53.,  54.,  55.,  56.,  57.,  58.,  59.,  60.],\n",
       "       [ 61.,  62.,  63.,  64.,  65.,  66.,  67.,  68.,  69.,  70.],\n",
       "       [ 71.,  72.,  73.,  74.,  75.,  76.,  77.,  78.,  79.,  80.],\n",
       "       [ 81.,  82.,  83.,  84.,  85.,  86.,  87.,  88.,  89.,  90.],\n",
       "       [ 91.,  92.,  93.,  94.,  95.,  96.,  97.,  98.,  99., 100.]])"
      ]
     },
     "execution_count": 201,
     "metadata": {},
     "output_type": "execute_result"
    }
   ],
   "source": [
    "x = np.linspace(1, 100, 100).reshape(10,10)\n",
    "x"
   ]
  },
  {
   "cell_type": "code",
   "execution_count": 203,
   "metadata": {},
   "outputs": [],
   "source": [
    "x[indices1] = np.NAN"
   ]
  },
  {
   "cell_type": "code",
   "execution_count": 204,
   "metadata": {},
   "outputs": [
    {
     "data": {
      "text/plain": [
       "array([[  1.,   2.,  nan,  nan,  nan,  nan,  nan,  nan,  nan,  nan],\n",
       "       [ 11.,  12.,  13.,  nan,  nan,  nan,  nan,  nan,  nan,  nan],\n",
       "       [ 21.,  22.,  23.,  24.,  nan,  nan,  nan,  nan,  nan,  nan],\n",
       "       [ 31.,  32.,  33.,  34.,  35.,  nan,  nan,  nan,  nan,  nan],\n",
       "       [ 41.,  42.,  43.,  44.,  45.,  46.,  nan,  nan,  nan,  nan],\n",
       "       [ 51.,  52.,  53.,  54.,  55.,  56.,  57.,  nan,  nan,  nan],\n",
       "       [ 61.,  62.,  63.,  64.,  65.,  66.,  67.,  68.,  nan,  nan],\n",
       "       [ 71.,  72.,  73.,  74.,  75.,  76.,  77.,  78.,  79.,  nan],\n",
       "       [ 81.,  82.,  83.,  84.,  85.,  86.,  87.,  88.,  89.,  90.],\n",
       "       [ 91.,  92.,  93.,  94.,  95.,  96.,  97.,  98.,  99., 100.]])"
      ]
     },
     "execution_count": 204,
     "metadata": {},
     "output_type": "execute_result"
    }
   ],
   "source": [
    "x"
   ]
  },
  {
   "cell_type": "code",
   "execution_count": 205,
   "metadata": {},
   "outputs": [],
   "source": [
    "# Use Broadcasting to create a 4 x 4 ndarray that has its first\n",
    "# column full of 1s, its second column full of 2s, its third\n",
    "# column full of 3s, etc.. \n",
    "\n",
    "X = np.full((4,4),1)"
   ]
  },
  {
   "cell_type": "code",
   "execution_count": 206,
   "metadata": {},
   "outputs": [
    {
     "data": {
      "text/plain": [
       "array([[1, 1, 1, 1],\n",
       "       [1, 1, 1, 1],\n",
       "       [1, 1, 1, 1],\n",
       "       [1, 1, 1, 1]])"
      ]
     },
     "execution_count": 206,
     "metadata": {},
     "output_type": "execute_result"
    }
   ],
   "source": [
    "X"
   ]
  },
  {
   "cell_type": "code",
   "execution_count": 207,
   "metadata": {},
   "outputs": [],
   "source": [
    "y = [0, 1, 2, 3]"
   ]
  },
  {
   "cell_type": "code",
   "execution_count": 208,
   "metadata": {},
   "outputs": [
    {
     "data": {
      "text/plain": [
       "array([[1, 2, 3, 4],\n",
       "       [1, 2, 3, 4],\n",
       "       [1, 2, 3, 4],\n",
       "       [1, 2, 3, 4]])"
      ]
     },
     "execution_count": 208,
     "metadata": {},
     "output_type": "execute_result"
    }
   ],
   "source": [
    "X+y # broadcasting since is difference size"
   ]
  },
  {
   "cell_type": "code",
   "execution_count": 209,
   "metadata": {},
   "outputs": [
    {
     "data": {
      "text/plain": [
       "array([[0, 1, 2, 3],\n",
       "       [0, 1, 2, 3],\n",
       "       [0, 1, 2, 3],\n",
       "       [0, 1, 2, 3]])"
      ]
     },
     "execution_count": 209,
     "metadata": {},
     "output_type": "execute_result"
    }
   ],
   "source": [
    "X*y"
   ]
  },
  {
   "cell_type": "code",
   "execution_count": 210,
   "metadata": {},
   "outputs": [],
   "source": [
    "yy = [[1],[2],[3],[4]]"
   ]
  },
  {
   "cell_type": "code",
   "execution_count": 211,
   "metadata": {},
   "outputs": [
    {
     "data": {
      "text/plain": [
       "array([[2, 2, 2, 2],\n",
       "       [3, 3, 3, 3],\n",
       "       [4, 4, 4, 4],\n",
       "       [5, 5, 5, 5]])"
      ]
     },
     "execution_count": 211,
     "metadata": {},
     "output_type": "execute_result"
    }
   ],
   "source": [
    "X+yy"
   ]
  },
  {
   "cell_type": "code",
   "execution_count": 212,
   "metadata": {},
   "outputs": [],
   "source": [
    "XX = np.random.normal(0,1,(10,10))"
   ]
  },
  {
   "cell_type": "code",
   "execution_count": 214,
   "metadata": {},
   "outputs": [
    {
     "data": {
      "text/plain": [
       "-11.230344623928312"
      ]
     },
     "execution_count": 214,
     "metadata": {},
     "output_type": "execute_result"
    }
   ],
   "source": [
    "XX.sum()"
   ]
  },
  {
   "cell_type": "code",
   "execution_count": 215,
   "metadata": {},
   "outputs": [
    {
     "data": {
      "text/plain": [
       "-0.11230344623928312"
      ]
     },
     "execution_count": 215,
     "metadata": {},
     "output_type": "execute_result"
    }
   ],
   "source": [
    "XX.mean()"
   ]
  },
  {
   "cell_type": "code",
   "execution_count": 216,
   "metadata": {},
   "outputs": [
    {
     "data": {
      "text/plain": [
       "2.5335438639180556"
      ]
     },
     "execution_count": 216,
     "metadata": {},
     "output_type": "execute_result"
    }
   ],
   "source": [
    "XX.max()"
   ]
  },
  {
   "cell_type": "code",
   "execution_count": 217,
   "metadata": {},
   "outputs": [
    {
     "data": {
      "text/plain": [
       "-2.8801975022520665"
      ]
     },
     "execution_count": 217,
     "metadata": {},
     "output_type": "execute_result"
    }
   ],
   "source": [
    "XX.min()"
   ]
  },
  {
   "cell_type": "code",
   "execution_count": 218,
   "metadata": {},
   "outputs": [
    {
     "data": {
      "text/plain": [
       "array([[-1.11892713,  0.21550982, -0.30967434,  0.21753791, -1.89329564,\n",
       "        -1.68069022,  0.19314239, -0.93477635, -2.8801975 , -2.5017886 ],\n",
       "       [-0.6812191 ,  0.06926649, -0.98273741, -0.43990641, -0.06611792,\n",
       "        -0.73754426,  0.78625953, -2.02818705, -1.02797385, -1.63275639],\n",
       "       [ 0.5733726 , -1.36863839,  0.21193123, -1.14937565,  2.09073462,\n",
       "        -0.72681104, -0.45475618,  0.46608721, -0.34863973, -0.19082165],\n",
       "       [-0.10087565, -0.27996426,  0.44405683,  0.77370906, -0.43325021,\n",
       "        -1.20199421,  1.0266675 ,  0.14389455,  0.09324386, -0.84442342],\n",
       "       [ 1.42182914,  0.61774588,  0.08911734,  0.4733288 ,  0.48338969,\n",
       "         0.38362824, -0.31015406,  0.66111394, -0.08751601, -0.09594739],\n",
       "       [-0.21500578, -0.7217883 ,  0.23420126,  0.99486136, -2.06680495,\n",
       "         2.53354386, -0.7438783 ,  1.04248914, -0.47143724,  0.39972165],\n",
       "       [ 1.24943073, -0.94259073,  0.084277  , -0.89597073,  0.94744288,\n",
       "         1.80778275, -0.35086501,  1.59033157,  1.30476454,  0.7265419 ],\n",
       "       [ 0.28436253,  0.11087092,  0.47284571,  2.18426968, -1.21174587,\n",
       "        -1.38299753,  0.22110101, -1.35476268, -0.18817705, -1.26930778],\n",
       "       [-0.91115826, -0.84343548, -0.6145608 , -0.72571473,  0.24058234,\n",
       "         0.55768664,  0.16859567,  1.18609506,  1.87757431, -0.12996277],\n",
       "       [-0.33513799,  1.4398639 , -0.62242106,  0.05890171, -0.68728865,\n",
       "        -0.02415027, -0.80299648, -0.64870316,  0.93383684, -0.64806463]])"
      ]
     },
     "execution_count": 218,
     "metadata": {},
     "output_type": "execute_result"
    }
   ],
   "source": [
    "XX"
   ]
  },
  {
   "cell_type": "code",
   "execution_count": 221,
   "metadata": {},
   "outputs": [
    {
     "data": {
      "text/plain": [
       "array([1.42182914, 1.4398639 , 0.47284571, 2.18426968, 2.09073462,\n",
       "       2.53354386, 1.0266675 , 1.59033157, 1.87757431, 0.7265419 ])"
      ]
     },
     "execution_count": 221,
     "metadata": {},
     "output_type": "execute_result"
    }
   ],
   "source": [
    "XX.max(axis=0)"
   ]
  },
  {
   "cell_type": "code",
   "execution_count": 222,
   "metadata": {},
   "outputs": [
    {
     "data": {
      "text/plain": [
       "array([ 0.16667111, -1.70316015, -0.99296423,  1.491641  , -2.5963537 ,\n",
       "       -0.47154604, -0.26688394,  0.12358223, -0.79452182, -6.18680908])"
      ]
     },
     "execution_count": 222,
     "metadata": {},
     "output_type": "execute_result"
    }
   ],
   "source": [
    "XX.sum(axis=0)"
   ]
  },
  {
   "cell_type": "code",
   "execution_count": 223,
   "metadata": {},
   "outputs": [
    {
     "data": {
      "text/plain": [
       "0.16667110587321926"
      ]
     },
     "execution_count": 223,
     "metadata": {},
     "output_type": "execute_result"
    }
   ],
   "source": [
    "sum(XX[:,0])"
   ]
  },
  {
   "cell_type": "code",
   "execution_count": 224,
   "metadata": {},
   "outputs": [
    {
     "data": {
      "text/plain": [
       "-1.7031601496305118"
      ]
     },
     "execution_count": 224,
     "metadata": {},
     "output_type": "execute_result"
    }
   ],
   "source": [
    "sum(XX[:,1])"
   ]
  },
  {
   "cell_type": "markdown",
   "metadata": {},
   "source": [
    "## Pandas"
   ]
  },
  {
   "cell_type": "code",
   "execution_count": 225,
   "metadata": {},
   "outputs": [],
   "source": [
    "import pandas as pd\n",
    "\n",
    "ds = pd.Series(data = ['X', 'Y', 5, 2.5])"
   ]
  },
  {
   "cell_type": "code",
   "execution_count": 227,
   "metadata": {},
   "outputs": [
    {
     "data": {
      "text/plain": [
       "0      X\n",
       "1      Y\n",
       "2      5\n",
       "3    2.5\n",
       "dtype: object"
      ]
     },
     "execution_count": 227,
     "metadata": {},
     "output_type": "execute_result"
    }
   ],
   "source": [
    "ds"
   ]
  },
  {
   "cell_type": "code",
   "execution_count": 248,
   "metadata": {},
   "outputs": [],
   "source": [
    "ds = pd.Series(data = ['X', 'Y', 5, 2.5,'X','Y'], index=['a','b','c','d','e','f'])"
   ]
  },
  {
   "cell_type": "code",
   "execution_count": 249,
   "metadata": {},
   "outputs": [
    {
     "data": {
      "text/plain": [
       "a      X\n",
       "b      Y\n",
       "c      5\n",
       "d    2.5\n",
       "e      X\n",
       "f      Y\n",
       "dtype: object"
      ]
     },
     "execution_count": 249,
     "metadata": {},
     "output_type": "execute_result"
    }
   ],
   "source": [
    "ds"
   ]
  },
  {
   "cell_type": "code",
   "execution_count": 273,
   "metadata": {},
   "outputs": [
    {
     "data": {
      "text/plain": [
       "'X'"
      ]
     },
     "execution_count": 273,
     "metadata": {},
     "output_type": "execute_result"
    }
   ],
   "source": [
    "ds['a']"
   ]
  },
  {
   "cell_type": "code",
   "execution_count": 274,
   "metadata": {},
   "outputs": [
    {
     "data": {
      "text/plain": [
       "'X'"
      ]
     },
     "execution_count": 274,
     "metadata": {},
     "output_type": "execute_result"
    }
   ],
   "source": [
    "ds[0]"
   ]
  },
  {
   "cell_type": "code",
   "execution_count": 284,
   "metadata": {},
   "outputs": [
    {
     "data": {
      "text/plain": [
       "2.5"
      ]
     },
     "execution_count": 284,
     "metadata": {},
     "output_type": "execute_result"
    }
   ],
   "source": [
    "ds[-3]"
   ]
  },
  {
   "cell_type": "code",
   "execution_count": 276,
   "metadata": {},
   "outputs": [
    {
     "data": {
      "text/plain": [
       "a    X\n",
       "b    Y\n",
       "dtype: object"
      ]
     },
     "execution_count": 276,
     "metadata": {},
     "output_type": "execute_result"
    }
   ],
   "source": [
    "ds[[0,1]]"
   ]
  },
  {
   "cell_type": "code",
   "execution_count": 278,
   "metadata": {},
   "outputs": [
    {
     "data": {
      "text/plain": [
       "a    X\n",
       "c    5\n",
       "dtype: object"
      ]
     },
     "execution_count": 278,
     "metadata": {},
     "output_type": "execute_result"
    }
   ],
   "source": [
    "ds[[0,2]]"
   ]
  },
  {
   "cell_type": "code",
   "execution_count": 250,
   "metadata": {},
   "outputs": [
    {
     "data": {
      "text/plain": [
       "'X'"
      ]
     },
     "execution_count": 250,
     "metadata": {},
     "output_type": "execute_result"
    }
   ],
   "source": [
    "ds.loc['a']"
   ]
  },
  {
   "cell_type": "code",
   "execution_count": 251,
   "metadata": {},
   "outputs": [
    {
     "data": {
      "text/plain": [
       "'X'"
      ]
     },
     "execution_count": 251,
     "metadata": {},
     "output_type": "execute_result"
    }
   ],
   "source": [
    "ds.iloc[0]"
   ]
  },
  {
   "cell_type": "code",
   "execution_count": 280,
   "metadata": {},
   "outputs": [
    {
     "data": {
      "text/plain": [
       "a    X\n",
       "b    Y\n",
       "c    5\n",
       "dtype: object"
      ]
     },
     "execution_count": 280,
     "metadata": {},
     "output_type": "execute_result"
    }
   ],
   "source": [
    "ds.iloc[0:3]"
   ]
  },
  {
   "cell_type": "code",
   "execution_count": 281,
   "metadata": {},
   "outputs": [
    {
     "data": {
      "text/plain": [
       "a    X\n",
       "b    Y\n",
       "c    5\n",
       "dtype: object"
      ]
     },
     "execution_count": 281,
     "metadata": {},
     "output_type": "execute_result"
    }
   ],
   "source": [
    "ds.loc['a':'c']"
   ]
  },
  {
   "cell_type": "code",
   "execution_count": 252,
   "metadata": {},
   "outputs": [
    {
     "data": {
      "text/plain": [
       "Index(['a', 'b', 'c', 'd', 'e', 'f'], dtype='object')"
      ]
     },
     "execution_count": 252,
     "metadata": {},
     "output_type": "execute_result"
    }
   ],
   "source": [
    "ds.index"
   ]
  },
  {
   "cell_type": "code",
   "execution_count": 253,
   "metadata": {},
   "outputs": [
    {
     "data": {
      "text/plain": [
       "array(['X', 'Y', 5, 2.5, 'X', 'Y'], dtype=object)"
      ]
     },
     "execution_count": 253,
     "metadata": {},
     "output_type": "execute_result"
    }
   ],
   "source": [
    "ds.values"
   ]
  },
  {
   "cell_type": "code",
   "execution_count": 262,
   "metadata": {},
   "outputs": [
    {
     "data": {
      "text/plain": [
       "'X'"
      ]
     },
     "execution_count": 262,
     "metadata": {},
     "output_type": "execute_result"
    }
   ],
   "source": [
    "ds.values"
   ]
  },
  {
   "cell_type": "code",
   "execution_count": 264,
   "metadata": {},
   "outputs": [
    {
     "data": {
      "text/plain": [
       "(6,)"
      ]
     },
     "execution_count": 264,
     "metadata": {},
     "output_type": "execute_result"
    }
   ],
   "source": [
    "ds.shape"
   ]
  },
  {
   "cell_type": "code",
   "execution_count": 265,
   "metadata": {},
   "outputs": [
    {
     "data": {
      "text/plain": [
       "6"
      ]
     },
     "execution_count": 265,
     "metadata": {},
     "output_type": "execute_result"
    }
   ],
   "source": [
    "ds.size"
   ]
  },
  {
   "cell_type": "code",
   "execution_count": 266,
   "metadata": {},
   "outputs": [
    {
     "data": {
      "text/plain": [
       "1"
      ]
     },
     "execution_count": 266,
     "metadata": {},
     "output_type": "execute_result"
    }
   ],
   "source": [
    "ds.ndim"
   ]
  },
  {
   "cell_type": "code",
   "execution_count": 268,
   "metadata": {},
   "outputs": [
    {
     "data": {
      "text/plain": [
       "a    X\n",
       "b    Y\n",
       "dtype: object"
      ]
     },
     "execution_count": 268,
     "metadata": {},
     "output_type": "execute_result"
    }
   ],
   "source": [
    "ds.head(2)"
   ]
  },
  {
   "cell_type": "code",
   "execution_count": 271,
   "metadata": {},
   "outputs": [
    {
     "data": {
      "text/plain": [
       "False"
      ]
     },
     "execution_count": 271,
     "metadata": {},
     "output_type": "execute_result"
    }
   ],
   "source": [
    "1 in ds  #index"
   ]
  },
  {
   "cell_type": "code",
   "execution_count": 270,
   "metadata": {},
   "outputs": [
    {
     "data": {
      "text/plain": [
       "True"
      ]
     },
     "execution_count": 270,
     "metadata": {},
     "output_type": "execute_result"
    }
   ],
   "source": [
    "'a' in ds"
   ]
  },
  {
   "cell_type": "code",
   "execution_count": 272,
   "metadata": {},
   "outputs": [
    {
     "data": {
      "text/plain": [
       "True"
      ]
     },
     "execution_count": 272,
     "metadata": {},
     "output_type": "execute_result"
    }
   ],
   "source": [
    "'X' in ds.values"
   ]
  },
  {
   "cell_type": "code",
   "execution_count": 286,
   "metadata": {},
   "outputs": [],
   "source": [
    "ds.loc['c'] = 10"
   ]
  },
  {
   "cell_type": "code",
   "execution_count": 287,
   "metadata": {},
   "outputs": [
    {
     "data": {
      "text/plain": [
       "a      X\n",
       "b      Y\n",
       "c     10\n",
       "d    2.5\n",
       "e      X\n",
       "f      Y\n",
       "dtype: object"
      ]
     },
     "execution_count": 287,
     "metadata": {},
     "output_type": "execute_result"
    }
   ],
   "source": [
    "ds"
   ]
  },
  {
   "cell_type": "code",
   "execution_count": 288,
   "metadata": {},
   "outputs": [
    {
     "data": {
      "text/plain": [
       "a      X\n",
       "b      Y\n",
       "c     10\n",
       "d    2.5\n",
       "dtype: object"
      ]
     },
     "execution_count": 288,
     "metadata": {},
     "output_type": "execute_result"
    }
   ],
   "source": [
    "ds.drop(['e','f'])"
   ]
  },
  {
   "cell_type": "code",
   "execution_count": 289,
   "metadata": {},
   "outputs": [
    {
     "data": {
      "text/plain": [
       "a      X\n",
       "b      Y\n",
       "c     10\n",
       "d    2.5\n",
       "e      X\n",
       "f      Y\n",
       "dtype: object"
      ]
     },
     "execution_count": 289,
     "metadata": {},
     "output_type": "execute_result"
    }
   ],
   "source": [
    "ds"
   ]
  },
  {
   "cell_type": "code",
   "execution_count": 290,
   "metadata": {},
   "outputs": [],
   "source": [
    "ds.drop(['e','f'], inplace=True)"
   ]
  },
  {
   "cell_type": "code",
   "execution_count": 291,
   "metadata": {},
   "outputs": [
    {
     "data": {
      "text/plain": [
       "a      X\n",
       "b      Y\n",
       "c     10\n",
       "d    2.5\n",
       "dtype: object"
      ]
     },
     "execution_count": 291,
     "metadata": {},
     "output_type": "execute_result"
    }
   ],
   "source": [
    "ds"
   ]
  },
  {
   "cell_type": "code",
   "execution_count": 292,
   "metadata": {},
   "outputs": [],
   "source": [
    "ds = pd.Series(data = [1, 5, 10, 20, 30], index = ['apple', 'orange', 'banana', 'mango', 'pineapple'])"
   ]
  },
  {
   "cell_type": "code",
   "execution_count": 293,
   "metadata": {},
   "outputs": [
    {
     "data": {
      "text/plain": [
       "apple         1\n",
       "orange        5\n",
       "banana       10\n",
       "mango        20\n",
       "pineapple    30\n",
       "dtype: int64"
      ]
     },
     "execution_count": 293,
     "metadata": {},
     "output_type": "execute_result"
    }
   ],
   "source": [
    "ds"
   ]
  },
  {
   "cell_type": "code",
   "execution_count": 294,
   "metadata": {},
   "outputs": [
    {
     "data": {
      "text/plain": [
       "apple         0.5\n",
       "orange        2.5\n",
       "banana        5.0\n",
       "mango        10.0\n",
       "pineapple    15.0\n",
       "dtype: float64"
      ]
     },
     "execution_count": 294,
     "metadata": {},
     "output_type": "execute_result"
    }
   ],
   "source": [
    "ds/2"
   ]
  },
  {
   "cell_type": "code",
   "execution_count": 295,
   "metadata": {},
   "outputs": [
    {
     "data": {
      "text/plain": [
       "apple         0\n",
       "orange        2\n",
       "banana        5\n",
       "mango        10\n",
       "pineapple    15\n",
       "dtype: int64"
      ]
     },
     "execution_count": 295,
     "metadata": {},
     "output_type": "execute_result"
    }
   ],
   "source": [
    "ds//2"
   ]
  },
  {
   "cell_type": "code",
   "execution_count": 296,
   "metadata": {},
   "outputs": [
    {
     "data": {
      "text/plain": [
       "apple        1\n",
       "orange       1\n",
       "banana       0\n",
       "mango        0\n",
       "pineapple    0\n",
       "dtype: int64"
      ]
     },
     "execution_count": 296,
     "metadata": {},
     "output_type": "execute_result"
    }
   ],
   "source": [
    "ds%2"
   ]
  },
  {
   "cell_type": "code",
   "execution_count": 297,
   "metadata": {},
   "outputs": [
    {
     "data": {
      "text/plain": [
       "apple        1.000000\n",
       "orange       2.236068\n",
       "banana       3.162278\n",
       "mango        4.472136\n",
       "pineapple    5.477226\n",
       "dtype: float64"
      ]
     },
     "execution_count": 297,
     "metadata": {},
     "output_type": "execute_result"
    }
   ],
   "source": [
    "np.sqrt(ds)"
   ]
  },
  {
   "cell_type": "code",
   "execution_count": 298,
   "metadata": {},
   "outputs": [
    {
     "data": {
      "text/plain": [
       "apple               1\n",
       "orange           3125\n",
       "banana         100000\n",
       "mango         3200000\n",
       "pineapple    24300000\n",
       "dtype: int64"
      ]
     },
     "execution_count": 298,
     "metadata": {},
     "output_type": "execute_result"
    }
   ],
   "source": [
    "np.power(ds,5)"
   ]
  },
  {
   "cell_type": "code",
   "execution_count": 299,
   "metadata": {},
   "outputs": [
    {
     "data": {
      "text/plain": [
       "5.0"
      ]
     },
     "execution_count": 299,
     "metadata": {},
     "output_type": "execute_result"
    }
   ],
   "source": [
    "ds.iloc[2]/2"
   ]
  },
  {
   "cell_type": "code",
   "execution_count": 302,
   "metadata": {},
   "outputs": [
    {
     "data": {
      "text/plain": [
       "banana     5.0\n",
       "mango     10.0\n",
       "dtype: float64"
      ]
     },
     "execution_count": 302,
     "metadata": {},
     "output_type": "execute_result"
    }
   ],
   "source": [
    "ds.iloc[[2,3]]/2"
   ]
  },
  {
   "cell_type": "code",
   "execution_count": 305,
   "metadata": {},
   "outputs": [
    {
     "data": {
      "text/plain": [
       "banana    10\n",
       "apple      1\n",
       "dtype: int64"
      ]
     },
     "execution_count": 305,
     "metadata": {},
     "output_type": "execute_result"
    }
   ],
   "source": [
    "ds.loc[['banana','apple']]"
   ]
  },
  {
   "cell_type": "code",
   "execution_count": 313,
   "metadata": {},
   "outputs": [
    {
     "data": {
      "text/plain": [
       "apple          4\n",
       "orange        20\n",
       "banana        40\n",
       "mango         80\n",
       "pineapple    120\n",
       "dtype: int64"
      ]
     },
     "execution_count": 313,
     "metadata": {},
     "output_type": "execute_result"
    }
   ],
   "source": [
    "ds.apply(lambda x: x*len('food'))"
   ]
  },
  {
   "cell_type": "code",
   "execution_count": 326,
   "metadata": {},
   "outputs": [
    {
     "data": {
      "text/plain": [
       "apple         1\n",
       "orange        5\n",
       "banana       10\n",
       "mango        20\n",
       "pineapple    30\n",
       "dtype: int64"
      ]
     },
     "execution_count": 326,
     "metadata": {},
     "output_type": "execute_result"
    }
   ],
   "source": [
    "ds"
   ]
  },
  {
   "cell_type": "code",
   "execution_count": 327,
   "metadata": {},
   "outputs": [
    {
     "data": {
      "text/plain": [
       "apple          5\n",
       "orange        30\n",
       "banana        60\n",
       "mango        100\n",
       "pineapple    270\n",
       "dtype: int64"
      ]
     },
     "execution_count": 327,
     "metadata": {},
     "output_type": "execute_result"
    }
   ],
   "source": [
    "ds.apply(lambda x: x*len(ds[ds == x].index[0]))  # accessing the index"
   ]
  },
  {
   "cell_type": "code",
   "execution_count": 319,
   "metadata": {},
   "outputs": [
    {
     "data": {
      "text/plain": [
       "6"
      ]
     },
     "execution_count": 319,
     "metadata": {},
     "output_type": "execute_result"
    }
   ],
   "source": [
    "len(ds[ds == 10].index[0])"
   ]
  },
  {
   "cell_type": "code",
   "execution_count": 324,
   "metadata": {},
   "outputs": [
    {
     "data": {
      "text/plain": [
       "'banana'"
      ]
     },
     "execution_count": 324,
     "metadata": {},
     "output_type": "execute_result"
    }
   ],
   "source": [
    "ds[ds == 10].index[0]"
   ]
  },
  {
   "cell_type": "code",
   "execution_count": 328,
   "metadata": {},
   "outputs": [
    {
     "data": {
      "text/plain": [
       "apple         1\n",
       "orange        5\n",
       "banana       10\n",
       "mango        20\n",
       "pineapple    30\n",
       "dtype: int64"
      ]
     },
     "execution_count": 328,
     "metadata": {},
     "output_type": "execute_result"
    }
   ],
   "source": [
    "ds"
   ]
  },
  {
   "cell_type": "code",
   "execution_count": 329,
   "metadata": {},
   "outputs": [
    {
     "data": {
      "text/plain": [
       "apple         95\n",
       "orange       119\n",
       "banana       194\n",
       "mango        494\n",
       "pineapple    994\n",
       "dtype: int64"
      ]
     },
     "execution_count": 329,
     "metadata": {},
     "output_type": "execute_result"
    }
   ],
   "source": [
    "def complex(x):\n",
    "    return x**2 +110 -16\n",
    "\n",
    "ds.apply(lambda x: complex(x))"
   ]
  },
  {
   "cell_type": "code",
   "execution_count": 330,
   "metadata": {},
   "outputs": [
    {
     "data": {
      "text/plain": [
       "apple         95\n",
       "orange       119\n",
       "banana       194\n",
       "mango        494\n",
       "pineapple    994\n",
       "dtype: int64"
      ]
     },
     "execution_count": 330,
     "metadata": {},
     "output_type": "execute_result"
    }
   ],
   "source": [
    "ds.apply(complex)"
   ]
  },
  {
   "cell_type": "code",
   "execution_count": 331,
   "metadata": {},
   "outputs": [],
   "source": [
    "dsnew = ds.apply(complex)"
   ]
  },
  {
   "cell_type": "code",
   "execution_count": 332,
   "metadata": {},
   "outputs": [
    {
     "data": {
      "text/plain": [
       "apple         1\n",
       "orange        5\n",
       "banana       10\n",
       "mango        20\n",
       "pineapple    30\n",
       "dtype: int64"
      ]
     },
     "execution_count": 332,
     "metadata": {},
     "output_type": "execute_result"
    }
   ],
   "source": [
    "ds"
   ]
  },
  {
   "cell_type": "code",
   "execution_count": 333,
   "metadata": {},
   "outputs": [
    {
     "data": {
      "text/plain": [
       "apple         95\n",
       "orange       119\n",
       "banana       194\n",
       "mango        494\n",
       "pineapple    994\n",
       "dtype: int64"
      ]
     },
     "execution_count": 333,
     "metadata": {},
     "output_type": "execute_result"
    }
   ],
   "source": [
    "dsnew"
   ]
  },
  {
   "cell_type": "code",
   "execution_count": 357,
   "metadata": {},
   "outputs": [
    {
     "name": "stdout",
     "output_type": "stream",
     "text": [
      "95\n",
      "119\n",
      "194\n"
     ]
    },
    {
     "data": {
      "text/plain": [
       "apple        False\n",
       "orange       False\n",
       "banana       False\n",
       "mango         True\n",
       "pineapple     True\n",
       "dtype: bool"
      ]
     },
     "execution_count": 357,
     "metadata": {},
     "output_type": "execute_result"
    }
   ],
   "source": [
    "def num_string(x):\n",
    "    if((str(x)[0] in ['4', '9']) and (str(x)[-1] in ['4', '9'])):\n",
    "        return True\n",
    "    else:\n",
    "        print(str(x))\n",
    "        return False\n",
    "dsnew.apply(lambda x: num_string(x))    "
   ]
  },
  {
   "cell_type": "code",
   "execution_count": 358,
   "metadata": {},
   "outputs": [
    {
     "name": "stdout",
     "output_type": "stream",
     "text": [
      "95\n",
      "119\n",
      "194\n"
     ]
    }
   ],
   "source": [
    "dsnew2 = dsnew.apply(lambda x: num_string(x))    "
   ]
  },
  {
   "cell_type": "code",
   "execution_count": 360,
   "metadata": {},
   "outputs": [
    {
     "data": {
      "text/plain": [
       "mango        True\n",
       "pineapple    True\n",
       "dtype: bool"
      ]
     },
     "execution_count": 360,
     "metadata": {},
     "output_type": "execute_result"
    }
   ],
   "source": [
    "dsnew2.loc[dsnew2.values == True]"
   ]
  },
  {
   "cell_type": "code",
   "execution_count": 359,
   "metadata": {},
   "outputs": [
    {
     "data": {
      "text/plain": [
       "array([False, False, False,  True,  True])"
      ]
     },
     "execution_count": 359,
     "metadata": {},
     "output_type": "execute_result"
    }
   ],
   "source": [
    "dsnew2.values == True"
   ]
  },
  {
   "cell_type": "code",
   "execution_count": 361,
   "metadata": {},
   "outputs": [
    {
     "data": {
      "text/plain": [
       "1    A\n",
       "2    B\n",
       "3    C\n",
       "dtype: object"
      ]
     },
     "execution_count": 361,
     "metadata": {},
     "output_type": "execute_result"
    }
   ],
   "source": [
    "pd.Series(['A', 'B', 'C'], index=['1','2','3'])"
   ]
  },
  {
   "cell_type": "code",
   "execution_count": 363,
   "metadata": {},
   "outputs": [
    {
     "data": {
      "text/plain": [
       "4    D\n",
       "2    B\n",
       "3    C\n",
       "dtype: object"
      ]
     },
     "execution_count": 363,
     "metadata": {},
     "output_type": "execute_result"
    }
   ],
   "source": [
    "pd.Series(['D', 'B', 'C'], index=['4','2','3'])"
   ]
  },
  {
   "cell_type": "code",
   "execution_count": 364,
   "metadata": {},
   "outputs": [
    {
     "data": {
      "text/html": [
       "<div>\n",
       "<style scoped>\n",
       "    .dataframe tbody tr th:only-of-type {\n",
       "        vertical-align: middle;\n",
       "    }\n",
       "\n",
       "    .dataframe tbody tr th {\n",
       "        vertical-align: top;\n",
       "    }\n",
       "\n",
       "    .dataframe thead th {\n",
       "        text-align: right;\n",
       "    }\n",
       "</style>\n",
       "<table border=\"1\" class=\"dataframe\">\n",
       "  <thead>\n",
       "    <tr style=\"text-align: right;\">\n",
       "      <th></th>\n",
       "      <th>col1</th>\n",
       "      <th>col2</th>\n",
       "    </tr>\n",
       "  </thead>\n",
       "  <tbody>\n",
       "    <tr>\n",
       "      <th>1</th>\n",
       "      <td>A</td>\n",
       "      <td>NaN</td>\n",
       "    </tr>\n",
       "    <tr>\n",
       "      <th>2</th>\n",
       "      <td>B</td>\n",
       "      <td>B</td>\n",
       "    </tr>\n",
       "    <tr>\n",
       "      <th>3</th>\n",
       "      <td>C</td>\n",
       "      <td>C</td>\n",
       "    </tr>\n",
       "    <tr>\n",
       "      <th>4</th>\n",
       "      <td>NaN</td>\n",
       "      <td>D</td>\n",
       "    </tr>\n",
       "  </tbody>\n",
       "</table>\n",
       "</div>"
      ],
      "text/plain": [
       "  col1 col2\n",
       "1    A  NaN\n",
       "2    B    B\n",
       "3    C    C\n",
       "4  NaN    D"
      ]
     },
     "execution_count": 364,
     "metadata": {},
     "output_type": "execute_result"
    }
   ],
   "source": [
    "items = {'col1': pd.Series(['A', 'B', 'C'], index=['1','2','3']), 'col2': pd.Series(['D', 'B', 'C'], index=['4','2','3'])}\n",
    "pd.DataFrame(items)"
   ]
  },
  {
   "cell_type": "code",
   "execution_count": 379,
   "metadata": {},
   "outputs": [
    {
     "data": {
      "text/html": [
       "<div>\n",
       "<style scoped>\n",
       "    .dataframe tbody tr th:only-of-type {\n",
       "        vertical-align: middle;\n",
       "    }\n",
       "\n",
       "    .dataframe tbody tr th {\n",
       "        vertical-align: top;\n",
       "    }\n",
       "\n",
       "    .dataframe thead th {\n",
       "        text-align: right;\n",
       "    }\n",
       "</style>\n",
       "<table border=\"1\" class=\"dataframe\">\n",
       "  <thead>\n",
       "    <tr style=\"text-align: right;\">\n",
       "      <th></th>\n",
       "      <th>col1</th>\n",
       "      <th>col2</th>\n",
       "    </tr>\n",
       "  </thead>\n",
       "  <tbody>\n",
       "    <tr>\n",
       "      <th>0</th>\n",
       "      <td>A</td>\n",
       "      <td>D</td>\n",
       "    </tr>\n",
       "    <tr>\n",
       "      <th>1</th>\n",
       "      <td>B</td>\n",
       "      <td>B</td>\n",
       "    </tr>\n",
       "    <tr>\n",
       "      <th>2</th>\n",
       "      <td>C</td>\n",
       "      <td>C</td>\n",
       "    </tr>\n",
       "    <tr>\n",
       "      <th>3</th>\n",
       "      <td>NaN</td>\n",
       "      <td>E</td>\n",
       "    </tr>\n",
       "  </tbody>\n",
       "</table>\n",
       "</div>"
      ],
      "text/plain": [
       "  col1 col2\n",
       "0    A    D\n",
       "1    B    B\n",
       "2    C    C\n",
       "3  NaN    E"
      ]
     },
     "execution_count": 379,
     "metadata": {},
     "output_type": "execute_result"
    }
   ],
   "source": [
    "items = {'col1': pd.Series(['A', 'B', 'C']), 'col2':pd.Series(['D', 'B', 'C','E'])} # if length is not similar can't do array only \n",
    "# need to make it intoseries, then it will give you nan , for last of shorter list\n",
    "pd.DataFrame(data = items)"
   ]
  },
  {
   "cell_type": "code",
   "execution_count": 377,
   "metadata": {},
   "outputs": [
    {
     "data": {
      "text/html": [
       "<div>\n",
       "<style scoped>\n",
       "    .dataframe tbody tr th:only-of-type {\n",
       "        vertical-align: middle;\n",
       "    }\n",
       "\n",
       "    .dataframe tbody tr th {\n",
       "        vertical-align: top;\n",
       "    }\n",
       "\n",
       "    .dataframe thead th {\n",
       "        text-align: right;\n",
       "    }\n",
       "</style>\n",
       "<table border=\"1\" class=\"dataframe\">\n",
       "  <thead>\n",
       "    <tr style=\"text-align: right;\">\n",
       "      <th></th>\n",
       "      <th>col1</th>\n",
       "      <th>col2</th>\n",
       "    </tr>\n",
       "  </thead>\n",
       "  <tbody>\n",
       "    <tr>\n",
       "      <th>0</th>\n",
       "      <td>A</td>\n",
       "      <td>D</td>\n",
       "    </tr>\n",
       "    <tr>\n",
       "      <th>1</th>\n",
       "      <td>B</td>\n",
       "      <td>B</td>\n",
       "    </tr>\n",
       "    <tr>\n",
       "      <th>2</th>\n",
       "      <td>C</td>\n",
       "      <td>C</td>\n",
       "    </tr>\n",
       "  </tbody>\n",
       "</table>\n",
       "</div>"
      ],
      "text/plain": [
       "  col1 col2\n",
       "0    A    D\n",
       "1    B    B\n",
       "2    C    C"
      ]
     },
     "execution_count": 377,
     "metadata": {},
     "output_type": "execute_result"
    }
   ],
   "source": [
    "items = {'col1': ['A', 'B', 'C'], 'col2':['D', 'B', 'C']}  # BETTER\n",
    "pd.DataFrame(data = items)"
   ]
  },
  {
   "cell_type": "code",
   "execution_count": 367,
   "metadata": {},
   "outputs": [
    {
     "data": {
      "text/html": [
       "<div>\n",
       "<style scoped>\n",
       "    .dataframe tbody tr th:only-of-type {\n",
       "        vertical-align: middle;\n",
       "    }\n",
       "\n",
       "    .dataframe tbody tr th {\n",
       "        vertical-align: top;\n",
       "    }\n",
       "\n",
       "    .dataframe thead th {\n",
       "        text-align: right;\n",
       "    }\n",
       "</style>\n",
       "<table border=\"1\" class=\"dataframe\">\n",
       "  <thead>\n",
       "    <tr style=\"text-align: right;\">\n",
       "      <th></th>\n",
       "      <th>col1</th>\n",
       "      <th>col2</th>\n",
       "    </tr>\n",
       "  </thead>\n",
       "  <tbody>\n",
       "    <tr>\n",
       "      <th>1</th>\n",
       "      <td>A</td>\n",
       "      <td>D</td>\n",
       "    </tr>\n",
       "    <tr>\n",
       "      <th>2</th>\n",
       "      <td>B</td>\n",
       "      <td>B</td>\n",
       "    </tr>\n",
       "    <tr>\n",
       "      <th>3</th>\n",
       "      <td>C</td>\n",
       "      <td>C</td>\n",
       "    </tr>\n",
       "  </tbody>\n",
       "</table>\n",
       "</div>"
      ],
      "text/plain": [
       "  col1 col2\n",
       "1    A    D\n",
       "2    B    B\n",
       "3    C    C"
      ]
     },
     "execution_count": 367,
     "metadata": {},
     "output_type": "execute_result"
    }
   ],
   "source": [
    "items = {'col1': ['A', 'B', 'C'], 'col2':['D', 'B', 'C']}\n",
    "pd.DataFrame(data = items, index = ['1','2','3'])"
   ]
  },
  {
   "cell_type": "code",
   "execution_count": 372,
   "metadata": {},
   "outputs": [
    {
     "data": {
      "text/html": [
       "<div>\n",
       "<style scoped>\n",
       "    .dataframe tbody tr th:only-of-type {\n",
       "        vertical-align: middle;\n",
       "    }\n",
       "\n",
       "    .dataframe tbody tr th {\n",
       "        vertical-align: top;\n",
       "    }\n",
       "\n",
       "    .dataframe thead th {\n",
       "        text-align: right;\n",
       "    }\n",
       "</style>\n",
       "<table border=\"1\" class=\"dataframe\">\n",
       "  <thead>\n",
       "    <tr style=\"text-align: right;\">\n",
       "      <th></th>\n",
       "      <th>col1</th>\n",
       "      <th>col2</th>\n",
       "      <th>col3</th>\n",
       "    </tr>\n",
       "  </thead>\n",
       "  <tbody>\n",
       "    <tr>\n",
       "      <th>0</th>\n",
       "      <td>A</td>\n",
       "      <td>B</td>\n",
       "      <td>C</td>\n",
       "    </tr>\n",
       "    <tr>\n",
       "      <th>1</th>\n",
       "      <td>D</td>\n",
       "      <td>B</td>\n",
       "      <td>C</td>\n",
       "    </tr>\n",
       "  </tbody>\n",
       "</table>\n",
       "</div>"
      ],
      "text/plain": [
       "  col1 col2 col3\n",
       "0    A    B    C\n",
       "1    D    B    C"
      ]
     },
     "execution_count": 372,
     "metadata": {},
     "output_type": "execute_result"
    }
   ],
   "source": [
    "pd.DataFrame([['A', 'B', 'C'],['D', 'B', 'C']], columns=['col1','col2','col3'])  # BETTER"
   ]
  },
  {
   "cell_type": "code",
   "execution_count": 383,
   "metadata": {},
   "outputs": [
    {
     "data": {
      "text/html": [
       "<div>\n",
       "<style scoped>\n",
       "    .dataframe tbody tr th:only-of-type {\n",
       "        vertical-align: middle;\n",
       "    }\n",
       "\n",
       "    .dataframe tbody tr th {\n",
       "        vertical-align: top;\n",
       "    }\n",
       "\n",
       "    .dataframe thead th {\n",
       "        text-align: right;\n",
       "    }\n",
       "</style>\n",
       "<table border=\"1\" class=\"dataframe\">\n",
       "  <thead>\n",
       "    <tr style=\"text-align: right;\">\n",
       "      <th></th>\n",
       "      <th>col1</th>\n",
       "      <th>col2</th>\n",
       "      <th>col3</th>\n",
       "    </tr>\n",
       "  </thead>\n",
       "  <tbody>\n",
       "    <tr>\n",
       "      <th>STORE1</th>\n",
       "      <td>1</td>\n",
       "      <td>2</td>\n",
       "      <td>3</td>\n",
       "    </tr>\n",
       "    <tr>\n",
       "      <th>STORE2</th>\n",
       "      <td>10</td>\n",
       "      <td>20</td>\n",
       "      <td>30</td>\n",
       "    </tr>\n",
       "  </tbody>\n",
       "</table>\n",
       "</div>"
      ],
      "text/plain": [
       "        col1  col2  col3\n",
       "STORE1     1     2     3\n",
       "STORE2    10    20    30"
      ]
     },
     "execution_count": 383,
     "metadata": {},
     "output_type": "execute_result"
    }
   ],
   "source": [
    "pd.DataFrame([{'col1':1, 'col2':2, 'col3':3}, {'col1':10, 'col2':20, 'col3':30}], index=['STORE1','STORE2'])"
   ]
  },
  {
   "cell_type": "code",
   "execution_count": 394,
   "metadata": {},
   "outputs": [
    {
     "data": {
      "text/html": [
       "<div>\n",
       "<style scoped>\n",
       "    .dataframe tbody tr th:only-of-type {\n",
       "        vertical-align: middle;\n",
       "    }\n",
       "\n",
       "    .dataframe tbody tr th {\n",
       "        vertical-align: top;\n",
       "    }\n",
       "\n",
       "    .dataframe thead th {\n",
       "        text-align: right;\n",
       "    }\n",
       "</style>\n",
       "<table border=\"1\" class=\"dataframe\">\n",
       "  <thead>\n",
       "    <tr style=\"text-align: right;\">\n",
       "      <th></th>\n",
       "      <th>i</th>\n",
       "      <th>v</th>\n",
       "      <th>h</th>\n",
       "      <th>o</th>\n",
       "      <th>d</th>\n",
       "      <th>e</th>\n",
       "      <th>w</th>\n",
       "      <th>s</th>\n",
       "      <th>t</th>\n",
       "      <th>a</th>\n",
       "    </tr>\n",
       "  </thead>\n",
       "  <tbody>\n",
       "    <tr>\n",
       "      <th>a</th>\n",
       "      <td>0.679112</td>\n",
       "      <td>0.544986</td>\n",
       "      <td>0.737490</td>\n",
       "      <td>0.985943</td>\n",
       "      <td>0.833520</td>\n",
       "      <td>0.945524</td>\n",
       "      <td>0.462001</td>\n",
       "      <td>0.003187</td>\n",
       "      <td>0.063810</td>\n",
       "      <td>0.396961</td>\n",
       "    </tr>\n",
       "    <tr>\n",
       "      <th>t</th>\n",
       "      <td>0.765539</td>\n",
       "      <td>0.124520</td>\n",
       "      <td>0.650473</td>\n",
       "      <td>0.684614</td>\n",
       "      <td>0.310168</td>\n",
       "      <td>0.819933</td>\n",
       "      <td>0.144049</td>\n",
       "      <td>0.384185</td>\n",
       "      <td>0.687624</td>\n",
       "      <td>0.117842</td>\n",
       "    </tr>\n",
       "    <tr>\n",
       "      <th>s</th>\n",
       "      <td>0.955791</td>\n",
       "      <td>0.233033</td>\n",
       "      <td>0.596517</td>\n",
       "      <td>0.920421</td>\n",
       "      <td>0.496173</td>\n",
       "      <td>0.657064</td>\n",
       "      <td>0.257274</td>\n",
       "      <td>0.085536</td>\n",
       "      <td>0.615843</td>\n",
       "      <td>0.793267</td>\n",
       "    </tr>\n",
       "    <tr>\n",
       "      <th>w</th>\n",
       "      <td>0.030722</td>\n",
       "      <td>0.063495</td>\n",
       "      <td>0.687131</td>\n",
       "      <td>0.881090</td>\n",
       "      <td>0.113267</td>\n",
       "      <td>0.995544</td>\n",
       "      <td>0.614112</td>\n",
       "      <td>0.276493</td>\n",
       "      <td>0.664554</td>\n",
       "      <td>0.341104</td>\n",
       "    </tr>\n",
       "    <tr>\n",
       "      <th>e</th>\n",
       "      <td>0.976542</td>\n",
       "      <td>0.922842</td>\n",
       "      <td>0.422902</td>\n",
       "      <td>0.178841</td>\n",
       "      <td>0.030780</td>\n",
       "      <td>0.349001</td>\n",
       "      <td>0.035248</td>\n",
       "      <td>0.953751</td>\n",
       "      <td>0.388730</td>\n",
       "      <td>0.447874</td>\n",
       "    </tr>\n",
       "    <tr>\n",
       "      <th>d</th>\n",
       "      <td>0.847946</td>\n",
       "      <td>0.981191</td>\n",
       "      <td>0.380056</td>\n",
       "      <td>0.078312</td>\n",
       "      <td>0.299548</td>\n",
       "      <td>0.326474</td>\n",
       "      <td>0.494723</td>\n",
       "      <td>0.770386</td>\n",
       "      <td>0.488235</td>\n",
       "      <td>0.562492</td>\n",
       "    </tr>\n",
       "    <tr>\n",
       "      <th>o</th>\n",
       "      <td>0.463392</td>\n",
       "      <td>0.869829</td>\n",
       "      <td>0.404223</td>\n",
       "      <td>0.670382</td>\n",
       "      <td>0.672282</td>\n",
       "      <td>0.380944</td>\n",
       "      <td>0.145511</td>\n",
       "      <td>0.850375</td>\n",
       "      <td>0.688365</td>\n",
       "      <td>0.343941</td>\n",
       "    </tr>\n",
       "    <tr>\n",
       "      <th>h</th>\n",
       "      <td>0.640114</td>\n",
       "      <td>0.946138</td>\n",
       "      <td>0.928628</td>\n",
       "      <td>0.999936</td>\n",
       "      <td>0.267010</td>\n",
       "      <td>0.420226</td>\n",
       "      <td>0.340667</td>\n",
       "      <td>0.821025</td>\n",
       "      <td>0.517482</td>\n",
       "      <td>0.188638</td>\n",
       "    </tr>\n",
       "    <tr>\n",
       "      <th>v</th>\n",
       "      <td>0.525827</td>\n",
       "      <td>0.439817</td>\n",
       "      <td>0.099782</td>\n",
       "      <td>0.907681</td>\n",
       "      <td>0.091527</td>\n",
       "      <td>0.659032</td>\n",
       "      <td>0.318691</td>\n",
       "      <td>0.559356</td>\n",
       "      <td>0.230285</td>\n",
       "      <td>0.757358</td>\n",
       "    </tr>\n",
       "    <tr>\n",
       "      <th>i</th>\n",
       "      <td>0.761234</td>\n",
       "      <td>0.002547</td>\n",
       "      <td>0.900838</td>\n",
       "      <td>0.119537</td>\n",
       "      <td>0.390424</td>\n",
       "      <td>0.109541</td>\n",
       "      <td>0.777234</td>\n",
       "      <td>0.133010</td>\n",
       "      <td>0.033756</td>\n",
       "      <td>0.088330</td>\n",
       "    </tr>\n",
       "  </tbody>\n",
       "</table>\n",
       "</div>"
      ],
      "text/plain": [
       "          i         v         h         o         d         e         w  \\\n",
       "a  0.679112  0.544986  0.737490  0.985943  0.833520  0.945524  0.462001   \n",
       "t  0.765539  0.124520  0.650473  0.684614  0.310168  0.819933  0.144049   \n",
       "s  0.955791  0.233033  0.596517  0.920421  0.496173  0.657064  0.257274   \n",
       "w  0.030722  0.063495  0.687131  0.881090  0.113267  0.995544  0.614112   \n",
       "e  0.976542  0.922842  0.422902  0.178841  0.030780  0.349001  0.035248   \n",
       "d  0.847946  0.981191  0.380056  0.078312  0.299548  0.326474  0.494723   \n",
       "o  0.463392  0.869829  0.404223  0.670382  0.672282  0.380944  0.145511   \n",
       "h  0.640114  0.946138  0.928628  0.999936  0.267010  0.420226  0.340667   \n",
       "v  0.525827  0.439817  0.099782  0.907681  0.091527  0.659032  0.318691   \n",
       "i  0.761234  0.002547  0.900838  0.119537  0.390424  0.109541  0.777234   \n",
       "\n",
       "          s         t         a  \n",
       "a  0.003187  0.063810  0.396961  \n",
       "t  0.384185  0.687624  0.117842  \n",
       "s  0.085536  0.615843  0.793267  \n",
       "w  0.276493  0.664554  0.341104  \n",
       "e  0.953751  0.388730  0.447874  \n",
       "d  0.770386  0.488235  0.562492  \n",
       "o  0.850375  0.688365  0.343941  \n",
       "h  0.821025  0.517482  0.188638  \n",
       "v  0.559356  0.230285  0.757358  \n",
       "i  0.133010  0.033756  0.088330  "
      ]
     },
     "execution_count": 394,
     "metadata": {},
     "output_type": "execute_result"
    }
   ],
   "source": [
    "text = 'thisisatestihavetodowww'\n",
    "\n",
    "col_name = [name for name in list(set(text))]\n",
    "index_name = col_name[::-1]\n",
    "pd.DataFrame(np.random.random(100).reshape(10,10), columns=col_name[0:10], index=index_name[0:10])"
   ]
  },
  {
   "cell_type": "code",
   "execution_count": 390,
   "metadata": {},
   "outputs": [
    {
     "data": {
      "text/plain": [
       "['i', 'v', 'h', 'o', 'd', 'e', 's', 't', 'a']"
      ]
     },
     "execution_count": 390,
     "metadata": {},
     "output_type": "execute_result"
    }
   ],
   "source": [
    "col_name"
   ]
  },
  {
   "cell_type": "code",
   "execution_count": 392,
   "metadata": {},
   "outputs": [
    {
     "data": {
      "text/plain": [
       "{'a', 'd', 'e', 'h', 'i', 'o', 's', 't', 'v', 'w'}"
      ]
     },
     "execution_count": 392,
     "metadata": {},
     "output_type": "execute_result"
    }
   ],
   "source": [
    "set(text)"
   ]
  },
  {
   "cell_type": "code",
   "execution_count": 395,
   "metadata": {},
   "outputs": [],
   "source": [
    "df = pd.DataFrame(np.random.random(100).reshape(10,10), columns=col_name[0:10], index=index_name[0:10])"
   ]
  },
  {
   "cell_type": "code",
   "execution_count": 402,
   "metadata": {},
   "outputs": [
    {
     "data": {
      "text/html": [
       "<div>\n",
       "<style scoped>\n",
       "    .dataframe tbody tr th:only-of-type {\n",
       "        vertical-align: middle;\n",
       "    }\n",
       "\n",
       "    .dataframe tbody tr th {\n",
       "        vertical-align: top;\n",
       "    }\n",
       "\n",
       "    .dataframe thead th {\n",
       "        text-align: right;\n",
       "    }\n",
       "</style>\n",
       "<table border=\"1\" class=\"dataframe\">\n",
       "  <thead>\n",
       "    <tr style=\"text-align: right;\">\n",
       "      <th></th>\n",
       "      <th>i</th>\n",
       "      <th>v</th>\n",
       "    </tr>\n",
       "  </thead>\n",
       "  <tbody>\n",
       "    <tr>\n",
       "      <th>a</th>\n",
       "      <td>0.237449</td>\n",
       "      <td>0.580469</td>\n",
       "    </tr>\n",
       "    <tr>\n",
       "      <th>t</th>\n",
       "      <td>0.493904</td>\n",
       "      <td>0.894592</td>\n",
       "    </tr>\n",
       "    <tr>\n",
       "      <th>s</th>\n",
       "      <td>0.049458</td>\n",
       "      <td>0.521784</td>\n",
       "    </tr>\n",
       "    <tr>\n",
       "      <th>w</th>\n",
       "      <td>0.221861</td>\n",
       "      <td>0.814712</td>\n",
       "    </tr>\n",
       "    <tr>\n",
       "      <th>e</th>\n",
       "      <td>0.740859</td>\n",
       "      <td>0.880520</td>\n",
       "    </tr>\n",
       "    <tr>\n",
       "      <th>d</th>\n",
       "      <td>0.387749</td>\n",
       "      <td>0.566442</td>\n",
       "    </tr>\n",
       "    <tr>\n",
       "      <th>o</th>\n",
       "      <td>0.599820</td>\n",
       "      <td>0.932602</td>\n",
       "    </tr>\n",
       "    <tr>\n",
       "      <th>h</th>\n",
       "      <td>0.033631</td>\n",
       "      <td>0.607050</td>\n",
       "    </tr>\n",
       "    <tr>\n",
       "      <th>v</th>\n",
       "      <td>0.228809</td>\n",
       "      <td>0.488587</td>\n",
       "    </tr>\n",
       "    <tr>\n",
       "      <th>i</th>\n",
       "      <td>0.026009</td>\n",
       "      <td>0.625076</td>\n",
       "    </tr>\n",
       "  </tbody>\n",
       "</table>\n",
       "</div>"
      ],
      "text/plain": [
       "          i         v\n",
       "a  0.237449  0.580469\n",
       "t  0.493904  0.894592\n",
       "s  0.049458  0.521784\n",
       "w  0.221861  0.814712\n",
       "e  0.740859  0.880520\n",
       "d  0.387749  0.566442\n",
       "o  0.599820  0.932602\n",
       "h  0.033631  0.607050\n",
       "v  0.228809  0.488587\n",
       "i  0.026009  0.625076"
      ]
     },
     "execution_count": 402,
     "metadata": {},
     "output_type": "execute_result"
    }
   ],
   "source": [
    "df[['i','v']]"
   ]
  },
  {
   "cell_type": "code",
   "execution_count": 406,
   "metadata": {},
   "outputs": [
    {
     "data": {
      "text/plain": [
       "a    0.192330\n",
       "t    0.758747\n",
       "s    0.056233\n",
       "w    0.500580\n",
       "e    0.608795\n",
       "d    0.519840\n",
       "o    0.601146\n",
       "h    0.798112\n",
       "v    0.955661\n",
       "i    0.104637\n",
       "Name: a, dtype: float64"
      ]
     },
     "execution_count": 406,
     "metadata": {},
     "output_type": "execute_result"
    }
   ],
   "source": [
    "df['a']"
   ]
  },
  {
   "cell_type": "code",
   "execution_count": 404,
   "metadata": {},
   "outputs": [
    {
     "data": {
      "text/html": [
       "<div>\n",
       "<style scoped>\n",
       "    .dataframe tbody tr th:only-of-type {\n",
       "        vertical-align: middle;\n",
       "    }\n",
       "\n",
       "    .dataframe tbody tr th {\n",
       "        vertical-align: top;\n",
       "    }\n",
       "\n",
       "    .dataframe thead th {\n",
       "        text-align: right;\n",
       "    }\n",
       "</style>\n",
       "<table border=\"1\" class=\"dataframe\">\n",
       "  <thead>\n",
       "    <tr style=\"text-align: right;\">\n",
       "      <th></th>\n",
       "      <th>i</th>\n",
       "      <th>v</th>\n",
       "      <th>h</th>\n",
       "      <th>o</th>\n",
       "      <th>d</th>\n",
       "      <th>e</th>\n",
       "      <th>w</th>\n",
       "      <th>s</th>\n",
       "      <th>t</th>\n",
       "      <th>a</th>\n",
       "    </tr>\n",
       "  </thead>\n",
       "  <tbody>\n",
       "    <tr>\n",
       "      <th>a</th>\n",
       "      <td>0.237449</td>\n",
       "      <td>0.580469</td>\n",
       "      <td>0.215360</td>\n",
       "      <td>0.451359</td>\n",
       "      <td>0.057537</td>\n",
       "      <td>0.404682</td>\n",
       "      <td>0.446297</td>\n",
       "      <td>0.372704</td>\n",
       "      <td>0.935793</td>\n",
       "      <td>0.192330</td>\n",
       "    </tr>\n",
       "    <tr>\n",
       "      <th>t</th>\n",
       "      <td>0.493904</td>\n",
       "      <td>0.894592</td>\n",
       "      <td>0.441639</td>\n",
       "      <td>0.021831</td>\n",
       "      <td>0.473667</td>\n",
       "      <td>0.382835</td>\n",
       "      <td>0.633228</td>\n",
       "      <td>0.039002</td>\n",
       "      <td>0.363664</td>\n",
       "      <td>0.758747</td>\n",
       "    </tr>\n",
       "    <tr>\n",
       "      <th>s</th>\n",
       "      <td>0.049458</td>\n",
       "      <td>0.521784</td>\n",
       "      <td>0.296480</td>\n",
       "      <td>0.894663</td>\n",
       "      <td>0.416530</td>\n",
       "      <td>0.169612</td>\n",
       "      <td>0.215881</td>\n",
       "      <td>0.798174</td>\n",
       "      <td>0.077433</td>\n",
       "      <td>0.056233</td>\n",
       "    </tr>\n",
       "    <tr>\n",
       "      <th>w</th>\n",
       "      <td>0.221861</td>\n",
       "      <td>0.814712</td>\n",
       "      <td>0.368225</td>\n",
       "      <td>0.027402</td>\n",
       "      <td>0.003077</td>\n",
       "      <td>0.738109</td>\n",
       "      <td>0.150927</td>\n",
       "      <td>0.929053</td>\n",
       "      <td>0.198385</td>\n",
       "      <td>0.500580</td>\n",
       "    </tr>\n",
       "    <tr>\n",
       "      <th>e</th>\n",
       "      <td>0.740859</td>\n",
       "      <td>0.880520</td>\n",
       "      <td>0.353451</td>\n",
       "      <td>0.650893</td>\n",
       "      <td>0.827837</td>\n",
       "      <td>0.812156</td>\n",
       "      <td>0.824139</td>\n",
       "      <td>0.658815</td>\n",
       "      <td>0.554572</td>\n",
       "      <td>0.608795</td>\n",
       "    </tr>\n",
       "    <tr>\n",
       "      <th>d</th>\n",
       "      <td>0.387749</td>\n",
       "      <td>0.566442</td>\n",
       "      <td>0.217195</td>\n",
       "      <td>0.143029</td>\n",
       "      <td>0.579602</td>\n",
       "      <td>0.103823</td>\n",
       "      <td>0.066344</td>\n",
       "      <td>0.430405</td>\n",
       "      <td>0.111228</td>\n",
       "      <td>0.519840</td>\n",
       "    </tr>\n",
       "    <tr>\n",
       "      <th>o</th>\n",
       "      <td>0.599820</td>\n",
       "      <td>0.932602</td>\n",
       "      <td>0.032597</td>\n",
       "      <td>0.224050</td>\n",
       "      <td>0.423480</td>\n",
       "      <td>0.267877</td>\n",
       "      <td>0.523457</td>\n",
       "      <td>0.935946</td>\n",
       "      <td>0.439969</td>\n",
       "      <td>0.601146</td>\n",
       "    </tr>\n",
       "    <tr>\n",
       "      <th>h</th>\n",
       "      <td>0.033631</td>\n",
       "      <td>0.607050</td>\n",
       "      <td>0.633460</td>\n",
       "      <td>0.598439</td>\n",
       "      <td>0.036567</td>\n",
       "      <td>0.117106</td>\n",
       "      <td>0.078618</td>\n",
       "      <td>0.266043</td>\n",
       "      <td>0.217487</td>\n",
       "      <td>0.798112</td>\n",
       "    </tr>\n",
       "    <tr>\n",
       "      <th>v</th>\n",
       "      <td>0.228809</td>\n",
       "      <td>0.488587</td>\n",
       "      <td>0.529479</td>\n",
       "      <td>0.395888</td>\n",
       "      <td>0.588018</td>\n",
       "      <td>0.448561</td>\n",
       "      <td>0.678056</td>\n",
       "      <td>0.742475</td>\n",
       "      <td>0.808966</td>\n",
       "      <td>0.955661</td>\n",
       "    </tr>\n",
       "    <tr>\n",
       "      <th>i</th>\n",
       "      <td>0.026009</td>\n",
       "      <td>0.625076</td>\n",
       "      <td>0.612654</td>\n",
       "      <td>0.514342</td>\n",
       "      <td>0.753035</td>\n",
       "      <td>0.485428</td>\n",
       "      <td>0.725599</td>\n",
       "      <td>0.638038</td>\n",
       "      <td>0.047445</td>\n",
       "      <td>0.104637</td>\n",
       "    </tr>\n",
       "  </tbody>\n",
       "</table>\n",
       "</div>"
      ],
      "text/plain": [
       "          i         v         h         o         d         e         w  \\\n",
       "a  0.237449  0.580469  0.215360  0.451359  0.057537  0.404682  0.446297   \n",
       "t  0.493904  0.894592  0.441639  0.021831  0.473667  0.382835  0.633228   \n",
       "s  0.049458  0.521784  0.296480  0.894663  0.416530  0.169612  0.215881   \n",
       "w  0.221861  0.814712  0.368225  0.027402  0.003077  0.738109  0.150927   \n",
       "e  0.740859  0.880520  0.353451  0.650893  0.827837  0.812156  0.824139   \n",
       "d  0.387749  0.566442  0.217195  0.143029  0.579602  0.103823  0.066344   \n",
       "o  0.599820  0.932602  0.032597  0.224050  0.423480  0.267877  0.523457   \n",
       "h  0.033631  0.607050  0.633460  0.598439  0.036567  0.117106  0.078618   \n",
       "v  0.228809  0.488587  0.529479  0.395888  0.588018  0.448561  0.678056   \n",
       "i  0.026009  0.625076  0.612654  0.514342  0.753035  0.485428  0.725599   \n",
       "\n",
       "          s         t         a  \n",
       "a  0.372704  0.935793  0.192330  \n",
       "t  0.039002  0.363664  0.758747  \n",
       "s  0.798174  0.077433  0.056233  \n",
       "w  0.929053  0.198385  0.500580  \n",
       "e  0.658815  0.554572  0.608795  \n",
       "d  0.430405  0.111228  0.519840  \n",
       "o  0.935946  0.439969  0.601146  \n",
       "h  0.266043  0.217487  0.798112  \n",
       "v  0.742475  0.808966  0.955661  \n",
       "i  0.638038  0.047445  0.104637  "
      ]
     },
     "execution_count": 404,
     "metadata": {},
     "output_type": "execute_result"
    }
   ],
   "source": [
    "df"
   ]
  },
  {
   "cell_type": "code",
   "execution_count": 403,
   "metadata": {},
   "outputs": [
    {
     "data": {
      "text/plain": [
       "i    0.740859\n",
       "v    0.880520\n",
       "h    0.353451\n",
       "o    0.650893\n",
       "d    0.827837\n",
       "e    0.812156\n",
       "w    0.824139\n",
       "s    0.658815\n",
       "t    0.554572\n",
       "a    0.608795\n",
       "Name: e, dtype: float64"
      ]
     },
     "execution_count": 403,
     "metadata": {},
     "output_type": "execute_result"
    }
   ],
   "source": [
    "df.loc['e']"
   ]
  },
  {
   "cell_type": "code",
   "execution_count": 405,
   "metadata": {},
   "outputs": [
    {
     "data": {
      "text/html": [
       "<div>\n",
       "<style scoped>\n",
       "    .dataframe tbody tr th:only-of-type {\n",
       "        vertical-align: middle;\n",
       "    }\n",
       "\n",
       "    .dataframe tbody tr th {\n",
       "        vertical-align: top;\n",
       "    }\n",
       "\n",
       "    .dataframe thead th {\n",
       "        text-align: right;\n",
       "    }\n",
       "</style>\n",
       "<table border=\"1\" class=\"dataframe\">\n",
       "  <thead>\n",
       "    <tr style=\"text-align: right;\">\n",
       "      <th></th>\n",
       "      <th>i</th>\n",
       "      <th>v</th>\n",
       "      <th>h</th>\n",
       "      <th>o</th>\n",
       "      <th>d</th>\n",
       "      <th>e</th>\n",
       "      <th>w</th>\n",
       "      <th>s</th>\n",
       "      <th>t</th>\n",
       "      <th>a</th>\n",
       "    </tr>\n",
       "  </thead>\n",
       "  <tbody>\n",
       "    <tr>\n",
       "      <th>e</th>\n",
       "      <td>0.740859</td>\n",
       "      <td>0.880520</td>\n",
       "      <td>0.353451</td>\n",
       "      <td>0.650893</td>\n",
       "      <td>0.827837</td>\n",
       "      <td>0.812156</td>\n",
       "      <td>0.824139</td>\n",
       "      <td>0.658815</td>\n",
       "      <td>0.554572</td>\n",
       "      <td>0.608795</td>\n",
       "    </tr>\n",
       "    <tr>\n",
       "      <th>d</th>\n",
       "      <td>0.387749</td>\n",
       "      <td>0.566442</td>\n",
       "      <td>0.217195</td>\n",
       "      <td>0.143029</td>\n",
       "      <td>0.579602</td>\n",
       "      <td>0.103823</td>\n",
       "      <td>0.066344</td>\n",
       "      <td>0.430405</td>\n",
       "      <td>0.111228</td>\n",
       "      <td>0.519840</td>\n",
       "    </tr>\n",
       "    <tr>\n",
       "      <th>o</th>\n",
       "      <td>0.599820</td>\n",
       "      <td>0.932602</td>\n",
       "      <td>0.032597</td>\n",
       "      <td>0.224050</td>\n",
       "      <td>0.423480</td>\n",
       "      <td>0.267877</td>\n",
       "      <td>0.523457</td>\n",
       "      <td>0.935946</td>\n",
       "      <td>0.439969</td>\n",
       "      <td>0.601146</td>\n",
       "    </tr>\n",
       "    <tr>\n",
       "      <th>h</th>\n",
       "      <td>0.033631</td>\n",
       "      <td>0.607050</td>\n",
       "      <td>0.633460</td>\n",
       "      <td>0.598439</td>\n",
       "      <td>0.036567</td>\n",
       "      <td>0.117106</td>\n",
       "      <td>0.078618</td>\n",
       "      <td>0.266043</td>\n",
       "      <td>0.217487</td>\n",
       "      <td>0.798112</td>\n",
       "    </tr>\n",
       "    <tr>\n",
       "      <th>v</th>\n",
       "      <td>0.228809</td>\n",
       "      <td>0.488587</td>\n",
       "      <td>0.529479</td>\n",
       "      <td>0.395888</td>\n",
       "      <td>0.588018</td>\n",
       "      <td>0.448561</td>\n",
       "      <td>0.678056</td>\n",
       "      <td>0.742475</td>\n",
       "      <td>0.808966</td>\n",
       "      <td>0.955661</td>\n",
       "    </tr>\n",
       "    <tr>\n",
       "      <th>i</th>\n",
       "      <td>0.026009</td>\n",
       "      <td>0.625076</td>\n",
       "      <td>0.612654</td>\n",
       "      <td>0.514342</td>\n",
       "      <td>0.753035</td>\n",
       "      <td>0.485428</td>\n",
       "      <td>0.725599</td>\n",
       "      <td>0.638038</td>\n",
       "      <td>0.047445</td>\n",
       "      <td>0.104637</td>\n",
       "    </tr>\n",
       "  </tbody>\n",
       "</table>\n",
       "</div>"
      ],
      "text/plain": [
       "          i         v         h         o         d         e         w  \\\n",
       "e  0.740859  0.880520  0.353451  0.650893  0.827837  0.812156  0.824139   \n",
       "d  0.387749  0.566442  0.217195  0.143029  0.579602  0.103823  0.066344   \n",
       "o  0.599820  0.932602  0.032597  0.224050  0.423480  0.267877  0.523457   \n",
       "h  0.033631  0.607050  0.633460  0.598439  0.036567  0.117106  0.078618   \n",
       "v  0.228809  0.488587  0.529479  0.395888  0.588018  0.448561  0.678056   \n",
       "i  0.026009  0.625076  0.612654  0.514342  0.753035  0.485428  0.725599   \n",
       "\n",
       "          s         t         a  \n",
       "e  0.658815  0.554572  0.608795  \n",
       "d  0.430405  0.111228  0.519840  \n",
       "o  0.935946  0.439969  0.601146  \n",
       "h  0.266043  0.217487  0.798112  \n",
       "v  0.742475  0.808966  0.955661  \n",
       "i  0.638038  0.047445  0.104637  "
      ]
     },
     "execution_count": 405,
     "metadata": {},
     "output_type": "execute_result"
    }
   ],
   "source": [
    "df.loc['e':'i']"
   ]
  },
  {
   "cell_type": "code",
   "execution_count": 408,
   "metadata": {},
   "outputs": [
    {
     "data": {
      "text/html": [
       "<div>\n",
       "<style scoped>\n",
       "    .dataframe tbody tr th:only-of-type {\n",
       "        vertical-align: middle;\n",
       "    }\n",
       "\n",
       "    .dataframe tbody tr th {\n",
       "        vertical-align: top;\n",
       "    }\n",
       "\n",
       "    .dataframe thead th {\n",
       "        text-align: right;\n",
       "    }\n",
       "</style>\n",
       "<table border=\"1\" class=\"dataframe\">\n",
       "  <thead>\n",
       "    <tr style=\"text-align: right;\">\n",
       "      <th></th>\n",
       "      <th>d</th>\n",
       "      <th>e</th>\n",
       "      <th>w</th>\n",
       "    </tr>\n",
       "  </thead>\n",
       "  <tbody>\n",
       "    <tr>\n",
       "      <th>e</th>\n",
       "      <td>0.827837</td>\n",
       "      <td>0.812156</td>\n",
       "      <td>0.824139</td>\n",
       "    </tr>\n",
       "    <tr>\n",
       "      <th>d</th>\n",
       "      <td>0.579602</td>\n",
       "      <td>0.103823</td>\n",
       "      <td>0.066344</td>\n",
       "    </tr>\n",
       "    <tr>\n",
       "      <th>o</th>\n",
       "      <td>0.423480</td>\n",
       "      <td>0.267877</td>\n",
       "      <td>0.523457</td>\n",
       "    </tr>\n",
       "    <tr>\n",
       "      <th>h</th>\n",
       "      <td>0.036567</td>\n",
       "      <td>0.117106</td>\n",
       "      <td>0.078618</td>\n",
       "    </tr>\n",
       "    <tr>\n",
       "      <th>v</th>\n",
       "      <td>0.588018</td>\n",
       "      <td>0.448561</td>\n",
       "      <td>0.678056</td>\n",
       "    </tr>\n",
       "    <tr>\n",
       "      <th>i</th>\n",
       "      <td>0.753035</td>\n",
       "      <td>0.485428</td>\n",
       "      <td>0.725599</td>\n",
       "    </tr>\n",
       "  </tbody>\n",
       "</table>\n",
       "</div>"
      ],
      "text/plain": [
       "          d         e         w\n",
       "e  0.827837  0.812156  0.824139\n",
       "d  0.579602  0.103823  0.066344\n",
       "o  0.423480  0.267877  0.523457\n",
       "h  0.036567  0.117106  0.078618\n",
       "v  0.588018  0.448561  0.678056\n",
       "i  0.753035  0.485428  0.725599"
      ]
     },
     "execution_count": 408,
     "metadata": {},
     "output_type": "execute_result"
    }
   ],
   "source": [
    "df.loc['e':'i','d':'w']"
   ]
  },
  {
   "cell_type": "code",
   "execution_count": 410,
   "metadata": {},
   "outputs": [
    {
     "data": {
      "text/html": [
       "<div>\n",
       "<style scoped>\n",
       "    .dataframe tbody tr th:only-of-type {\n",
       "        vertical-align: middle;\n",
       "    }\n",
       "\n",
       "    .dataframe tbody tr th {\n",
       "        vertical-align: top;\n",
       "    }\n",
       "\n",
       "    .dataframe thead th {\n",
       "        text-align: right;\n",
       "    }\n",
       "</style>\n",
       "<table border=\"1\" class=\"dataframe\">\n",
       "  <thead>\n",
       "    <tr style=\"text-align: right;\">\n",
       "      <th></th>\n",
       "      <th>d</th>\n",
       "      <th>i</th>\n",
       "    </tr>\n",
       "  </thead>\n",
       "  <tbody>\n",
       "    <tr>\n",
       "      <th>e</th>\n",
       "      <td>0.827837</td>\n",
       "      <td>0.740859</td>\n",
       "    </tr>\n",
       "    <tr>\n",
       "      <th>d</th>\n",
       "      <td>0.579602</td>\n",
       "      <td>0.387749</td>\n",
       "    </tr>\n",
       "    <tr>\n",
       "      <th>o</th>\n",
       "      <td>0.423480</td>\n",
       "      <td>0.599820</td>\n",
       "    </tr>\n",
       "    <tr>\n",
       "      <th>h</th>\n",
       "      <td>0.036567</td>\n",
       "      <td>0.033631</td>\n",
       "    </tr>\n",
       "    <tr>\n",
       "      <th>v</th>\n",
       "      <td>0.588018</td>\n",
       "      <td>0.228809</td>\n",
       "    </tr>\n",
       "    <tr>\n",
       "      <th>i</th>\n",
       "      <td>0.753035</td>\n",
       "      <td>0.026009</td>\n",
       "    </tr>\n",
       "  </tbody>\n",
       "</table>\n",
       "</div>"
      ],
      "text/plain": [
       "          d         i\n",
       "e  0.827837  0.740859\n",
       "d  0.579602  0.387749\n",
       "o  0.423480  0.599820\n",
       "h  0.036567  0.033631\n",
       "v  0.588018  0.228809\n",
       "i  0.753035  0.026009"
      ]
     },
     "execution_count": 410,
     "metadata": {},
     "output_type": "execute_result"
    }
   ],
   "source": [
    "df.loc['e':'i',['d','i']]"
   ]
  },
  {
   "cell_type": "code",
   "execution_count": 400,
   "metadata": {},
   "outputs": [
    {
     "data": {
      "text/html": [
       "<div>\n",
       "<style scoped>\n",
       "    .dataframe tbody tr th:only-of-type {\n",
       "        vertical-align: middle;\n",
       "    }\n",
       "\n",
       "    .dataframe tbody tr th {\n",
       "        vertical-align: top;\n",
       "    }\n",
       "\n",
       "    .dataframe thead th {\n",
       "        text-align: right;\n",
       "    }\n",
       "</style>\n",
       "<table border=\"1\" class=\"dataframe\">\n",
       "  <thead>\n",
       "    <tr style=\"text-align: right;\">\n",
       "      <th></th>\n",
       "      <th>i</th>\n",
       "      <th>v</th>\n",
       "      <th>h</th>\n",
       "      <th>o</th>\n",
       "      <th>d</th>\n",
       "      <th>e</th>\n",
       "      <th>w</th>\n",
       "      <th>s</th>\n",
       "      <th>t</th>\n",
       "      <th>a</th>\n",
       "    </tr>\n",
       "  </thead>\n",
       "  <tbody>\n",
       "    <tr>\n",
       "      <th>count</th>\n",
       "      <td>10.000000</td>\n",
       "      <td>10.000000</td>\n",
       "      <td>10.000000</td>\n",
       "      <td>10.000000</td>\n",
       "      <td>10.000000</td>\n",
       "      <td>10.000000</td>\n",
       "      <td>10.000000</td>\n",
       "      <td>10.000000</td>\n",
       "      <td>10.000000</td>\n",
       "      <td>10.000000</td>\n",
       "    </tr>\n",
       "    <tr>\n",
       "      <th>mean</th>\n",
       "      <td>0.301955</td>\n",
       "      <td>0.691184</td>\n",
       "      <td>0.370054</td>\n",
       "      <td>0.392190</td>\n",
       "      <td>0.415935</td>\n",
       "      <td>0.393019</td>\n",
       "      <td>0.434255</td>\n",
       "      <td>0.581065</td>\n",
       "      <td>0.375494</td>\n",
       "      <td>0.509608</td>\n",
       "    </tr>\n",
       "    <tr>\n",
       "      <th>std</th>\n",
       "      <td>0.247967</td>\n",
       "      <td>0.169893</td>\n",
       "      <td>0.190217</td>\n",
       "      <td>0.286932</td>\n",
       "      <td>0.295505</td>\n",
       "      <td>0.243119</td>\n",
       "      <td>0.285544</td>\n",
       "      <td>0.296030</td>\n",
       "      <td>0.309269</td>\n",
       "      <td>0.304209</td>\n",
       "    </tr>\n",
       "    <tr>\n",
       "      <th>min</th>\n",
       "      <td>0.026009</td>\n",
       "      <td>0.488587</td>\n",
       "      <td>0.032597</td>\n",
       "      <td>0.021831</td>\n",
       "      <td>0.003077</td>\n",
       "      <td>0.103823</td>\n",
       "      <td>0.066344</td>\n",
       "      <td>0.039002</td>\n",
       "      <td>0.047445</td>\n",
       "      <td>0.056233</td>\n",
       "    </tr>\n",
       "    <tr>\n",
       "      <th>25%</th>\n",
       "      <td>0.092559</td>\n",
       "      <td>0.569949</td>\n",
       "      <td>0.237016</td>\n",
       "      <td>0.163284</td>\n",
       "      <td>0.147285</td>\n",
       "      <td>0.194178</td>\n",
       "      <td>0.167166</td>\n",
       "      <td>0.387129</td>\n",
       "      <td>0.133018</td>\n",
       "      <td>0.269393</td>\n",
       "    </tr>\n",
       "    <tr>\n",
       "      <th>50%</th>\n",
       "      <td>0.233129</td>\n",
       "      <td>0.616063</td>\n",
       "      <td>0.360838</td>\n",
       "      <td>0.423624</td>\n",
       "      <td>0.448574</td>\n",
       "      <td>0.393759</td>\n",
       "      <td>0.484877</td>\n",
       "      <td>0.648426</td>\n",
       "      <td>0.290576</td>\n",
       "      <td>0.560493</td>\n",
       "    </tr>\n",
       "    <tr>\n",
       "      <th>75%</th>\n",
       "      <td>0.467365</td>\n",
       "      <td>0.864068</td>\n",
       "      <td>0.507519</td>\n",
       "      <td>0.577415</td>\n",
       "      <td>0.585914</td>\n",
       "      <td>0.476212</td>\n",
       "      <td>0.666849</td>\n",
       "      <td>0.784249</td>\n",
       "      <td>0.525921</td>\n",
       "      <td>0.721259</td>\n",
       "    </tr>\n",
       "    <tr>\n",
       "      <th>max</th>\n",
       "      <td>0.740859</td>\n",
       "      <td>0.932602</td>\n",
       "      <td>0.633460</td>\n",
       "      <td>0.894663</td>\n",
       "      <td>0.827837</td>\n",
       "      <td>0.812156</td>\n",
       "      <td>0.824139</td>\n",
       "      <td>0.935946</td>\n",
       "      <td>0.935793</td>\n",
       "      <td>0.955661</td>\n",
       "    </tr>\n",
       "  </tbody>\n",
       "</table>\n",
       "</div>"
      ],
      "text/plain": [
       "               i          v          h          o          d          e  \\\n",
       "count  10.000000  10.000000  10.000000  10.000000  10.000000  10.000000   \n",
       "mean    0.301955   0.691184   0.370054   0.392190   0.415935   0.393019   \n",
       "std     0.247967   0.169893   0.190217   0.286932   0.295505   0.243119   \n",
       "min     0.026009   0.488587   0.032597   0.021831   0.003077   0.103823   \n",
       "25%     0.092559   0.569949   0.237016   0.163284   0.147285   0.194178   \n",
       "50%     0.233129   0.616063   0.360838   0.423624   0.448574   0.393759   \n",
       "75%     0.467365   0.864068   0.507519   0.577415   0.585914   0.476212   \n",
       "max     0.740859   0.932602   0.633460   0.894663   0.827837   0.812156   \n",
       "\n",
       "               w          s          t          a  \n",
       "count  10.000000  10.000000  10.000000  10.000000  \n",
       "mean    0.434255   0.581065   0.375494   0.509608  \n",
       "std     0.285544   0.296030   0.309269   0.304209  \n",
       "min     0.066344   0.039002   0.047445   0.056233  \n",
       "25%     0.167166   0.387129   0.133018   0.269393  \n",
       "50%     0.484877   0.648426   0.290576   0.560493  \n",
       "75%     0.666849   0.784249   0.525921   0.721259  \n",
       "max     0.824139   0.935946   0.935793   0.955661  "
      ]
     },
     "execution_count": 400,
     "metadata": {},
     "output_type": "execute_result"
    }
   ],
   "source": [
    "df.describe()"
   ]
  },
  {
   "cell_type": "code",
   "execution_count": 399,
   "metadata": {},
   "outputs": [
    {
     "name": "stdout",
     "output_type": "stream",
     "text": [
      "<class 'pandas.core.frame.DataFrame'>\n",
      "Index: 10 entries, a to i\n",
      "Data columns (total 10 columns):\n",
      "i    10 non-null float64\n",
      "v    10 non-null float64\n",
      "h    10 non-null float64\n",
      "o    10 non-null float64\n",
      "d    10 non-null float64\n",
      "e    10 non-null float64\n",
      "w    10 non-null float64\n",
      "s    10 non-null float64\n",
      "t    10 non-null float64\n",
      "a    10 non-null float64\n",
      "dtypes: float64(10)\n",
      "memory usage: 880.0+ bytes\n"
     ]
    }
   ],
   "source": [
    "df.info()"
   ]
  },
  {
   "cell_type": "code",
   "execution_count": 411,
   "metadata": {},
   "outputs": [
    {
     "data": {
      "text/html": [
       "<div>\n",
       "<style scoped>\n",
       "    .dataframe tbody tr th:only-of-type {\n",
       "        vertical-align: middle;\n",
       "    }\n",
       "\n",
       "    .dataframe tbody tr th {\n",
       "        vertical-align: top;\n",
       "    }\n",
       "\n",
       "    .dataframe thead th {\n",
       "        text-align: right;\n",
       "    }\n",
       "</style>\n",
       "<table border=\"1\" class=\"dataframe\">\n",
       "  <thead>\n",
       "    <tr style=\"text-align: right;\">\n",
       "      <th></th>\n",
       "      <th>i</th>\n",
       "      <th>v</th>\n",
       "      <th>h</th>\n",
       "      <th>o</th>\n",
       "      <th>d</th>\n",
       "      <th>e</th>\n",
       "      <th>w</th>\n",
       "      <th>s</th>\n",
       "      <th>t</th>\n",
       "      <th>a</th>\n",
       "    </tr>\n",
       "  </thead>\n",
       "  <tbody>\n",
       "    <tr>\n",
       "      <th>a</th>\n",
       "      <td>0.237449</td>\n",
       "      <td>0.580469</td>\n",
       "      <td>0.215360</td>\n",
       "      <td>0.451359</td>\n",
       "      <td>0.057537</td>\n",
       "      <td>0.404682</td>\n",
       "      <td>0.446297</td>\n",
       "      <td>0.372704</td>\n",
       "      <td>0.935793</td>\n",
       "      <td>0.192330</td>\n",
       "    </tr>\n",
       "    <tr>\n",
       "      <th>t</th>\n",
       "      <td>0.493904</td>\n",
       "      <td>0.894592</td>\n",
       "      <td>0.441639</td>\n",
       "      <td>0.021831</td>\n",
       "      <td>0.473667</td>\n",
       "      <td>0.382835</td>\n",
       "      <td>0.633228</td>\n",
       "      <td>0.039002</td>\n",
       "      <td>0.363664</td>\n",
       "      <td>0.758747</td>\n",
       "    </tr>\n",
       "    <tr>\n",
       "      <th>s</th>\n",
       "      <td>0.049458</td>\n",
       "      <td>0.521784</td>\n",
       "      <td>0.296480</td>\n",
       "      <td>0.894663</td>\n",
       "      <td>0.416530</td>\n",
       "      <td>0.169612</td>\n",
       "      <td>0.215881</td>\n",
       "      <td>0.798174</td>\n",
       "      <td>0.077433</td>\n",
       "      <td>0.056233</td>\n",
       "    </tr>\n",
       "    <tr>\n",
       "      <th>w</th>\n",
       "      <td>0.221861</td>\n",
       "      <td>0.814712</td>\n",
       "      <td>0.368225</td>\n",
       "      <td>0.027402</td>\n",
       "      <td>0.003077</td>\n",
       "      <td>0.738109</td>\n",
       "      <td>0.150927</td>\n",
       "      <td>0.929053</td>\n",
       "      <td>0.198385</td>\n",
       "      <td>0.500580</td>\n",
       "    </tr>\n",
       "    <tr>\n",
       "      <th>e</th>\n",
       "      <td>0.740859</td>\n",
       "      <td>0.880520</td>\n",
       "      <td>0.353451</td>\n",
       "      <td>0.650893</td>\n",
       "      <td>0.827837</td>\n",
       "      <td>0.812156</td>\n",
       "      <td>0.824139</td>\n",
       "      <td>0.658815</td>\n",
       "      <td>0.554572</td>\n",
       "      <td>0.608795</td>\n",
       "    </tr>\n",
       "    <tr>\n",
       "      <th>d</th>\n",
       "      <td>0.387749</td>\n",
       "      <td>0.566442</td>\n",
       "      <td>0.217195</td>\n",
       "      <td>0.143029</td>\n",
       "      <td>0.579602</td>\n",
       "      <td>0.103823</td>\n",
       "      <td>0.066344</td>\n",
       "      <td>0.430405</td>\n",
       "      <td>0.111228</td>\n",
       "      <td>0.519840</td>\n",
       "    </tr>\n",
       "    <tr>\n",
       "      <th>o</th>\n",
       "      <td>0.599820</td>\n",
       "      <td>0.932602</td>\n",
       "      <td>0.032597</td>\n",
       "      <td>0.224050</td>\n",
       "      <td>0.423480</td>\n",
       "      <td>0.267877</td>\n",
       "      <td>0.523457</td>\n",
       "      <td>0.935946</td>\n",
       "      <td>0.439969</td>\n",
       "      <td>0.601146</td>\n",
       "    </tr>\n",
       "    <tr>\n",
       "      <th>h</th>\n",
       "      <td>0.033631</td>\n",
       "      <td>0.607050</td>\n",
       "      <td>0.633460</td>\n",
       "      <td>0.598439</td>\n",
       "      <td>0.036567</td>\n",
       "      <td>0.117106</td>\n",
       "      <td>0.078618</td>\n",
       "      <td>0.266043</td>\n",
       "      <td>0.217487</td>\n",
       "      <td>0.798112</td>\n",
       "    </tr>\n",
       "    <tr>\n",
       "      <th>v</th>\n",
       "      <td>0.228809</td>\n",
       "      <td>0.488587</td>\n",
       "      <td>0.529479</td>\n",
       "      <td>0.395888</td>\n",
       "      <td>0.588018</td>\n",
       "      <td>0.448561</td>\n",
       "      <td>0.678056</td>\n",
       "      <td>0.742475</td>\n",
       "      <td>0.808966</td>\n",
       "      <td>0.955661</td>\n",
       "    </tr>\n",
       "    <tr>\n",
       "      <th>i</th>\n",
       "      <td>0.026009</td>\n",
       "      <td>0.625076</td>\n",
       "      <td>0.612654</td>\n",
       "      <td>0.514342</td>\n",
       "      <td>0.753035</td>\n",
       "      <td>0.485428</td>\n",
       "      <td>0.725599</td>\n",
       "      <td>0.638038</td>\n",
       "      <td>0.047445</td>\n",
       "      <td>0.104637</td>\n",
       "    </tr>\n",
       "  </tbody>\n",
       "</table>\n",
       "</div>"
      ],
      "text/plain": [
       "          i         v         h         o         d         e         w  \\\n",
       "a  0.237449  0.580469  0.215360  0.451359  0.057537  0.404682  0.446297   \n",
       "t  0.493904  0.894592  0.441639  0.021831  0.473667  0.382835  0.633228   \n",
       "s  0.049458  0.521784  0.296480  0.894663  0.416530  0.169612  0.215881   \n",
       "w  0.221861  0.814712  0.368225  0.027402  0.003077  0.738109  0.150927   \n",
       "e  0.740859  0.880520  0.353451  0.650893  0.827837  0.812156  0.824139   \n",
       "d  0.387749  0.566442  0.217195  0.143029  0.579602  0.103823  0.066344   \n",
       "o  0.599820  0.932602  0.032597  0.224050  0.423480  0.267877  0.523457   \n",
       "h  0.033631  0.607050  0.633460  0.598439  0.036567  0.117106  0.078618   \n",
       "v  0.228809  0.488587  0.529479  0.395888  0.588018  0.448561  0.678056   \n",
       "i  0.026009  0.625076  0.612654  0.514342  0.753035  0.485428  0.725599   \n",
       "\n",
       "          s         t         a  \n",
       "a  0.372704  0.935793  0.192330  \n",
       "t  0.039002  0.363664  0.758747  \n",
       "s  0.798174  0.077433  0.056233  \n",
       "w  0.929053  0.198385  0.500580  \n",
       "e  0.658815  0.554572  0.608795  \n",
       "d  0.430405  0.111228  0.519840  \n",
       "o  0.935946  0.439969  0.601146  \n",
       "h  0.266043  0.217487  0.798112  \n",
       "v  0.742475  0.808966  0.955661  \n",
       "i  0.638038  0.047445  0.104637  "
      ]
     },
     "execution_count": 411,
     "metadata": {},
     "output_type": "execute_result"
    }
   ],
   "source": [
    "df"
   ]
  },
  {
   "cell_type": "code",
   "execution_count": 412,
   "metadata": {},
   "outputs": [],
   "source": [
    "df['X'] = (df['i'] + df['a'])"
   ]
  },
  {
   "cell_type": "code",
   "execution_count": 413,
   "metadata": {},
   "outputs": [
    {
     "data": {
      "text/html": [
       "<div>\n",
       "<style scoped>\n",
       "    .dataframe tbody tr th:only-of-type {\n",
       "        vertical-align: middle;\n",
       "    }\n",
       "\n",
       "    .dataframe tbody tr th {\n",
       "        vertical-align: top;\n",
       "    }\n",
       "\n",
       "    .dataframe thead th {\n",
       "        text-align: right;\n",
       "    }\n",
       "</style>\n",
       "<table border=\"1\" class=\"dataframe\">\n",
       "  <thead>\n",
       "    <tr style=\"text-align: right;\">\n",
       "      <th></th>\n",
       "      <th>i</th>\n",
       "      <th>v</th>\n",
       "      <th>h</th>\n",
       "      <th>o</th>\n",
       "      <th>d</th>\n",
       "      <th>e</th>\n",
       "      <th>w</th>\n",
       "      <th>s</th>\n",
       "      <th>t</th>\n",
       "      <th>a</th>\n",
       "      <th>X</th>\n",
       "    </tr>\n",
       "  </thead>\n",
       "  <tbody>\n",
       "    <tr>\n",
       "      <th>a</th>\n",
       "      <td>0.237449</td>\n",
       "      <td>0.580469</td>\n",
       "      <td>0.215360</td>\n",
       "      <td>0.451359</td>\n",
       "      <td>0.057537</td>\n",
       "      <td>0.404682</td>\n",
       "      <td>0.446297</td>\n",
       "      <td>0.372704</td>\n",
       "      <td>0.935793</td>\n",
       "      <td>0.192330</td>\n",
       "      <td>0.429780</td>\n",
       "    </tr>\n",
       "    <tr>\n",
       "      <th>t</th>\n",
       "      <td>0.493904</td>\n",
       "      <td>0.894592</td>\n",
       "      <td>0.441639</td>\n",
       "      <td>0.021831</td>\n",
       "      <td>0.473667</td>\n",
       "      <td>0.382835</td>\n",
       "      <td>0.633228</td>\n",
       "      <td>0.039002</td>\n",
       "      <td>0.363664</td>\n",
       "      <td>0.758747</td>\n",
       "      <td>1.252651</td>\n",
       "    </tr>\n",
       "    <tr>\n",
       "      <th>s</th>\n",
       "      <td>0.049458</td>\n",
       "      <td>0.521784</td>\n",
       "      <td>0.296480</td>\n",
       "      <td>0.894663</td>\n",
       "      <td>0.416530</td>\n",
       "      <td>0.169612</td>\n",
       "      <td>0.215881</td>\n",
       "      <td>0.798174</td>\n",
       "      <td>0.077433</td>\n",
       "      <td>0.056233</td>\n",
       "      <td>0.105691</td>\n",
       "    </tr>\n",
       "    <tr>\n",
       "      <th>w</th>\n",
       "      <td>0.221861</td>\n",
       "      <td>0.814712</td>\n",
       "      <td>0.368225</td>\n",
       "      <td>0.027402</td>\n",
       "      <td>0.003077</td>\n",
       "      <td>0.738109</td>\n",
       "      <td>0.150927</td>\n",
       "      <td>0.929053</td>\n",
       "      <td>0.198385</td>\n",
       "      <td>0.500580</td>\n",
       "      <td>0.722441</td>\n",
       "    </tr>\n",
       "    <tr>\n",
       "      <th>e</th>\n",
       "      <td>0.740859</td>\n",
       "      <td>0.880520</td>\n",
       "      <td>0.353451</td>\n",
       "      <td>0.650893</td>\n",
       "      <td>0.827837</td>\n",
       "      <td>0.812156</td>\n",
       "      <td>0.824139</td>\n",
       "      <td>0.658815</td>\n",
       "      <td>0.554572</td>\n",
       "      <td>0.608795</td>\n",
       "      <td>1.349654</td>\n",
       "    </tr>\n",
       "    <tr>\n",
       "      <th>d</th>\n",
       "      <td>0.387749</td>\n",
       "      <td>0.566442</td>\n",
       "      <td>0.217195</td>\n",
       "      <td>0.143029</td>\n",
       "      <td>0.579602</td>\n",
       "      <td>0.103823</td>\n",
       "      <td>0.066344</td>\n",
       "      <td>0.430405</td>\n",
       "      <td>0.111228</td>\n",
       "      <td>0.519840</td>\n",
       "      <td>0.907590</td>\n",
       "    </tr>\n",
       "    <tr>\n",
       "      <th>o</th>\n",
       "      <td>0.599820</td>\n",
       "      <td>0.932602</td>\n",
       "      <td>0.032597</td>\n",
       "      <td>0.224050</td>\n",
       "      <td>0.423480</td>\n",
       "      <td>0.267877</td>\n",
       "      <td>0.523457</td>\n",
       "      <td>0.935946</td>\n",
       "      <td>0.439969</td>\n",
       "      <td>0.601146</td>\n",
       "      <td>1.200967</td>\n",
       "    </tr>\n",
       "    <tr>\n",
       "      <th>h</th>\n",
       "      <td>0.033631</td>\n",
       "      <td>0.607050</td>\n",
       "      <td>0.633460</td>\n",
       "      <td>0.598439</td>\n",
       "      <td>0.036567</td>\n",
       "      <td>0.117106</td>\n",
       "      <td>0.078618</td>\n",
       "      <td>0.266043</td>\n",
       "      <td>0.217487</td>\n",
       "      <td>0.798112</td>\n",
       "      <td>0.831743</td>\n",
       "    </tr>\n",
       "    <tr>\n",
       "      <th>v</th>\n",
       "      <td>0.228809</td>\n",
       "      <td>0.488587</td>\n",
       "      <td>0.529479</td>\n",
       "      <td>0.395888</td>\n",
       "      <td>0.588018</td>\n",
       "      <td>0.448561</td>\n",
       "      <td>0.678056</td>\n",
       "      <td>0.742475</td>\n",
       "      <td>0.808966</td>\n",
       "      <td>0.955661</td>\n",
       "      <td>1.184470</td>\n",
       "    </tr>\n",
       "    <tr>\n",
       "      <th>i</th>\n",
       "      <td>0.026009</td>\n",
       "      <td>0.625076</td>\n",
       "      <td>0.612654</td>\n",
       "      <td>0.514342</td>\n",
       "      <td>0.753035</td>\n",
       "      <td>0.485428</td>\n",
       "      <td>0.725599</td>\n",
       "      <td>0.638038</td>\n",
       "      <td>0.047445</td>\n",
       "      <td>0.104637</td>\n",
       "      <td>0.130646</td>\n",
       "    </tr>\n",
       "  </tbody>\n",
       "</table>\n",
       "</div>"
      ],
      "text/plain": [
       "          i         v         h         o         d         e         w  \\\n",
       "a  0.237449  0.580469  0.215360  0.451359  0.057537  0.404682  0.446297   \n",
       "t  0.493904  0.894592  0.441639  0.021831  0.473667  0.382835  0.633228   \n",
       "s  0.049458  0.521784  0.296480  0.894663  0.416530  0.169612  0.215881   \n",
       "w  0.221861  0.814712  0.368225  0.027402  0.003077  0.738109  0.150927   \n",
       "e  0.740859  0.880520  0.353451  0.650893  0.827837  0.812156  0.824139   \n",
       "d  0.387749  0.566442  0.217195  0.143029  0.579602  0.103823  0.066344   \n",
       "o  0.599820  0.932602  0.032597  0.224050  0.423480  0.267877  0.523457   \n",
       "h  0.033631  0.607050  0.633460  0.598439  0.036567  0.117106  0.078618   \n",
       "v  0.228809  0.488587  0.529479  0.395888  0.588018  0.448561  0.678056   \n",
       "i  0.026009  0.625076  0.612654  0.514342  0.753035  0.485428  0.725599   \n",
       "\n",
       "          s         t         a         X  \n",
       "a  0.372704  0.935793  0.192330  0.429780  \n",
       "t  0.039002  0.363664  0.758747  1.252651  \n",
       "s  0.798174  0.077433  0.056233  0.105691  \n",
       "w  0.929053  0.198385  0.500580  0.722441  \n",
       "e  0.658815  0.554572  0.608795  1.349654  \n",
       "d  0.430405  0.111228  0.519840  0.907590  \n",
       "o  0.935946  0.439969  0.601146  1.200967  \n",
       "h  0.266043  0.217487  0.798112  0.831743  \n",
       "v  0.742475  0.808966  0.955661  1.184470  \n",
       "i  0.638038  0.047445  0.104637  0.130646  "
      ]
     },
     "execution_count": 413,
     "metadata": {},
     "output_type": "execute_result"
    }
   ],
   "source": [
    "df"
   ]
  },
  {
   "cell_type": "code",
   "execution_count": 414,
   "metadata": {},
   "outputs": [
    {
     "data": {
      "text/html": [
       "<div>\n",
       "<style scoped>\n",
       "    .dataframe tbody tr th:only-of-type {\n",
       "        vertical-align: middle;\n",
       "    }\n",
       "\n",
       "    .dataframe tbody tr th {\n",
       "        vertical-align: top;\n",
       "    }\n",
       "\n",
       "    .dataframe thead th {\n",
       "        text-align: right;\n",
       "    }\n",
       "</style>\n",
       "<table border=\"1\" class=\"dataframe\">\n",
       "  <thead>\n",
       "    <tr style=\"text-align: right;\">\n",
       "      <th></th>\n",
       "      <th>i</th>\n",
       "      <th>v</th>\n",
       "      <th>h</th>\n",
       "      <th>o</th>\n",
       "      <th>d</th>\n",
       "      <th>e</th>\n",
       "      <th>w</th>\n",
       "      <th>s</th>\n",
       "      <th>t</th>\n",
       "      <th>a</th>\n",
       "      <th>X</th>\n",
       "    </tr>\n",
       "  </thead>\n",
       "  <tbody>\n",
       "    <tr>\n",
       "      <th>a</th>\n",
       "      <td>NaN</td>\n",
       "      <td>0.580469</td>\n",
       "      <td>NaN</td>\n",
       "      <td>NaN</td>\n",
       "      <td>NaN</td>\n",
       "      <td>NaN</td>\n",
       "      <td>NaN</td>\n",
       "      <td>NaN</td>\n",
       "      <td>0.935793</td>\n",
       "      <td>NaN</td>\n",
       "      <td>NaN</td>\n",
       "    </tr>\n",
       "    <tr>\n",
       "      <th>t</th>\n",
       "      <td>NaN</td>\n",
       "      <td>0.894592</td>\n",
       "      <td>NaN</td>\n",
       "      <td>NaN</td>\n",
       "      <td>NaN</td>\n",
       "      <td>NaN</td>\n",
       "      <td>0.633228</td>\n",
       "      <td>NaN</td>\n",
       "      <td>NaN</td>\n",
       "      <td>0.758747</td>\n",
       "      <td>1.252651</td>\n",
       "    </tr>\n",
       "    <tr>\n",
       "      <th>s</th>\n",
       "      <td>NaN</td>\n",
       "      <td>0.521784</td>\n",
       "      <td>NaN</td>\n",
       "      <td>0.894663</td>\n",
       "      <td>NaN</td>\n",
       "      <td>NaN</td>\n",
       "      <td>NaN</td>\n",
       "      <td>0.798174</td>\n",
       "      <td>NaN</td>\n",
       "      <td>NaN</td>\n",
       "      <td>NaN</td>\n",
       "    </tr>\n",
       "    <tr>\n",
       "      <th>w</th>\n",
       "      <td>NaN</td>\n",
       "      <td>0.814712</td>\n",
       "      <td>NaN</td>\n",
       "      <td>NaN</td>\n",
       "      <td>NaN</td>\n",
       "      <td>0.738109</td>\n",
       "      <td>NaN</td>\n",
       "      <td>0.929053</td>\n",
       "      <td>NaN</td>\n",
       "      <td>0.500580</td>\n",
       "      <td>0.722441</td>\n",
       "    </tr>\n",
       "    <tr>\n",
       "      <th>e</th>\n",
       "      <td>0.740859</td>\n",
       "      <td>0.880520</td>\n",
       "      <td>NaN</td>\n",
       "      <td>0.650893</td>\n",
       "      <td>0.827837</td>\n",
       "      <td>0.812156</td>\n",
       "      <td>0.824139</td>\n",
       "      <td>0.658815</td>\n",
       "      <td>0.554572</td>\n",
       "      <td>0.608795</td>\n",
       "      <td>1.349654</td>\n",
       "    </tr>\n",
       "    <tr>\n",
       "      <th>d</th>\n",
       "      <td>NaN</td>\n",
       "      <td>0.566442</td>\n",
       "      <td>NaN</td>\n",
       "      <td>NaN</td>\n",
       "      <td>0.579602</td>\n",
       "      <td>NaN</td>\n",
       "      <td>NaN</td>\n",
       "      <td>NaN</td>\n",
       "      <td>NaN</td>\n",
       "      <td>0.519840</td>\n",
       "      <td>0.907590</td>\n",
       "    </tr>\n",
       "    <tr>\n",
       "      <th>o</th>\n",
       "      <td>0.599820</td>\n",
       "      <td>0.932602</td>\n",
       "      <td>NaN</td>\n",
       "      <td>NaN</td>\n",
       "      <td>NaN</td>\n",
       "      <td>NaN</td>\n",
       "      <td>0.523457</td>\n",
       "      <td>0.935946</td>\n",
       "      <td>NaN</td>\n",
       "      <td>0.601146</td>\n",
       "      <td>1.200967</td>\n",
       "    </tr>\n",
       "    <tr>\n",
       "      <th>h</th>\n",
       "      <td>NaN</td>\n",
       "      <td>0.607050</td>\n",
       "      <td>0.633460</td>\n",
       "      <td>0.598439</td>\n",
       "      <td>NaN</td>\n",
       "      <td>NaN</td>\n",
       "      <td>NaN</td>\n",
       "      <td>NaN</td>\n",
       "      <td>NaN</td>\n",
       "      <td>0.798112</td>\n",
       "      <td>0.831743</td>\n",
       "    </tr>\n",
       "    <tr>\n",
       "      <th>v</th>\n",
       "      <td>NaN</td>\n",
       "      <td>NaN</td>\n",
       "      <td>0.529479</td>\n",
       "      <td>NaN</td>\n",
       "      <td>0.588018</td>\n",
       "      <td>NaN</td>\n",
       "      <td>0.678056</td>\n",
       "      <td>0.742475</td>\n",
       "      <td>0.808966</td>\n",
       "      <td>0.955661</td>\n",
       "      <td>1.184470</td>\n",
       "    </tr>\n",
       "    <tr>\n",
       "      <th>i</th>\n",
       "      <td>NaN</td>\n",
       "      <td>0.625076</td>\n",
       "      <td>0.612654</td>\n",
       "      <td>0.514342</td>\n",
       "      <td>0.753035</td>\n",
       "      <td>NaN</td>\n",
       "      <td>0.725599</td>\n",
       "      <td>0.638038</td>\n",
       "      <td>NaN</td>\n",
       "      <td>NaN</td>\n",
       "      <td>NaN</td>\n",
       "    </tr>\n",
       "  </tbody>\n",
       "</table>\n",
       "</div>"
      ],
      "text/plain": [
       "          i         v         h         o         d         e         w  \\\n",
       "a       NaN  0.580469       NaN       NaN       NaN       NaN       NaN   \n",
       "t       NaN  0.894592       NaN       NaN       NaN       NaN  0.633228   \n",
       "s       NaN  0.521784       NaN  0.894663       NaN       NaN       NaN   \n",
       "w       NaN  0.814712       NaN       NaN       NaN  0.738109       NaN   \n",
       "e  0.740859  0.880520       NaN  0.650893  0.827837  0.812156  0.824139   \n",
       "d       NaN  0.566442       NaN       NaN  0.579602       NaN       NaN   \n",
       "o  0.599820  0.932602       NaN       NaN       NaN       NaN  0.523457   \n",
       "h       NaN  0.607050  0.633460  0.598439       NaN       NaN       NaN   \n",
       "v       NaN       NaN  0.529479       NaN  0.588018       NaN  0.678056   \n",
       "i       NaN  0.625076  0.612654  0.514342  0.753035       NaN  0.725599   \n",
       "\n",
       "          s         t         a         X  \n",
       "a       NaN  0.935793       NaN       NaN  \n",
       "t       NaN       NaN  0.758747  1.252651  \n",
       "s  0.798174       NaN       NaN       NaN  \n",
       "w  0.929053       NaN  0.500580  0.722441  \n",
       "e  0.658815  0.554572  0.608795  1.349654  \n",
       "d       NaN       NaN  0.519840  0.907590  \n",
       "o  0.935946       NaN  0.601146  1.200967  \n",
       "h       NaN       NaN  0.798112  0.831743  \n",
       "v  0.742475  0.808966  0.955661  1.184470  \n",
       "i  0.638038       NaN       NaN       NaN  "
      ]
     },
     "execution_count": 414,
     "metadata": {},
     "output_type": "execute_result"
    }
   ],
   "source": [
    "df[df>0.5]"
   ]
  },
  {
   "cell_type": "code",
   "execution_count": 415,
   "metadata": {},
   "outputs": [
    {
     "data": {
      "text/html": [
       "<div>\n",
       "<style scoped>\n",
       "    .dataframe tbody tr th:only-of-type {\n",
       "        vertical-align: middle;\n",
       "    }\n",
       "\n",
       "    .dataframe tbody tr th {\n",
       "        vertical-align: top;\n",
       "    }\n",
       "\n",
       "    .dataframe thead th {\n",
       "        text-align: right;\n",
       "    }\n",
       "</style>\n",
       "<table border=\"1\" class=\"dataframe\">\n",
       "  <thead>\n",
       "    <tr style=\"text-align: right;\">\n",
       "      <th></th>\n",
       "      <th>i</th>\n",
       "      <th>v</th>\n",
       "      <th>h</th>\n",
       "      <th>o</th>\n",
       "      <th>d</th>\n",
       "      <th>e</th>\n",
       "      <th>w</th>\n",
       "      <th>s</th>\n",
       "      <th>t</th>\n",
       "      <th>a</th>\n",
       "      <th>X</th>\n",
       "    </tr>\n",
       "  </thead>\n",
       "  <tbody>\n",
       "    <tr>\n",
       "      <th>a</th>\n",
       "      <td>False</td>\n",
       "      <td>True</td>\n",
       "      <td>False</td>\n",
       "      <td>False</td>\n",
       "      <td>False</td>\n",
       "      <td>False</td>\n",
       "      <td>False</td>\n",
       "      <td>False</td>\n",
       "      <td>True</td>\n",
       "      <td>False</td>\n",
       "      <td>False</td>\n",
       "    </tr>\n",
       "    <tr>\n",
       "      <th>t</th>\n",
       "      <td>False</td>\n",
       "      <td>True</td>\n",
       "      <td>False</td>\n",
       "      <td>False</td>\n",
       "      <td>False</td>\n",
       "      <td>False</td>\n",
       "      <td>True</td>\n",
       "      <td>False</td>\n",
       "      <td>False</td>\n",
       "      <td>True</td>\n",
       "      <td>True</td>\n",
       "    </tr>\n",
       "    <tr>\n",
       "      <th>s</th>\n",
       "      <td>False</td>\n",
       "      <td>True</td>\n",
       "      <td>False</td>\n",
       "      <td>True</td>\n",
       "      <td>False</td>\n",
       "      <td>False</td>\n",
       "      <td>False</td>\n",
       "      <td>True</td>\n",
       "      <td>False</td>\n",
       "      <td>False</td>\n",
       "      <td>False</td>\n",
       "    </tr>\n",
       "    <tr>\n",
       "      <th>w</th>\n",
       "      <td>False</td>\n",
       "      <td>True</td>\n",
       "      <td>False</td>\n",
       "      <td>False</td>\n",
       "      <td>False</td>\n",
       "      <td>True</td>\n",
       "      <td>False</td>\n",
       "      <td>True</td>\n",
       "      <td>False</td>\n",
       "      <td>True</td>\n",
       "      <td>True</td>\n",
       "    </tr>\n",
       "    <tr>\n",
       "      <th>e</th>\n",
       "      <td>True</td>\n",
       "      <td>True</td>\n",
       "      <td>False</td>\n",
       "      <td>True</td>\n",
       "      <td>True</td>\n",
       "      <td>True</td>\n",
       "      <td>True</td>\n",
       "      <td>True</td>\n",
       "      <td>True</td>\n",
       "      <td>True</td>\n",
       "      <td>True</td>\n",
       "    </tr>\n",
       "    <tr>\n",
       "      <th>d</th>\n",
       "      <td>False</td>\n",
       "      <td>True</td>\n",
       "      <td>False</td>\n",
       "      <td>False</td>\n",
       "      <td>True</td>\n",
       "      <td>False</td>\n",
       "      <td>False</td>\n",
       "      <td>False</td>\n",
       "      <td>False</td>\n",
       "      <td>True</td>\n",
       "      <td>True</td>\n",
       "    </tr>\n",
       "    <tr>\n",
       "      <th>o</th>\n",
       "      <td>True</td>\n",
       "      <td>True</td>\n",
       "      <td>False</td>\n",
       "      <td>False</td>\n",
       "      <td>False</td>\n",
       "      <td>False</td>\n",
       "      <td>True</td>\n",
       "      <td>True</td>\n",
       "      <td>False</td>\n",
       "      <td>True</td>\n",
       "      <td>True</td>\n",
       "    </tr>\n",
       "    <tr>\n",
       "      <th>h</th>\n",
       "      <td>False</td>\n",
       "      <td>True</td>\n",
       "      <td>True</td>\n",
       "      <td>True</td>\n",
       "      <td>False</td>\n",
       "      <td>False</td>\n",
       "      <td>False</td>\n",
       "      <td>False</td>\n",
       "      <td>False</td>\n",
       "      <td>True</td>\n",
       "      <td>True</td>\n",
       "    </tr>\n",
       "    <tr>\n",
       "      <th>v</th>\n",
       "      <td>False</td>\n",
       "      <td>False</td>\n",
       "      <td>True</td>\n",
       "      <td>False</td>\n",
       "      <td>True</td>\n",
       "      <td>False</td>\n",
       "      <td>True</td>\n",
       "      <td>True</td>\n",
       "      <td>True</td>\n",
       "      <td>True</td>\n",
       "      <td>True</td>\n",
       "    </tr>\n",
       "    <tr>\n",
       "      <th>i</th>\n",
       "      <td>False</td>\n",
       "      <td>True</td>\n",
       "      <td>True</td>\n",
       "      <td>True</td>\n",
       "      <td>True</td>\n",
       "      <td>False</td>\n",
       "      <td>True</td>\n",
       "      <td>True</td>\n",
       "      <td>False</td>\n",
       "      <td>False</td>\n",
       "      <td>False</td>\n",
       "    </tr>\n",
       "  </tbody>\n",
       "</table>\n",
       "</div>"
      ],
      "text/plain": [
       "       i      v      h      o      d      e      w      s      t      a      X\n",
       "a  False   True  False  False  False  False  False  False   True  False  False\n",
       "t  False   True  False  False  False  False   True  False  False   True   True\n",
       "s  False   True  False   True  False  False  False   True  False  False  False\n",
       "w  False   True  False  False  False   True  False   True  False   True   True\n",
       "e   True   True  False   True   True   True   True   True   True   True   True\n",
       "d  False   True  False  False   True  False  False  False  False   True   True\n",
       "o   True   True  False  False  False  False   True   True  False   True   True\n",
       "h  False   True   True   True  False  False  False  False  False   True   True\n",
       "v  False  False   True  False   True  False   True   True   True   True   True\n",
       "i  False   True   True   True   True  False   True   True  False  False  False"
      ]
     },
     "execution_count": 415,
     "metadata": {},
     "output_type": "execute_result"
    }
   ],
   "source": [
    "df>0.5"
   ]
  },
  {
   "cell_type": "code",
   "execution_count": 418,
   "metadata": {},
   "outputs": [
    {
     "data": {
      "text/html": [
       "<div>\n",
       "<style scoped>\n",
       "    .dataframe tbody tr th:only-of-type {\n",
       "        vertical-align: middle;\n",
       "    }\n",
       "\n",
       "    .dataframe tbody tr th {\n",
       "        vertical-align: top;\n",
       "    }\n",
       "\n",
       "    .dataframe thead th {\n",
       "        text-align: right;\n",
       "    }\n",
       "</style>\n",
       "<table border=\"1\" class=\"dataframe\">\n",
       "  <thead>\n",
       "    <tr style=\"text-align: right;\">\n",
       "      <th></th>\n",
       "      <th>d</th>\n",
       "      <th>e</th>\n",
       "      <th>w</th>\n",
       "      <th>s</th>\n",
       "      <th>t</th>\n",
       "      <th>a</th>\n",
       "      <th>X</th>\n",
       "    </tr>\n",
       "  </thead>\n",
       "  <tbody>\n",
       "    <tr>\n",
       "      <th>e</th>\n",
       "      <td>0.827837</td>\n",
       "      <td>0.812156</td>\n",
       "      <td>0.824139</td>\n",
       "      <td>0.658815</td>\n",
       "      <td>0.554572</td>\n",
       "      <td>0.608795</td>\n",
       "      <td>1.349654</td>\n",
       "    </tr>\n",
       "    <tr>\n",
       "      <th>d</th>\n",
       "      <td>0.579602</td>\n",
       "      <td>0.103823</td>\n",
       "      <td>0.066344</td>\n",
       "      <td>0.430405</td>\n",
       "      <td>0.111228</td>\n",
       "      <td>0.519840</td>\n",
       "      <td>0.907590</td>\n",
       "    </tr>\n",
       "    <tr>\n",
       "      <th>v</th>\n",
       "      <td>0.588018</td>\n",
       "      <td>0.448561</td>\n",
       "      <td>0.678056</td>\n",
       "      <td>0.742475</td>\n",
       "      <td>0.808966</td>\n",
       "      <td>0.955661</td>\n",
       "      <td>1.184470</td>\n",
       "    </tr>\n",
       "    <tr>\n",
       "      <th>i</th>\n",
       "      <td>0.753035</td>\n",
       "      <td>0.485428</td>\n",
       "      <td>0.725599</td>\n",
       "      <td>0.638038</td>\n",
       "      <td>0.047445</td>\n",
       "      <td>0.104637</td>\n",
       "      <td>0.130646</td>\n",
       "    </tr>\n",
       "  </tbody>\n",
       "</table>\n",
       "</div>"
      ],
      "text/plain": [
       "          d         e         w         s         t         a         X\n",
       "e  0.827837  0.812156  0.824139  0.658815  0.554572  0.608795  1.349654\n",
       "d  0.579602  0.103823  0.066344  0.430405  0.111228  0.519840  0.907590\n",
       "v  0.588018  0.448561  0.678056  0.742475  0.808966  0.955661  1.184470\n",
       "i  0.753035  0.485428  0.725599  0.638038  0.047445  0.104637  0.130646"
      ]
     },
     "execution_count": 418,
     "metadata": {},
     "output_type": "execute_result"
    }
   ],
   "source": [
    "df.loc[df['d']>0.5,'d':'X']"
   ]
  },
  {
   "cell_type": "code",
   "execution_count": 423,
   "metadata": {},
   "outputs": [
    {
     "data": {
      "text/html": [
       "<div>\n",
       "<style scoped>\n",
       "    .dataframe tbody tr th:only-of-type {\n",
       "        vertical-align: middle;\n",
       "    }\n",
       "\n",
       "    .dataframe tbody tr th {\n",
       "        vertical-align: top;\n",
       "    }\n",
       "\n",
       "    .dataframe thead th {\n",
       "        text-align: right;\n",
       "    }\n",
       "</style>\n",
       "<table border=\"1\" class=\"dataframe\">\n",
       "  <thead>\n",
       "    <tr style=\"text-align: right;\">\n",
       "      <th></th>\n",
       "      <th>v</th>\n",
       "      <th>d</th>\n",
       "      <th>w</th>\n",
       "      <th>s</th>\n",
       "      <th>a</th>\n",
       "      <th>X</th>\n",
       "    </tr>\n",
       "  </thead>\n",
       "  <tbody>\n",
       "    <tr>\n",
       "      <th>e</th>\n",
       "      <td>0.880520</td>\n",
       "      <td>0.827837</td>\n",
       "      <td>0.824139</td>\n",
       "      <td>0.658815</td>\n",
       "      <td>0.608795</td>\n",
       "      <td>1.349654</td>\n",
       "    </tr>\n",
       "    <tr>\n",
       "      <th>d</th>\n",
       "      <td>0.566442</td>\n",
       "      <td>0.579602</td>\n",
       "      <td>0.066344</td>\n",
       "      <td>0.430405</td>\n",
       "      <td>0.519840</td>\n",
       "      <td>0.907590</td>\n",
       "    </tr>\n",
       "    <tr>\n",
       "      <th>v</th>\n",
       "      <td>0.488587</td>\n",
       "      <td>0.588018</td>\n",
       "      <td>0.678056</td>\n",
       "      <td>0.742475</td>\n",
       "      <td>0.955661</td>\n",
       "      <td>1.184470</td>\n",
       "    </tr>\n",
       "    <tr>\n",
       "      <th>i</th>\n",
       "      <td>0.625076</td>\n",
       "      <td>0.753035</td>\n",
       "      <td>0.725599</td>\n",
       "      <td>0.638038</td>\n",
       "      <td>0.104637</td>\n",
       "      <td>0.130646</td>\n",
       "    </tr>\n",
       "  </tbody>\n",
       "</table>\n",
       "</div>"
      ],
      "text/plain": [
       "          v         d         w         s         a         X\n",
       "e  0.880520  0.827837  0.824139  0.658815  0.608795  1.349654\n",
       "d  0.566442  0.579602  0.066344  0.430405  0.519840  0.907590\n",
       "v  0.488587  0.588018  0.678056  0.742475  0.955661  1.184470\n",
       "i  0.625076  0.753035  0.725599  0.638038  0.104637  0.130646"
      ]
     },
     "execution_count": 423,
     "metadata": {},
     "output_type": "execute_result"
    }
   ],
   "source": [
    "df.loc[df['d']>0.5,df.sum(axis=0)>4.0]"
   ]
  },
  {
   "cell_type": "code",
   "execution_count": 421,
   "metadata": {},
   "outputs": [
    {
     "data": {
      "text/plain": [
       "i    3.019552\n",
       "v    6.911835\n",
       "h    3.700539\n",
       "o    3.921898\n",
       "d    4.159350\n",
       "e    3.930189\n",
       "w    4.342547\n",
       "s    5.810655\n",
       "t    3.754942\n",
       "a    5.096080\n",
       "X    8.115632\n",
       "dtype: float64"
      ]
     },
     "execution_count": 421,
     "metadata": {},
     "output_type": "execute_result"
    }
   ],
   "source": [
    "df.sum(axis=0)"
   ]
  },
  {
   "cell_type": "code",
   "execution_count": 433,
   "metadata": {},
   "outputs": [],
   "source": [
    "import copy\n",
    "dg = copy.deepcopy(df)"
   ]
  },
  {
   "cell_type": "code",
   "execution_count": 436,
   "metadata": {},
   "outputs": [],
   "source": [
    "df_new = df.append(dg)"
   ]
  },
  {
   "cell_type": "code",
   "execution_count": 441,
   "metadata": {},
   "outputs": [
    {
     "data": {
      "text/html": [
       "<div>\n",
       "<style scoped>\n",
       "    .dataframe tbody tr th:only-of-type {\n",
       "        vertical-align: middle;\n",
       "    }\n",
       "\n",
       "    .dataframe tbody tr th {\n",
       "        vertical-align: top;\n",
       "    }\n",
       "\n",
       "    .dataframe thead th {\n",
       "        text-align: right;\n",
       "    }\n",
       "</style>\n",
       "<table border=\"1\" class=\"dataframe\">\n",
       "  <thead>\n",
       "    <tr style=\"text-align: right;\">\n",
       "      <th></th>\n",
       "      <th>i</th>\n",
       "      <th>v</th>\n",
       "      <th>h</th>\n",
       "      <th>o</th>\n",
       "      <th>d</th>\n",
       "      <th>e</th>\n",
       "      <th>w</th>\n",
       "      <th>s</th>\n",
       "      <th>t</th>\n",
       "      <th>a</th>\n",
       "      <th>X</th>\n",
       "    </tr>\n",
       "  </thead>\n",
       "  <tbody>\n",
       "    <tr>\n",
       "      <th>a</th>\n",
       "      <td>0.237449</td>\n",
       "      <td>0.580469</td>\n",
       "      <td>0.215360</td>\n",
       "      <td>0.451359</td>\n",
       "      <td>0.057537</td>\n",
       "      <td>0.404682</td>\n",
       "      <td>0.446297</td>\n",
       "      <td>0.372704</td>\n",
       "      <td>0.935793</td>\n",
       "      <td>0.192330</td>\n",
       "      <td>0.429780</td>\n",
       "    </tr>\n",
       "    <tr>\n",
       "      <th>t</th>\n",
       "      <td>0.493904</td>\n",
       "      <td>0.894592</td>\n",
       "      <td>0.441639</td>\n",
       "      <td>0.021831</td>\n",
       "      <td>0.473667</td>\n",
       "      <td>0.382835</td>\n",
       "      <td>0.633228</td>\n",
       "      <td>0.039002</td>\n",
       "      <td>0.363664</td>\n",
       "      <td>0.758747</td>\n",
       "      <td>1.252651</td>\n",
       "    </tr>\n",
       "    <tr>\n",
       "      <th>s</th>\n",
       "      <td>0.049458</td>\n",
       "      <td>0.521784</td>\n",
       "      <td>0.296480</td>\n",
       "      <td>0.894663</td>\n",
       "      <td>0.416530</td>\n",
       "      <td>0.169612</td>\n",
       "      <td>0.215881</td>\n",
       "      <td>0.798174</td>\n",
       "      <td>0.077433</td>\n",
       "      <td>0.056233</td>\n",
       "      <td>0.105691</td>\n",
       "    </tr>\n",
       "    <tr>\n",
       "      <th>w</th>\n",
       "      <td>0.221861</td>\n",
       "      <td>0.814712</td>\n",
       "      <td>0.368225</td>\n",
       "      <td>0.027402</td>\n",
       "      <td>0.003077</td>\n",
       "      <td>0.738109</td>\n",
       "      <td>0.150927</td>\n",
       "      <td>0.929053</td>\n",
       "      <td>0.198385</td>\n",
       "      <td>0.500580</td>\n",
       "      <td>0.722441</td>\n",
       "    </tr>\n",
       "    <tr>\n",
       "      <th>e</th>\n",
       "      <td>0.740859</td>\n",
       "      <td>0.880520</td>\n",
       "      <td>0.353451</td>\n",
       "      <td>0.650893</td>\n",
       "      <td>0.827837</td>\n",
       "      <td>0.812156</td>\n",
       "      <td>0.824139</td>\n",
       "      <td>0.658815</td>\n",
       "      <td>0.554572</td>\n",
       "      <td>0.608795</td>\n",
       "      <td>1.349654</td>\n",
       "    </tr>\n",
       "    <tr>\n",
       "      <th>d</th>\n",
       "      <td>0.387749</td>\n",
       "      <td>0.566442</td>\n",
       "      <td>0.217195</td>\n",
       "      <td>0.143029</td>\n",
       "      <td>0.579602</td>\n",
       "      <td>0.103823</td>\n",
       "      <td>0.066344</td>\n",
       "      <td>0.430405</td>\n",
       "      <td>0.111228</td>\n",
       "      <td>0.519840</td>\n",
       "      <td>0.907590</td>\n",
       "    </tr>\n",
       "    <tr>\n",
       "      <th>o</th>\n",
       "      <td>0.599820</td>\n",
       "      <td>0.932602</td>\n",
       "      <td>0.032597</td>\n",
       "      <td>0.224050</td>\n",
       "      <td>0.423480</td>\n",
       "      <td>0.267877</td>\n",
       "      <td>0.523457</td>\n",
       "      <td>0.935946</td>\n",
       "      <td>0.439969</td>\n",
       "      <td>0.601146</td>\n",
       "      <td>1.200967</td>\n",
       "    </tr>\n",
       "    <tr>\n",
       "      <th>h</th>\n",
       "      <td>0.033631</td>\n",
       "      <td>0.607050</td>\n",
       "      <td>0.633460</td>\n",
       "      <td>0.598439</td>\n",
       "      <td>0.036567</td>\n",
       "      <td>0.117106</td>\n",
       "      <td>0.078618</td>\n",
       "      <td>0.266043</td>\n",
       "      <td>0.217487</td>\n",
       "      <td>0.798112</td>\n",
       "      <td>0.831743</td>\n",
       "    </tr>\n",
       "    <tr>\n",
       "      <th>v</th>\n",
       "      <td>0.228809</td>\n",
       "      <td>0.488587</td>\n",
       "      <td>0.529479</td>\n",
       "      <td>0.395888</td>\n",
       "      <td>0.588018</td>\n",
       "      <td>0.448561</td>\n",
       "      <td>0.678056</td>\n",
       "      <td>0.742475</td>\n",
       "      <td>0.808966</td>\n",
       "      <td>0.955661</td>\n",
       "      <td>1.184470</td>\n",
       "    </tr>\n",
       "    <tr>\n",
       "      <th>i</th>\n",
       "      <td>0.026009</td>\n",
       "      <td>0.625076</td>\n",
       "      <td>0.612654</td>\n",
       "      <td>0.514342</td>\n",
       "      <td>0.753035</td>\n",
       "      <td>0.485428</td>\n",
       "      <td>0.725599</td>\n",
       "      <td>0.638038</td>\n",
       "      <td>0.047445</td>\n",
       "      <td>0.104637</td>\n",
       "      <td>0.130646</td>\n",
       "    </tr>\n",
       "  </tbody>\n",
       "</table>\n",
       "</div>"
      ],
      "text/plain": [
       "          i         v         h         o         d         e         w  \\\n",
       "a  0.237449  0.580469  0.215360  0.451359  0.057537  0.404682  0.446297   \n",
       "t  0.493904  0.894592  0.441639  0.021831  0.473667  0.382835  0.633228   \n",
       "s  0.049458  0.521784  0.296480  0.894663  0.416530  0.169612  0.215881   \n",
       "w  0.221861  0.814712  0.368225  0.027402  0.003077  0.738109  0.150927   \n",
       "e  0.740859  0.880520  0.353451  0.650893  0.827837  0.812156  0.824139   \n",
       "d  0.387749  0.566442  0.217195  0.143029  0.579602  0.103823  0.066344   \n",
       "o  0.599820  0.932602  0.032597  0.224050  0.423480  0.267877  0.523457   \n",
       "h  0.033631  0.607050  0.633460  0.598439  0.036567  0.117106  0.078618   \n",
       "v  0.228809  0.488587  0.529479  0.395888  0.588018  0.448561  0.678056   \n",
       "i  0.026009  0.625076  0.612654  0.514342  0.753035  0.485428  0.725599   \n",
       "\n",
       "          s         t         a         X  \n",
       "a  0.372704  0.935793  0.192330  0.429780  \n",
       "t  0.039002  0.363664  0.758747  1.252651  \n",
       "s  0.798174  0.077433  0.056233  0.105691  \n",
       "w  0.929053  0.198385  0.500580  0.722441  \n",
       "e  0.658815  0.554572  0.608795  1.349654  \n",
       "d  0.430405  0.111228  0.519840  0.907590  \n",
       "o  0.935946  0.439969  0.601146  1.200967  \n",
       "h  0.266043  0.217487  0.798112  0.831743  \n",
       "v  0.742475  0.808966  0.955661  1.184470  \n",
       "i  0.638038  0.047445  0.104637  0.130646  "
      ]
     },
     "execution_count": 441,
     "metadata": {},
     "output_type": "execute_result"
    }
   ],
   "source": [
    "df_new.drop_duplicates()"
   ]
  },
  {
   "cell_type": "code",
   "execution_count": 450,
   "metadata": {},
   "outputs": [
    {
     "data": {
      "text/html": [
       "<div>\n",
       "<style scoped>\n",
       "    .dataframe tbody tr th:only-of-type {\n",
       "        vertical-align: middle;\n",
       "    }\n",
       "\n",
       "    .dataframe tbody tr th {\n",
       "        vertical-align: top;\n",
       "    }\n",
       "\n",
       "    .dataframe thead th {\n",
       "        text-align: right;\n",
       "    }\n",
       "</style>\n",
       "<table border=\"1\" class=\"dataframe\">\n",
       "  <thead>\n",
       "    <tr style=\"text-align: right;\">\n",
       "      <th></th>\n",
       "      <th>i</th>\n",
       "      <th>v</th>\n",
       "      <th>h</th>\n",
       "      <th>o</th>\n",
       "      <th>d</th>\n",
       "      <th>e</th>\n",
       "      <th>w</th>\n",
       "      <th>s</th>\n",
       "      <th>t</th>\n",
       "      <th>a</th>\n",
       "      <th>X</th>\n",
       "    </tr>\n",
       "  </thead>\n",
       "  <tbody>\n",
       "    <tr>\n",
       "      <th>a</th>\n",
       "      <td>0.237449</td>\n",
       "      <td>0.580469</td>\n",
       "      <td>0.215360</td>\n",
       "      <td>0.451359</td>\n",
       "      <td>0.057537</td>\n",
       "      <td>0.404682</td>\n",
       "      <td>0.446297</td>\n",
       "      <td>0.372704</td>\n",
       "      <td>0.935793</td>\n",
       "      <td>0.192330</td>\n",
       "      <td>0.429780</td>\n",
       "    </tr>\n",
       "    <tr>\n",
       "      <th>t</th>\n",
       "      <td>0.493904</td>\n",
       "      <td>0.894592</td>\n",
       "      <td>0.441639</td>\n",
       "      <td>0.021831</td>\n",
       "      <td>0.473667</td>\n",
       "      <td>0.382835</td>\n",
       "      <td>0.633228</td>\n",
       "      <td>0.039002</td>\n",
       "      <td>0.363664</td>\n",
       "      <td>0.758747</td>\n",
       "      <td>1.252651</td>\n",
       "    </tr>\n",
       "    <tr>\n",
       "      <th>s</th>\n",
       "      <td>0.049458</td>\n",
       "      <td>0.521784</td>\n",
       "      <td>0.296480</td>\n",
       "      <td>0.894663</td>\n",
       "      <td>0.416530</td>\n",
       "      <td>0.169612</td>\n",
       "      <td>0.215881</td>\n",
       "      <td>0.798174</td>\n",
       "      <td>0.077433</td>\n",
       "      <td>0.056233</td>\n",
       "      <td>0.105691</td>\n",
       "    </tr>\n",
       "    <tr>\n",
       "      <th>w</th>\n",
       "      <td>0.221861</td>\n",
       "      <td>0.814712</td>\n",
       "      <td>0.368225</td>\n",
       "      <td>0.027402</td>\n",
       "      <td>0.003077</td>\n",
       "      <td>0.738109</td>\n",
       "      <td>0.150927</td>\n",
       "      <td>0.929053</td>\n",
       "      <td>0.198385</td>\n",
       "      <td>0.500580</td>\n",
       "      <td>0.722441</td>\n",
       "    </tr>\n",
       "    <tr>\n",
       "      <th>e</th>\n",
       "      <td>0.740859</td>\n",
       "      <td>0.880520</td>\n",
       "      <td>0.353451</td>\n",
       "      <td>0.650893</td>\n",
       "      <td>0.827837</td>\n",
       "      <td>0.812156</td>\n",
       "      <td>0.824139</td>\n",
       "      <td>0.658815</td>\n",
       "      <td>0.554572</td>\n",
       "      <td>0.608795</td>\n",
       "      <td>1.349654</td>\n",
       "    </tr>\n",
       "    <tr>\n",
       "      <th>d</th>\n",
       "      <td>0.387749</td>\n",
       "      <td>0.566442</td>\n",
       "      <td>0.217195</td>\n",
       "      <td>0.143029</td>\n",
       "      <td>0.579602</td>\n",
       "      <td>0.103823</td>\n",
       "      <td>0.066344</td>\n",
       "      <td>0.430405</td>\n",
       "      <td>0.111228</td>\n",
       "      <td>0.519840</td>\n",
       "      <td>0.907590</td>\n",
       "    </tr>\n",
       "    <tr>\n",
       "      <th>o</th>\n",
       "      <td>0.599820</td>\n",
       "      <td>0.932602</td>\n",
       "      <td>0.032597</td>\n",
       "      <td>0.224050</td>\n",
       "      <td>0.423480</td>\n",
       "      <td>0.267877</td>\n",
       "      <td>0.523457</td>\n",
       "      <td>0.935946</td>\n",
       "      <td>0.439969</td>\n",
       "      <td>0.601146</td>\n",
       "      <td>1.200967</td>\n",
       "    </tr>\n",
       "    <tr>\n",
       "      <th>h</th>\n",
       "      <td>0.033631</td>\n",
       "      <td>0.607050</td>\n",
       "      <td>0.633460</td>\n",
       "      <td>0.598439</td>\n",
       "      <td>0.036567</td>\n",
       "      <td>0.117106</td>\n",
       "      <td>0.078618</td>\n",
       "      <td>0.266043</td>\n",
       "      <td>0.217487</td>\n",
       "      <td>0.798112</td>\n",
       "      <td>0.831743</td>\n",
       "    </tr>\n",
       "    <tr>\n",
       "      <th>v</th>\n",
       "      <td>0.228809</td>\n",
       "      <td>0.488587</td>\n",
       "      <td>0.529479</td>\n",
       "      <td>0.395888</td>\n",
       "      <td>0.588018</td>\n",
       "      <td>0.448561</td>\n",
       "      <td>0.678056</td>\n",
       "      <td>0.742475</td>\n",
       "      <td>0.808966</td>\n",
       "      <td>0.955661</td>\n",
       "      <td>1.184470</td>\n",
       "    </tr>\n",
       "    <tr>\n",
       "      <th>i</th>\n",
       "      <td>0.026009</td>\n",
       "      <td>0.625076</td>\n",
       "      <td>0.612654</td>\n",
       "      <td>0.514342</td>\n",
       "      <td>0.753035</td>\n",
       "      <td>0.485428</td>\n",
       "      <td>0.725599</td>\n",
       "      <td>0.638038</td>\n",
       "      <td>0.047445</td>\n",
       "      <td>0.104637</td>\n",
       "      <td>0.130646</td>\n",
       "    </tr>\n",
       "    <tr>\n",
       "      <th>a</th>\n",
       "      <td>0.237449</td>\n",
       "      <td>0.580469</td>\n",
       "      <td>0.215360</td>\n",
       "      <td>0.451359</td>\n",
       "      <td>0.057537</td>\n",
       "      <td>0.404682</td>\n",
       "      <td>0.446297</td>\n",
       "      <td>0.372704</td>\n",
       "      <td>0.935793</td>\n",
       "      <td>0.192330</td>\n",
       "      <td>0.429780</td>\n",
       "    </tr>\n",
       "    <tr>\n",
       "      <th>t</th>\n",
       "      <td>0.493904</td>\n",
       "      <td>0.894592</td>\n",
       "      <td>0.441639</td>\n",
       "      <td>0.021831</td>\n",
       "      <td>0.473667</td>\n",
       "      <td>0.382835</td>\n",
       "      <td>0.633228</td>\n",
       "      <td>0.039002</td>\n",
       "      <td>0.363664</td>\n",
       "      <td>0.758747</td>\n",
       "      <td>1.252651</td>\n",
       "    </tr>\n",
       "    <tr>\n",
       "      <th>s</th>\n",
       "      <td>0.049458</td>\n",
       "      <td>0.521784</td>\n",
       "      <td>0.296480</td>\n",
       "      <td>0.894663</td>\n",
       "      <td>0.416530</td>\n",
       "      <td>0.169612</td>\n",
       "      <td>0.215881</td>\n",
       "      <td>0.798174</td>\n",
       "      <td>0.077433</td>\n",
       "      <td>0.056233</td>\n",
       "      <td>0.105691</td>\n",
       "    </tr>\n",
       "    <tr>\n",
       "      <th>w</th>\n",
       "      <td>0.221861</td>\n",
       "      <td>0.814712</td>\n",
       "      <td>0.368225</td>\n",
       "      <td>0.027402</td>\n",
       "      <td>0.003077</td>\n",
       "      <td>0.738109</td>\n",
       "      <td>0.150927</td>\n",
       "      <td>0.929053</td>\n",
       "      <td>0.198385</td>\n",
       "      <td>0.500580</td>\n",
       "      <td>0.722441</td>\n",
       "    </tr>\n",
       "    <tr>\n",
       "      <th>e</th>\n",
       "      <td>0.740859</td>\n",
       "      <td>0.880520</td>\n",
       "      <td>0.353451</td>\n",
       "      <td>0.650893</td>\n",
       "      <td>0.827837</td>\n",
       "      <td>0.812156</td>\n",
       "      <td>0.824139</td>\n",
       "      <td>0.658815</td>\n",
       "      <td>0.554572</td>\n",
       "      <td>0.608795</td>\n",
       "      <td>1.349654</td>\n",
       "    </tr>\n",
       "    <tr>\n",
       "      <th>d</th>\n",
       "      <td>0.387749</td>\n",
       "      <td>0.566442</td>\n",
       "      <td>0.217195</td>\n",
       "      <td>0.143029</td>\n",
       "      <td>0.579602</td>\n",
       "      <td>0.103823</td>\n",
       "      <td>0.066344</td>\n",
       "      <td>0.430405</td>\n",
       "      <td>0.111228</td>\n",
       "      <td>0.519840</td>\n",
       "      <td>0.907590</td>\n",
       "    </tr>\n",
       "    <tr>\n",
       "      <th>o</th>\n",
       "      <td>0.599820</td>\n",
       "      <td>0.932602</td>\n",
       "      <td>0.032597</td>\n",
       "      <td>0.224050</td>\n",
       "      <td>0.423480</td>\n",
       "      <td>0.267877</td>\n",
       "      <td>0.523457</td>\n",
       "      <td>0.935946</td>\n",
       "      <td>0.439969</td>\n",
       "      <td>0.601146</td>\n",
       "      <td>1.200967</td>\n",
       "    </tr>\n",
       "    <tr>\n",
       "      <th>h</th>\n",
       "      <td>0.033631</td>\n",
       "      <td>0.607050</td>\n",
       "      <td>0.633460</td>\n",
       "      <td>0.598439</td>\n",
       "      <td>0.036567</td>\n",
       "      <td>0.117106</td>\n",
       "      <td>0.078618</td>\n",
       "      <td>0.266043</td>\n",
       "      <td>0.217487</td>\n",
       "      <td>0.798112</td>\n",
       "      <td>0.831743</td>\n",
       "    </tr>\n",
       "    <tr>\n",
       "      <th>v</th>\n",
       "      <td>0.228809</td>\n",
       "      <td>0.488587</td>\n",
       "      <td>0.529479</td>\n",
       "      <td>0.395888</td>\n",
       "      <td>0.588018</td>\n",
       "      <td>0.448561</td>\n",
       "      <td>0.678056</td>\n",
       "      <td>0.742475</td>\n",
       "      <td>0.808966</td>\n",
       "      <td>0.955661</td>\n",
       "      <td>1.184470</td>\n",
       "    </tr>\n",
       "    <tr>\n",
       "      <th>i</th>\n",
       "      <td>0.026009</td>\n",
       "      <td>0.625076</td>\n",
       "      <td>0.612654</td>\n",
       "      <td>0.514342</td>\n",
       "      <td>0.753035</td>\n",
       "      <td>0.485428</td>\n",
       "      <td>0.725599</td>\n",
       "      <td>0.638038</td>\n",
       "      <td>0.047445</td>\n",
       "      <td>0.104637</td>\n",
       "      <td>0.130646</td>\n",
       "    </tr>\n",
       "  </tbody>\n",
       "</table>\n",
       "</div>"
      ],
      "text/plain": [
       "          i         v         h         o         d         e         w  \\\n",
       "a  0.237449  0.580469  0.215360  0.451359  0.057537  0.404682  0.446297   \n",
       "t  0.493904  0.894592  0.441639  0.021831  0.473667  0.382835  0.633228   \n",
       "s  0.049458  0.521784  0.296480  0.894663  0.416530  0.169612  0.215881   \n",
       "w  0.221861  0.814712  0.368225  0.027402  0.003077  0.738109  0.150927   \n",
       "e  0.740859  0.880520  0.353451  0.650893  0.827837  0.812156  0.824139   \n",
       "d  0.387749  0.566442  0.217195  0.143029  0.579602  0.103823  0.066344   \n",
       "o  0.599820  0.932602  0.032597  0.224050  0.423480  0.267877  0.523457   \n",
       "h  0.033631  0.607050  0.633460  0.598439  0.036567  0.117106  0.078618   \n",
       "v  0.228809  0.488587  0.529479  0.395888  0.588018  0.448561  0.678056   \n",
       "i  0.026009  0.625076  0.612654  0.514342  0.753035  0.485428  0.725599   \n",
       "a  0.237449  0.580469  0.215360  0.451359  0.057537  0.404682  0.446297   \n",
       "t  0.493904  0.894592  0.441639  0.021831  0.473667  0.382835  0.633228   \n",
       "s  0.049458  0.521784  0.296480  0.894663  0.416530  0.169612  0.215881   \n",
       "w  0.221861  0.814712  0.368225  0.027402  0.003077  0.738109  0.150927   \n",
       "e  0.740859  0.880520  0.353451  0.650893  0.827837  0.812156  0.824139   \n",
       "d  0.387749  0.566442  0.217195  0.143029  0.579602  0.103823  0.066344   \n",
       "o  0.599820  0.932602  0.032597  0.224050  0.423480  0.267877  0.523457   \n",
       "h  0.033631  0.607050  0.633460  0.598439  0.036567  0.117106  0.078618   \n",
       "v  0.228809  0.488587  0.529479  0.395888  0.588018  0.448561  0.678056   \n",
       "i  0.026009  0.625076  0.612654  0.514342  0.753035  0.485428  0.725599   \n",
       "\n",
       "          s         t         a         X  \n",
       "a  0.372704  0.935793  0.192330  0.429780  \n",
       "t  0.039002  0.363664  0.758747  1.252651  \n",
       "s  0.798174  0.077433  0.056233  0.105691  \n",
       "w  0.929053  0.198385  0.500580  0.722441  \n",
       "e  0.658815  0.554572  0.608795  1.349654  \n",
       "d  0.430405  0.111228  0.519840  0.907590  \n",
       "o  0.935946  0.439969  0.601146  1.200967  \n",
       "h  0.266043  0.217487  0.798112  0.831743  \n",
       "v  0.742475  0.808966  0.955661  1.184470  \n",
       "i  0.638038  0.047445  0.104637  0.130646  \n",
       "a  0.372704  0.935793  0.192330  0.429780  \n",
       "t  0.039002  0.363664  0.758747  1.252651  \n",
       "s  0.798174  0.077433  0.056233  0.105691  \n",
       "w  0.929053  0.198385  0.500580  0.722441  \n",
       "e  0.658815  0.554572  0.608795  1.349654  \n",
       "d  0.430405  0.111228  0.519840  0.907590  \n",
       "o  0.935946  0.439969  0.601146  1.200967  \n",
       "h  0.266043  0.217487  0.798112  0.831743  \n",
       "v  0.742475  0.808966  0.955661  1.184470  \n",
       "i  0.638038  0.047445  0.104637  0.130646  "
      ]
     },
     "execution_count": 450,
     "metadata": {},
     "output_type": "execute_result"
    }
   ],
   "source": [
    "df_new"
   ]
  },
  {
   "cell_type": "code",
   "execution_count": 451,
   "metadata": {},
   "outputs": [],
   "source": [
    "df_new['counter'] = 1"
   ]
  },
  {
   "cell_type": "code",
   "execution_count": 456,
   "metadata": {},
   "outputs": [],
   "source": [
    "col_list = [name for name in df_new.columns if len(str(name))<2]"
   ]
  },
  {
   "cell_type": "code",
   "execution_count": 458,
   "metadata": {},
   "outputs": [
    {
     "data": {
      "text/plain": [
       "Index(['i', 'v', 'h', 'o', 'd', 'e', 'w', 's', 't', 'a', 'X', 'counter'], dtype='object')"
      ]
     },
     "execution_count": 458,
     "metadata": {},
     "output_type": "execute_result"
    }
   ],
   "source": [
    "df_new.columns"
   ]
  },
  {
   "cell_type": "code",
   "execution_count": 470,
   "metadata": {},
   "outputs": [
    {
     "data": {
      "text/html": [
       "<div>\n",
       "<style scoped>\n",
       "    .dataframe tbody tr th:only-of-type {\n",
       "        vertical-align: middle;\n",
       "    }\n",
       "\n",
       "    .dataframe tbody tr th {\n",
       "        vertical-align: top;\n",
       "    }\n",
       "\n",
       "    .dataframe thead th {\n",
       "        text-align: right;\n",
       "    }\n",
       "</style>\n",
       "<table border=\"1\" class=\"dataframe\">\n",
       "  <thead>\n",
       "    <tr style=\"text-align: right;\">\n",
       "      <th></th>\n",
       "      <th>i</th>\n",
       "      <th>v</th>\n",
       "      <th>h</th>\n",
       "      <th>o</th>\n",
       "      <th>d</th>\n",
       "      <th>e</th>\n",
       "      <th>w</th>\n",
       "      <th>s</th>\n",
       "      <th>t</th>\n",
       "      <th>a</th>\n",
       "      <th>X</th>\n",
       "    </tr>\n",
       "  </thead>\n",
       "  <tbody>\n",
       "    <tr>\n",
       "      <th>0</th>\n",
       "      <td>0.740859</td>\n",
       "      <td>0.880520</td>\n",
       "      <td>0.353451</td>\n",
       "      <td>0.650893</td>\n",
       "      <td>0.827837</td>\n",
       "      <td>0.812156</td>\n",
       "      <td>0.824139</td>\n",
       "      <td>0.658815</td>\n",
       "      <td>0.554572</td>\n",
       "      <td>0.608795</td>\n",
       "      <td>1.349654</td>\n",
       "    </tr>\n",
       "    <tr>\n",
       "      <th>1</th>\n",
       "      <td>0.599820</td>\n",
       "      <td>0.932602</td>\n",
       "      <td>0.032597</td>\n",
       "      <td>0.224050</td>\n",
       "      <td>0.423480</td>\n",
       "      <td>0.267877</td>\n",
       "      <td>0.523457</td>\n",
       "      <td>0.935946</td>\n",
       "      <td>0.439969</td>\n",
       "      <td>0.601146</td>\n",
       "      <td>1.200967</td>\n",
       "    </tr>\n",
       "    <tr>\n",
       "      <th>2</th>\n",
       "      <td>0.493904</td>\n",
       "      <td>0.894592</td>\n",
       "      <td>0.441639</td>\n",
       "      <td>0.021831</td>\n",
       "      <td>0.473667</td>\n",
       "      <td>0.382835</td>\n",
       "      <td>0.633228</td>\n",
       "      <td>0.039002</td>\n",
       "      <td>0.363664</td>\n",
       "      <td>0.758747</td>\n",
       "      <td>1.252651</td>\n",
       "    </tr>\n",
       "    <tr>\n",
       "      <th>3</th>\n",
       "      <td>0.387749</td>\n",
       "      <td>0.566442</td>\n",
       "      <td>0.217195</td>\n",
       "      <td>0.143029</td>\n",
       "      <td>0.579602</td>\n",
       "      <td>0.103823</td>\n",
       "      <td>0.066344</td>\n",
       "      <td>0.430405</td>\n",
       "      <td>0.111228</td>\n",
       "      <td>0.519840</td>\n",
       "      <td>0.907590</td>\n",
       "    </tr>\n",
       "    <tr>\n",
       "      <th>4</th>\n",
       "      <td>0.237449</td>\n",
       "      <td>0.580469</td>\n",
       "      <td>0.215360</td>\n",
       "      <td>0.451359</td>\n",
       "      <td>0.057537</td>\n",
       "      <td>0.404682</td>\n",
       "      <td>0.446297</td>\n",
       "      <td>0.372704</td>\n",
       "      <td>0.935793</td>\n",
       "      <td>0.192330</td>\n",
       "      <td>0.429780</td>\n",
       "    </tr>\n",
       "    <tr>\n",
       "      <th>5</th>\n",
       "      <td>0.228809</td>\n",
       "      <td>0.488587</td>\n",
       "      <td>0.529479</td>\n",
       "      <td>0.395888</td>\n",
       "      <td>0.588018</td>\n",
       "      <td>0.448561</td>\n",
       "      <td>0.678056</td>\n",
       "      <td>0.742475</td>\n",
       "      <td>0.808966</td>\n",
       "      <td>0.955661</td>\n",
       "      <td>1.184470</td>\n",
       "    </tr>\n",
       "    <tr>\n",
       "      <th>6</th>\n",
       "      <td>0.221861</td>\n",
       "      <td>0.814712</td>\n",
       "      <td>0.368225</td>\n",
       "      <td>0.027402</td>\n",
       "      <td>0.003077</td>\n",
       "      <td>0.738109</td>\n",
       "      <td>0.150927</td>\n",
       "      <td>0.929053</td>\n",
       "      <td>0.198385</td>\n",
       "      <td>0.500580</td>\n",
       "      <td>0.722441</td>\n",
       "    </tr>\n",
       "    <tr>\n",
       "      <th>7</th>\n",
       "      <td>0.049458</td>\n",
       "      <td>0.521784</td>\n",
       "      <td>0.296480</td>\n",
       "      <td>0.894663</td>\n",
       "      <td>0.416530</td>\n",
       "      <td>0.169612</td>\n",
       "      <td>0.215881</td>\n",
       "      <td>0.798174</td>\n",
       "      <td>0.077433</td>\n",
       "      <td>0.056233</td>\n",
       "      <td>0.105691</td>\n",
       "    </tr>\n",
       "    <tr>\n",
       "      <th>8</th>\n",
       "      <td>0.033631</td>\n",
       "      <td>0.607050</td>\n",
       "      <td>0.633460</td>\n",
       "      <td>0.598439</td>\n",
       "      <td>0.036567</td>\n",
       "      <td>0.117106</td>\n",
       "      <td>0.078618</td>\n",
       "      <td>0.266043</td>\n",
       "      <td>0.217487</td>\n",
       "      <td>0.798112</td>\n",
       "      <td>0.831743</td>\n",
       "    </tr>\n",
       "    <tr>\n",
       "      <th>9</th>\n",
       "      <td>0.026009</td>\n",
       "      <td>0.625076</td>\n",
       "      <td>0.612654</td>\n",
       "      <td>0.514342</td>\n",
       "      <td>0.753035</td>\n",
       "      <td>0.485428</td>\n",
       "      <td>0.725599</td>\n",
       "      <td>0.638038</td>\n",
       "      <td>0.047445</td>\n",
       "      <td>0.104637</td>\n",
       "      <td>0.130646</td>\n",
       "    </tr>\n",
       "  </tbody>\n",
       "</table>\n",
       "</div>"
      ],
      "text/plain": [
       "          i         v         h         o         d         e         w  \\\n",
       "0  0.740859  0.880520  0.353451  0.650893  0.827837  0.812156  0.824139   \n",
       "1  0.599820  0.932602  0.032597  0.224050  0.423480  0.267877  0.523457   \n",
       "2  0.493904  0.894592  0.441639  0.021831  0.473667  0.382835  0.633228   \n",
       "3  0.387749  0.566442  0.217195  0.143029  0.579602  0.103823  0.066344   \n",
       "4  0.237449  0.580469  0.215360  0.451359  0.057537  0.404682  0.446297   \n",
       "5  0.228809  0.488587  0.529479  0.395888  0.588018  0.448561  0.678056   \n",
       "6  0.221861  0.814712  0.368225  0.027402  0.003077  0.738109  0.150927   \n",
       "7  0.049458  0.521784  0.296480  0.894663  0.416530  0.169612  0.215881   \n",
       "8  0.033631  0.607050  0.633460  0.598439  0.036567  0.117106  0.078618   \n",
       "9  0.026009  0.625076  0.612654  0.514342  0.753035  0.485428  0.725599   \n",
       "\n",
       "          s         t         a         X  \n",
       "0  0.658815  0.554572  0.608795  1.349654  \n",
       "1  0.935946  0.439969  0.601146  1.200967  \n",
       "2  0.039002  0.363664  0.758747  1.252651  \n",
       "3  0.430405  0.111228  0.519840  0.907590  \n",
       "4  0.372704  0.935793  0.192330  0.429780  \n",
       "5  0.742475  0.808966  0.955661  1.184470  \n",
       "6  0.929053  0.198385  0.500580  0.722441  \n",
       "7  0.798174  0.077433  0.056233  0.105691  \n",
       "8  0.266043  0.217487  0.798112  0.831743  \n",
       "9  0.638038  0.047445  0.104637  0.130646  "
      ]
     },
     "execution_count": 470,
     "metadata": {},
     "output_type": "execute_result"
    }
   ],
   "source": [
    "df_new.groupby(by=col_list).count().sort_values(by=['i'], ascending =False).rename(columns = {'counter':'Y'}).drop(columns=['Y']).reset_index()"
   ]
  },
  {
   "cell_type": "code",
   "execution_count": 448,
   "metadata": {},
   "outputs": [
    {
     "data": {
      "text/plain": [
       "['i', 'v', 'h', 'o', 'd', 'e', 'w', 's', 't', 'a', 'X']"
      ]
     },
     "execution_count": 448,
     "metadata": {},
     "output_type": "execute_result"
    }
   ],
   "source": [
    "list(df_new.columns)+"
   ]
  },
  {
   "cell_type": "code",
   "execution_count": 471,
   "metadata": {},
   "outputs": [],
   "source": [
    "dq = df_new.groupby(by=col_list).count().sort_values(by=['i'], ascending =False).rename(columns = {'counter':'Y'}).drop(columns=['Y']).reset_index()"
   ]
  },
  {
   "cell_type": "code",
   "execution_count": 475,
   "metadata": {},
   "outputs": [],
   "source": [
    "dq.index = np.linspace(10,1000,10)  #dq.columns  rename(index = {'store 3': 'last store'})"
   ]
  },
  {
   "cell_type": "code",
   "execution_count": 477,
   "metadata": {},
   "outputs": [
    {
     "data": {
      "text/html": [
       "<div>\n",
       "<style scoped>\n",
       "    .dataframe tbody tr th:only-of-type {\n",
       "        vertical-align: middle;\n",
       "    }\n",
       "\n",
       "    .dataframe tbody tr th {\n",
       "        vertical-align: top;\n",
       "    }\n",
       "\n",
       "    .dataframe thead th {\n",
       "        text-align: right;\n",
       "    }\n",
       "</style>\n",
       "<table border=\"1\" class=\"dataframe\">\n",
       "  <thead>\n",
       "    <tr style=\"text-align: right;\">\n",
       "      <th></th>\n",
       "      <th>i</th>\n",
       "      <th>v</th>\n",
       "      <th>h</th>\n",
       "      <th>o</th>\n",
       "      <th>d</th>\n",
       "      <th>e</th>\n",
       "      <th>w</th>\n",
       "      <th>s</th>\n",
       "      <th>t</th>\n",
       "      <th>a</th>\n",
       "      <th>X</th>\n",
       "    </tr>\n",
       "  </thead>\n",
       "  <tbody>\n",
       "    <tr>\n",
       "      <th>10.0</th>\n",
       "      <td>0.740859</td>\n",
       "      <td>0.880520</td>\n",
       "      <td>0.353451</td>\n",
       "      <td>0.650893</td>\n",
       "      <td>0.827837</td>\n",
       "      <td>0.812156</td>\n",
       "      <td>0.824139</td>\n",
       "      <td>0.658815</td>\n",
       "      <td>0.554572</td>\n",
       "      <td>0.608795</td>\n",
       "      <td>1.349654</td>\n",
       "    </tr>\n",
       "    <tr>\n",
       "      <th>120.0</th>\n",
       "      <td>0.599820</td>\n",
       "      <td>0.932602</td>\n",
       "      <td>0.032597</td>\n",
       "      <td>0.224050</td>\n",
       "      <td>0.423480</td>\n",
       "      <td>0.267877</td>\n",
       "      <td>0.523457</td>\n",
       "      <td>0.935946</td>\n",
       "      <td>0.439969</td>\n",
       "      <td>0.601146</td>\n",
       "      <td>1.200967</td>\n",
       "    </tr>\n",
       "    <tr>\n",
       "      <th>230.0</th>\n",
       "      <td>0.493904</td>\n",
       "      <td>0.894592</td>\n",
       "      <td>0.441639</td>\n",
       "      <td>0.021831</td>\n",
       "      <td>0.473667</td>\n",
       "      <td>0.382835</td>\n",
       "      <td>0.633228</td>\n",
       "      <td>0.039002</td>\n",
       "      <td>0.363664</td>\n",
       "      <td>0.758747</td>\n",
       "      <td>1.252651</td>\n",
       "    </tr>\n",
       "    <tr>\n",
       "      <th>340.0</th>\n",
       "      <td>0.387749</td>\n",
       "      <td>0.566442</td>\n",
       "      <td>0.217195</td>\n",
       "      <td>0.143029</td>\n",
       "      <td>0.579602</td>\n",
       "      <td>0.103823</td>\n",
       "      <td>0.066344</td>\n",
       "      <td>0.430405</td>\n",
       "      <td>0.111228</td>\n",
       "      <td>0.519840</td>\n",
       "      <td>0.907590</td>\n",
       "    </tr>\n",
       "    <tr>\n",
       "      <th>450.0</th>\n",
       "      <td>0.237449</td>\n",
       "      <td>0.580469</td>\n",
       "      <td>0.215360</td>\n",
       "      <td>0.451359</td>\n",
       "      <td>0.057537</td>\n",
       "      <td>0.404682</td>\n",
       "      <td>0.446297</td>\n",
       "      <td>0.372704</td>\n",
       "      <td>0.935793</td>\n",
       "      <td>0.192330</td>\n",
       "      <td>0.429780</td>\n",
       "    </tr>\n",
       "    <tr>\n",
       "      <th>560.0</th>\n",
       "      <td>0.228809</td>\n",
       "      <td>0.488587</td>\n",
       "      <td>0.529479</td>\n",
       "      <td>0.395888</td>\n",
       "      <td>0.588018</td>\n",
       "      <td>0.448561</td>\n",
       "      <td>0.678056</td>\n",
       "      <td>0.742475</td>\n",
       "      <td>0.808966</td>\n",
       "      <td>0.955661</td>\n",
       "      <td>1.184470</td>\n",
       "    </tr>\n",
       "    <tr>\n",
       "      <th>670.0</th>\n",
       "      <td>0.221861</td>\n",
       "      <td>0.814712</td>\n",
       "      <td>0.368225</td>\n",
       "      <td>0.027402</td>\n",
       "      <td>0.003077</td>\n",
       "      <td>0.738109</td>\n",
       "      <td>0.150927</td>\n",
       "      <td>0.929053</td>\n",
       "      <td>0.198385</td>\n",
       "      <td>0.500580</td>\n",
       "      <td>0.722441</td>\n",
       "    </tr>\n",
       "    <tr>\n",
       "      <th>780.0</th>\n",
       "      <td>0.049458</td>\n",
       "      <td>0.521784</td>\n",
       "      <td>0.296480</td>\n",
       "      <td>0.894663</td>\n",
       "      <td>0.416530</td>\n",
       "      <td>0.169612</td>\n",
       "      <td>0.215881</td>\n",
       "      <td>0.798174</td>\n",
       "      <td>0.077433</td>\n",
       "      <td>0.056233</td>\n",
       "      <td>0.105691</td>\n",
       "    </tr>\n",
       "    <tr>\n",
       "      <th>890.0</th>\n",
       "      <td>0.033631</td>\n",
       "      <td>0.607050</td>\n",
       "      <td>0.633460</td>\n",
       "      <td>0.598439</td>\n",
       "      <td>0.036567</td>\n",
       "      <td>0.117106</td>\n",
       "      <td>0.078618</td>\n",
       "      <td>0.266043</td>\n",
       "      <td>0.217487</td>\n",
       "      <td>0.798112</td>\n",
       "      <td>0.831743</td>\n",
       "    </tr>\n",
       "    <tr>\n",
       "      <th>1000.0</th>\n",
       "      <td>0.026009</td>\n",
       "      <td>0.625076</td>\n",
       "      <td>0.612654</td>\n",
       "      <td>0.514342</td>\n",
       "      <td>0.753035</td>\n",
       "      <td>0.485428</td>\n",
       "      <td>0.725599</td>\n",
       "      <td>0.638038</td>\n",
       "      <td>0.047445</td>\n",
       "      <td>0.104637</td>\n",
       "      <td>0.130646</td>\n",
       "    </tr>\n",
       "  </tbody>\n",
       "</table>\n",
       "</div>"
      ],
      "text/plain": [
       "               i         v         h         o         d         e         w  \\\n",
       "10.0    0.740859  0.880520  0.353451  0.650893  0.827837  0.812156  0.824139   \n",
       "120.0   0.599820  0.932602  0.032597  0.224050  0.423480  0.267877  0.523457   \n",
       "230.0   0.493904  0.894592  0.441639  0.021831  0.473667  0.382835  0.633228   \n",
       "340.0   0.387749  0.566442  0.217195  0.143029  0.579602  0.103823  0.066344   \n",
       "450.0   0.237449  0.580469  0.215360  0.451359  0.057537  0.404682  0.446297   \n",
       "560.0   0.228809  0.488587  0.529479  0.395888  0.588018  0.448561  0.678056   \n",
       "670.0   0.221861  0.814712  0.368225  0.027402  0.003077  0.738109  0.150927   \n",
       "780.0   0.049458  0.521784  0.296480  0.894663  0.416530  0.169612  0.215881   \n",
       "890.0   0.033631  0.607050  0.633460  0.598439  0.036567  0.117106  0.078618   \n",
       "1000.0  0.026009  0.625076  0.612654  0.514342  0.753035  0.485428  0.725599   \n",
       "\n",
       "               s         t         a         X  \n",
       "10.0    0.658815  0.554572  0.608795  1.349654  \n",
       "120.0   0.935946  0.439969  0.601146  1.200967  \n",
       "230.0   0.039002  0.363664  0.758747  1.252651  \n",
       "340.0   0.430405  0.111228  0.519840  0.907590  \n",
       "450.0   0.372704  0.935793  0.192330  0.429780  \n",
       "560.0   0.742475  0.808966  0.955661  1.184470  \n",
       "670.0   0.929053  0.198385  0.500580  0.722441  \n",
       "780.0   0.798174  0.077433  0.056233  0.105691  \n",
       "890.0   0.266043  0.217487  0.798112  0.831743  \n",
       "1000.0  0.638038  0.047445  0.104637  0.130646  "
      ]
     },
     "execution_count": 477,
     "metadata": {},
     "output_type": "execute_result"
    }
   ],
   "source": [
    "dq  # dq.set_index('o')"
   ]
  },
  {
   "cell_type": "code",
   "execution_count": 478,
   "metadata": {},
   "outputs": [
    {
     "data": {
      "text/html": [
       "<div>\n",
       "<style scoped>\n",
       "    .dataframe tbody tr th:only-of-type {\n",
       "        vertical-align: middle;\n",
       "    }\n",
       "\n",
       "    .dataframe tbody tr th {\n",
       "        vertical-align: top;\n",
       "    }\n",
       "\n",
       "    .dataframe thead th {\n",
       "        text-align: right;\n",
       "    }\n",
       "</style>\n",
       "<table border=\"1\" class=\"dataframe\">\n",
       "  <thead>\n",
       "    <tr style=\"text-align: right;\">\n",
       "      <th></th>\n",
       "      <th>i</th>\n",
       "      <th>v</th>\n",
       "      <th>h</th>\n",
       "      <th>d</th>\n",
       "      <th>e</th>\n",
       "      <th>w</th>\n",
       "      <th>s</th>\n",
       "      <th>t</th>\n",
       "      <th>a</th>\n",
       "      <th>X</th>\n",
       "    </tr>\n",
       "    <tr>\n",
       "      <th>o</th>\n",
       "      <th></th>\n",
       "      <th></th>\n",
       "      <th></th>\n",
       "      <th></th>\n",
       "      <th></th>\n",
       "      <th></th>\n",
       "      <th></th>\n",
       "      <th></th>\n",
       "      <th></th>\n",
       "      <th></th>\n",
       "    </tr>\n",
       "  </thead>\n",
       "  <tbody>\n",
       "    <tr>\n",
       "      <th>0.650893</th>\n",
       "      <td>0.740859</td>\n",
       "      <td>0.880520</td>\n",
       "      <td>0.353451</td>\n",
       "      <td>0.827837</td>\n",
       "      <td>0.812156</td>\n",
       "      <td>0.824139</td>\n",
       "      <td>0.658815</td>\n",
       "      <td>0.554572</td>\n",
       "      <td>0.608795</td>\n",
       "      <td>1.349654</td>\n",
       "    </tr>\n",
       "    <tr>\n",
       "      <th>0.224050</th>\n",
       "      <td>0.599820</td>\n",
       "      <td>0.932602</td>\n",
       "      <td>0.032597</td>\n",
       "      <td>0.423480</td>\n",
       "      <td>0.267877</td>\n",
       "      <td>0.523457</td>\n",
       "      <td>0.935946</td>\n",
       "      <td>0.439969</td>\n",
       "      <td>0.601146</td>\n",
       "      <td>1.200967</td>\n",
       "    </tr>\n",
       "    <tr>\n",
       "      <th>0.021831</th>\n",
       "      <td>0.493904</td>\n",
       "      <td>0.894592</td>\n",
       "      <td>0.441639</td>\n",
       "      <td>0.473667</td>\n",
       "      <td>0.382835</td>\n",
       "      <td>0.633228</td>\n",
       "      <td>0.039002</td>\n",
       "      <td>0.363664</td>\n",
       "      <td>0.758747</td>\n",
       "      <td>1.252651</td>\n",
       "    </tr>\n",
       "    <tr>\n",
       "      <th>0.143029</th>\n",
       "      <td>0.387749</td>\n",
       "      <td>0.566442</td>\n",
       "      <td>0.217195</td>\n",
       "      <td>0.579602</td>\n",
       "      <td>0.103823</td>\n",
       "      <td>0.066344</td>\n",
       "      <td>0.430405</td>\n",
       "      <td>0.111228</td>\n",
       "      <td>0.519840</td>\n",
       "      <td>0.907590</td>\n",
       "    </tr>\n",
       "    <tr>\n",
       "      <th>0.451359</th>\n",
       "      <td>0.237449</td>\n",
       "      <td>0.580469</td>\n",
       "      <td>0.215360</td>\n",
       "      <td>0.057537</td>\n",
       "      <td>0.404682</td>\n",
       "      <td>0.446297</td>\n",
       "      <td>0.372704</td>\n",
       "      <td>0.935793</td>\n",
       "      <td>0.192330</td>\n",
       "      <td>0.429780</td>\n",
       "    </tr>\n",
       "    <tr>\n",
       "      <th>0.395888</th>\n",
       "      <td>0.228809</td>\n",
       "      <td>0.488587</td>\n",
       "      <td>0.529479</td>\n",
       "      <td>0.588018</td>\n",
       "      <td>0.448561</td>\n",
       "      <td>0.678056</td>\n",
       "      <td>0.742475</td>\n",
       "      <td>0.808966</td>\n",
       "      <td>0.955661</td>\n",
       "      <td>1.184470</td>\n",
       "    </tr>\n",
       "    <tr>\n",
       "      <th>0.027402</th>\n",
       "      <td>0.221861</td>\n",
       "      <td>0.814712</td>\n",
       "      <td>0.368225</td>\n",
       "      <td>0.003077</td>\n",
       "      <td>0.738109</td>\n",
       "      <td>0.150927</td>\n",
       "      <td>0.929053</td>\n",
       "      <td>0.198385</td>\n",
       "      <td>0.500580</td>\n",
       "      <td>0.722441</td>\n",
       "    </tr>\n",
       "    <tr>\n",
       "      <th>0.894663</th>\n",
       "      <td>0.049458</td>\n",
       "      <td>0.521784</td>\n",
       "      <td>0.296480</td>\n",
       "      <td>0.416530</td>\n",
       "      <td>0.169612</td>\n",
       "      <td>0.215881</td>\n",
       "      <td>0.798174</td>\n",
       "      <td>0.077433</td>\n",
       "      <td>0.056233</td>\n",
       "      <td>0.105691</td>\n",
       "    </tr>\n",
       "    <tr>\n",
       "      <th>0.598439</th>\n",
       "      <td>0.033631</td>\n",
       "      <td>0.607050</td>\n",
       "      <td>0.633460</td>\n",
       "      <td>0.036567</td>\n",
       "      <td>0.117106</td>\n",
       "      <td>0.078618</td>\n",
       "      <td>0.266043</td>\n",
       "      <td>0.217487</td>\n",
       "      <td>0.798112</td>\n",
       "      <td>0.831743</td>\n",
       "    </tr>\n",
       "    <tr>\n",
       "      <th>0.514342</th>\n",
       "      <td>0.026009</td>\n",
       "      <td>0.625076</td>\n",
       "      <td>0.612654</td>\n",
       "      <td>0.753035</td>\n",
       "      <td>0.485428</td>\n",
       "      <td>0.725599</td>\n",
       "      <td>0.638038</td>\n",
       "      <td>0.047445</td>\n",
       "      <td>0.104637</td>\n",
       "      <td>0.130646</td>\n",
       "    </tr>\n",
       "  </tbody>\n",
       "</table>\n",
       "</div>"
      ],
      "text/plain": [
       "                 i         v         h         d         e         w  \\\n",
       "o                                                                      \n",
       "0.650893  0.740859  0.880520  0.353451  0.827837  0.812156  0.824139   \n",
       "0.224050  0.599820  0.932602  0.032597  0.423480  0.267877  0.523457   \n",
       "0.021831  0.493904  0.894592  0.441639  0.473667  0.382835  0.633228   \n",
       "0.143029  0.387749  0.566442  0.217195  0.579602  0.103823  0.066344   \n",
       "0.451359  0.237449  0.580469  0.215360  0.057537  0.404682  0.446297   \n",
       "0.395888  0.228809  0.488587  0.529479  0.588018  0.448561  0.678056   \n",
       "0.027402  0.221861  0.814712  0.368225  0.003077  0.738109  0.150927   \n",
       "0.894663  0.049458  0.521784  0.296480  0.416530  0.169612  0.215881   \n",
       "0.598439  0.033631  0.607050  0.633460  0.036567  0.117106  0.078618   \n",
       "0.514342  0.026009  0.625076  0.612654  0.753035  0.485428  0.725599   \n",
       "\n",
       "                 s         t         a         X  \n",
       "o                                                 \n",
       "0.650893  0.658815  0.554572  0.608795  1.349654  \n",
       "0.224050  0.935946  0.439969  0.601146  1.200967  \n",
       "0.021831  0.039002  0.363664  0.758747  1.252651  \n",
       "0.143029  0.430405  0.111228  0.519840  0.907590  \n",
       "0.451359  0.372704  0.935793  0.192330  0.429780  \n",
       "0.395888  0.742475  0.808966  0.955661  1.184470  \n",
       "0.027402  0.929053  0.198385  0.500580  0.722441  \n",
       "0.894663  0.798174  0.077433  0.056233  0.105691  \n",
       "0.598439  0.266043  0.217487  0.798112  0.831743  \n",
       "0.514342  0.638038  0.047445  0.104637  0.130646  "
      ]
     },
     "execution_count": 478,
     "metadata": {},
     "output_type": "execute_result"
    }
   ],
   "source": [
    "dq.set_index('o')"
   ]
  },
  {
   "cell_type": "code",
   "execution_count": 530,
   "metadata": {},
   "outputs": [
    {
     "data": {
      "text/html": [
       "<div>\n",
       "<style scoped>\n",
       "    .dataframe tbody tr th:only-of-type {\n",
       "        vertical-align: middle;\n",
       "    }\n",
       "\n",
       "    .dataframe tbody tr th {\n",
       "        vertical-align: top;\n",
       "    }\n",
       "\n",
       "    .dataframe thead th {\n",
       "        text-align: right;\n",
       "    }\n",
       "</style>\n",
       "<table border=\"1\" class=\"dataframe\">\n",
       "  <thead>\n",
       "    <tr style=\"text-align: right;\">\n",
       "      <th></th>\n",
       "      <th>i</th>\n",
       "      <th>v</th>\n",
       "      <th>h</th>\n",
       "      <th>o</th>\n",
       "      <th>d</th>\n",
       "      <th>e</th>\n",
       "      <th>w</th>\n",
       "      <th>s</th>\n",
       "      <th>t</th>\n",
       "      <th>a</th>\n",
       "      <th>X</th>\n",
       "    </tr>\n",
       "  </thead>\n",
       "  <tbody>\n",
       "    <tr>\n",
       "      <th>a</th>\n",
       "      <td>0.237449</td>\n",
       "      <td>0.580469</td>\n",
       "      <td>0.215360</td>\n",
       "      <td>0.451359</td>\n",
       "      <td>0.057537</td>\n",
       "      <td>0.404682</td>\n",
       "      <td>0.446297</td>\n",
       "      <td>0.372704</td>\n",
       "      <td>0.935793</td>\n",
       "      <td>0.192330</td>\n",
       "      <td>0.429780</td>\n",
       "    </tr>\n",
       "    <tr>\n",
       "      <th>t</th>\n",
       "      <td>0.493904</td>\n",
       "      <td>0.894592</td>\n",
       "      <td>0.441639</td>\n",
       "      <td>0.021831</td>\n",
       "      <td>0.473667</td>\n",
       "      <td>0.382835</td>\n",
       "      <td>0.633228</td>\n",
       "      <td>0.039002</td>\n",
       "      <td>0.363664</td>\n",
       "      <td>0.758747</td>\n",
       "      <td>1.252651</td>\n",
       "    </tr>\n",
       "    <tr>\n",
       "      <th>s</th>\n",
       "      <td>0.049458</td>\n",
       "      <td>0.521784</td>\n",
       "      <td>0.296480</td>\n",
       "      <td>0.894663</td>\n",
       "      <td>0.416530</td>\n",
       "      <td>0.169612</td>\n",
       "      <td>0.215881</td>\n",
       "      <td>0.798174</td>\n",
       "      <td>0.077433</td>\n",
       "      <td>0.056233</td>\n",
       "      <td>0.105691</td>\n",
       "    </tr>\n",
       "    <tr>\n",
       "      <th>w</th>\n",
       "      <td>0.221861</td>\n",
       "      <td>0.814712</td>\n",
       "      <td>0.368225</td>\n",
       "      <td>0.027402</td>\n",
       "      <td>0.003077</td>\n",
       "      <td>0.738109</td>\n",
       "      <td>0.150927</td>\n",
       "      <td>0.929053</td>\n",
       "      <td>0.198385</td>\n",
       "      <td>0.500580</td>\n",
       "      <td>0.722441</td>\n",
       "    </tr>\n",
       "    <tr>\n",
       "      <th>e</th>\n",
       "      <td>0.740859</td>\n",
       "      <td>0.880520</td>\n",
       "      <td>0.353451</td>\n",
       "      <td>0.650893</td>\n",
       "      <td>0.827837</td>\n",
       "      <td>0.812156</td>\n",
       "      <td>0.824139</td>\n",
       "      <td>0.658815</td>\n",
       "      <td>0.554572</td>\n",
       "      <td>0.608795</td>\n",
       "      <td>1.349654</td>\n",
       "    </tr>\n",
       "    <tr>\n",
       "      <th>d</th>\n",
       "      <td>0.387749</td>\n",
       "      <td>0.566442</td>\n",
       "      <td>0.217195</td>\n",
       "      <td>0.143029</td>\n",
       "      <td>0.579602</td>\n",
       "      <td>0.103823</td>\n",
       "      <td>0.066344</td>\n",
       "      <td>0.430405</td>\n",
       "      <td>0.111228</td>\n",
       "      <td>0.519840</td>\n",
       "      <td>0.907590</td>\n",
       "    </tr>\n",
       "    <tr>\n",
       "      <th>o</th>\n",
       "      <td>0.599820</td>\n",
       "      <td>0.932602</td>\n",
       "      <td>0.032597</td>\n",
       "      <td>0.224050</td>\n",
       "      <td>0.423480</td>\n",
       "      <td>0.267877</td>\n",
       "      <td>0.523457</td>\n",
       "      <td>0.935946</td>\n",
       "      <td>0.439969</td>\n",
       "      <td>0.601146</td>\n",
       "      <td>1.200967</td>\n",
       "    </tr>\n",
       "    <tr>\n",
       "      <th>h</th>\n",
       "      <td>0.033631</td>\n",
       "      <td>0.607050</td>\n",
       "      <td>0.633460</td>\n",
       "      <td>0.598439</td>\n",
       "      <td>0.036567</td>\n",
       "      <td>0.117106</td>\n",
       "      <td>0.078618</td>\n",
       "      <td>0.266043</td>\n",
       "      <td>0.217487</td>\n",
       "      <td>0.798112</td>\n",
       "      <td>0.831743</td>\n",
       "    </tr>\n",
       "    <tr>\n",
       "      <th>v</th>\n",
       "      <td>0.228809</td>\n",
       "      <td>0.488587</td>\n",
       "      <td>0.529479</td>\n",
       "      <td>0.395888</td>\n",
       "      <td>0.588018</td>\n",
       "      <td>0.448561</td>\n",
       "      <td>0.678056</td>\n",
       "      <td>0.742475</td>\n",
       "      <td>0.808966</td>\n",
       "      <td>0.955661</td>\n",
       "      <td>1.184470</td>\n",
       "    </tr>\n",
       "    <tr>\n",
       "      <th>i</th>\n",
       "      <td>0.026009</td>\n",
       "      <td>0.625076</td>\n",
       "      <td>0.612654</td>\n",
       "      <td>0.514342</td>\n",
       "      <td>0.753035</td>\n",
       "      <td>0.485428</td>\n",
       "      <td>0.725599</td>\n",
       "      <td>0.638038</td>\n",
       "      <td>0.047445</td>\n",
       "      <td>0.104637</td>\n",
       "      <td>0.130646</td>\n",
       "    </tr>\n",
       "  </tbody>\n",
       "</table>\n",
       "</div>"
      ],
      "text/plain": [
       "          i         v         h         o         d         e         w  \\\n",
       "a  0.237449  0.580469  0.215360  0.451359  0.057537  0.404682  0.446297   \n",
       "t  0.493904  0.894592  0.441639  0.021831  0.473667  0.382835  0.633228   \n",
       "s  0.049458  0.521784  0.296480  0.894663  0.416530  0.169612  0.215881   \n",
       "w  0.221861  0.814712  0.368225  0.027402  0.003077  0.738109  0.150927   \n",
       "e  0.740859  0.880520  0.353451  0.650893  0.827837  0.812156  0.824139   \n",
       "d  0.387749  0.566442  0.217195  0.143029  0.579602  0.103823  0.066344   \n",
       "o  0.599820  0.932602  0.032597  0.224050  0.423480  0.267877  0.523457   \n",
       "h  0.033631  0.607050  0.633460  0.598439  0.036567  0.117106  0.078618   \n",
       "v  0.228809  0.488587  0.529479  0.395888  0.588018  0.448561  0.678056   \n",
       "i  0.026009  0.625076  0.612654  0.514342  0.753035  0.485428  0.725599   \n",
       "\n",
       "          s         t         a         X  \n",
       "a  0.372704  0.935793  0.192330  0.429780  \n",
       "t  0.039002  0.363664  0.758747  1.252651  \n",
       "s  0.798174  0.077433  0.056233  0.105691  \n",
       "w  0.929053  0.198385  0.500580  0.722441  \n",
       "e  0.658815  0.554572  0.608795  1.349654  \n",
       "d  0.430405  0.111228  0.519840  0.907590  \n",
       "o  0.935946  0.439969  0.601146  1.200967  \n",
       "h  0.266043  0.217487  0.798112  0.831743  \n",
       "v  0.742475  0.808966  0.955661  1.184470  \n",
       "i  0.638038  0.047445  0.104637  0.130646  "
      ]
     },
     "execution_count": 530,
     "metadata": {},
     "output_type": "execute_result"
    }
   ],
   "source": [
    "df"
   ]
  },
  {
   "cell_type": "code",
   "execution_count": 483,
   "metadata": {},
   "outputs": [],
   "source": [
    "df2 = df.loc['a':'w','h':'d']*5"
   ]
  },
  {
   "cell_type": "code",
   "execution_count": 484,
   "metadata": {},
   "outputs": [
    {
     "data": {
      "text/html": [
       "<div>\n",
       "<style scoped>\n",
       "    .dataframe tbody tr th:only-of-type {\n",
       "        vertical-align: middle;\n",
       "    }\n",
       "\n",
       "    .dataframe tbody tr th {\n",
       "        vertical-align: top;\n",
       "    }\n",
       "\n",
       "    .dataframe thead th {\n",
       "        text-align: right;\n",
       "    }\n",
       "</style>\n",
       "<table border=\"1\" class=\"dataframe\">\n",
       "  <thead>\n",
       "    <tr style=\"text-align: right;\">\n",
       "      <th></th>\n",
       "      <th>h</th>\n",
       "      <th>o</th>\n",
       "      <th>d</th>\n",
       "    </tr>\n",
       "  </thead>\n",
       "  <tbody>\n",
       "    <tr>\n",
       "      <th>a</th>\n",
       "      <td>1.076799</td>\n",
       "      <td>2.256795</td>\n",
       "      <td>0.287685</td>\n",
       "    </tr>\n",
       "    <tr>\n",
       "      <th>t</th>\n",
       "      <td>2.208195</td>\n",
       "      <td>0.109155</td>\n",
       "      <td>2.368336</td>\n",
       "    </tr>\n",
       "    <tr>\n",
       "      <th>s</th>\n",
       "      <td>1.482401</td>\n",
       "      <td>4.473314</td>\n",
       "      <td>2.082649</td>\n",
       "    </tr>\n",
       "    <tr>\n",
       "      <th>w</th>\n",
       "      <td>1.841125</td>\n",
       "      <td>0.137012</td>\n",
       "      <td>0.015387</td>\n",
       "    </tr>\n",
       "  </tbody>\n",
       "</table>\n",
       "</div>"
      ],
      "text/plain": [
       "          h         o         d\n",
       "a  1.076799  2.256795  0.287685\n",
       "t  2.208195  0.109155  2.368336\n",
       "s  1.482401  4.473314  2.082649\n",
       "w  1.841125  0.137012  0.015387"
      ]
     },
     "execution_count": 484,
     "metadata": {},
     "output_type": "execute_result"
    }
   ],
   "source": [
    "df2"
   ]
  },
  {
   "cell_type": "code",
   "execution_count": 488,
   "metadata": {},
   "outputs": [
    {
     "data": {
      "text/html": [
       "<div>\n",
       "<style scoped>\n",
       "    .dataframe tbody tr th:only-of-type {\n",
       "        vertical-align: middle;\n",
       "    }\n",
       "\n",
       "    .dataframe tbody tr th {\n",
       "        vertical-align: top;\n",
       "    }\n",
       "\n",
       "    .dataframe thead th {\n",
       "        text-align: right;\n",
       "    }\n",
       "</style>\n",
       "<table border=\"1\" class=\"dataframe\">\n",
       "  <thead>\n",
       "    <tr style=\"text-align: right;\">\n",
       "      <th></th>\n",
       "      <th>i</th>\n",
       "      <th>v</th>\n",
       "      <th>h</th>\n",
       "      <th>o</th>\n",
       "      <th>d</th>\n",
       "      <th>e</th>\n",
       "      <th>w</th>\n",
       "      <th>s</th>\n",
       "      <th>t</th>\n",
       "      <th>a</th>\n",
       "      <th>X</th>\n",
       "      <th>h</th>\n",
       "      <th>o</th>\n",
       "      <th>d</th>\n",
       "    </tr>\n",
       "  </thead>\n",
       "  <tbody>\n",
       "    <tr>\n",
       "      <th>a</th>\n",
       "      <td>0.237449</td>\n",
       "      <td>0.580469</td>\n",
       "      <td>0.215360</td>\n",
       "      <td>0.451359</td>\n",
       "      <td>0.057537</td>\n",
       "      <td>0.404682</td>\n",
       "      <td>0.446297</td>\n",
       "      <td>0.372704</td>\n",
       "      <td>0.935793</td>\n",
       "      <td>0.192330</td>\n",
       "      <td>0.429780</td>\n",
       "      <td>1.076799</td>\n",
       "      <td>2.256795</td>\n",
       "      <td>0.287685</td>\n",
       "    </tr>\n",
       "    <tr>\n",
       "      <th>t</th>\n",
       "      <td>0.493904</td>\n",
       "      <td>0.894592</td>\n",
       "      <td>0.441639</td>\n",
       "      <td>0.021831</td>\n",
       "      <td>0.473667</td>\n",
       "      <td>0.382835</td>\n",
       "      <td>0.633228</td>\n",
       "      <td>0.039002</td>\n",
       "      <td>0.363664</td>\n",
       "      <td>0.758747</td>\n",
       "      <td>1.252651</td>\n",
       "      <td>2.208195</td>\n",
       "      <td>0.109155</td>\n",
       "      <td>2.368336</td>\n",
       "    </tr>\n",
       "    <tr>\n",
       "      <th>s</th>\n",
       "      <td>0.049458</td>\n",
       "      <td>0.521784</td>\n",
       "      <td>0.296480</td>\n",
       "      <td>0.894663</td>\n",
       "      <td>0.416530</td>\n",
       "      <td>0.169612</td>\n",
       "      <td>0.215881</td>\n",
       "      <td>0.798174</td>\n",
       "      <td>0.077433</td>\n",
       "      <td>0.056233</td>\n",
       "      <td>0.105691</td>\n",
       "      <td>1.482401</td>\n",
       "      <td>4.473314</td>\n",
       "      <td>2.082649</td>\n",
       "    </tr>\n",
       "    <tr>\n",
       "      <th>w</th>\n",
       "      <td>0.221861</td>\n",
       "      <td>0.814712</td>\n",
       "      <td>0.368225</td>\n",
       "      <td>0.027402</td>\n",
       "      <td>0.003077</td>\n",
       "      <td>0.738109</td>\n",
       "      <td>0.150927</td>\n",
       "      <td>0.929053</td>\n",
       "      <td>0.198385</td>\n",
       "      <td>0.500580</td>\n",
       "      <td>0.722441</td>\n",
       "      <td>1.841125</td>\n",
       "      <td>0.137012</td>\n",
       "      <td>0.015387</td>\n",
       "    </tr>\n",
       "  </tbody>\n",
       "</table>\n",
       "</div>"
      ],
      "text/plain": [
       "          i         v         h         o         d         e         w  \\\n",
       "a  0.237449  0.580469  0.215360  0.451359  0.057537  0.404682  0.446297   \n",
       "t  0.493904  0.894592  0.441639  0.021831  0.473667  0.382835  0.633228   \n",
       "s  0.049458  0.521784  0.296480  0.894663  0.416530  0.169612  0.215881   \n",
       "w  0.221861  0.814712  0.368225  0.027402  0.003077  0.738109  0.150927   \n",
       "\n",
       "          s         t         a         X         h         o         d  \n",
       "a  0.372704  0.935793  0.192330  0.429780  1.076799  2.256795  0.287685  \n",
       "t  0.039002  0.363664  0.758747  1.252651  2.208195  0.109155  2.368336  \n",
       "s  0.798174  0.077433  0.056233  0.105691  1.482401  4.473314  2.082649  \n",
       "w  0.929053  0.198385  0.500580  0.722441  1.841125  0.137012  0.015387  "
      ]
     },
     "execution_count": 488,
     "metadata": {},
     "output_type": "execute_result"
    }
   ],
   "source": [
    "pd.concat([df,df2],axis=1,join='inner')"
   ]
  },
  {
   "cell_type": "code",
   "execution_count": 531,
   "metadata": {},
   "outputs": [],
   "source": [
    "df1 = df.loc['s':'i',:]"
   ]
  },
  {
   "cell_type": "code",
   "execution_count": 532,
   "metadata": {},
   "outputs": [
    {
     "data": {
      "text/html": [
       "<div>\n",
       "<style scoped>\n",
       "    .dataframe tbody tr th:only-of-type {\n",
       "        vertical-align: middle;\n",
       "    }\n",
       "\n",
       "    .dataframe tbody tr th {\n",
       "        vertical-align: top;\n",
       "    }\n",
       "\n",
       "    .dataframe thead th {\n",
       "        text-align: right;\n",
       "    }\n",
       "</style>\n",
       "<table border=\"1\" class=\"dataframe\">\n",
       "  <thead>\n",
       "    <tr style=\"text-align: right;\">\n",
       "      <th></th>\n",
       "      <th>i</th>\n",
       "      <th>v</th>\n",
       "      <th>h</th>\n",
       "      <th>o</th>\n",
       "      <th>d</th>\n",
       "      <th>e</th>\n",
       "      <th>w</th>\n",
       "      <th>s</th>\n",
       "      <th>t</th>\n",
       "      <th>a</th>\n",
       "      <th>X</th>\n",
       "    </tr>\n",
       "  </thead>\n",
       "  <tbody>\n",
       "    <tr>\n",
       "      <th>s</th>\n",
       "      <td>0.049458</td>\n",
       "      <td>0.521784</td>\n",
       "      <td>0.296480</td>\n",
       "      <td>0.894663</td>\n",
       "      <td>0.416530</td>\n",
       "      <td>0.169612</td>\n",
       "      <td>0.215881</td>\n",
       "      <td>0.798174</td>\n",
       "      <td>0.077433</td>\n",
       "      <td>0.056233</td>\n",
       "      <td>0.105691</td>\n",
       "    </tr>\n",
       "    <tr>\n",
       "      <th>w</th>\n",
       "      <td>0.221861</td>\n",
       "      <td>0.814712</td>\n",
       "      <td>0.368225</td>\n",
       "      <td>0.027402</td>\n",
       "      <td>0.003077</td>\n",
       "      <td>0.738109</td>\n",
       "      <td>0.150927</td>\n",
       "      <td>0.929053</td>\n",
       "      <td>0.198385</td>\n",
       "      <td>0.500580</td>\n",
       "      <td>0.722441</td>\n",
       "    </tr>\n",
       "    <tr>\n",
       "      <th>e</th>\n",
       "      <td>0.740859</td>\n",
       "      <td>0.880520</td>\n",
       "      <td>0.353451</td>\n",
       "      <td>0.650893</td>\n",
       "      <td>0.827837</td>\n",
       "      <td>0.812156</td>\n",
       "      <td>0.824139</td>\n",
       "      <td>0.658815</td>\n",
       "      <td>0.554572</td>\n",
       "      <td>0.608795</td>\n",
       "      <td>1.349654</td>\n",
       "    </tr>\n",
       "    <tr>\n",
       "      <th>d</th>\n",
       "      <td>0.387749</td>\n",
       "      <td>0.566442</td>\n",
       "      <td>0.217195</td>\n",
       "      <td>0.143029</td>\n",
       "      <td>0.579602</td>\n",
       "      <td>0.103823</td>\n",
       "      <td>0.066344</td>\n",
       "      <td>0.430405</td>\n",
       "      <td>0.111228</td>\n",
       "      <td>0.519840</td>\n",
       "      <td>0.907590</td>\n",
       "    </tr>\n",
       "    <tr>\n",
       "      <th>o</th>\n",
       "      <td>0.599820</td>\n",
       "      <td>0.932602</td>\n",
       "      <td>0.032597</td>\n",
       "      <td>0.224050</td>\n",
       "      <td>0.423480</td>\n",
       "      <td>0.267877</td>\n",
       "      <td>0.523457</td>\n",
       "      <td>0.935946</td>\n",
       "      <td>0.439969</td>\n",
       "      <td>0.601146</td>\n",
       "      <td>1.200967</td>\n",
       "    </tr>\n",
       "    <tr>\n",
       "      <th>h</th>\n",
       "      <td>0.033631</td>\n",
       "      <td>0.607050</td>\n",
       "      <td>0.633460</td>\n",
       "      <td>0.598439</td>\n",
       "      <td>0.036567</td>\n",
       "      <td>0.117106</td>\n",
       "      <td>0.078618</td>\n",
       "      <td>0.266043</td>\n",
       "      <td>0.217487</td>\n",
       "      <td>0.798112</td>\n",
       "      <td>0.831743</td>\n",
       "    </tr>\n",
       "    <tr>\n",
       "      <th>v</th>\n",
       "      <td>0.228809</td>\n",
       "      <td>0.488587</td>\n",
       "      <td>0.529479</td>\n",
       "      <td>0.395888</td>\n",
       "      <td>0.588018</td>\n",
       "      <td>0.448561</td>\n",
       "      <td>0.678056</td>\n",
       "      <td>0.742475</td>\n",
       "      <td>0.808966</td>\n",
       "      <td>0.955661</td>\n",
       "      <td>1.184470</td>\n",
       "    </tr>\n",
       "    <tr>\n",
       "      <th>i</th>\n",
       "      <td>0.026009</td>\n",
       "      <td>0.625076</td>\n",
       "      <td>0.612654</td>\n",
       "      <td>0.514342</td>\n",
       "      <td>0.753035</td>\n",
       "      <td>0.485428</td>\n",
       "      <td>0.725599</td>\n",
       "      <td>0.638038</td>\n",
       "      <td>0.047445</td>\n",
       "      <td>0.104637</td>\n",
       "      <td>0.130646</td>\n",
       "    </tr>\n",
       "  </tbody>\n",
       "</table>\n",
       "</div>"
      ],
      "text/plain": [
       "          i         v         h         o         d         e         w  \\\n",
       "s  0.049458  0.521784  0.296480  0.894663  0.416530  0.169612  0.215881   \n",
       "w  0.221861  0.814712  0.368225  0.027402  0.003077  0.738109  0.150927   \n",
       "e  0.740859  0.880520  0.353451  0.650893  0.827837  0.812156  0.824139   \n",
       "d  0.387749  0.566442  0.217195  0.143029  0.579602  0.103823  0.066344   \n",
       "o  0.599820  0.932602  0.032597  0.224050  0.423480  0.267877  0.523457   \n",
       "h  0.033631  0.607050  0.633460  0.598439  0.036567  0.117106  0.078618   \n",
       "v  0.228809  0.488587  0.529479  0.395888  0.588018  0.448561  0.678056   \n",
       "i  0.026009  0.625076  0.612654  0.514342  0.753035  0.485428  0.725599   \n",
       "\n",
       "          s         t         a         X  \n",
       "s  0.798174  0.077433  0.056233  0.105691  \n",
       "w  0.929053  0.198385  0.500580  0.722441  \n",
       "e  0.658815  0.554572  0.608795  1.349654  \n",
       "d  0.430405  0.111228  0.519840  0.907590  \n",
       "o  0.935946  0.439969  0.601146  1.200967  \n",
       "h  0.266043  0.217487  0.798112  0.831743  \n",
       "v  0.742475  0.808966  0.955661  1.184470  \n",
       "i  0.638038  0.047445  0.104637  0.130646  "
      ]
     },
     "execution_count": 532,
     "metadata": {},
     "output_type": "execute_result"
    }
   ],
   "source": [
    "df1"
   ]
  },
  {
   "cell_type": "code",
   "execution_count": 503,
   "metadata": {},
   "outputs": [
    {
     "data": {
      "text/html": [
       "<div>\n",
       "<style scoped>\n",
       "    .dataframe tbody tr th:only-of-type {\n",
       "        vertical-align: middle;\n",
       "    }\n",
       "\n",
       "    .dataframe tbody tr th {\n",
       "        vertical-align: top;\n",
       "    }\n",
       "\n",
       "    .dataframe thead th {\n",
       "        text-align: right;\n",
       "    }\n",
       "</style>\n",
       "<table border=\"1\" class=\"dataframe\">\n",
       "  <thead>\n",
       "    <tr style=\"text-align: right;\">\n",
       "      <th></th>\n",
       "      <th>i</th>\n",
       "      <th>v</th>\n",
       "      <th>h</th>\n",
       "      <th>o</th>\n",
       "      <th>d</th>\n",
       "      <th>e</th>\n",
       "      <th>w</th>\n",
       "      <th>s</th>\n",
       "      <th>t</th>\n",
       "      <th>a</th>\n",
       "      <th>X</th>\n",
       "      <th>h</th>\n",
       "      <th>o</th>\n",
       "      <th>d</th>\n",
       "    </tr>\n",
       "  </thead>\n",
       "  <tbody>\n",
       "    <tr>\n",
       "      <th>s</th>\n",
       "      <td>0.049458</td>\n",
       "      <td>0.521784</td>\n",
       "      <td>0.296480</td>\n",
       "      <td>0.894663</td>\n",
       "      <td>0.416530</td>\n",
       "      <td>0.169612</td>\n",
       "      <td>0.215881</td>\n",
       "      <td>0.798174</td>\n",
       "      <td>0.077433</td>\n",
       "      <td>0.056233</td>\n",
       "      <td>0.105691</td>\n",
       "      <td>1.482401</td>\n",
       "      <td>4.473314</td>\n",
       "      <td>2.082649</td>\n",
       "    </tr>\n",
       "    <tr>\n",
       "      <th>w</th>\n",
       "      <td>0.221861</td>\n",
       "      <td>0.814712</td>\n",
       "      <td>0.368225</td>\n",
       "      <td>0.027402</td>\n",
       "      <td>0.003077</td>\n",
       "      <td>0.738109</td>\n",
       "      <td>0.150927</td>\n",
       "      <td>0.929053</td>\n",
       "      <td>0.198385</td>\n",
       "      <td>0.500580</td>\n",
       "      <td>0.722441</td>\n",
       "      <td>1.841125</td>\n",
       "      <td>0.137012</td>\n",
       "      <td>0.015387</td>\n",
       "    </tr>\n",
       "  </tbody>\n",
       "</table>\n",
       "</div>"
      ],
      "text/plain": [
       "          i         v         h         o         d         e         w  \\\n",
       "s  0.049458  0.521784  0.296480  0.894663  0.416530  0.169612  0.215881   \n",
       "w  0.221861  0.814712  0.368225  0.027402  0.003077  0.738109  0.150927   \n",
       "\n",
       "          s         t         a         X         h         o         d  \n",
       "s  0.798174  0.077433  0.056233  0.105691  1.482401  4.473314  2.082649  \n",
       "w  0.929053  0.198385  0.500580  0.722441  1.841125  0.137012  0.015387  "
      ]
     },
     "execution_count": 503,
     "metadata": {},
     "output_type": "execute_result"
    }
   ],
   "source": [
    "pd.concat([df1,df2],axis=1,join='inner',sort=False)"
   ]
  },
  {
   "cell_type": "code",
   "execution_count": 504,
   "metadata": {},
   "outputs": [
    {
     "data": {
      "text/html": [
       "<div>\n",
       "<style scoped>\n",
       "    .dataframe tbody tr th:only-of-type {\n",
       "        vertical-align: middle;\n",
       "    }\n",
       "\n",
       "    .dataframe tbody tr th {\n",
       "        vertical-align: top;\n",
       "    }\n",
       "\n",
       "    .dataframe thead th {\n",
       "        text-align: right;\n",
       "    }\n",
       "</style>\n",
       "<table border=\"1\" class=\"dataframe\">\n",
       "  <thead>\n",
       "    <tr style=\"text-align: right;\">\n",
       "      <th></th>\n",
       "      <th>i</th>\n",
       "      <th>v</th>\n",
       "      <th>h</th>\n",
       "      <th>o</th>\n",
       "      <th>d</th>\n",
       "      <th>e</th>\n",
       "      <th>w</th>\n",
       "      <th>s</th>\n",
       "      <th>t</th>\n",
       "      <th>a</th>\n",
       "      <th>X</th>\n",
       "      <th>h</th>\n",
       "      <th>o</th>\n",
       "      <th>d</th>\n",
       "    </tr>\n",
       "  </thead>\n",
       "  <tbody>\n",
       "    <tr>\n",
       "      <th>s</th>\n",
       "      <td>0.049458</td>\n",
       "      <td>0.521784</td>\n",
       "      <td>0.296480</td>\n",
       "      <td>0.894663</td>\n",
       "      <td>0.416530</td>\n",
       "      <td>0.169612</td>\n",
       "      <td>0.215881</td>\n",
       "      <td>0.798174</td>\n",
       "      <td>0.077433</td>\n",
       "      <td>0.056233</td>\n",
       "      <td>0.105691</td>\n",
       "      <td>1.482401</td>\n",
       "      <td>4.473314</td>\n",
       "      <td>2.082649</td>\n",
       "    </tr>\n",
       "    <tr>\n",
       "      <th>w</th>\n",
       "      <td>0.221861</td>\n",
       "      <td>0.814712</td>\n",
       "      <td>0.368225</td>\n",
       "      <td>0.027402</td>\n",
       "      <td>0.003077</td>\n",
       "      <td>0.738109</td>\n",
       "      <td>0.150927</td>\n",
       "      <td>0.929053</td>\n",
       "      <td>0.198385</td>\n",
       "      <td>0.500580</td>\n",
       "      <td>0.722441</td>\n",
       "      <td>1.841125</td>\n",
       "      <td>0.137012</td>\n",
       "      <td>0.015387</td>\n",
       "    </tr>\n",
       "    <tr>\n",
       "      <th>e</th>\n",
       "      <td>0.740859</td>\n",
       "      <td>0.880520</td>\n",
       "      <td>0.353451</td>\n",
       "      <td>0.650893</td>\n",
       "      <td>0.827837</td>\n",
       "      <td>0.812156</td>\n",
       "      <td>0.824139</td>\n",
       "      <td>0.658815</td>\n",
       "      <td>0.554572</td>\n",
       "      <td>0.608795</td>\n",
       "      <td>1.349654</td>\n",
       "      <td>NaN</td>\n",
       "      <td>NaN</td>\n",
       "      <td>NaN</td>\n",
       "    </tr>\n",
       "    <tr>\n",
       "      <th>d</th>\n",
       "      <td>0.387749</td>\n",
       "      <td>0.566442</td>\n",
       "      <td>0.217195</td>\n",
       "      <td>0.143029</td>\n",
       "      <td>0.579602</td>\n",
       "      <td>0.103823</td>\n",
       "      <td>0.066344</td>\n",
       "      <td>0.430405</td>\n",
       "      <td>0.111228</td>\n",
       "      <td>0.519840</td>\n",
       "      <td>0.907590</td>\n",
       "      <td>NaN</td>\n",
       "      <td>NaN</td>\n",
       "      <td>NaN</td>\n",
       "    </tr>\n",
       "    <tr>\n",
       "      <th>o</th>\n",
       "      <td>0.599820</td>\n",
       "      <td>0.932602</td>\n",
       "      <td>0.032597</td>\n",
       "      <td>0.224050</td>\n",
       "      <td>0.423480</td>\n",
       "      <td>0.267877</td>\n",
       "      <td>0.523457</td>\n",
       "      <td>0.935946</td>\n",
       "      <td>0.439969</td>\n",
       "      <td>0.601146</td>\n",
       "      <td>1.200967</td>\n",
       "      <td>NaN</td>\n",
       "      <td>NaN</td>\n",
       "      <td>NaN</td>\n",
       "    </tr>\n",
       "    <tr>\n",
       "      <th>h</th>\n",
       "      <td>0.033631</td>\n",
       "      <td>0.607050</td>\n",
       "      <td>0.633460</td>\n",
       "      <td>0.598439</td>\n",
       "      <td>0.036567</td>\n",
       "      <td>0.117106</td>\n",
       "      <td>0.078618</td>\n",
       "      <td>0.266043</td>\n",
       "      <td>0.217487</td>\n",
       "      <td>0.798112</td>\n",
       "      <td>0.831743</td>\n",
       "      <td>NaN</td>\n",
       "      <td>NaN</td>\n",
       "      <td>NaN</td>\n",
       "    </tr>\n",
       "    <tr>\n",
       "      <th>v</th>\n",
       "      <td>0.228809</td>\n",
       "      <td>0.488587</td>\n",
       "      <td>0.529479</td>\n",
       "      <td>0.395888</td>\n",
       "      <td>0.588018</td>\n",
       "      <td>0.448561</td>\n",
       "      <td>0.678056</td>\n",
       "      <td>0.742475</td>\n",
       "      <td>0.808966</td>\n",
       "      <td>0.955661</td>\n",
       "      <td>1.184470</td>\n",
       "      <td>NaN</td>\n",
       "      <td>NaN</td>\n",
       "      <td>NaN</td>\n",
       "    </tr>\n",
       "    <tr>\n",
       "      <th>i</th>\n",
       "      <td>0.026009</td>\n",
       "      <td>0.625076</td>\n",
       "      <td>0.612654</td>\n",
       "      <td>0.514342</td>\n",
       "      <td>0.753035</td>\n",
       "      <td>0.485428</td>\n",
       "      <td>0.725599</td>\n",
       "      <td>0.638038</td>\n",
       "      <td>0.047445</td>\n",
       "      <td>0.104637</td>\n",
       "      <td>0.130646</td>\n",
       "      <td>NaN</td>\n",
       "      <td>NaN</td>\n",
       "      <td>NaN</td>\n",
       "    </tr>\n",
       "    <tr>\n",
       "      <th>a</th>\n",
       "      <td>NaN</td>\n",
       "      <td>NaN</td>\n",
       "      <td>NaN</td>\n",
       "      <td>NaN</td>\n",
       "      <td>NaN</td>\n",
       "      <td>NaN</td>\n",
       "      <td>NaN</td>\n",
       "      <td>NaN</td>\n",
       "      <td>NaN</td>\n",
       "      <td>NaN</td>\n",
       "      <td>NaN</td>\n",
       "      <td>1.076799</td>\n",
       "      <td>2.256795</td>\n",
       "      <td>0.287685</td>\n",
       "    </tr>\n",
       "    <tr>\n",
       "      <th>t</th>\n",
       "      <td>NaN</td>\n",
       "      <td>NaN</td>\n",
       "      <td>NaN</td>\n",
       "      <td>NaN</td>\n",
       "      <td>NaN</td>\n",
       "      <td>NaN</td>\n",
       "      <td>NaN</td>\n",
       "      <td>NaN</td>\n",
       "      <td>NaN</td>\n",
       "      <td>NaN</td>\n",
       "      <td>NaN</td>\n",
       "      <td>2.208195</td>\n",
       "      <td>0.109155</td>\n",
       "      <td>2.368336</td>\n",
       "    </tr>\n",
       "  </tbody>\n",
       "</table>\n",
       "</div>"
      ],
      "text/plain": [
       "          i         v         h         o         d         e         w  \\\n",
       "s  0.049458  0.521784  0.296480  0.894663  0.416530  0.169612  0.215881   \n",
       "w  0.221861  0.814712  0.368225  0.027402  0.003077  0.738109  0.150927   \n",
       "e  0.740859  0.880520  0.353451  0.650893  0.827837  0.812156  0.824139   \n",
       "d  0.387749  0.566442  0.217195  0.143029  0.579602  0.103823  0.066344   \n",
       "o  0.599820  0.932602  0.032597  0.224050  0.423480  0.267877  0.523457   \n",
       "h  0.033631  0.607050  0.633460  0.598439  0.036567  0.117106  0.078618   \n",
       "v  0.228809  0.488587  0.529479  0.395888  0.588018  0.448561  0.678056   \n",
       "i  0.026009  0.625076  0.612654  0.514342  0.753035  0.485428  0.725599   \n",
       "a       NaN       NaN       NaN       NaN       NaN       NaN       NaN   \n",
       "t       NaN       NaN       NaN       NaN       NaN       NaN       NaN   \n",
       "\n",
       "          s         t         a         X         h         o         d  \n",
       "s  0.798174  0.077433  0.056233  0.105691  1.482401  4.473314  2.082649  \n",
       "w  0.929053  0.198385  0.500580  0.722441  1.841125  0.137012  0.015387  \n",
       "e  0.658815  0.554572  0.608795  1.349654       NaN       NaN       NaN  \n",
       "d  0.430405  0.111228  0.519840  0.907590       NaN       NaN       NaN  \n",
       "o  0.935946  0.439969  0.601146  1.200967       NaN       NaN       NaN  \n",
       "h  0.266043  0.217487  0.798112  0.831743       NaN       NaN       NaN  \n",
       "v  0.742475  0.808966  0.955661  1.184470       NaN       NaN       NaN  \n",
       "i  0.638038  0.047445  0.104637  0.130646       NaN       NaN       NaN  \n",
       "a       NaN       NaN       NaN       NaN  1.076799  2.256795  0.287685  \n",
       "t       NaN       NaN       NaN       NaN  2.208195  0.109155  2.368336  "
      ]
     },
     "execution_count": 504,
     "metadata": {},
     "output_type": "execute_result"
    }
   ],
   "source": [
    "pd.concat([df1,df2],axis=1,join='outer',sort=False)"
   ]
  },
  {
   "cell_type": "code",
   "execution_count": 508,
   "metadata": {},
   "outputs": [
    {
     "data": {
      "text/html": [
       "<div>\n",
       "<style scoped>\n",
       "    .dataframe tbody tr th:only-of-type {\n",
       "        vertical-align: middle;\n",
       "    }\n",
       "\n",
       "    .dataframe tbody tr th {\n",
       "        vertical-align: top;\n",
       "    }\n",
       "\n",
       "    .dataframe thead th {\n",
       "        text-align: right;\n",
       "    }\n",
       "</style>\n",
       "<table border=\"1\" class=\"dataframe\">\n",
       "  <thead>\n",
       "    <tr style=\"text-align: right;\">\n",
       "      <th></th>\n",
       "      <th>X</th>\n",
       "      <th>a</th>\n",
       "      <th>d</th>\n",
       "      <th>e</th>\n",
       "      <th>h</th>\n",
       "      <th>i</th>\n",
       "      <th>o</th>\n",
       "      <th>s</th>\n",
       "      <th>t</th>\n",
       "      <th>v</th>\n",
       "      <th>w</th>\n",
       "    </tr>\n",
       "  </thead>\n",
       "  <tbody>\n",
       "    <tr>\n",
       "      <th>s</th>\n",
       "      <td>0.105691</td>\n",
       "      <td>0.056233</td>\n",
       "      <td>0.416530</td>\n",
       "      <td>0.169612</td>\n",
       "      <td>0.296480</td>\n",
       "      <td>0.049458</td>\n",
       "      <td>0.894663</td>\n",
       "      <td>0.798174</td>\n",
       "      <td>0.077433</td>\n",
       "      <td>0.521784</td>\n",
       "      <td>0.215881</td>\n",
       "    </tr>\n",
       "    <tr>\n",
       "      <th>w</th>\n",
       "      <td>0.722441</td>\n",
       "      <td>0.500580</td>\n",
       "      <td>0.003077</td>\n",
       "      <td>0.738109</td>\n",
       "      <td>0.368225</td>\n",
       "      <td>0.221861</td>\n",
       "      <td>0.027402</td>\n",
       "      <td>0.929053</td>\n",
       "      <td>0.198385</td>\n",
       "      <td>0.814712</td>\n",
       "      <td>0.150927</td>\n",
       "    </tr>\n",
       "    <tr>\n",
       "      <th>e</th>\n",
       "      <td>1.349654</td>\n",
       "      <td>0.608795</td>\n",
       "      <td>0.827837</td>\n",
       "      <td>0.812156</td>\n",
       "      <td>0.353451</td>\n",
       "      <td>0.740859</td>\n",
       "      <td>0.650893</td>\n",
       "      <td>0.658815</td>\n",
       "      <td>0.554572</td>\n",
       "      <td>0.880520</td>\n",
       "      <td>0.824139</td>\n",
       "    </tr>\n",
       "    <tr>\n",
       "      <th>d</th>\n",
       "      <td>0.907590</td>\n",
       "      <td>0.519840</td>\n",
       "      <td>0.579602</td>\n",
       "      <td>0.103823</td>\n",
       "      <td>0.217195</td>\n",
       "      <td>0.387749</td>\n",
       "      <td>0.143029</td>\n",
       "      <td>0.430405</td>\n",
       "      <td>0.111228</td>\n",
       "      <td>0.566442</td>\n",
       "      <td>0.066344</td>\n",
       "    </tr>\n",
       "    <tr>\n",
       "      <th>o</th>\n",
       "      <td>1.200967</td>\n",
       "      <td>0.601146</td>\n",
       "      <td>0.423480</td>\n",
       "      <td>0.267877</td>\n",
       "      <td>0.032597</td>\n",
       "      <td>0.599820</td>\n",
       "      <td>0.224050</td>\n",
       "      <td>0.935946</td>\n",
       "      <td>0.439969</td>\n",
       "      <td>0.932602</td>\n",
       "      <td>0.523457</td>\n",
       "    </tr>\n",
       "    <tr>\n",
       "      <th>h</th>\n",
       "      <td>0.831743</td>\n",
       "      <td>0.798112</td>\n",
       "      <td>0.036567</td>\n",
       "      <td>0.117106</td>\n",
       "      <td>0.633460</td>\n",
       "      <td>0.033631</td>\n",
       "      <td>0.598439</td>\n",
       "      <td>0.266043</td>\n",
       "      <td>0.217487</td>\n",
       "      <td>0.607050</td>\n",
       "      <td>0.078618</td>\n",
       "    </tr>\n",
       "    <tr>\n",
       "      <th>v</th>\n",
       "      <td>1.184470</td>\n",
       "      <td>0.955661</td>\n",
       "      <td>0.588018</td>\n",
       "      <td>0.448561</td>\n",
       "      <td>0.529479</td>\n",
       "      <td>0.228809</td>\n",
       "      <td>0.395888</td>\n",
       "      <td>0.742475</td>\n",
       "      <td>0.808966</td>\n",
       "      <td>0.488587</td>\n",
       "      <td>0.678056</td>\n",
       "    </tr>\n",
       "    <tr>\n",
       "      <th>i</th>\n",
       "      <td>0.130646</td>\n",
       "      <td>0.104637</td>\n",
       "      <td>0.753035</td>\n",
       "      <td>0.485428</td>\n",
       "      <td>0.612654</td>\n",
       "      <td>0.026009</td>\n",
       "      <td>0.514342</td>\n",
       "      <td>0.638038</td>\n",
       "      <td>0.047445</td>\n",
       "      <td>0.625076</td>\n",
       "      <td>0.725599</td>\n",
       "    </tr>\n",
       "    <tr>\n",
       "      <th>a</th>\n",
       "      <td>NaN</td>\n",
       "      <td>NaN</td>\n",
       "      <td>0.287685</td>\n",
       "      <td>NaN</td>\n",
       "      <td>1.076799</td>\n",
       "      <td>NaN</td>\n",
       "      <td>2.256795</td>\n",
       "      <td>NaN</td>\n",
       "      <td>NaN</td>\n",
       "      <td>NaN</td>\n",
       "      <td>NaN</td>\n",
       "    </tr>\n",
       "    <tr>\n",
       "      <th>t</th>\n",
       "      <td>NaN</td>\n",
       "      <td>NaN</td>\n",
       "      <td>2.368336</td>\n",
       "      <td>NaN</td>\n",
       "      <td>2.208195</td>\n",
       "      <td>NaN</td>\n",
       "      <td>0.109155</td>\n",
       "      <td>NaN</td>\n",
       "      <td>NaN</td>\n",
       "      <td>NaN</td>\n",
       "      <td>NaN</td>\n",
       "    </tr>\n",
       "    <tr>\n",
       "      <th>s</th>\n",
       "      <td>NaN</td>\n",
       "      <td>NaN</td>\n",
       "      <td>2.082649</td>\n",
       "      <td>NaN</td>\n",
       "      <td>1.482401</td>\n",
       "      <td>NaN</td>\n",
       "      <td>4.473314</td>\n",
       "      <td>NaN</td>\n",
       "      <td>NaN</td>\n",
       "      <td>NaN</td>\n",
       "      <td>NaN</td>\n",
       "    </tr>\n",
       "    <tr>\n",
       "      <th>w</th>\n",
       "      <td>NaN</td>\n",
       "      <td>NaN</td>\n",
       "      <td>0.015387</td>\n",
       "      <td>NaN</td>\n",
       "      <td>1.841125</td>\n",
       "      <td>NaN</td>\n",
       "      <td>0.137012</td>\n",
       "      <td>NaN</td>\n",
       "      <td>NaN</td>\n",
       "      <td>NaN</td>\n",
       "      <td>NaN</td>\n",
       "    </tr>\n",
       "  </tbody>\n",
       "</table>\n",
       "</div>"
      ],
      "text/plain": [
       "          X         a         d         e         h         i         o  \\\n",
       "s  0.105691  0.056233  0.416530  0.169612  0.296480  0.049458  0.894663   \n",
       "w  0.722441  0.500580  0.003077  0.738109  0.368225  0.221861  0.027402   \n",
       "e  1.349654  0.608795  0.827837  0.812156  0.353451  0.740859  0.650893   \n",
       "d  0.907590  0.519840  0.579602  0.103823  0.217195  0.387749  0.143029   \n",
       "o  1.200967  0.601146  0.423480  0.267877  0.032597  0.599820  0.224050   \n",
       "h  0.831743  0.798112  0.036567  0.117106  0.633460  0.033631  0.598439   \n",
       "v  1.184470  0.955661  0.588018  0.448561  0.529479  0.228809  0.395888   \n",
       "i  0.130646  0.104637  0.753035  0.485428  0.612654  0.026009  0.514342   \n",
       "a       NaN       NaN  0.287685       NaN  1.076799       NaN  2.256795   \n",
       "t       NaN       NaN  2.368336       NaN  2.208195       NaN  0.109155   \n",
       "s       NaN       NaN  2.082649       NaN  1.482401       NaN  4.473314   \n",
       "w       NaN       NaN  0.015387       NaN  1.841125       NaN  0.137012   \n",
       "\n",
       "          s         t         v         w  \n",
       "s  0.798174  0.077433  0.521784  0.215881  \n",
       "w  0.929053  0.198385  0.814712  0.150927  \n",
       "e  0.658815  0.554572  0.880520  0.824139  \n",
       "d  0.430405  0.111228  0.566442  0.066344  \n",
       "o  0.935946  0.439969  0.932602  0.523457  \n",
       "h  0.266043  0.217487  0.607050  0.078618  \n",
       "v  0.742475  0.808966  0.488587  0.678056  \n",
       "i  0.638038  0.047445  0.625076  0.725599  \n",
       "a       NaN       NaN       NaN       NaN  \n",
       "t       NaN       NaN       NaN       NaN  \n",
       "s       NaN       NaN       NaN       NaN  \n",
       "w       NaN       NaN       NaN       NaN  "
      ]
     },
     "execution_count": 508,
     "metadata": {},
     "output_type": "execute_result"
    }
   ],
   "source": [
    "pd.concat([df1,df2],axis=0,sort=True)"
   ]
  },
  {
   "cell_type": "code",
   "execution_count": 533,
   "metadata": {},
   "outputs": [],
   "source": [
    "df1.reset_index(inplace=True)\n"
   ]
  },
  {
   "cell_type": "code",
   "execution_count": 534,
   "metadata": {},
   "outputs": [
    {
     "data": {
      "text/html": [
       "<div>\n",
       "<style scoped>\n",
       "    .dataframe tbody tr th:only-of-type {\n",
       "        vertical-align: middle;\n",
       "    }\n",
       "\n",
       "    .dataframe tbody tr th {\n",
       "        vertical-align: top;\n",
       "    }\n",
       "\n",
       "    .dataframe thead th {\n",
       "        text-align: right;\n",
       "    }\n",
       "</style>\n",
       "<table border=\"1\" class=\"dataframe\">\n",
       "  <thead>\n",
       "    <tr style=\"text-align: right;\">\n",
       "      <th></th>\n",
       "      <th>index</th>\n",
       "      <th>i</th>\n",
       "      <th>v</th>\n",
       "      <th>h</th>\n",
       "      <th>o</th>\n",
       "      <th>d</th>\n",
       "      <th>e</th>\n",
       "      <th>w</th>\n",
       "      <th>s</th>\n",
       "      <th>t</th>\n",
       "      <th>a</th>\n",
       "      <th>X</th>\n",
       "    </tr>\n",
       "  </thead>\n",
       "  <tbody>\n",
       "    <tr>\n",
       "      <th>0</th>\n",
       "      <td>s</td>\n",
       "      <td>0.049458</td>\n",
       "      <td>0.521784</td>\n",
       "      <td>0.296480</td>\n",
       "      <td>0.894663</td>\n",
       "      <td>0.416530</td>\n",
       "      <td>0.169612</td>\n",
       "      <td>0.215881</td>\n",
       "      <td>0.798174</td>\n",
       "      <td>0.077433</td>\n",
       "      <td>0.056233</td>\n",
       "      <td>0.105691</td>\n",
       "    </tr>\n",
       "    <tr>\n",
       "      <th>1</th>\n",
       "      <td>w</td>\n",
       "      <td>0.221861</td>\n",
       "      <td>0.814712</td>\n",
       "      <td>0.368225</td>\n",
       "      <td>0.027402</td>\n",
       "      <td>0.003077</td>\n",
       "      <td>0.738109</td>\n",
       "      <td>0.150927</td>\n",
       "      <td>0.929053</td>\n",
       "      <td>0.198385</td>\n",
       "      <td>0.500580</td>\n",
       "      <td>0.722441</td>\n",
       "    </tr>\n",
       "    <tr>\n",
       "      <th>2</th>\n",
       "      <td>e</td>\n",
       "      <td>0.740859</td>\n",
       "      <td>0.880520</td>\n",
       "      <td>0.353451</td>\n",
       "      <td>0.650893</td>\n",
       "      <td>0.827837</td>\n",
       "      <td>0.812156</td>\n",
       "      <td>0.824139</td>\n",
       "      <td>0.658815</td>\n",
       "      <td>0.554572</td>\n",
       "      <td>0.608795</td>\n",
       "      <td>1.349654</td>\n",
       "    </tr>\n",
       "    <tr>\n",
       "      <th>3</th>\n",
       "      <td>d</td>\n",
       "      <td>0.387749</td>\n",
       "      <td>0.566442</td>\n",
       "      <td>0.217195</td>\n",
       "      <td>0.143029</td>\n",
       "      <td>0.579602</td>\n",
       "      <td>0.103823</td>\n",
       "      <td>0.066344</td>\n",
       "      <td>0.430405</td>\n",
       "      <td>0.111228</td>\n",
       "      <td>0.519840</td>\n",
       "      <td>0.907590</td>\n",
       "    </tr>\n",
       "    <tr>\n",
       "      <th>4</th>\n",
       "      <td>o</td>\n",
       "      <td>0.599820</td>\n",
       "      <td>0.932602</td>\n",
       "      <td>0.032597</td>\n",
       "      <td>0.224050</td>\n",
       "      <td>0.423480</td>\n",
       "      <td>0.267877</td>\n",
       "      <td>0.523457</td>\n",
       "      <td>0.935946</td>\n",
       "      <td>0.439969</td>\n",
       "      <td>0.601146</td>\n",
       "      <td>1.200967</td>\n",
       "    </tr>\n",
       "    <tr>\n",
       "      <th>5</th>\n",
       "      <td>h</td>\n",
       "      <td>0.033631</td>\n",
       "      <td>0.607050</td>\n",
       "      <td>0.633460</td>\n",
       "      <td>0.598439</td>\n",
       "      <td>0.036567</td>\n",
       "      <td>0.117106</td>\n",
       "      <td>0.078618</td>\n",
       "      <td>0.266043</td>\n",
       "      <td>0.217487</td>\n",
       "      <td>0.798112</td>\n",
       "      <td>0.831743</td>\n",
       "    </tr>\n",
       "    <tr>\n",
       "      <th>6</th>\n",
       "      <td>v</td>\n",
       "      <td>0.228809</td>\n",
       "      <td>0.488587</td>\n",
       "      <td>0.529479</td>\n",
       "      <td>0.395888</td>\n",
       "      <td>0.588018</td>\n",
       "      <td>0.448561</td>\n",
       "      <td>0.678056</td>\n",
       "      <td>0.742475</td>\n",
       "      <td>0.808966</td>\n",
       "      <td>0.955661</td>\n",
       "      <td>1.184470</td>\n",
       "    </tr>\n",
       "    <tr>\n",
       "      <th>7</th>\n",
       "      <td>i</td>\n",
       "      <td>0.026009</td>\n",
       "      <td>0.625076</td>\n",
       "      <td>0.612654</td>\n",
       "      <td>0.514342</td>\n",
       "      <td>0.753035</td>\n",
       "      <td>0.485428</td>\n",
       "      <td>0.725599</td>\n",
       "      <td>0.638038</td>\n",
       "      <td>0.047445</td>\n",
       "      <td>0.104637</td>\n",
       "      <td>0.130646</td>\n",
       "    </tr>\n",
       "  </tbody>\n",
       "</table>\n",
       "</div>"
      ],
      "text/plain": [
       "  index         i         v         h         o         d         e         w  \\\n",
       "0     s  0.049458  0.521784  0.296480  0.894663  0.416530  0.169612  0.215881   \n",
       "1     w  0.221861  0.814712  0.368225  0.027402  0.003077  0.738109  0.150927   \n",
       "2     e  0.740859  0.880520  0.353451  0.650893  0.827837  0.812156  0.824139   \n",
       "3     d  0.387749  0.566442  0.217195  0.143029  0.579602  0.103823  0.066344   \n",
       "4     o  0.599820  0.932602  0.032597  0.224050  0.423480  0.267877  0.523457   \n",
       "5     h  0.033631  0.607050  0.633460  0.598439  0.036567  0.117106  0.078618   \n",
       "6     v  0.228809  0.488587  0.529479  0.395888  0.588018  0.448561  0.678056   \n",
       "7     i  0.026009  0.625076  0.612654  0.514342  0.753035  0.485428  0.725599   \n",
       "\n",
       "          s         t         a         X  \n",
       "0  0.798174  0.077433  0.056233  0.105691  \n",
       "1  0.929053  0.198385  0.500580  0.722441  \n",
       "2  0.658815  0.554572  0.608795  1.349654  \n",
       "3  0.430405  0.111228  0.519840  0.907590  \n",
       "4  0.935946  0.439969  0.601146  1.200967  \n",
       "5  0.266043  0.217487  0.798112  0.831743  \n",
       "6  0.742475  0.808966  0.955661  1.184470  \n",
       "7  0.638038  0.047445  0.104637  0.130646  "
      ]
     },
     "execution_count": 534,
     "metadata": {},
     "output_type": "execute_result"
    }
   ],
   "source": [
    "df1"
   ]
  },
  {
   "cell_type": "code",
   "execution_count": 535,
   "metadata": {},
   "outputs": [],
   "source": [
    "df2.reset_index(inplace=True)"
   ]
  },
  {
   "cell_type": "code",
   "execution_count": 536,
   "metadata": {},
   "outputs": [
    {
     "data": {
      "text/html": [
       "<div>\n",
       "<style scoped>\n",
       "    .dataframe tbody tr th:only-of-type {\n",
       "        vertical-align: middle;\n",
       "    }\n",
       "\n",
       "    .dataframe tbody tr th {\n",
       "        vertical-align: top;\n",
       "    }\n",
       "\n",
       "    .dataframe thead th {\n",
       "        text-align: right;\n",
       "    }\n",
       "</style>\n",
       "<table border=\"1\" class=\"dataframe\">\n",
       "  <thead>\n",
       "    <tr style=\"text-align: right;\">\n",
       "      <th></th>\n",
       "      <th>index1</th>\n",
       "      <th>i</th>\n",
       "      <th>v</th>\n",
       "      <th>h</th>\n",
       "      <th>o</th>\n",
       "      <th>d</th>\n",
       "      <th>e</th>\n",
       "      <th>w</th>\n",
       "      <th>s</th>\n",
       "      <th>t</th>\n",
       "      <th>a</th>\n",
       "      <th>X</th>\n",
       "    </tr>\n",
       "  </thead>\n",
       "  <tbody>\n",
       "    <tr>\n",
       "      <th>0</th>\n",
       "      <td>s</td>\n",
       "      <td>0.049458</td>\n",
       "      <td>0.521784</td>\n",
       "      <td>0.296480</td>\n",
       "      <td>0.894663</td>\n",
       "      <td>0.416530</td>\n",
       "      <td>0.169612</td>\n",
       "      <td>0.215881</td>\n",
       "      <td>0.798174</td>\n",
       "      <td>0.077433</td>\n",
       "      <td>0.056233</td>\n",
       "      <td>0.105691</td>\n",
       "    </tr>\n",
       "    <tr>\n",
       "      <th>1</th>\n",
       "      <td>w</td>\n",
       "      <td>0.221861</td>\n",
       "      <td>0.814712</td>\n",
       "      <td>0.368225</td>\n",
       "      <td>0.027402</td>\n",
       "      <td>0.003077</td>\n",
       "      <td>0.738109</td>\n",
       "      <td>0.150927</td>\n",
       "      <td>0.929053</td>\n",
       "      <td>0.198385</td>\n",
       "      <td>0.500580</td>\n",
       "      <td>0.722441</td>\n",
       "    </tr>\n",
       "    <tr>\n",
       "      <th>2</th>\n",
       "      <td>e</td>\n",
       "      <td>0.740859</td>\n",
       "      <td>0.880520</td>\n",
       "      <td>0.353451</td>\n",
       "      <td>0.650893</td>\n",
       "      <td>0.827837</td>\n",
       "      <td>0.812156</td>\n",
       "      <td>0.824139</td>\n",
       "      <td>0.658815</td>\n",
       "      <td>0.554572</td>\n",
       "      <td>0.608795</td>\n",
       "      <td>1.349654</td>\n",
       "    </tr>\n",
       "    <tr>\n",
       "      <th>3</th>\n",
       "      <td>d</td>\n",
       "      <td>0.387749</td>\n",
       "      <td>0.566442</td>\n",
       "      <td>0.217195</td>\n",
       "      <td>0.143029</td>\n",
       "      <td>0.579602</td>\n",
       "      <td>0.103823</td>\n",
       "      <td>0.066344</td>\n",
       "      <td>0.430405</td>\n",
       "      <td>0.111228</td>\n",
       "      <td>0.519840</td>\n",
       "      <td>0.907590</td>\n",
       "    </tr>\n",
       "    <tr>\n",
       "      <th>4</th>\n",
       "      <td>o</td>\n",
       "      <td>0.599820</td>\n",
       "      <td>0.932602</td>\n",
       "      <td>0.032597</td>\n",
       "      <td>0.224050</td>\n",
       "      <td>0.423480</td>\n",
       "      <td>0.267877</td>\n",
       "      <td>0.523457</td>\n",
       "      <td>0.935946</td>\n",
       "      <td>0.439969</td>\n",
       "      <td>0.601146</td>\n",
       "      <td>1.200967</td>\n",
       "    </tr>\n",
       "    <tr>\n",
       "      <th>5</th>\n",
       "      <td>h</td>\n",
       "      <td>0.033631</td>\n",
       "      <td>0.607050</td>\n",
       "      <td>0.633460</td>\n",
       "      <td>0.598439</td>\n",
       "      <td>0.036567</td>\n",
       "      <td>0.117106</td>\n",
       "      <td>0.078618</td>\n",
       "      <td>0.266043</td>\n",
       "      <td>0.217487</td>\n",
       "      <td>0.798112</td>\n",
       "      <td>0.831743</td>\n",
       "    </tr>\n",
       "    <tr>\n",
       "      <th>6</th>\n",
       "      <td>v</td>\n",
       "      <td>0.228809</td>\n",
       "      <td>0.488587</td>\n",
       "      <td>0.529479</td>\n",
       "      <td>0.395888</td>\n",
       "      <td>0.588018</td>\n",
       "      <td>0.448561</td>\n",
       "      <td>0.678056</td>\n",
       "      <td>0.742475</td>\n",
       "      <td>0.808966</td>\n",
       "      <td>0.955661</td>\n",
       "      <td>1.184470</td>\n",
       "    </tr>\n",
       "    <tr>\n",
       "      <th>7</th>\n",
       "      <td>i</td>\n",
       "      <td>0.026009</td>\n",
       "      <td>0.625076</td>\n",
       "      <td>0.612654</td>\n",
       "      <td>0.514342</td>\n",
       "      <td>0.753035</td>\n",
       "      <td>0.485428</td>\n",
       "      <td>0.725599</td>\n",
       "      <td>0.638038</td>\n",
       "      <td>0.047445</td>\n",
       "      <td>0.104637</td>\n",
       "      <td>0.130646</td>\n",
       "    </tr>\n",
       "  </tbody>\n",
       "</table>\n",
       "</div>"
      ],
      "text/plain": [
       "  index1         i         v         h         o         d         e  \\\n",
       "0      s  0.049458  0.521784  0.296480  0.894663  0.416530  0.169612   \n",
       "1      w  0.221861  0.814712  0.368225  0.027402  0.003077  0.738109   \n",
       "2      e  0.740859  0.880520  0.353451  0.650893  0.827837  0.812156   \n",
       "3      d  0.387749  0.566442  0.217195  0.143029  0.579602  0.103823   \n",
       "4      o  0.599820  0.932602  0.032597  0.224050  0.423480  0.267877   \n",
       "5      h  0.033631  0.607050  0.633460  0.598439  0.036567  0.117106   \n",
       "6      v  0.228809  0.488587  0.529479  0.395888  0.588018  0.448561   \n",
       "7      i  0.026009  0.625076  0.612654  0.514342  0.753035  0.485428   \n",
       "\n",
       "          w         s         t         a         X  \n",
       "0  0.215881  0.798174  0.077433  0.056233  0.105691  \n",
       "1  0.150927  0.929053  0.198385  0.500580  0.722441  \n",
       "2  0.824139  0.658815  0.554572  0.608795  1.349654  \n",
       "3  0.066344  0.430405  0.111228  0.519840  0.907590  \n",
       "4  0.523457  0.935946  0.439969  0.601146  1.200967  \n",
       "5  0.078618  0.266043  0.217487  0.798112  0.831743  \n",
       "6  0.678056  0.742475  0.808966  0.955661  1.184470  \n",
       "7  0.725599  0.638038  0.047445  0.104637  0.130646  "
      ]
     },
     "execution_count": 536,
     "metadata": {},
     "output_type": "execute_result"
    }
   ],
   "source": [
    "df2.rename(columns={'index':'index2'})\n",
    "df1.rename(columns={'index':'index1'})"
   ]
  },
  {
   "cell_type": "code",
   "execution_count": 553,
   "metadata": {},
   "outputs": [
    {
     "data": {
      "text/html": [
       "<div>\n",
       "<style scoped>\n",
       "    .dataframe tbody tr th:only-of-type {\n",
       "        vertical-align: middle;\n",
       "    }\n",
       "\n",
       "    .dataframe tbody tr th {\n",
       "        vertical-align: top;\n",
       "    }\n",
       "\n",
       "    .dataframe thead th {\n",
       "        text-align: right;\n",
       "    }\n",
       "</style>\n",
       "<table border=\"1\" class=\"dataframe\">\n",
       "  <thead>\n",
       "    <tr style=\"text-align: right;\">\n",
       "      <th></th>\n",
       "      <th>index1</th>\n",
       "      <th>i</th>\n",
       "      <th>v</th>\n",
       "      <th>h</th>\n",
       "      <th>o</th>\n",
       "      <th>d</th>\n",
       "      <th>e</th>\n",
       "      <th>w</th>\n",
       "      <th>s</th>\n",
       "      <th>t</th>\n",
       "      <th>a</th>\n",
       "      <th>X</th>\n",
       "    </tr>\n",
       "  </thead>\n",
       "  <tbody>\n",
       "    <tr>\n",
       "      <th>0</th>\n",
       "      <td>s</td>\n",
       "      <td>0.049458</td>\n",
       "      <td>0.521784</td>\n",
       "      <td>0.296480</td>\n",
       "      <td>0.894663</td>\n",
       "      <td>0.416530</td>\n",
       "      <td>0.169612</td>\n",
       "      <td>0.215881</td>\n",
       "      <td>0.798174</td>\n",
       "      <td>0.077433</td>\n",
       "      <td>0.056233</td>\n",
       "      <td>0.105691</td>\n",
       "    </tr>\n",
       "    <tr>\n",
       "      <th>1</th>\n",
       "      <td>w</td>\n",
       "      <td>0.221861</td>\n",
       "      <td>0.814712</td>\n",
       "      <td>0.368225</td>\n",
       "      <td>0.027402</td>\n",
       "      <td>0.003077</td>\n",
       "      <td>0.738109</td>\n",
       "      <td>0.150927</td>\n",
       "      <td>0.929053</td>\n",
       "      <td>0.198385</td>\n",
       "      <td>0.500580</td>\n",
       "      <td>0.722441</td>\n",
       "    </tr>\n",
       "    <tr>\n",
       "      <th>2</th>\n",
       "      <td>e</td>\n",
       "      <td>0.740859</td>\n",
       "      <td>0.880520</td>\n",
       "      <td>0.353451</td>\n",
       "      <td>0.650893</td>\n",
       "      <td>0.827837</td>\n",
       "      <td>0.812156</td>\n",
       "      <td>0.824139</td>\n",
       "      <td>0.658815</td>\n",
       "      <td>0.554572</td>\n",
       "      <td>0.608795</td>\n",
       "      <td>1.349654</td>\n",
       "    </tr>\n",
       "    <tr>\n",
       "      <th>3</th>\n",
       "      <td>d</td>\n",
       "      <td>0.387749</td>\n",
       "      <td>0.566442</td>\n",
       "      <td>0.217195</td>\n",
       "      <td>0.143029</td>\n",
       "      <td>0.579602</td>\n",
       "      <td>0.103823</td>\n",
       "      <td>0.066344</td>\n",
       "      <td>0.430405</td>\n",
       "      <td>0.111228</td>\n",
       "      <td>0.519840</td>\n",
       "      <td>0.907590</td>\n",
       "    </tr>\n",
       "    <tr>\n",
       "      <th>4</th>\n",
       "      <td>o</td>\n",
       "      <td>0.599820</td>\n",
       "      <td>0.932602</td>\n",
       "      <td>0.032597</td>\n",
       "      <td>0.224050</td>\n",
       "      <td>0.423480</td>\n",
       "      <td>0.267877</td>\n",
       "      <td>0.523457</td>\n",
       "      <td>0.935946</td>\n",
       "      <td>0.439969</td>\n",
       "      <td>0.601146</td>\n",
       "      <td>1.200967</td>\n",
       "    </tr>\n",
       "    <tr>\n",
       "      <th>5</th>\n",
       "      <td>h</td>\n",
       "      <td>0.033631</td>\n",
       "      <td>0.607050</td>\n",
       "      <td>0.633460</td>\n",
       "      <td>0.598439</td>\n",
       "      <td>0.036567</td>\n",
       "      <td>0.117106</td>\n",
       "      <td>0.078618</td>\n",
       "      <td>0.266043</td>\n",
       "      <td>0.217487</td>\n",
       "      <td>0.798112</td>\n",
       "      <td>0.831743</td>\n",
       "    </tr>\n",
       "    <tr>\n",
       "      <th>6</th>\n",
       "      <td>v</td>\n",
       "      <td>0.228809</td>\n",
       "      <td>0.488587</td>\n",
       "      <td>0.529479</td>\n",
       "      <td>0.395888</td>\n",
       "      <td>0.588018</td>\n",
       "      <td>0.448561</td>\n",
       "      <td>0.678056</td>\n",
       "      <td>0.742475</td>\n",
       "      <td>0.808966</td>\n",
       "      <td>0.955661</td>\n",
       "      <td>1.184470</td>\n",
       "    </tr>\n",
       "    <tr>\n",
       "      <th>7</th>\n",
       "      <td>i</td>\n",
       "      <td>0.026009</td>\n",
       "      <td>0.625076</td>\n",
       "      <td>0.612654</td>\n",
       "      <td>0.514342</td>\n",
       "      <td>0.753035</td>\n",
       "      <td>0.485428</td>\n",
       "      <td>0.725599</td>\n",
       "      <td>0.638038</td>\n",
       "      <td>0.047445</td>\n",
       "      <td>0.104637</td>\n",
       "      <td>0.130646</td>\n",
       "    </tr>\n",
       "  </tbody>\n",
       "</table>\n",
       "</div>"
      ],
      "text/plain": [
       "  index1         i         v         h         o         d         e  \\\n",
       "0      s  0.049458  0.521784  0.296480  0.894663  0.416530  0.169612   \n",
       "1      w  0.221861  0.814712  0.368225  0.027402  0.003077  0.738109   \n",
       "2      e  0.740859  0.880520  0.353451  0.650893  0.827837  0.812156   \n",
       "3      d  0.387749  0.566442  0.217195  0.143029  0.579602  0.103823   \n",
       "4      o  0.599820  0.932602  0.032597  0.224050  0.423480  0.267877   \n",
       "5      h  0.033631  0.607050  0.633460  0.598439  0.036567  0.117106   \n",
       "6      v  0.228809  0.488587  0.529479  0.395888  0.588018  0.448561   \n",
       "7      i  0.026009  0.625076  0.612654  0.514342  0.753035  0.485428   \n",
       "\n",
       "          w         s         t         a         X  \n",
       "0  0.215881  0.798174  0.077433  0.056233  0.105691  \n",
       "1  0.150927  0.929053  0.198385  0.500580  0.722441  \n",
       "2  0.824139  0.658815  0.554572  0.608795  1.349654  \n",
       "3  0.066344  0.430405  0.111228  0.519840  0.907590  \n",
       "4  0.523457  0.935946  0.439969  0.601146  1.200967  \n",
       "5  0.078618  0.266043  0.217487  0.798112  0.831743  \n",
       "6  0.678056  0.742475  0.808966  0.955661  1.184470  \n",
       "7  0.725599  0.638038  0.047445  0.104637  0.130646  "
      ]
     },
     "execution_count": 553,
     "metadata": {},
     "output_type": "execute_result"
    }
   ],
   "source": [
    "df1"
   ]
  },
  {
   "cell_type": "code",
   "execution_count": null,
   "metadata": {},
   "outputs": [],
   "source": [
    "df2.drop(columns=['level_0'],inplace=True)"
   ]
  },
  {
   "cell_type": "code",
   "execution_count": 551,
   "metadata": {},
   "outputs": [],
   "source": [
    "df2.rename(columns={'index':'index2'},inplace=True)"
   ]
  },
  {
   "cell_type": "code",
   "execution_count": 552,
   "metadata": {},
   "outputs": [
    {
     "data": {
      "text/html": [
       "<div>\n",
       "<style scoped>\n",
       "    .dataframe tbody tr th:only-of-type {\n",
       "        vertical-align: middle;\n",
       "    }\n",
       "\n",
       "    .dataframe tbody tr th {\n",
       "        vertical-align: top;\n",
       "    }\n",
       "\n",
       "    .dataframe thead th {\n",
       "        text-align: right;\n",
       "    }\n",
       "</style>\n",
       "<table border=\"1\" class=\"dataframe\">\n",
       "  <thead>\n",
       "    <tr style=\"text-align: right;\">\n",
       "      <th></th>\n",
       "      <th>index2</th>\n",
       "      <th>h</th>\n",
       "      <th>o</th>\n",
       "      <th>d</th>\n",
       "    </tr>\n",
       "  </thead>\n",
       "  <tbody>\n",
       "    <tr>\n",
       "      <th>0</th>\n",
       "      <td>a</td>\n",
       "      <td>1.076799</td>\n",
       "      <td>2.256795</td>\n",
       "      <td>0.287685</td>\n",
       "    </tr>\n",
       "    <tr>\n",
       "      <th>1</th>\n",
       "      <td>t</td>\n",
       "      <td>2.208195</td>\n",
       "      <td>0.109155</td>\n",
       "      <td>2.368336</td>\n",
       "    </tr>\n",
       "    <tr>\n",
       "      <th>2</th>\n",
       "      <td>s</td>\n",
       "      <td>1.482401</td>\n",
       "      <td>4.473314</td>\n",
       "      <td>2.082649</td>\n",
       "    </tr>\n",
       "    <tr>\n",
       "      <th>3</th>\n",
       "      <td>w</td>\n",
       "      <td>1.841125</td>\n",
       "      <td>0.137012</td>\n",
       "      <td>0.015387</td>\n",
       "    </tr>\n",
       "  </tbody>\n",
       "</table>\n",
       "</div>"
      ],
      "text/plain": [
       "  index2         h         o         d\n",
       "0      a  1.076799  2.256795  0.287685\n",
       "1      t  2.208195  0.109155  2.368336\n",
       "2      s  1.482401  4.473314  2.082649\n",
       "3      w  1.841125  0.137012  0.015387"
      ]
     },
     "execution_count": 552,
     "metadata": {},
     "output_type": "execute_result"
    }
   ],
   "source": [
    "df2"
   ]
  },
  {
   "cell_type": "code",
   "execution_count": 554,
   "metadata": {},
   "outputs": [
    {
     "data": {
      "text/html": [
       "<div>\n",
       "<style scoped>\n",
       "    .dataframe tbody tr th:only-of-type {\n",
       "        vertical-align: middle;\n",
       "    }\n",
       "\n",
       "    .dataframe tbody tr th {\n",
       "        vertical-align: top;\n",
       "    }\n",
       "\n",
       "    .dataframe thead th {\n",
       "        text-align: right;\n",
       "    }\n",
       "</style>\n",
       "<table border=\"1\" class=\"dataframe\">\n",
       "  <thead>\n",
       "    <tr style=\"text-align: right;\">\n",
       "      <th></th>\n",
       "      <th>index1</th>\n",
       "      <th>i</th>\n",
       "      <th>v</th>\n",
       "      <th>h_x</th>\n",
       "      <th>o_x</th>\n",
       "      <th>d_x</th>\n",
       "      <th>e</th>\n",
       "      <th>w</th>\n",
       "      <th>s</th>\n",
       "      <th>t</th>\n",
       "      <th>a</th>\n",
       "      <th>X</th>\n",
       "      <th>index2</th>\n",
       "      <th>h_y</th>\n",
       "      <th>o_y</th>\n",
       "      <th>d_y</th>\n",
       "    </tr>\n",
       "  </thead>\n",
       "  <tbody>\n",
       "    <tr>\n",
       "      <th>0</th>\n",
       "      <td>s</td>\n",
       "      <td>0.049458</td>\n",
       "      <td>0.521784</td>\n",
       "      <td>0.296480</td>\n",
       "      <td>0.894663</td>\n",
       "      <td>0.416530</td>\n",
       "      <td>0.169612</td>\n",
       "      <td>0.215881</td>\n",
       "      <td>0.798174</td>\n",
       "      <td>0.077433</td>\n",
       "      <td>0.056233</td>\n",
       "      <td>0.105691</td>\n",
       "      <td>s</td>\n",
       "      <td>1.482401</td>\n",
       "      <td>4.473314</td>\n",
       "      <td>2.082649</td>\n",
       "    </tr>\n",
       "    <tr>\n",
       "      <th>1</th>\n",
       "      <td>w</td>\n",
       "      <td>0.221861</td>\n",
       "      <td>0.814712</td>\n",
       "      <td>0.368225</td>\n",
       "      <td>0.027402</td>\n",
       "      <td>0.003077</td>\n",
       "      <td>0.738109</td>\n",
       "      <td>0.150927</td>\n",
       "      <td>0.929053</td>\n",
       "      <td>0.198385</td>\n",
       "      <td>0.500580</td>\n",
       "      <td>0.722441</td>\n",
       "      <td>w</td>\n",
       "      <td>1.841125</td>\n",
       "      <td>0.137012</td>\n",
       "      <td>0.015387</td>\n",
       "    </tr>\n",
       "  </tbody>\n",
       "</table>\n",
       "</div>"
      ],
      "text/plain": [
       "  index1         i         v       h_x       o_x       d_x         e  \\\n",
       "0      s  0.049458  0.521784  0.296480  0.894663  0.416530  0.169612   \n",
       "1      w  0.221861  0.814712  0.368225  0.027402  0.003077  0.738109   \n",
       "\n",
       "          w         s         t         a         X index2       h_y  \\\n",
       "0  0.215881  0.798174  0.077433  0.056233  0.105691      s  1.482401   \n",
       "1  0.150927  0.929053  0.198385  0.500580  0.722441      w  1.841125   \n",
       "\n",
       "        o_y       d_y  \n",
       "0  4.473314  2.082649  \n",
       "1  0.137012  0.015387  "
      ]
     },
     "execution_count": 554,
     "metadata": {},
     "output_type": "execute_result"
    }
   ],
   "source": [
    "pd.merge(df1,df2,how='inner',left_on='index1',right_on='index2')"
   ]
  },
  {
   "cell_type": "code",
   "execution_count": 555,
   "metadata": {},
   "outputs": [
    {
     "data": {
      "text/html": [
       "<div>\n",
       "<style scoped>\n",
       "    .dataframe tbody tr th:only-of-type {\n",
       "        vertical-align: middle;\n",
       "    }\n",
       "\n",
       "    .dataframe tbody tr th {\n",
       "        vertical-align: top;\n",
       "    }\n",
       "\n",
       "    .dataframe thead th {\n",
       "        text-align: right;\n",
       "    }\n",
       "</style>\n",
       "<table border=\"1\" class=\"dataframe\">\n",
       "  <thead>\n",
       "    <tr style=\"text-align: right;\">\n",
       "      <th></th>\n",
       "      <th>index1</th>\n",
       "      <th>i</th>\n",
       "      <th>v</th>\n",
       "      <th>h_x</th>\n",
       "      <th>o_x</th>\n",
       "      <th>d_x</th>\n",
       "      <th>e</th>\n",
       "      <th>w</th>\n",
       "      <th>s</th>\n",
       "      <th>t</th>\n",
       "      <th>a</th>\n",
       "      <th>X</th>\n",
       "      <th>index2</th>\n",
       "      <th>h_y</th>\n",
       "      <th>o_y</th>\n",
       "      <th>d_y</th>\n",
       "    </tr>\n",
       "  </thead>\n",
       "  <tbody>\n",
       "    <tr>\n",
       "      <th>0</th>\n",
       "      <td>s</td>\n",
       "      <td>0.049458</td>\n",
       "      <td>0.521784</td>\n",
       "      <td>0.296480</td>\n",
       "      <td>0.894663</td>\n",
       "      <td>0.416530</td>\n",
       "      <td>0.169612</td>\n",
       "      <td>0.215881</td>\n",
       "      <td>0.798174</td>\n",
       "      <td>0.077433</td>\n",
       "      <td>0.056233</td>\n",
       "      <td>0.105691</td>\n",
       "      <td>s</td>\n",
       "      <td>1.482401</td>\n",
       "      <td>4.473314</td>\n",
       "      <td>2.082649</td>\n",
       "    </tr>\n",
       "    <tr>\n",
       "      <th>1</th>\n",
       "      <td>w</td>\n",
       "      <td>0.221861</td>\n",
       "      <td>0.814712</td>\n",
       "      <td>0.368225</td>\n",
       "      <td>0.027402</td>\n",
       "      <td>0.003077</td>\n",
       "      <td>0.738109</td>\n",
       "      <td>0.150927</td>\n",
       "      <td>0.929053</td>\n",
       "      <td>0.198385</td>\n",
       "      <td>0.500580</td>\n",
       "      <td>0.722441</td>\n",
       "      <td>w</td>\n",
       "      <td>1.841125</td>\n",
       "      <td>0.137012</td>\n",
       "      <td>0.015387</td>\n",
       "    </tr>\n",
       "    <tr>\n",
       "      <th>2</th>\n",
       "      <td>e</td>\n",
       "      <td>0.740859</td>\n",
       "      <td>0.880520</td>\n",
       "      <td>0.353451</td>\n",
       "      <td>0.650893</td>\n",
       "      <td>0.827837</td>\n",
       "      <td>0.812156</td>\n",
       "      <td>0.824139</td>\n",
       "      <td>0.658815</td>\n",
       "      <td>0.554572</td>\n",
       "      <td>0.608795</td>\n",
       "      <td>1.349654</td>\n",
       "      <td>NaN</td>\n",
       "      <td>NaN</td>\n",
       "      <td>NaN</td>\n",
       "      <td>NaN</td>\n",
       "    </tr>\n",
       "    <tr>\n",
       "      <th>3</th>\n",
       "      <td>d</td>\n",
       "      <td>0.387749</td>\n",
       "      <td>0.566442</td>\n",
       "      <td>0.217195</td>\n",
       "      <td>0.143029</td>\n",
       "      <td>0.579602</td>\n",
       "      <td>0.103823</td>\n",
       "      <td>0.066344</td>\n",
       "      <td>0.430405</td>\n",
       "      <td>0.111228</td>\n",
       "      <td>0.519840</td>\n",
       "      <td>0.907590</td>\n",
       "      <td>NaN</td>\n",
       "      <td>NaN</td>\n",
       "      <td>NaN</td>\n",
       "      <td>NaN</td>\n",
       "    </tr>\n",
       "    <tr>\n",
       "      <th>4</th>\n",
       "      <td>o</td>\n",
       "      <td>0.599820</td>\n",
       "      <td>0.932602</td>\n",
       "      <td>0.032597</td>\n",
       "      <td>0.224050</td>\n",
       "      <td>0.423480</td>\n",
       "      <td>0.267877</td>\n",
       "      <td>0.523457</td>\n",
       "      <td>0.935946</td>\n",
       "      <td>0.439969</td>\n",
       "      <td>0.601146</td>\n",
       "      <td>1.200967</td>\n",
       "      <td>NaN</td>\n",
       "      <td>NaN</td>\n",
       "      <td>NaN</td>\n",
       "      <td>NaN</td>\n",
       "    </tr>\n",
       "    <tr>\n",
       "      <th>5</th>\n",
       "      <td>h</td>\n",
       "      <td>0.033631</td>\n",
       "      <td>0.607050</td>\n",
       "      <td>0.633460</td>\n",
       "      <td>0.598439</td>\n",
       "      <td>0.036567</td>\n",
       "      <td>0.117106</td>\n",
       "      <td>0.078618</td>\n",
       "      <td>0.266043</td>\n",
       "      <td>0.217487</td>\n",
       "      <td>0.798112</td>\n",
       "      <td>0.831743</td>\n",
       "      <td>NaN</td>\n",
       "      <td>NaN</td>\n",
       "      <td>NaN</td>\n",
       "      <td>NaN</td>\n",
       "    </tr>\n",
       "    <tr>\n",
       "      <th>6</th>\n",
       "      <td>v</td>\n",
       "      <td>0.228809</td>\n",
       "      <td>0.488587</td>\n",
       "      <td>0.529479</td>\n",
       "      <td>0.395888</td>\n",
       "      <td>0.588018</td>\n",
       "      <td>0.448561</td>\n",
       "      <td>0.678056</td>\n",
       "      <td>0.742475</td>\n",
       "      <td>0.808966</td>\n",
       "      <td>0.955661</td>\n",
       "      <td>1.184470</td>\n",
       "      <td>NaN</td>\n",
       "      <td>NaN</td>\n",
       "      <td>NaN</td>\n",
       "      <td>NaN</td>\n",
       "    </tr>\n",
       "    <tr>\n",
       "      <th>7</th>\n",
       "      <td>i</td>\n",
       "      <td>0.026009</td>\n",
       "      <td>0.625076</td>\n",
       "      <td>0.612654</td>\n",
       "      <td>0.514342</td>\n",
       "      <td>0.753035</td>\n",
       "      <td>0.485428</td>\n",
       "      <td>0.725599</td>\n",
       "      <td>0.638038</td>\n",
       "      <td>0.047445</td>\n",
       "      <td>0.104637</td>\n",
       "      <td>0.130646</td>\n",
       "      <td>NaN</td>\n",
       "      <td>NaN</td>\n",
       "      <td>NaN</td>\n",
       "      <td>NaN</td>\n",
       "    </tr>\n",
       "  </tbody>\n",
       "</table>\n",
       "</div>"
      ],
      "text/plain": [
       "  index1         i         v       h_x       o_x       d_x         e  \\\n",
       "0      s  0.049458  0.521784  0.296480  0.894663  0.416530  0.169612   \n",
       "1      w  0.221861  0.814712  0.368225  0.027402  0.003077  0.738109   \n",
       "2      e  0.740859  0.880520  0.353451  0.650893  0.827837  0.812156   \n",
       "3      d  0.387749  0.566442  0.217195  0.143029  0.579602  0.103823   \n",
       "4      o  0.599820  0.932602  0.032597  0.224050  0.423480  0.267877   \n",
       "5      h  0.033631  0.607050  0.633460  0.598439  0.036567  0.117106   \n",
       "6      v  0.228809  0.488587  0.529479  0.395888  0.588018  0.448561   \n",
       "7      i  0.026009  0.625076  0.612654  0.514342  0.753035  0.485428   \n",
       "\n",
       "          w         s         t         a         X index2       h_y  \\\n",
       "0  0.215881  0.798174  0.077433  0.056233  0.105691      s  1.482401   \n",
       "1  0.150927  0.929053  0.198385  0.500580  0.722441      w  1.841125   \n",
       "2  0.824139  0.658815  0.554572  0.608795  1.349654    NaN       NaN   \n",
       "3  0.066344  0.430405  0.111228  0.519840  0.907590    NaN       NaN   \n",
       "4  0.523457  0.935946  0.439969  0.601146  1.200967    NaN       NaN   \n",
       "5  0.078618  0.266043  0.217487  0.798112  0.831743    NaN       NaN   \n",
       "6  0.678056  0.742475  0.808966  0.955661  1.184470    NaN       NaN   \n",
       "7  0.725599  0.638038  0.047445  0.104637  0.130646    NaN       NaN   \n",
       "\n",
       "        o_y       d_y  \n",
       "0  4.473314  2.082649  \n",
       "1  0.137012  0.015387  \n",
       "2       NaN       NaN  \n",
       "3       NaN       NaN  \n",
       "4       NaN       NaN  \n",
       "5       NaN       NaN  \n",
       "6       NaN       NaN  \n",
       "7       NaN       NaN  "
      ]
     },
     "execution_count": 555,
     "metadata": {},
     "output_type": "execute_result"
    }
   ],
   "source": [
    "pd.merge(df1,df2,how='left',left_on='index1',right_on='index2')"
   ]
  },
  {
   "cell_type": "code",
   "execution_count": 556,
   "metadata": {},
   "outputs": [
    {
     "data": {
      "text/html": [
       "<div>\n",
       "<style scoped>\n",
       "    .dataframe tbody tr th:only-of-type {\n",
       "        vertical-align: middle;\n",
       "    }\n",
       "\n",
       "    .dataframe tbody tr th {\n",
       "        vertical-align: top;\n",
       "    }\n",
       "\n",
       "    .dataframe thead th {\n",
       "        text-align: right;\n",
       "    }\n",
       "</style>\n",
       "<table border=\"1\" class=\"dataframe\">\n",
       "  <thead>\n",
       "    <tr style=\"text-align: right;\">\n",
       "      <th></th>\n",
       "      <th>index1</th>\n",
       "      <th>i</th>\n",
       "      <th>v</th>\n",
       "      <th>h_x</th>\n",
       "      <th>o_x</th>\n",
       "      <th>d_x</th>\n",
       "      <th>e</th>\n",
       "      <th>w</th>\n",
       "      <th>s</th>\n",
       "      <th>t</th>\n",
       "      <th>a</th>\n",
       "      <th>X</th>\n",
       "      <th>index2</th>\n",
       "      <th>h_y</th>\n",
       "      <th>o_y</th>\n",
       "      <th>d_y</th>\n",
       "    </tr>\n",
       "  </thead>\n",
       "  <tbody>\n",
       "    <tr>\n",
       "      <th>0</th>\n",
       "      <td>s</td>\n",
       "      <td>0.049458</td>\n",
       "      <td>0.521784</td>\n",
       "      <td>0.296480</td>\n",
       "      <td>0.894663</td>\n",
       "      <td>0.416530</td>\n",
       "      <td>0.169612</td>\n",
       "      <td>0.215881</td>\n",
       "      <td>0.798174</td>\n",
       "      <td>0.077433</td>\n",
       "      <td>0.056233</td>\n",
       "      <td>0.105691</td>\n",
       "      <td>s</td>\n",
       "      <td>1.482401</td>\n",
       "      <td>4.473314</td>\n",
       "      <td>2.082649</td>\n",
       "    </tr>\n",
       "    <tr>\n",
       "      <th>1</th>\n",
       "      <td>w</td>\n",
       "      <td>0.221861</td>\n",
       "      <td>0.814712</td>\n",
       "      <td>0.368225</td>\n",
       "      <td>0.027402</td>\n",
       "      <td>0.003077</td>\n",
       "      <td>0.738109</td>\n",
       "      <td>0.150927</td>\n",
       "      <td>0.929053</td>\n",
       "      <td>0.198385</td>\n",
       "      <td>0.500580</td>\n",
       "      <td>0.722441</td>\n",
       "      <td>w</td>\n",
       "      <td>1.841125</td>\n",
       "      <td>0.137012</td>\n",
       "      <td>0.015387</td>\n",
       "    </tr>\n",
       "    <tr>\n",
       "      <th>2</th>\n",
       "      <td>NaN</td>\n",
       "      <td>NaN</td>\n",
       "      <td>NaN</td>\n",
       "      <td>NaN</td>\n",
       "      <td>NaN</td>\n",
       "      <td>NaN</td>\n",
       "      <td>NaN</td>\n",
       "      <td>NaN</td>\n",
       "      <td>NaN</td>\n",
       "      <td>NaN</td>\n",
       "      <td>NaN</td>\n",
       "      <td>NaN</td>\n",
       "      <td>a</td>\n",
       "      <td>1.076799</td>\n",
       "      <td>2.256795</td>\n",
       "      <td>0.287685</td>\n",
       "    </tr>\n",
       "    <tr>\n",
       "      <th>3</th>\n",
       "      <td>NaN</td>\n",
       "      <td>NaN</td>\n",
       "      <td>NaN</td>\n",
       "      <td>NaN</td>\n",
       "      <td>NaN</td>\n",
       "      <td>NaN</td>\n",
       "      <td>NaN</td>\n",
       "      <td>NaN</td>\n",
       "      <td>NaN</td>\n",
       "      <td>NaN</td>\n",
       "      <td>NaN</td>\n",
       "      <td>NaN</td>\n",
       "      <td>t</td>\n",
       "      <td>2.208195</td>\n",
       "      <td>0.109155</td>\n",
       "      <td>2.368336</td>\n",
       "    </tr>\n",
       "  </tbody>\n",
       "</table>\n",
       "</div>"
      ],
      "text/plain": [
       "  index1         i         v       h_x       o_x       d_x         e  \\\n",
       "0      s  0.049458  0.521784  0.296480  0.894663  0.416530  0.169612   \n",
       "1      w  0.221861  0.814712  0.368225  0.027402  0.003077  0.738109   \n",
       "2    NaN       NaN       NaN       NaN       NaN       NaN       NaN   \n",
       "3    NaN       NaN       NaN       NaN       NaN       NaN       NaN   \n",
       "\n",
       "          w         s         t         a         X index2       h_y  \\\n",
       "0  0.215881  0.798174  0.077433  0.056233  0.105691      s  1.482401   \n",
       "1  0.150927  0.929053  0.198385  0.500580  0.722441      w  1.841125   \n",
       "2       NaN       NaN       NaN       NaN       NaN      a  1.076799   \n",
       "3       NaN       NaN       NaN       NaN       NaN      t  2.208195   \n",
       "\n",
       "        o_y       d_y  \n",
       "0  4.473314  2.082649  \n",
       "1  0.137012  0.015387  \n",
       "2  2.256795  0.287685  \n",
       "3  0.109155  2.368336  "
      ]
     },
     "execution_count": 556,
     "metadata": {},
     "output_type": "execute_result"
    }
   ],
   "source": [
    "pd.merge(df1,df2,how='right',left_on='index1',right_on='index2')"
   ]
  },
  {
   "cell_type": "code",
   "execution_count": 557,
   "metadata": {},
   "outputs": [
    {
     "data": {
      "text/html": [
       "<div>\n",
       "<style scoped>\n",
       "    .dataframe tbody tr th:only-of-type {\n",
       "        vertical-align: middle;\n",
       "    }\n",
       "\n",
       "    .dataframe tbody tr th {\n",
       "        vertical-align: top;\n",
       "    }\n",
       "\n",
       "    .dataframe thead th {\n",
       "        text-align: right;\n",
       "    }\n",
       "</style>\n",
       "<table border=\"1\" class=\"dataframe\">\n",
       "  <thead>\n",
       "    <tr style=\"text-align: right;\">\n",
       "      <th></th>\n",
       "      <th>index1</th>\n",
       "      <th>i</th>\n",
       "      <th>v</th>\n",
       "      <th>h_x</th>\n",
       "      <th>o_x</th>\n",
       "      <th>d_x</th>\n",
       "      <th>e</th>\n",
       "      <th>w</th>\n",
       "      <th>s</th>\n",
       "      <th>t</th>\n",
       "      <th>a</th>\n",
       "      <th>X</th>\n",
       "      <th>index2</th>\n",
       "      <th>h_y</th>\n",
       "      <th>o_y</th>\n",
       "      <th>d_y</th>\n",
       "    </tr>\n",
       "  </thead>\n",
       "  <tbody>\n",
       "    <tr>\n",
       "      <th>0</th>\n",
       "      <td>s</td>\n",
       "      <td>0.049458</td>\n",
       "      <td>0.521784</td>\n",
       "      <td>0.296480</td>\n",
       "      <td>0.894663</td>\n",
       "      <td>0.416530</td>\n",
       "      <td>0.169612</td>\n",
       "      <td>0.215881</td>\n",
       "      <td>0.798174</td>\n",
       "      <td>0.077433</td>\n",
       "      <td>0.056233</td>\n",
       "      <td>0.105691</td>\n",
       "      <td>s</td>\n",
       "      <td>1.482401</td>\n",
       "      <td>4.473314</td>\n",
       "      <td>2.082649</td>\n",
       "    </tr>\n",
       "    <tr>\n",
       "      <th>1</th>\n",
       "      <td>w</td>\n",
       "      <td>0.221861</td>\n",
       "      <td>0.814712</td>\n",
       "      <td>0.368225</td>\n",
       "      <td>0.027402</td>\n",
       "      <td>0.003077</td>\n",
       "      <td>0.738109</td>\n",
       "      <td>0.150927</td>\n",
       "      <td>0.929053</td>\n",
       "      <td>0.198385</td>\n",
       "      <td>0.500580</td>\n",
       "      <td>0.722441</td>\n",
       "      <td>w</td>\n",
       "      <td>1.841125</td>\n",
       "      <td>0.137012</td>\n",
       "      <td>0.015387</td>\n",
       "    </tr>\n",
       "    <tr>\n",
       "      <th>2</th>\n",
       "      <td>e</td>\n",
       "      <td>0.740859</td>\n",
       "      <td>0.880520</td>\n",
       "      <td>0.353451</td>\n",
       "      <td>0.650893</td>\n",
       "      <td>0.827837</td>\n",
       "      <td>0.812156</td>\n",
       "      <td>0.824139</td>\n",
       "      <td>0.658815</td>\n",
       "      <td>0.554572</td>\n",
       "      <td>0.608795</td>\n",
       "      <td>1.349654</td>\n",
       "      <td>NaN</td>\n",
       "      <td>NaN</td>\n",
       "      <td>NaN</td>\n",
       "      <td>NaN</td>\n",
       "    </tr>\n",
       "    <tr>\n",
       "      <th>3</th>\n",
       "      <td>d</td>\n",
       "      <td>0.387749</td>\n",
       "      <td>0.566442</td>\n",
       "      <td>0.217195</td>\n",
       "      <td>0.143029</td>\n",
       "      <td>0.579602</td>\n",
       "      <td>0.103823</td>\n",
       "      <td>0.066344</td>\n",
       "      <td>0.430405</td>\n",
       "      <td>0.111228</td>\n",
       "      <td>0.519840</td>\n",
       "      <td>0.907590</td>\n",
       "      <td>NaN</td>\n",
       "      <td>NaN</td>\n",
       "      <td>NaN</td>\n",
       "      <td>NaN</td>\n",
       "    </tr>\n",
       "    <tr>\n",
       "      <th>4</th>\n",
       "      <td>o</td>\n",
       "      <td>0.599820</td>\n",
       "      <td>0.932602</td>\n",
       "      <td>0.032597</td>\n",
       "      <td>0.224050</td>\n",
       "      <td>0.423480</td>\n",
       "      <td>0.267877</td>\n",
       "      <td>0.523457</td>\n",
       "      <td>0.935946</td>\n",
       "      <td>0.439969</td>\n",
       "      <td>0.601146</td>\n",
       "      <td>1.200967</td>\n",
       "      <td>NaN</td>\n",
       "      <td>NaN</td>\n",
       "      <td>NaN</td>\n",
       "      <td>NaN</td>\n",
       "    </tr>\n",
       "    <tr>\n",
       "      <th>5</th>\n",
       "      <td>h</td>\n",
       "      <td>0.033631</td>\n",
       "      <td>0.607050</td>\n",
       "      <td>0.633460</td>\n",
       "      <td>0.598439</td>\n",
       "      <td>0.036567</td>\n",
       "      <td>0.117106</td>\n",
       "      <td>0.078618</td>\n",
       "      <td>0.266043</td>\n",
       "      <td>0.217487</td>\n",
       "      <td>0.798112</td>\n",
       "      <td>0.831743</td>\n",
       "      <td>NaN</td>\n",
       "      <td>NaN</td>\n",
       "      <td>NaN</td>\n",
       "      <td>NaN</td>\n",
       "    </tr>\n",
       "    <tr>\n",
       "      <th>6</th>\n",
       "      <td>v</td>\n",
       "      <td>0.228809</td>\n",
       "      <td>0.488587</td>\n",
       "      <td>0.529479</td>\n",
       "      <td>0.395888</td>\n",
       "      <td>0.588018</td>\n",
       "      <td>0.448561</td>\n",
       "      <td>0.678056</td>\n",
       "      <td>0.742475</td>\n",
       "      <td>0.808966</td>\n",
       "      <td>0.955661</td>\n",
       "      <td>1.184470</td>\n",
       "      <td>NaN</td>\n",
       "      <td>NaN</td>\n",
       "      <td>NaN</td>\n",
       "      <td>NaN</td>\n",
       "    </tr>\n",
       "    <tr>\n",
       "      <th>7</th>\n",
       "      <td>i</td>\n",
       "      <td>0.026009</td>\n",
       "      <td>0.625076</td>\n",
       "      <td>0.612654</td>\n",
       "      <td>0.514342</td>\n",
       "      <td>0.753035</td>\n",
       "      <td>0.485428</td>\n",
       "      <td>0.725599</td>\n",
       "      <td>0.638038</td>\n",
       "      <td>0.047445</td>\n",
       "      <td>0.104637</td>\n",
       "      <td>0.130646</td>\n",
       "      <td>NaN</td>\n",
       "      <td>NaN</td>\n",
       "      <td>NaN</td>\n",
       "      <td>NaN</td>\n",
       "    </tr>\n",
       "    <tr>\n",
       "      <th>8</th>\n",
       "      <td>NaN</td>\n",
       "      <td>NaN</td>\n",
       "      <td>NaN</td>\n",
       "      <td>NaN</td>\n",
       "      <td>NaN</td>\n",
       "      <td>NaN</td>\n",
       "      <td>NaN</td>\n",
       "      <td>NaN</td>\n",
       "      <td>NaN</td>\n",
       "      <td>NaN</td>\n",
       "      <td>NaN</td>\n",
       "      <td>NaN</td>\n",
       "      <td>a</td>\n",
       "      <td>1.076799</td>\n",
       "      <td>2.256795</td>\n",
       "      <td>0.287685</td>\n",
       "    </tr>\n",
       "    <tr>\n",
       "      <th>9</th>\n",
       "      <td>NaN</td>\n",
       "      <td>NaN</td>\n",
       "      <td>NaN</td>\n",
       "      <td>NaN</td>\n",
       "      <td>NaN</td>\n",
       "      <td>NaN</td>\n",
       "      <td>NaN</td>\n",
       "      <td>NaN</td>\n",
       "      <td>NaN</td>\n",
       "      <td>NaN</td>\n",
       "      <td>NaN</td>\n",
       "      <td>NaN</td>\n",
       "      <td>t</td>\n",
       "      <td>2.208195</td>\n",
       "      <td>0.109155</td>\n",
       "      <td>2.368336</td>\n",
       "    </tr>\n",
       "  </tbody>\n",
       "</table>\n",
       "</div>"
      ],
      "text/plain": [
       "  index1         i         v       h_x       o_x       d_x         e  \\\n",
       "0      s  0.049458  0.521784  0.296480  0.894663  0.416530  0.169612   \n",
       "1      w  0.221861  0.814712  0.368225  0.027402  0.003077  0.738109   \n",
       "2      e  0.740859  0.880520  0.353451  0.650893  0.827837  0.812156   \n",
       "3      d  0.387749  0.566442  0.217195  0.143029  0.579602  0.103823   \n",
       "4      o  0.599820  0.932602  0.032597  0.224050  0.423480  0.267877   \n",
       "5      h  0.033631  0.607050  0.633460  0.598439  0.036567  0.117106   \n",
       "6      v  0.228809  0.488587  0.529479  0.395888  0.588018  0.448561   \n",
       "7      i  0.026009  0.625076  0.612654  0.514342  0.753035  0.485428   \n",
       "8    NaN       NaN       NaN       NaN       NaN       NaN       NaN   \n",
       "9    NaN       NaN       NaN       NaN       NaN       NaN       NaN   \n",
       "\n",
       "          w         s         t         a         X index2       h_y  \\\n",
       "0  0.215881  0.798174  0.077433  0.056233  0.105691      s  1.482401   \n",
       "1  0.150927  0.929053  0.198385  0.500580  0.722441      w  1.841125   \n",
       "2  0.824139  0.658815  0.554572  0.608795  1.349654    NaN       NaN   \n",
       "3  0.066344  0.430405  0.111228  0.519840  0.907590    NaN       NaN   \n",
       "4  0.523457  0.935946  0.439969  0.601146  1.200967    NaN       NaN   \n",
       "5  0.078618  0.266043  0.217487  0.798112  0.831743    NaN       NaN   \n",
       "6  0.678056  0.742475  0.808966  0.955661  1.184470    NaN       NaN   \n",
       "7  0.725599  0.638038  0.047445  0.104637  0.130646    NaN       NaN   \n",
       "8       NaN       NaN       NaN       NaN       NaN      a  1.076799   \n",
       "9       NaN       NaN       NaN       NaN       NaN      t  2.208195   \n",
       "\n",
       "        o_y       d_y  \n",
       "0  4.473314  2.082649  \n",
       "1  0.137012  0.015387  \n",
       "2       NaN       NaN  \n",
       "3       NaN       NaN  \n",
       "4       NaN       NaN  \n",
       "5       NaN       NaN  \n",
       "6       NaN       NaN  \n",
       "7       NaN       NaN  \n",
       "8  2.256795  0.287685  \n",
       "9  0.109155  2.368336  "
      ]
     },
     "execution_count": 557,
     "metadata": {},
     "output_type": "execute_result"
    }
   ],
   "source": [
    "pd.merge(df1,df2,how='outer',left_on='index1',right_on='index2')"
   ]
  },
  {
   "cell_type": "code",
   "execution_count": 558,
   "metadata": {},
   "outputs": [],
   "source": [
    "df3 = pd.merge(df1,df2,how='outer',left_on='index1',right_on='index2')"
   ]
  },
  {
   "cell_type": "code",
   "execution_count": 561,
   "metadata": {},
   "outputs": [],
   "source": [
    "df3[df3<0.1] = np.nan"
   ]
  },
  {
   "cell_type": "code",
   "execution_count": 562,
   "metadata": {},
   "outputs": [
    {
     "data": {
      "text/html": [
       "<div>\n",
       "<style scoped>\n",
       "    .dataframe tbody tr th:only-of-type {\n",
       "        vertical-align: middle;\n",
       "    }\n",
       "\n",
       "    .dataframe tbody tr th {\n",
       "        vertical-align: top;\n",
       "    }\n",
       "\n",
       "    .dataframe thead th {\n",
       "        text-align: right;\n",
       "    }\n",
       "</style>\n",
       "<table border=\"1\" class=\"dataframe\">\n",
       "  <thead>\n",
       "    <tr style=\"text-align: right;\">\n",
       "      <th></th>\n",
       "      <th>index1</th>\n",
       "      <th>i</th>\n",
       "      <th>v</th>\n",
       "      <th>h_x</th>\n",
       "      <th>o_x</th>\n",
       "      <th>d_x</th>\n",
       "      <th>e</th>\n",
       "      <th>w</th>\n",
       "      <th>s</th>\n",
       "      <th>t</th>\n",
       "      <th>a</th>\n",
       "      <th>X</th>\n",
       "      <th>index2</th>\n",
       "      <th>h_y</th>\n",
       "      <th>o_y</th>\n",
       "      <th>d_y</th>\n",
       "    </tr>\n",
       "  </thead>\n",
       "  <tbody>\n",
       "    <tr>\n",
       "      <th>0</th>\n",
       "      <td>NaN</td>\n",
       "      <td>NaN</td>\n",
       "      <td>0.521784</td>\n",
       "      <td>0.296480</td>\n",
       "      <td>0.894663</td>\n",
       "      <td>0.416530</td>\n",
       "      <td>0.169612</td>\n",
       "      <td>0.215881</td>\n",
       "      <td>0.798174</td>\n",
       "      <td>NaN</td>\n",
       "      <td>NaN</td>\n",
       "      <td>0.105691</td>\n",
       "      <td>NaN</td>\n",
       "      <td>1.482401</td>\n",
       "      <td>4.473314</td>\n",
       "      <td>2.082649</td>\n",
       "    </tr>\n",
       "    <tr>\n",
       "      <th>1</th>\n",
       "      <td>NaN</td>\n",
       "      <td>0.221861</td>\n",
       "      <td>0.814712</td>\n",
       "      <td>0.368225</td>\n",
       "      <td>NaN</td>\n",
       "      <td>NaN</td>\n",
       "      <td>0.738109</td>\n",
       "      <td>0.150927</td>\n",
       "      <td>0.929053</td>\n",
       "      <td>0.198385</td>\n",
       "      <td>0.500580</td>\n",
       "      <td>0.722441</td>\n",
       "      <td>NaN</td>\n",
       "      <td>1.841125</td>\n",
       "      <td>0.137012</td>\n",
       "      <td>NaN</td>\n",
       "    </tr>\n",
       "    <tr>\n",
       "      <th>2</th>\n",
       "      <td>NaN</td>\n",
       "      <td>0.740859</td>\n",
       "      <td>0.880520</td>\n",
       "      <td>0.353451</td>\n",
       "      <td>0.650893</td>\n",
       "      <td>0.827837</td>\n",
       "      <td>0.812156</td>\n",
       "      <td>0.824139</td>\n",
       "      <td>0.658815</td>\n",
       "      <td>0.554572</td>\n",
       "      <td>0.608795</td>\n",
       "      <td>1.349654</td>\n",
       "      <td>NaN</td>\n",
       "      <td>NaN</td>\n",
       "      <td>NaN</td>\n",
       "      <td>NaN</td>\n",
       "    </tr>\n",
       "    <tr>\n",
       "      <th>3</th>\n",
       "      <td>NaN</td>\n",
       "      <td>0.387749</td>\n",
       "      <td>0.566442</td>\n",
       "      <td>0.217195</td>\n",
       "      <td>0.143029</td>\n",
       "      <td>0.579602</td>\n",
       "      <td>0.103823</td>\n",
       "      <td>NaN</td>\n",
       "      <td>0.430405</td>\n",
       "      <td>0.111228</td>\n",
       "      <td>0.519840</td>\n",
       "      <td>0.907590</td>\n",
       "      <td>NaN</td>\n",
       "      <td>NaN</td>\n",
       "      <td>NaN</td>\n",
       "      <td>NaN</td>\n",
       "    </tr>\n",
       "    <tr>\n",
       "      <th>4</th>\n",
       "      <td>NaN</td>\n",
       "      <td>0.599820</td>\n",
       "      <td>0.932602</td>\n",
       "      <td>NaN</td>\n",
       "      <td>0.224050</td>\n",
       "      <td>0.423480</td>\n",
       "      <td>0.267877</td>\n",
       "      <td>0.523457</td>\n",
       "      <td>0.935946</td>\n",
       "      <td>0.439969</td>\n",
       "      <td>0.601146</td>\n",
       "      <td>1.200967</td>\n",
       "      <td>NaN</td>\n",
       "      <td>NaN</td>\n",
       "      <td>NaN</td>\n",
       "      <td>NaN</td>\n",
       "    </tr>\n",
       "    <tr>\n",
       "      <th>5</th>\n",
       "      <td>NaN</td>\n",
       "      <td>NaN</td>\n",
       "      <td>0.607050</td>\n",
       "      <td>0.633460</td>\n",
       "      <td>0.598439</td>\n",
       "      <td>NaN</td>\n",
       "      <td>0.117106</td>\n",
       "      <td>NaN</td>\n",
       "      <td>0.266043</td>\n",
       "      <td>0.217487</td>\n",
       "      <td>0.798112</td>\n",
       "      <td>0.831743</td>\n",
       "      <td>NaN</td>\n",
       "      <td>NaN</td>\n",
       "      <td>NaN</td>\n",
       "      <td>NaN</td>\n",
       "    </tr>\n",
       "    <tr>\n",
       "      <th>6</th>\n",
       "      <td>NaN</td>\n",
       "      <td>0.228809</td>\n",
       "      <td>0.488587</td>\n",
       "      <td>0.529479</td>\n",
       "      <td>0.395888</td>\n",
       "      <td>0.588018</td>\n",
       "      <td>0.448561</td>\n",
       "      <td>0.678056</td>\n",
       "      <td>0.742475</td>\n",
       "      <td>0.808966</td>\n",
       "      <td>0.955661</td>\n",
       "      <td>1.184470</td>\n",
       "      <td>NaN</td>\n",
       "      <td>NaN</td>\n",
       "      <td>NaN</td>\n",
       "      <td>NaN</td>\n",
       "    </tr>\n",
       "    <tr>\n",
       "      <th>7</th>\n",
       "      <td>NaN</td>\n",
       "      <td>NaN</td>\n",
       "      <td>0.625076</td>\n",
       "      <td>0.612654</td>\n",
       "      <td>0.514342</td>\n",
       "      <td>0.753035</td>\n",
       "      <td>0.485428</td>\n",
       "      <td>0.725599</td>\n",
       "      <td>0.638038</td>\n",
       "      <td>NaN</td>\n",
       "      <td>0.104637</td>\n",
       "      <td>0.130646</td>\n",
       "      <td>NaN</td>\n",
       "      <td>NaN</td>\n",
       "      <td>NaN</td>\n",
       "      <td>NaN</td>\n",
       "    </tr>\n",
       "    <tr>\n",
       "      <th>8</th>\n",
       "      <td>NaN</td>\n",
       "      <td>NaN</td>\n",
       "      <td>NaN</td>\n",
       "      <td>NaN</td>\n",
       "      <td>NaN</td>\n",
       "      <td>NaN</td>\n",
       "      <td>NaN</td>\n",
       "      <td>NaN</td>\n",
       "      <td>NaN</td>\n",
       "      <td>NaN</td>\n",
       "      <td>NaN</td>\n",
       "      <td>NaN</td>\n",
       "      <td>NaN</td>\n",
       "      <td>1.076799</td>\n",
       "      <td>2.256795</td>\n",
       "      <td>0.287685</td>\n",
       "    </tr>\n",
       "    <tr>\n",
       "      <th>9</th>\n",
       "      <td>NaN</td>\n",
       "      <td>NaN</td>\n",
       "      <td>NaN</td>\n",
       "      <td>NaN</td>\n",
       "      <td>NaN</td>\n",
       "      <td>NaN</td>\n",
       "      <td>NaN</td>\n",
       "      <td>NaN</td>\n",
       "      <td>NaN</td>\n",
       "      <td>NaN</td>\n",
       "      <td>NaN</td>\n",
       "      <td>NaN</td>\n",
       "      <td>NaN</td>\n",
       "      <td>2.208195</td>\n",
       "      <td>0.109155</td>\n",
       "      <td>2.368336</td>\n",
       "    </tr>\n",
       "  </tbody>\n",
       "</table>\n",
       "</div>"
      ],
      "text/plain": [
       "  index1         i         v       h_x       o_x       d_x         e  \\\n",
       "0    NaN       NaN  0.521784  0.296480  0.894663  0.416530  0.169612   \n",
       "1    NaN  0.221861  0.814712  0.368225       NaN       NaN  0.738109   \n",
       "2    NaN  0.740859  0.880520  0.353451  0.650893  0.827837  0.812156   \n",
       "3    NaN  0.387749  0.566442  0.217195  0.143029  0.579602  0.103823   \n",
       "4    NaN  0.599820  0.932602       NaN  0.224050  0.423480  0.267877   \n",
       "5    NaN       NaN  0.607050  0.633460  0.598439       NaN  0.117106   \n",
       "6    NaN  0.228809  0.488587  0.529479  0.395888  0.588018  0.448561   \n",
       "7    NaN       NaN  0.625076  0.612654  0.514342  0.753035  0.485428   \n",
       "8    NaN       NaN       NaN       NaN       NaN       NaN       NaN   \n",
       "9    NaN       NaN       NaN       NaN       NaN       NaN       NaN   \n",
       "\n",
       "          w         s         t         a         X index2       h_y  \\\n",
       "0  0.215881  0.798174       NaN       NaN  0.105691    NaN  1.482401   \n",
       "1  0.150927  0.929053  0.198385  0.500580  0.722441    NaN  1.841125   \n",
       "2  0.824139  0.658815  0.554572  0.608795  1.349654    NaN       NaN   \n",
       "3       NaN  0.430405  0.111228  0.519840  0.907590    NaN       NaN   \n",
       "4  0.523457  0.935946  0.439969  0.601146  1.200967    NaN       NaN   \n",
       "5       NaN  0.266043  0.217487  0.798112  0.831743    NaN       NaN   \n",
       "6  0.678056  0.742475  0.808966  0.955661  1.184470    NaN       NaN   \n",
       "7  0.725599  0.638038       NaN  0.104637  0.130646    NaN       NaN   \n",
       "8       NaN       NaN       NaN       NaN       NaN    NaN  1.076799   \n",
       "9       NaN       NaN       NaN       NaN       NaN    NaN  2.208195   \n",
       "\n",
       "        o_y       d_y  \n",
       "0  4.473314  2.082649  \n",
       "1  0.137012       NaN  \n",
       "2       NaN       NaN  \n",
       "3       NaN       NaN  \n",
       "4       NaN       NaN  \n",
       "5       NaN       NaN  \n",
       "6       NaN       NaN  \n",
       "7       NaN       NaN  \n",
       "8  2.256795  0.287685  \n",
       "9  0.109155  2.368336  "
      ]
     },
     "execution_count": 562,
     "metadata": {},
     "output_type": "execute_result"
    }
   ],
   "source": [
    "df3"
   ]
  },
  {
   "cell_type": "code",
   "execution_count": 564,
   "metadata": {},
   "outputs": [
    {
     "data": {
      "text/plain": [
       "index1    10\n",
       "i          5\n",
       "v          2\n",
       "h_x        3\n",
       "o_x        3\n",
       "d_x        4\n",
       "e          2\n",
       "w          4\n",
       "s          2\n",
       "t          4\n",
       "a          3\n",
       "X          2\n",
       "index2    10\n",
       "h_y        6\n",
       "o_y        6\n",
       "d_y        7\n",
       "dtype: int64"
      ]
     },
     "execution_count": 564,
     "metadata": {},
     "output_type": "execute_result"
    }
   ],
   "source": [
    "df3.isnull().sum(axis=0)"
   ]
  },
  {
   "cell_type": "code",
   "execution_count": 565,
   "metadata": {},
   "outputs": [
    {
     "data": {
      "text/plain": [
       "0     5\n",
       "1     5\n",
       "2     5\n",
       "3     6\n",
       "4     6\n",
       "5     8\n",
       "6     5\n",
       "7     7\n",
       "8    13\n",
       "9    13\n",
       "dtype: int64"
      ]
     },
     "execution_count": 565,
     "metadata": {},
     "output_type": "execute_result"
    }
   ],
   "source": [
    "df3.isnull().sum(axis=1)"
   ]
  },
  {
   "cell_type": "code",
   "execution_count": 567,
   "metadata": {},
   "outputs": [
    {
     "data": {
      "text/plain": [
       "73"
      ]
     },
     "execution_count": 567,
     "metadata": {},
     "output_type": "execute_result"
    }
   ],
   "source": [
    "df3.isnull().sum().sum()"
   ]
  },
  {
   "cell_type": "code",
   "execution_count": 570,
   "metadata": {},
   "outputs": [
    {
     "data": {
      "text/html": [
       "<div>\n",
       "<style scoped>\n",
       "    .dataframe tbody tr th:only-of-type {\n",
       "        vertical-align: middle;\n",
       "    }\n",
       "\n",
       "    .dataframe tbody tr th {\n",
       "        vertical-align: top;\n",
       "    }\n",
       "\n",
       "    .dataframe thead th {\n",
       "        text-align: right;\n",
       "    }\n",
       "</style>\n",
       "<table border=\"1\" class=\"dataframe\">\n",
       "  <thead>\n",
       "    <tr style=\"text-align: right;\">\n",
       "      <th></th>\n",
       "    </tr>\n",
       "  </thead>\n",
       "  <tbody>\n",
       "    <tr>\n",
       "      <th>0</th>\n",
       "    </tr>\n",
       "    <tr>\n",
       "      <th>1</th>\n",
       "    </tr>\n",
       "    <tr>\n",
       "      <th>2</th>\n",
       "    </tr>\n",
       "    <tr>\n",
       "      <th>3</th>\n",
       "    </tr>\n",
       "    <tr>\n",
       "      <th>4</th>\n",
       "    </tr>\n",
       "    <tr>\n",
       "      <th>5</th>\n",
       "    </tr>\n",
       "    <tr>\n",
       "      <th>6</th>\n",
       "    </tr>\n",
       "    <tr>\n",
       "      <th>7</th>\n",
       "    </tr>\n",
       "    <tr>\n",
       "      <th>8</th>\n",
       "    </tr>\n",
       "    <tr>\n",
       "      <th>9</th>\n",
       "    </tr>\n",
       "  </tbody>\n",
       "</table>\n",
       "</div>"
      ],
      "text/plain": [
       "Empty DataFrame\n",
       "Columns: []\n",
       "Index: [0, 1, 2, 3, 4, 5, 6, 7, 8, 9]"
      ]
     },
     "execution_count": 570,
     "metadata": {},
     "output_type": "execute_result"
    }
   ],
   "source": [
    "df3.dropna(axis=1)"
   ]
  },
  {
   "cell_type": "code",
   "execution_count": 571,
   "metadata": {},
   "outputs": [
    {
     "data": {
      "text/html": [
       "<div>\n",
       "<style scoped>\n",
       "    .dataframe tbody tr th:only-of-type {\n",
       "        vertical-align: middle;\n",
       "    }\n",
       "\n",
       "    .dataframe tbody tr th {\n",
       "        vertical-align: top;\n",
       "    }\n",
       "\n",
       "    .dataframe thead th {\n",
       "        text-align: right;\n",
       "    }\n",
       "</style>\n",
       "<table border=\"1\" class=\"dataframe\">\n",
       "  <thead>\n",
       "    <tr style=\"text-align: right;\">\n",
       "      <th></th>\n",
       "      <th>index1</th>\n",
       "      <th>i</th>\n",
       "      <th>v</th>\n",
       "      <th>h_x</th>\n",
       "      <th>o_x</th>\n",
       "      <th>d_x</th>\n",
       "      <th>e</th>\n",
       "      <th>w</th>\n",
       "      <th>s</th>\n",
       "      <th>t</th>\n",
       "      <th>a</th>\n",
       "      <th>X</th>\n",
       "      <th>index2</th>\n",
       "      <th>h_y</th>\n",
       "      <th>o_y</th>\n",
       "      <th>d_y</th>\n",
       "    </tr>\n",
       "  </thead>\n",
       "  <tbody>\n",
       "    <tr>\n",
       "      <th>0</th>\n",
       "      <td>0</td>\n",
       "      <td>0.000000</td>\n",
       "      <td>0.521784</td>\n",
       "      <td>0.296480</td>\n",
       "      <td>0.894663</td>\n",
       "      <td>0.416530</td>\n",
       "      <td>0.169612</td>\n",
       "      <td>0.215881</td>\n",
       "      <td>0.798174</td>\n",
       "      <td>0.000000</td>\n",
       "      <td>0.000000</td>\n",
       "      <td>0.105691</td>\n",
       "      <td>0</td>\n",
       "      <td>1.482401</td>\n",
       "      <td>4.473314</td>\n",
       "      <td>2.082649</td>\n",
       "    </tr>\n",
       "    <tr>\n",
       "      <th>1</th>\n",
       "      <td>0</td>\n",
       "      <td>0.221861</td>\n",
       "      <td>0.814712</td>\n",
       "      <td>0.368225</td>\n",
       "      <td>0.000000</td>\n",
       "      <td>0.000000</td>\n",
       "      <td>0.738109</td>\n",
       "      <td>0.150927</td>\n",
       "      <td>0.929053</td>\n",
       "      <td>0.198385</td>\n",
       "      <td>0.500580</td>\n",
       "      <td>0.722441</td>\n",
       "      <td>0</td>\n",
       "      <td>1.841125</td>\n",
       "      <td>0.137012</td>\n",
       "      <td>0.000000</td>\n",
       "    </tr>\n",
       "    <tr>\n",
       "      <th>2</th>\n",
       "      <td>0</td>\n",
       "      <td>0.740859</td>\n",
       "      <td>0.880520</td>\n",
       "      <td>0.353451</td>\n",
       "      <td>0.650893</td>\n",
       "      <td>0.827837</td>\n",
       "      <td>0.812156</td>\n",
       "      <td>0.824139</td>\n",
       "      <td>0.658815</td>\n",
       "      <td>0.554572</td>\n",
       "      <td>0.608795</td>\n",
       "      <td>1.349654</td>\n",
       "      <td>0</td>\n",
       "      <td>0.000000</td>\n",
       "      <td>0.000000</td>\n",
       "      <td>0.000000</td>\n",
       "    </tr>\n",
       "    <tr>\n",
       "      <th>3</th>\n",
       "      <td>0</td>\n",
       "      <td>0.387749</td>\n",
       "      <td>0.566442</td>\n",
       "      <td>0.217195</td>\n",
       "      <td>0.143029</td>\n",
       "      <td>0.579602</td>\n",
       "      <td>0.103823</td>\n",
       "      <td>0.000000</td>\n",
       "      <td>0.430405</td>\n",
       "      <td>0.111228</td>\n",
       "      <td>0.519840</td>\n",
       "      <td>0.907590</td>\n",
       "      <td>0</td>\n",
       "      <td>0.000000</td>\n",
       "      <td>0.000000</td>\n",
       "      <td>0.000000</td>\n",
       "    </tr>\n",
       "    <tr>\n",
       "      <th>4</th>\n",
       "      <td>0</td>\n",
       "      <td>0.599820</td>\n",
       "      <td>0.932602</td>\n",
       "      <td>0.000000</td>\n",
       "      <td>0.224050</td>\n",
       "      <td>0.423480</td>\n",
       "      <td>0.267877</td>\n",
       "      <td>0.523457</td>\n",
       "      <td>0.935946</td>\n",
       "      <td>0.439969</td>\n",
       "      <td>0.601146</td>\n",
       "      <td>1.200967</td>\n",
       "      <td>0</td>\n",
       "      <td>0.000000</td>\n",
       "      <td>0.000000</td>\n",
       "      <td>0.000000</td>\n",
       "    </tr>\n",
       "    <tr>\n",
       "      <th>5</th>\n",
       "      <td>0</td>\n",
       "      <td>0.000000</td>\n",
       "      <td>0.607050</td>\n",
       "      <td>0.633460</td>\n",
       "      <td>0.598439</td>\n",
       "      <td>0.000000</td>\n",
       "      <td>0.117106</td>\n",
       "      <td>0.000000</td>\n",
       "      <td>0.266043</td>\n",
       "      <td>0.217487</td>\n",
       "      <td>0.798112</td>\n",
       "      <td>0.831743</td>\n",
       "      <td>0</td>\n",
       "      <td>0.000000</td>\n",
       "      <td>0.000000</td>\n",
       "      <td>0.000000</td>\n",
       "    </tr>\n",
       "    <tr>\n",
       "      <th>6</th>\n",
       "      <td>0</td>\n",
       "      <td>0.228809</td>\n",
       "      <td>0.488587</td>\n",
       "      <td>0.529479</td>\n",
       "      <td>0.395888</td>\n",
       "      <td>0.588018</td>\n",
       "      <td>0.448561</td>\n",
       "      <td>0.678056</td>\n",
       "      <td>0.742475</td>\n",
       "      <td>0.808966</td>\n",
       "      <td>0.955661</td>\n",
       "      <td>1.184470</td>\n",
       "      <td>0</td>\n",
       "      <td>0.000000</td>\n",
       "      <td>0.000000</td>\n",
       "      <td>0.000000</td>\n",
       "    </tr>\n",
       "    <tr>\n",
       "      <th>7</th>\n",
       "      <td>0</td>\n",
       "      <td>0.000000</td>\n",
       "      <td>0.625076</td>\n",
       "      <td>0.612654</td>\n",
       "      <td>0.514342</td>\n",
       "      <td>0.753035</td>\n",
       "      <td>0.485428</td>\n",
       "      <td>0.725599</td>\n",
       "      <td>0.638038</td>\n",
       "      <td>0.000000</td>\n",
       "      <td>0.104637</td>\n",
       "      <td>0.130646</td>\n",
       "      <td>0</td>\n",
       "      <td>0.000000</td>\n",
       "      <td>0.000000</td>\n",
       "      <td>0.000000</td>\n",
       "    </tr>\n",
       "    <tr>\n",
       "      <th>8</th>\n",
       "      <td>0</td>\n",
       "      <td>0.000000</td>\n",
       "      <td>0.000000</td>\n",
       "      <td>0.000000</td>\n",
       "      <td>0.000000</td>\n",
       "      <td>0.000000</td>\n",
       "      <td>0.000000</td>\n",
       "      <td>0.000000</td>\n",
       "      <td>0.000000</td>\n",
       "      <td>0.000000</td>\n",
       "      <td>0.000000</td>\n",
       "      <td>0.000000</td>\n",
       "      <td>0</td>\n",
       "      <td>1.076799</td>\n",
       "      <td>2.256795</td>\n",
       "      <td>0.287685</td>\n",
       "    </tr>\n",
       "    <tr>\n",
       "      <th>9</th>\n",
       "      <td>0</td>\n",
       "      <td>0.000000</td>\n",
       "      <td>0.000000</td>\n",
       "      <td>0.000000</td>\n",
       "      <td>0.000000</td>\n",
       "      <td>0.000000</td>\n",
       "      <td>0.000000</td>\n",
       "      <td>0.000000</td>\n",
       "      <td>0.000000</td>\n",
       "      <td>0.000000</td>\n",
       "      <td>0.000000</td>\n",
       "      <td>0.000000</td>\n",
       "      <td>0</td>\n",
       "      <td>2.208195</td>\n",
       "      <td>0.109155</td>\n",
       "      <td>2.368336</td>\n",
       "    </tr>\n",
       "  </tbody>\n",
       "</table>\n",
       "</div>"
      ],
      "text/plain": [
       "   index1         i         v       h_x       o_x       d_x         e  \\\n",
       "0       0  0.000000  0.521784  0.296480  0.894663  0.416530  0.169612   \n",
       "1       0  0.221861  0.814712  0.368225  0.000000  0.000000  0.738109   \n",
       "2       0  0.740859  0.880520  0.353451  0.650893  0.827837  0.812156   \n",
       "3       0  0.387749  0.566442  0.217195  0.143029  0.579602  0.103823   \n",
       "4       0  0.599820  0.932602  0.000000  0.224050  0.423480  0.267877   \n",
       "5       0  0.000000  0.607050  0.633460  0.598439  0.000000  0.117106   \n",
       "6       0  0.228809  0.488587  0.529479  0.395888  0.588018  0.448561   \n",
       "7       0  0.000000  0.625076  0.612654  0.514342  0.753035  0.485428   \n",
       "8       0  0.000000  0.000000  0.000000  0.000000  0.000000  0.000000   \n",
       "9       0  0.000000  0.000000  0.000000  0.000000  0.000000  0.000000   \n",
       "\n",
       "          w         s         t         a         X  index2       h_y  \\\n",
       "0  0.215881  0.798174  0.000000  0.000000  0.105691       0  1.482401   \n",
       "1  0.150927  0.929053  0.198385  0.500580  0.722441       0  1.841125   \n",
       "2  0.824139  0.658815  0.554572  0.608795  1.349654       0  0.000000   \n",
       "3  0.000000  0.430405  0.111228  0.519840  0.907590       0  0.000000   \n",
       "4  0.523457  0.935946  0.439969  0.601146  1.200967       0  0.000000   \n",
       "5  0.000000  0.266043  0.217487  0.798112  0.831743       0  0.000000   \n",
       "6  0.678056  0.742475  0.808966  0.955661  1.184470       0  0.000000   \n",
       "7  0.725599  0.638038  0.000000  0.104637  0.130646       0  0.000000   \n",
       "8  0.000000  0.000000  0.000000  0.000000  0.000000       0  1.076799   \n",
       "9  0.000000  0.000000  0.000000  0.000000  0.000000       0  2.208195   \n",
       "\n",
       "        o_y       d_y  \n",
       "0  4.473314  2.082649  \n",
       "1  0.137012  0.000000  \n",
       "2  0.000000  0.000000  \n",
       "3  0.000000  0.000000  \n",
       "4  0.000000  0.000000  \n",
       "5  0.000000  0.000000  \n",
       "6  0.000000  0.000000  \n",
       "7  0.000000  0.000000  \n",
       "8  2.256795  0.287685  \n",
       "9  0.109155  2.368336  "
      ]
     },
     "execution_count": 571,
     "metadata": {},
     "output_type": "execute_result"
    }
   ],
   "source": [
    "df3.fillna(0)"
   ]
  },
  {
   "cell_type": "code",
   "execution_count": 573,
   "metadata": {},
   "outputs": [
    {
     "data": {
      "text/html": [
       "<div>\n",
       "<style scoped>\n",
       "    .dataframe tbody tr th:only-of-type {\n",
       "        vertical-align: middle;\n",
       "    }\n",
       "\n",
       "    .dataframe tbody tr th {\n",
       "        vertical-align: top;\n",
       "    }\n",
       "\n",
       "    .dataframe thead th {\n",
       "        text-align: right;\n",
       "    }\n",
       "</style>\n",
       "<table border=\"1\" class=\"dataframe\">\n",
       "  <thead>\n",
       "    <tr style=\"text-align: right;\">\n",
       "      <th></th>\n",
       "      <th>index1</th>\n",
       "      <th>i</th>\n",
       "      <th>v</th>\n",
       "      <th>h_x</th>\n",
       "      <th>o_x</th>\n",
       "      <th>d_x</th>\n",
       "      <th>e</th>\n",
       "      <th>w</th>\n",
       "      <th>s</th>\n",
       "      <th>t</th>\n",
       "      <th>a</th>\n",
       "      <th>X</th>\n",
       "      <th>index2</th>\n",
       "      <th>h_y</th>\n",
       "      <th>o_y</th>\n",
       "      <th>d_y</th>\n",
       "    </tr>\n",
       "  </thead>\n",
       "  <tbody>\n",
       "    <tr>\n",
       "      <th>0</th>\n",
       "      <td>NaN</td>\n",
       "      <td>NaN</td>\n",
       "      <td>0.521784</td>\n",
       "      <td>0.296480</td>\n",
       "      <td>0.894663</td>\n",
       "      <td>0.416530</td>\n",
       "      <td>0.169612</td>\n",
       "      <td>0.215881</td>\n",
       "      <td>0.798174</td>\n",
       "      <td>NaN</td>\n",
       "      <td>NaN</td>\n",
       "      <td>0.105691</td>\n",
       "      <td>NaN</td>\n",
       "      <td>1.482401</td>\n",
       "      <td>4.473314</td>\n",
       "      <td>2.082649</td>\n",
       "    </tr>\n",
       "    <tr>\n",
       "      <th>1</th>\n",
       "      <td>NaN</td>\n",
       "      <td>0.221861</td>\n",
       "      <td>0.814712</td>\n",
       "      <td>0.368225</td>\n",
       "      <td>NaN</td>\n",
       "      <td>NaN</td>\n",
       "      <td>0.738109</td>\n",
       "      <td>0.150927</td>\n",
       "      <td>0.929053</td>\n",
       "      <td>0.198385</td>\n",
       "      <td>0.500580</td>\n",
       "      <td>0.722441</td>\n",
       "      <td>NaN</td>\n",
       "      <td>1.841125</td>\n",
       "      <td>0.137012</td>\n",
       "      <td>NaN</td>\n",
       "    </tr>\n",
       "    <tr>\n",
       "      <th>2</th>\n",
       "      <td>NaN</td>\n",
       "      <td>0.740859</td>\n",
       "      <td>0.880520</td>\n",
       "      <td>0.353451</td>\n",
       "      <td>0.650893</td>\n",
       "      <td>0.827837</td>\n",
       "      <td>0.812156</td>\n",
       "      <td>0.824139</td>\n",
       "      <td>0.658815</td>\n",
       "      <td>0.554572</td>\n",
       "      <td>0.608795</td>\n",
       "      <td>1.349654</td>\n",
       "      <td>NaN</td>\n",
       "      <td>NaN</td>\n",
       "      <td>NaN</td>\n",
       "      <td>NaN</td>\n",
       "    </tr>\n",
       "    <tr>\n",
       "      <th>3</th>\n",
       "      <td>NaN</td>\n",
       "      <td>0.387749</td>\n",
       "      <td>0.566442</td>\n",
       "      <td>0.217195</td>\n",
       "      <td>0.143029</td>\n",
       "      <td>0.579602</td>\n",
       "      <td>0.103823</td>\n",
       "      <td>NaN</td>\n",
       "      <td>0.430405</td>\n",
       "      <td>0.111228</td>\n",
       "      <td>0.519840</td>\n",
       "      <td>0.907590</td>\n",
       "      <td>NaN</td>\n",
       "      <td>NaN</td>\n",
       "      <td>NaN</td>\n",
       "      <td>NaN</td>\n",
       "    </tr>\n",
       "    <tr>\n",
       "      <th>4</th>\n",
       "      <td>NaN</td>\n",
       "      <td>0.599820</td>\n",
       "      <td>0.932602</td>\n",
       "      <td>NaN</td>\n",
       "      <td>0.224050</td>\n",
       "      <td>0.423480</td>\n",
       "      <td>0.267877</td>\n",
       "      <td>0.523457</td>\n",
       "      <td>0.935946</td>\n",
       "      <td>0.439969</td>\n",
       "      <td>0.601146</td>\n",
       "      <td>1.200967</td>\n",
       "      <td>NaN</td>\n",
       "      <td>NaN</td>\n",
       "      <td>NaN</td>\n",
       "      <td>NaN</td>\n",
       "    </tr>\n",
       "    <tr>\n",
       "      <th>5</th>\n",
       "      <td>NaN</td>\n",
       "      <td>NaN</td>\n",
       "      <td>0.607050</td>\n",
       "      <td>0.633460</td>\n",
       "      <td>0.598439</td>\n",
       "      <td>NaN</td>\n",
       "      <td>0.117106</td>\n",
       "      <td>NaN</td>\n",
       "      <td>0.266043</td>\n",
       "      <td>0.217487</td>\n",
       "      <td>0.798112</td>\n",
       "      <td>0.831743</td>\n",
       "      <td>NaN</td>\n",
       "      <td>NaN</td>\n",
       "      <td>NaN</td>\n",
       "      <td>NaN</td>\n",
       "    </tr>\n",
       "    <tr>\n",
       "      <th>6</th>\n",
       "      <td>NaN</td>\n",
       "      <td>0.228809</td>\n",
       "      <td>0.488587</td>\n",
       "      <td>0.529479</td>\n",
       "      <td>0.395888</td>\n",
       "      <td>0.588018</td>\n",
       "      <td>0.448561</td>\n",
       "      <td>0.678056</td>\n",
       "      <td>0.742475</td>\n",
       "      <td>0.808966</td>\n",
       "      <td>0.955661</td>\n",
       "      <td>1.184470</td>\n",
       "      <td>NaN</td>\n",
       "      <td>NaN</td>\n",
       "      <td>NaN</td>\n",
       "      <td>NaN</td>\n",
       "    </tr>\n",
       "    <tr>\n",
       "      <th>7</th>\n",
       "      <td>NaN</td>\n",
       "      <td>NaN</td>\n",
       "      <td>0.625076</td>\n",
       "      <td>0.612654</td>\n",
       "      <td>0.514342</td>\n",
       "      <td>0.753035</td>\n",
       "      <td>0.485428</td>\n",
       "      <td>0.725599</td>\n",
       "      <td>0.638038</td>\n",
       "      <td>NaN</td>\n",
       "      <td>0.104637</td>\n",
       "      <td>0.130646</td>\n",
       "      <td>NaN</td>\n",
       "      <td>NaN</td>\n",
       "      <td>NaN</td>\n",
       "      <td>NaN</td>\n",
       "    </tr>\n",
       "    <tr>\n",
       "      <th>8</th>\n",
       "      <td>NaN</td>\n",
       "      <td>NaN</td>\n",
       "      <td>NaN</td>\n",
       "      <td>NaN</td>\n",
       "      <td>NaN</td>\n",
       "      <td>NaN</td>\n",
       "      <td>NaN</td>\n",
       "      <td>NaN</td>\n",
       "      <td>NaN</td>\n",
       "      <td>NaN</td>\n",
       "      <td>NaN</td>\n",
       "      <td>NaN</td>\n",
       "      <td>NaN</td>\n",
       "      <td>1.076799</td>\n",
       "      <td>2.256795</td>\n",
       "      <td>0.287685</td>\n",
       "    </tr>\n",
       "    <tr>\n",
       "      <th>9</th>\n",
       "      <td>NaN</td>\n",
       "      <td>NaN</td>\n",
       "      <td>NaN</td>\n",
       "      <td>NaN</td>\n",
       "      <td>NaN</td>\n",
       "      <td>NaN</td>\n",
       "      <td>NaN</td>\n",
       "      <td>NaN</td>\n",
       "      <td>NaN</td>\n",
       "      <td>NaN</td>\n",
       "      <td>NaN</td>\n",
       "      <td>NaN</td>\n",
       "      <td>NaN</td>\n",
       "      <td>2.208195</td>\n",
       "      <td>0.109155</td>\n",
       "      <td>2.368336</td>\n",
       "    </tr>\n",
       "  </tbody>\n",
       "</table>\n",
       "</div>"
      ],
      "text/plain": [
       "  index1         i         v       h_x       o_x       d_x         e  \\\n",
       "0    NaN       NaN  0.521784  0.296480  0.894663  0.416530  0.169612   \n",
       "1    NaN  0.221861  0.814712  0.368225       NaN       NaN  0.738109   \n",
       "2    NaN  0.740859  0.880520  0.353451  0.650893  0.827837  0.812156   \n",
       "3    NaN  0.387749  0.566442  0.217195  0.143029  0.579602  0.103823   \n",
       "4    NaN  0.599820  0.932602       NaN  0.224050  0.423480  0.267877   \n",
       "5    NaN       NaN  0.607050  0.633460  0.598439       NaN  0.117106   \n",
       "6    NaN  0.228809  0.488587  0.529479  0.395888  0.588018  0.448561   \n",
       "7    NaN       NaN  0.625076  0.612654  0.514342  0.753035  0.485428   \n",
       "8    NaN       NaN       NaN       NaN       NaN       NaN       NaN   \n",
       "9    NaN       NaN       NaN       NaN       NaN       NaN       NaN   \n",
       "\n",
       "          w         s         t         a         X index2       h_y  \\\n",
       "0  0.215881  0.798174       NaN       NaN  0.105691    NaN  1.482401   \n",
       "1  0.150927  0.929053  0.198385  0.500580  0.722441    NaN  1.841125   \n",
       "2  0.824139  0.658815  0.554572  0.608795  1.349654    NaN       NaN   \n",
       "3       NaN  0.430405  0.111228  0.519840  0.907590    NaN       NaN   \n",
       "4  0.523457  0.935946  0.439969  0.601146  1.200967    NaN       NaN   \n",
       "5       NaN  0.266043  0.217487  0.798112  0.831743    NaN       NaN   \n",
       "6  0.678056  0.742475  0.808966  0.955661  1.184470    NaN       NaN   \n",
       "7  0.725599  0.638038       NaN  0.104637  0.130646    NaN       NaN   \n",
       "8       NaN       NaN       NaN       NaN       NaN    NaN  1.076799   \n",
       "9       NaN       NaN       NaN       NaN       NaN    NaN  2.208195   \n",
       "\n",
       "        o_y       d_y  \n",
       "0  4.473314  2.082649  \n",
       "1  0.137012       NaN  \n",
       "2       NaN       NaN  \n",
       "3       NaN       NaN  \n",
       "4       NaN       NaN  \n",
       "5       NaN       NaN  \n",
       "6       NaN       NaN  \n",
       "7       NaN       NaN  \n",
       "8  2.256795  0.287685  \n",
       "9  0.109155  2.368336  "
      ]
     },
     "execution_count": 573,
     "metadata": {},
     "output_type": "execute_result"
    }
   ],
   "source": [
    "df3"
   ]
  },
  {
   "cell_type": "code",
   "execution_count": 572,
   "metadata": {},
   "outputs": [
    {
     "data": {
      "text/html": [
       "<div>\n",
       "<style scoped>\n",
       "    .dataframe tbody tr th:only-of-type {\n",
       "        vertical-align: middle;\n",
       "    }\n",
       "\n",
       "    .dataframe tbody tr th {\n",
       "        vertical-align: top;\n",
       "    }\n",
       "\n",
       "    .dataframe thead th {\n",
       "        text-align: right;\n",
       "    }\n",
       "</style>\n",
       "<table border=\"1\" class=\"dataframe\">\n",
       "  <thead>\n",
       "    <tr style=\"text-align: right;\">\n",
       "      <th></th>\n",
       "      <th>index1</th>\n",
       "      <th>i</th>\n",
       "      <th>v</th>\n",
       "      <th>h_x</th>\n",
       "      <th>o_x</th>\n",
       "      <th>d_x</th>\n",
       "      <th>e</th>\n",
       "      <th>w</th>\n",
       "      <th>s</th>\n",
       "      <th>t</th>\n",
       "      <th>a</th>\n",
       "      <th>X</th>\n",
       "      <th>index2</th>\n",
       "      <th>h_y</th>\n",
       "      <th>o_y</th>\n",
       "      <th>d_y</th>\n",
       "    </tr>\n",
       "  </thead>\n",
       "  <tbody>\n",
       "    <tr>\n",
       "      <th>0</th>\n",
       "      <td>NaN</td>\n",
       "      <td>NaN</td>\n",
       "      <td>0.521784</td>\n",
       "      <td>0.296480</td>\n",
       "      <td>0.894663</td>\n",
       "      <td>0.416530</td>\n",
       "      <td>0.169612</td>\n",
       "      <td>0.215881</td>\n",
       "      <td>0.798174</td>\n",
       "      <td>NaN</td>\n",
       "      <td>NaN</td>\n",
       "      <td>0.105691</td>\n",
       "      <td>NaN</td>\n",
       "      <td>1.482401</td>\n",
       "      <td>4.473314</td>\n",
       "      <td>2.082649</td>\n",
       "    </tr>\n",
       "    <tr>\n",
       "      <th>1</th>\n",
       "      <td>NaN</td>\n",
       "      <td>0.221861</td>\n",
       "      <td>0.814712</td>\n",
       "      <td>0.368225</td>\n",
       "      <td>0.894663</td>\n",
       "      <td>0.416530</td>\n",
       "      <td>0.738109</td>\n",
       "      <td>0.150927</td>\n",
       "      <td>0.929053</td>\n",
       "      <td>0.198385</td>\n",
       "      <td>0.500580</td>\n",
       "      <td>0.722441</td>\n",
       "      <td>NaN</td>\n",
       "      <td>1.841125</td>\n",
       "      <td>0.137012</td>\n",
       "      <td>2.082649</td>\n",
       "    </tr>\n",
       "    <tr>\n",
       "      <th>2</th>\n",
       "      <td>NaN</td>\n",
       "      <td>0.740859</td>\n",
       "      <td>0.880520</td>\n",
       "      <td>0.353451</td>\n",
       "      <td>0.650893</td>\n",
       "      <td>0.827837</td>\n",
       "      <td>0.812156</td>\n",
       "      <td>0.824139</td>\n",
       "      <td>0.658815</td>\n",
       "      <td>0.554572</td>\n",
       "      <td>0.608795</td>\n",
       "      <td>1.349654</td>\n",
       "      <td>NaN</td>\n",
       "      <td>1.841125</td>\n",
       "      <td>0.137012</td>\n",
       "      <td>2.082649</td>\n",
       "    </tr>\n",
       "    <tr>\n",
       "      <th>3</th>\n",
       "      <td>NaN</td>\n",
       "      <td>0.387749</td>\n",
       "      <td>0.566442</td>\n",
       "      <td>0.217195</td>\n",
       "      <td>0.143029</td>\n",
       "      <td>0.579602</td>\n",
       "      <td>0.103823</td>\n",
       "      <td>0.824139</td>\n",
       "      <td>0.430405</td>\n",
       "      <td>0.111228</td>\n",
       "      <td>0.519840</td>\n",
       "      <td>0.907590</td>\n",
       "      <td>NaN</td>\n",
       "      <td>1.841125</td>\n",
       "      <td>0.137012</td>\n",
       "      <td>2.082649</td>\n",
       "    </tr>\n",
       "    <tr>\n",
       "      <th>4</th>\n",
       "      <td>NaN</td>\n",
       "      <td>0.599820</td>\n",
       "      <td>0.932602</td>\n",
       "      <td>0.217195</td>\n",
       "      <td>0.224050</td>\n",
       "      <td>0.423480</td>\n",
       "      <td>0.267877</td>\n",
       "      <td>0.523457</td>\n",
       "      <td>0.935946</td>\n",
       "      <td>0.439969</td>\n",
       "      <td>0.601146</td>\n",
       "      <td>1.200967</td>\n",
       "      <td>NaN</td>\n",
       "      <td>1.841125</td>\n",
       "      <td>0.137012</td>\n",
       "      <td>2.082649</td>\n",
       "    </tr>\n",
       "    <tr>\n",
       "      <th>5</th>\n",
       "      <td>NaN</td>\n",
       "      <td>0.599820</td>\n",
       "      <td>0.607050</td>\n",
       "      <td>0.633460</td>\n",
       "      <td>0.598439</td>\n",
       "      <td>0.423480</td>\n",
       "      <td>0.117106</td>\n",
       "      <td>0.523457</td>\n",
       "      <td>0.266043</td>\n",
       "      <td>0.217487</td>\n",
       "      <td>0.798112</td>\n",
       "      <td>0.831743</td>\n",
       "      <td>NaN</td>\n",
       "      <td>1.841125</td>\n",
       "      <td>0.137012</td>\n",
       "      <td>2.082649</td>\n",
       "    </tr>\n",
       "    <tr>\n",
       "      <th>6</th>\n",
       "      <td>NaN</td>\n",
       "      <td>0.228809</td>\n",
       "      <td>0.488587</td>\n",
       "      <td>0.529479</td>\n",
       "      <td>0.395888</td>\n",
       "      <td>0.588018</td>\n",
       "      <td>0.448561</td>\n",
       "      <td>0.678056</td>\n",
       "      <td>0.742475</td>\n",
       "      <td>0.808966</td>\n",
       "      <td>0.955661</td>\n",
       "      <td>1.184470</td>\n",
       "      <td>NaN</td>\n",
       "      <td>1.841125</td>\n",
       "      <td>0.137012</td>\n",
       "      <td>2.082649</td>\n",
       "    </tr>\n",
       "    <tr>\n",
       "      <th>7</th>\n",
       "      <td>NaN</td>\n",
       "      <td>0.228809</td>\n",
       "      <td>0.625076</td>\n",
       "      <td>0.612654</td>\n",
       "      <td>0.514342</td>\n",
       "      <td>0.753035</td>\n",
       "      <td>0.485428</td>\n",
       "      <td>0.725599</td>\n",
       "      <td>0.638038</td>\n",
       "      <td>0.808966</td>\n",
       "      <td>0.104637</td>\n",
       "      <td>0.130646</td>\n",
       "      <td>NaN</td>\n",
       "      <td>1.841125</td>\n",
       "      <td>0.137012</td>\n",
       "      <td>2.082649</td>\n",
       "    </tr>\n",
       "    <tr>\n",
       "      <th>8</th>\n",
       "      <td>NaN</td>\n",
       "      <td>0.228809</td>\n",
       "      <td>0.625076</td>\n",
       "      <td>0.612654</td>\n",
       "      <td>0.514342</td>\n",
       "      <td>0.753035</td>\n",
       "      <td>0.485428</td>\n",
       "      <td>0.725599</td>\n",
       "      <td>0.638038</td>\n",
       "      <td>0.808966</td>\n",
       "      <td>0.104637</td>\n",
       "      <td>0.130646</td>\n",
       "      <td>NaN</td>\n",
       "      <td>1.076799</td>\n",
       "      <td>2.256795</td>\n",
       "      <td>0.287685</td>\n",
       "    </tr>\n",
       "    <tr>\n",
       "      <th>9</th>\n",
       "      <td>NaN</td>\n",
       "      <td>0.228809</td>\n",
       "      <td>0.625076</td>\n",
       "      <td>0.612654</td>\n",
       "      <td>0.514342</td>\n",
       "      <td>0.753035</td>\n",
       "      <td>0.485428</td>\n",
       "      <td>0.725599</td>\n",
       "      <td>0.638038</td>\n",
       "      <td>0.808966</td>\n",
       "      <td>0.104637</td>\n",
       "      <td>0.130646</td>\n",
       "      <td>NaN</td>\n",
       "      <td>2.208195</td>\n",
       "      <td>0.109155</td>\n",
       "      <td>2.368336</td>\n",
       "    </tr>\n",
       "  </tbody>\n",
       "</table>\n",
       "</div>"
      ],
      "text/plain": [
       "   index1         i         v       h_x       o_x       d_x         e  \\\n",
       "0     NaN       NaN  0.521784  0.296480  0.894663  0.416530  0.169612   \n",
       "1     NaN  0.221861  0.814712  0.368225  0.894663  0.416530  0.738109   \n",
       "2     NaN  0.740859  0.880520  0.353451  0.650893  0.827837  0.812156   \n",
       "3     NaN  0.387749  0.566442  0.217195  0.143029  0.579602  0.103823   \n",
       "4     NaN  0.599820  0.932602  0.217195  0.224050  0.423480  0.267877   \n",
       "5     NaN  0.599820  0.607050  0.633460  0.598439  0.423480  0.117106   \n",
       "6     NaN  0.228809  0.488587  0.529479  0.395888  0.588018  0.448561   \n",
       "7     NaN  0.228809  0.625076  0.612654  0.514342  0.753035  0.485428   \n",
       "8     NaN  0.228809  0.625076  0.612654  0.514342  0.753035  0.485428   \n",
       "9     NaN  0.228809  0.625076  0.612654  0.514342  0.753035  0.485428   \n",
       "\n",
       "          w         s         t         a         X  index2       h_y  \\\n",
       "0  0.215881  0.798174       NaN       NaN  0.105691     NaN  1.482401   \n",
       "1  0.150927  0.929053  0.198385  0.500580  0.722441     NaN  1.841125   \n",
       "2  0.824139  0.658815  0.554572  0.608795  1.349654     NaN  1.841125   \n",
       "3  0.824139  0.430405  0.111228  0.519840  0.907590     NaN  1.841125   \n",
       "4  0.523457  0.935946  0.439969  0.601146  1.200967     NaN  1.841125   \n",
       "5  0.523457  0.266043  0.217487  0.798112  0.831743     NaN  1.841125   \n",
       "6  0.678056  0.742475  0.808966  0.955661  1.184470     NaN  1.841125   \n",
       "7  0.725599  0.638038  0.808966  0.104637  0.130646     NaN  1.841125   \n",
       "8  0.725599  0.638038  0.808966  0.104637  0.130646     NaN  1.076799   \n",
       "9  0.725599  0.638038  0.808966  0.104637  0.130646     NaN  2.208195   \n",
       "\n",
       "        o_y       d_y  \n",
       "0  4.473314  2.082649  \n",
       "1  0.137012  2.082649  \n",
       "2  0.137012  2.082649  \n",
       "3  0.137012  2.082649  \n",
       "4  0.137012  2.082649  \n",
       "5  0.137012  2.082649  \n",
       "6  0.137012  2.082649  \n",
       "7  0.137012  2.082649  \n",
       "8  2.256795  0.287685  \n",
       "9  0.109155  2.368336  "
      ]
     },
     "execution_count": 572,
     "metadata": {},
     "output_type": "execute_result"
    }
   ],
   "source": [
    "df3.fillna(method='ffill')"
   ]
  },
  {
   "cell_type": "code",
   "execution_count": 574,
   "metadata": {},
   "outputs": [
    {
     "data": {
      "text/html": [
       "<div>\n",
       "<style scoped>\n",
       "    .dataframe tbody tr th:only-of-type {\n",
       "        vertical-align: middle;\n",
       "    }\n",
       "\n",
       "    .dataframe tbody tr th {\n",
       "        vertical-align: top;\n",
       "    }\n",
       "\n",
       "    .dataframe thead th {\n",
       "        text-align: right;\n",
       "    }\n",
       "</style>\n",
       "<table border=\"1\" class=\"dataframe\">\n",
       "  <thead>\n",
       "    <tr style=\"text-align: right;\">\n",
       "      <th></th>\n",
       "      <th>index1</th>\n",
       "      <th>i</th>\n",
       "      <th>v</th>\n",
       "      <th>h_x</th>\n",
       "      <th>o_x</th>\n",
       "      <th>d_x</th>\n",
       "      <th>e</th>\n",
       "      <th>w</th>\n",
       "      <th>s</th>\n",
       "      <th>t</th>\n",
       "      <th>a</th>\n",
       "      <th>X</th>\n",
       "      <th>index2</th>\n",
       "      <th>h_y</th>\n",
       "      <th>o_y</th>\n",
       "      <th>d_y</th>\n",
       "    </tr>\n",
       "  </thead>\n",
       "  <tbody>\n",
       "    <tr>\n",
       "      <th>0</th>\n",
       "      <td>empty</td>\n",
       "      <td>empty</td>\n",
       "      <td>0.521784</td>\n",
       "      <td>0.296480</td>\n",
       "      <td>0.894663</td>\n",
       "      <td>0.416530</td>\n",
       "      <td>0.169612</td>\n",
       "      <td>0.215881</td>\n",
       "      <td>0.798174</td>\n",
       "      <td>empty</td>\n",
       "      <td>empty</td>\n",
       "      <td>0.105691</td>\n",
       "      <td>empty</td>\n",
       "      <td>1.482401</td>\n",
       "      <td>4.473314</td>\n",
       "      <td>2.082649</td>\n",
       "    </tr>\n",
       "    <tr>\n",
       "      <th>1</th>\n",
       "      <td>empty</td>\n",
       "      <td>0.221861</td>\n",
       "      <td>0.814712</td>\n",
       "      <td>0.368225</td>\n",
       "      <td>0.894663</td>\n",
       "      <td>0.416530</td>\n",
       "      <td>0.738109</td>\n",
       "      <td>0.150927</td>\n",
       "      <td>0.929053</td>\n",
       "      <td>0.198385</td>\n",
       "      <td>0.50058</td>\n",
       "      <td>0.722441</td>\n",
       "      <td>empty</td>\n",
       "      <td>1.841125</td>\n",
       "      <td>0.137012</td>\n",
       "      <td>2.082649</td>\n",
       "    </tr>\n",
       "    <tr>\n",
       "      <th>2</th>\n",
       "      <td>empty</td>\n",
       "      <td>0.740859</td>\n",
       "      <td>0.880520</td>\n",
       "      <td>0.353451</td>\n",
       "      <td>0.650893</td>\n",
       "      <td>0.827837</td>\n",
       "      <td>0.812156</td>\n",
       "      <td>0.824139</td>\n",
       "      <td>0.658815</td>\n",
       "      <td>0.554572</td>\n",
       "      <td>0.608795</td>\n",
       "      <td>1.349654</td>\n",
       "      <td>empty</td>\n",
       "      <td>1.841125</td>\n",
       "      <td>0.137012</td>\n",
       "      <td>2.082649</td>\n",
       "    </tr>\n",
       "    <tr>\n",
       "      <th>3</th>\n",
       "      <td>empty</td>\n",
       "      <td>0.387749</td>\n",
       "      <td>0.566442</td>\n",
       "      <td>0.217195</td>\n",
       "      <td>0.143029</td>\n",
       "      <td>0.579602</td>\n",
       "      <td>0.103823</td>\n",
       "      <td>0.824139</td>\n",
       "      <td>0.430405</td>\n",
       "      <td>0.111228</td>\n",
       "      <td>0.51984</td>\n",
       "      <td>0.907590</td>\n",
       "      <td>empty</td>\n",
       "      <td>1.841125</td>\n",
       "      <td>0.137012</td>\n",
       "      <td>2.082649</td>\n",
       "    </tr>\n",
       "    <tr>\n",
       "      <th>4</th>\n",
       "      <td>empty</td>\n",
       "      <td>0.59982</td>\n",
       "      <td>0.932602</td>\n",
       "      <td>0.217195</td>\n",
       "      <td>0.224050</td>\n",
       "      <td>0.423480</td>\n",
       "      <td>0.267877</td>\n",
       "      <td>0.523457</td>\n",
       "      <td>0.935946</td>\n",
       "      <td>0.439969</td>\n",
       "      <td>0.601146</td>\n",
       "      <td>1.200967</td>\n",
       "      <td>empty</td>\n",
       "      <td>1.841125</td>\n",
       "      <td>0.137012</td>\n",
       "      <td>2.082649</td>\n",
       "    </tr>\n",
       "    <tr>\n",
       "      <th>5</th>\n",
       "      <td>empty</td>\n",
       "      <td>0.59982</td>\n",
       "      <td>0.607050</td>\n",
       "      <td>0.633460</td>\n",
       "      <td>0.598439</td>\n",
       "      <td>0.423480</td>\n",
       "      <td>0.117106</td>\n",
       "      <td>0.523457</td>\n",
       "      <td>0.266043</td>\n",
       "      <td>0.217487</td>\n",
       "      <td>0.798112</td>\n",
       "      <td>0.831743</td>\n",
       "      <td>empty</td>\n",
       "      <td>1.841125</td>\n",
       "      <td>0.137012</td>\n",
       "      <td>2.082649</td>\n",
       "    </tr>\n",
       "    <tr>\n",
       "      <th>6</th>\n",
       "      <td>empty</td>\n",
       "      <td>0.228809</td>\n",
       "      <td>0.488587</td>\n",
       "      <td>0.529479</td>\n",
       "      <td>0.395888</td>\n",
       "      <td>0.588018</td>\n",
       "      <td>0.448561</td>\n",
       "      <td>0.678056</td>\n",
       "      <td>0.742475</td>\n",
       "      <td>0.808966</td>\n",
       "      <td>0.955661</td>\n",
       "      <td>1.184470</td>\n",
       "      <td>empty</td>\n",
       "      <td>1.841125</td>\n",
       "      <td>0.137012</td>\n",
       "      <td>2.082649</td>\n",
       "    </tr>\n",
       "    <tr>\n",
       "      <th>7</th>\n",
       "      <td>empty</td>\n",
       "      <td>0.228809</td>\n",
       "      <td>0.625076</td>\n",
       "      <td>0.612654</td>\n",
       "      <td>0.514342</td>\n",
       "      <td>0.753035</td>\n",
       "      <td>0.485428</td>\n",
       "      <td>0.725599</td>\n",
       "      <td>0.638038</td>\n",
       "      <td>0.808966</td>\n",
       "      <td>0.104637</td>\n",
       "      <td>0.130646</td>\n",
       "      <td>empty</td>\n",
       "      <td>1.841125</td>\n",
       "      <td>0.137012</td>\n",
       "      <td>2.082649</td>\n",
       "    </tr>\n",
       "    <tr>\n",
       "      <th>8</th>\n",
       "      <td>empty</td>\n",
       "      <td>0.228809</td>\n",
       "      <td>0.625076</td>\n",
       "      <td>0.612654</td>\n",
       "      <td>0.514342</td>\n",
       "      <td>0.753035</td>\n",
       "      <td>0.485428</td>\n",
       "      <td>0.725599</td>\n",
       "      <td>0.638038</td>\n",
       "      <td>0.808966</td>\n",
       "      <td>0.104637</td>\n",
       "      <td>0.130646</td>\n",
       "      <td>empty</td>\n",
       "      <td>1.076799</td>\n",
       "      <td>2.256795</td>\n",
       "      <td>0.287685</td>\n",
       "    </tr>\n",
       "    <tr>\n",
       "      <th>9</th>\n",
       "      <td>empty</td>\n",
       "      <td>0.228809</td>\n",
       "      <td>0.625076</td>\n",
       "      <td>0.612654</td>\n",
       "      <td>0.514342</td>\n",
       "      <td>0.753035</td>\n",
       "      <td>0.485428</td>\n",
       "      <td>0.725599</td>\n",
       "      <td>0.638038</td>\n",
       "      <td>0.808966</td>\n",
       "      <td>0.104637</td>\n",
       "      <td>0.130646</td>\n",
       "      <td>empty</td>\n",
       "      <td>2.208195</td>\n",
       "      <td>0.109155</td>\n",
       "      <td>2.368336</td>\n",
       "    </tr>\n",
       "  </tbody>\n",
       "</table>\n",
       "</div>"
      ],
      "text/plain": [
       "  index1         i         v       h_x       o_x       d_x         e  \\\n",
       "0  empty     empty  0.521784  0.296480  0.894663  0.416530  0.169612   \n",
       "1  empty  0.221861  0.814712  0.368225  0.894663  0.416530  0.738109   \n",
       "2  empty  0.740859  0.880520  0.353451  0.650893  0.827837  0.812156   \n",
       "3  empty  0.387749  0.566442  0.217195  0.143029  0.579602  0.103823   \n",
       "4  empty   0.59982  0.932602  0.217195  0.224050  0.423480  0.267877   \n",
       "5  empty   0.59982  0.607050  0.633460  0.598439  0.423480  0.117106   \n",
       "6  empty  0.228809  0.488587  0.529479  0.395888  0.588018  0.448561   \n",
       "7  empty  0.228809  0.625076  0.612654  0.514342  0.753035  0.485428   \n",
       "8  empty  0.228809  0.625076  0.612654  0.514342  0.753035  0.485428   \n",
       "9  empty  0.228809  0.625076  0.612654  0.514342  0.753035  0.485428   \n",
       "\n",
       "          w         s         t         a         X index2       h_y  \\\n",
       "0  0.215881  0.798174     empty     empty  0.105691  empty  1.482401   \n",
       "1  0.150927  0.929053  0.198385   0.50058  0.722441  empty  1.841125   \n",
       "2  0.824139  0.658815  0.554572  0.608795  1.349654  empty  1.841125   \n",
       "3  0.824139  0.430405  0.111228   0.51984  0.907590  empty  1.841125   \n",
       "4  0.523457  0.935946  0.439969  0.601146  1.200967  empty  1.841125   \n",
       "5  0.523457  0.266043  0.217487  0.798112  0.831743  empty  1.841125   \n",
       "6  0.678056  0.742475  0.808966  0.955661  1.184470  empty  1.841125   \n",
       "7  0.725599  0.638038  0.808966  0.104637  0.130646  empty  1.841125   \n",
       "8  0.725599  0.638038  0.808966  0.104637  0.130646  empty  1.076799   \n",
       "9  0.725599  0.638038  0.808966  0.104637  0.130646  empty  2.208195   \n",
       "\n",
       "        o_y       d_y  \n",
       "0  4.473314  2.082649  \n",
       "1  0.137012  2.082649  \n",
       "2  0.137012  2.082649  \n",
       "3  0.137012  2.082649  \n",
       "4  0.137012  2.082649  \n",
       "5  0.137012  2.082649  \n",
       "6  0.137012  2.082649  \n",
       "7  0.137012  2.082649  \n",
       "8  2.256795  0.287685  \n",
       "9  0.109155  2.368336  "
      ]
     },
     "execution_count": 574,
     "metadata": {},
     "output_type": "execute_result"
    }
   ],
   "source": [
    "df3.fillna(method='ffill').fillna('empty')"
   ]
  },
  {
   "cell_type": "code",
   "execution_count": 591,
   "metadata": {},
   "outputs": [
    {
     "name": "stdout",
     "output_type": "stream",
     "text": [
      "nan\n",
      "0.4358199482098325\n",
      "0.6795967804029204\n",
      "0.43013484485175846\n",
      "0.4887578606355653\n",
      "0.5980836229636548\n",
      "0.3928339943114518\n",
      "0.5196767475050447\n",
      "0.6748686398011274\n",
      "0.388434427194018\n",
      "0.5841100042934728\n",
      "0.8041501766165876\n",
      "nan\n",
      "1.6521300185499537\n",
      "1.7440691002192565\n",
      "1.5795567434888174\n"
     ]
    }
   ],
   "source": [
    "for col in df3.columns:\n",
    "    print(df3[col].mean())\n",
    "    if(df3[col].mean() != 'nan'):\n",
    "        df3[col].fillna(df3[col].mean(),inplace=True)\n",
    "    \n",
    "df3.fillna(0,inplace=True)"
   ]
  },
  {
   "cell_type": "code",
   "execution_count": 578,
   "metadata": {},
   "outputs": [
    {
     "data": {
      "text/plain": [
       "Index(['i', 'v', 'h_x', 'o_x'], dtype='object')"
      ]
     },
     "execution_count": 578,
     "metadata": {},
     "output_type": "execute_result"
    }
   ],
   "source": [
    "df3.columns[1:5]"
   ]
  },
  {
   "cell_type": "code",
   "execution_count": 582,
   "metadata": {},
   "outputs": [
    {
     "data": {
      "text/plain": [
       "0.4301348448517585"
      ]
     },
     "execution_count": 582,
     "metadata": {},
     "output_type": "execute_result"
    }
   ],
   "source": [
    "df3['h_x'].mean()"
   ]
  },
  {
   "cell_type": "code",
   "execution_count": 588,
   "metadata": {},
   "outputs": [
    {
     "data": {
      "text/plain": [
       "nan"
      ]
     },
     "execution_count": 588,
     "metadata": {},
     "output_type": "execute_result"
    }
   ],
   "source": [
    "df3['index1'].mean()"
   ]
  },
  {
   "cell_type": "code",
   "execution_count": 592,
   "metadata": {},
   "outputs": [
    {
     "data": {
      "text/html": [
       "<div>\n",
       "<style scoped>\n",
       "    .dataframe tbody tr th:only-of-type {\n",
       "        vertical-align: middle;\n",
       "    }\n",
       "\n",
       "    .dataframe tbody tr th {\n",
       "        vertical-align: top;\n",
       "    }\n",
       "\n",
       "    .dataframe thead th {\n",
       "        text-align: right;\n",
       "    }\n",
       "</style>\n",
       "<table border=\"1\" class=\"dataframe\">\n",
       "  <thead>\n",
       "    <tr style=\"text-align: right;\">\n",
       "      <th></th>\n",
       "      <th>index1</th>\n",
       "      <th>i</th>\n",
       "      <th>v</th>\n",
       "      <th>h_x</th>\n",
       "      <th>o_x</th>\n",
       "      <th>d_x</th>\n",
       "      <th>e</th>\n",
       "      <th>w</th>\n",
       "      <th>s</th>\n",
       "      <th>t</th>\n",
       "      <th>a</th>\n",
       "      <th>X</th>\n",
       "      <th>index2</th>\n",
       "      <th>h_y</th>\n",
       "      <th>o_y</th>\n",
       "      <th>d_y</th>\n",
       "    </tr>\n",
       "  </thead>\n",
       "  <tbody>\n",
       "    <tr>\n",
       "      <th>0</th>\n",
       "      <td>0.0</td>\n",
       "      <td>0.435820</td>\n",
       "      <td>0.521784</td>\n",
       "      <td>0.296480</td>\n",
       "      <td>0.894663</td>\n",
       "      <td>0.416530</td>\n",
       "      <td>0.169612</td>\n",
       "      <td>0.215881</td>\n",
       "      <td>0.798174</td>\n",
       "      <td>0.388434</td>\n",
       "      <td>0.584110</td>\n",
       "      <td>0.105691</td>\n",
       "      <td>0.0</td>\n",
       "      <td>1.482401</td>\n",
       "      <td>4.473314</td>\n",
       "      <td>2.082649</td>\n",
       "    </tr>\n",
       "    <tr>\n",
       "      <th>1</th>\n",
       "      <td>0.0</td>\n",
       "      <td>0.221861</td>\n",
       "      <td>0.814712</td>\n",
       "      <td>0.368225</td>\n",
       "      <td>0.488758</td>\n",
       "      <td>0.598084</td>\n",
       "      <td>0.738109</td>\n",
       "      <td>0.150927</td>\n",
       "      <td>0.929053</td>\n",
       "      <td>0.198385</td>\n",
       "      <td>0.500580</td>\n",
       "      <td>0.722441</td>\n",
       "      <td>0.0</td>\n",
       "      <td>1.841125</td>\n",
       "      <td>0.137012</td>\n",
       "      <td>1.579557</td>\n",
       "    </tr>\n",
       "    <tr>\n",
       "      <th>2</th>\n",
       "      <td>0.0</td>\n",
       "      <td>0.740859</td>\n",
       "      <td>0.880520</td>\n",
       "      <td>0.353451</td>\n",
       "      <td>0.650893</td>\n",
       "      <td>0.827837</td>\n",
       "      <td>0.812156</td>\n",
       "      <td>0.824139</td>\n",
       "      <td>0.658815</td>\n",
       "      <td>0.554572</td>\n",
       "      <td>0.608795</td>\n",
       "      <td>1.349654</td>\n",
       "      <td>0.0</td>\n",
       "      <td>1.652130</td>\n",
       "      <td>1.744069</td>\n",
       "      <td>1.579557</td>\n",
       "    </tr>\n",
       "    <tr>\n",
       "      <th>3</th>\n",
       "      <td>0.0</td>\n",
       "      <td>0.387749</td>\n",
       "      <td>0.566442</td>\n",
       "      <td>0.217195</td>\n",
       "      <td>0.143029</td>\n",
       "      <td>0.579602</td>\n",
       "      <td>0.103823</td>\n",
       "      <td>0.519677</td>\n",
       "      <td>0.430405</td>\n",
       "      <td>0.111228</td>\n",
       "      <td>0.519840</td>\n",
       "      <td>0.907590</td>\n",
       "      <td>0.0</td>\n",
       "      <td>1.652130</td>\n",
       "      <td>1.744069</td>\n",
       "      <td>1.579557</td>\n",
       "    </tr>\n",
       "    <tr>\n",
       "      <th>4</th>\n",
       "      <td>0.0</td>\n",
       "      <td>0.599820</td>\n",
       "      <td>0.932602</td>\n",
       "      <td>0.430135</td>\n",
       "      <td>0.224050</td>\n",
       "      <td>0.423480</td>\n",
       "      <td>0.267877</td>\n",
       "      <td>0.523457</td>\n",
       "      <td>0.935946</td>\n",
       "      <td>0.439969</td>\n",
       "      <td>0.601146</td>\n",
       "      <td>1.200967</td>\n",
       "      <td>0.0</td>\n",
       "      <td>1.652130</td>\n",
       "      <td>1.744069</td>\n",
       "      <td>1.579557</td>\n",
       "    </tr>\n",
       "    <tr>\n",
       "      <th>5</th>\n",
       "      <td>0.0</td>\n",
       "      <td>0.435820</td>\n",
       "      <td>0.607050</td>\n",
       "      <td>0.633460</td>\n",
       "      <td>0.598439</td>\n",
       "      <td>0.598084</td>\n",
       "      <td>0.117106</td>\n",
       "      <td>0.519677</td>\n",
       "      <td>0.266043</td>\n",
       "      <td>0.217487</td>\n",
       "      <td>0.798112</td>\n",
       "      <td>0.831743</td>\n",
       "      <td>0.0</td>\n",
       "      <td>1.652130</td>\n",
       "      <td>1.744069</td>\n",
       "      <td>1.579557</td>\n",
       "    </tr>\n",
       "    <tr>\n",
       "      <th>6</th>\n",
       "      <td>0.0</td>\n",
       "      <td>0.228809</td>\n",
       "      <td>0.488587</td>\n",
       "      <td>0.529479</td>\n",
       "      <td>0.395888</td>\n",
       "      <td>0.588018</td>\n",
       "      <td>0.448561</td>\n",
       "      <td>0.678056</td>\n",
       "      <td>0.742475</td>\n",
       "      <td>0.808966</td>\n",
       "      <td>0.955661</td>\n",
       "      <td>1.184470</td>\n",
       "      <td>0.0</td>\n",
       "      <td>1.652130</td>\n",
       "      <td>1.744069</td>\n",
       "      <td>1.579557</td>\n",
       "    </tr>\n",
       "    <tr>\n",
       "      <th>7</th>\n",
       "      <td>0.0</td>\n",
       "      <td>0.435820</td>\n",
       "      <td>0.625076</td>\n",
       "      <td>0.612654</td>\n",
       "      <td>0.514342</td>\n",
       "      <td>0.753035</td>\n",
       "      <td>0.485428</td>\n",
       "      <td>0.725599</td>\n",
       "      <td>0.638038</td>\n",
       "      <td>0.388434</td>\n",
       "      <td>0.104637</td>\n",
       "      <td>0.130646</td>\n",
       "      <td>0.0</td>\n",
       "      <td>1.652130</td>\n",
       "      <td>1.744069</td>\n",
       "      <td>1.579557</td>\n",
       "    </tr>\n",
       "    <tr>\n",
       "      <th>8</th>\n",
       "      <td>0.0</td>\n",
       "      <td>0.435820</td>\n",
       "      <td>0.679597</td>\n",
       "      <td>0.430135</td>\n",
       "      <td>0.488758</td>\n",
       "      <td>0.598084</td>\n",
       "      <td>0.392834</td>\n",
       "      <td>0.519677</td>\n",
       "      <td>0.674869</td>\n",
       "      <td>0.388434</td>\n",
       "      <td>0.584110</td>\n",
       "      <td>0.804150</td>\n",
       "      <td>0.0</td>\n",
       "      <td>1.076799</td>\n",
       "      <td>2.256795</td>\n",
       "      <td>0.287685</td>\n",
       "    </tr>\n",
       "    <tr>\n",
       "      <th>9</th>\n",
       "      <td>0.0</td>\n",
       "      <td>0.435820</td>\n",
       "      <td>0.679597</td>\n",
       "      <td>0.430135</td>\n",
       "      <td>0.488758</td>\n",
       "      <td>0.598084</td>\n",
       "      <td>0.392834</td>\n",
       "      <td>0.519677</td>\n",
       "      <td>0.674869</td>\n",
       "      <td>0.388434</td>\n",
       "      <td>0.584110</td>\n",
       "      <td>0.804150</td>\n",
       "      <td>0.0</td>\n",
       "      <td>2.208195</td>\n",
       "      <td>0.109155</td>\n",
       "      <td>2.368336</td>\n",
       "    </tr>\n",
       "  </tbody>\n",
       "</table>\n",
       "</div>"
      ],
      "text/plain": [
       "   index1         i         v       h_x       o_x       d_x         e  \\\n",
       "0     0.0  0.435820  0.521784  0.296480  0.894663  0.416530  0.169612   \n",
       "1     0.0  0.221861  0.814712  0.368225  0.488758  0.598084  0.738109   \n",
       "2     0.0  0.740859  0.880520  0.353451  0.650893  0.827837  0.812156   \n",
       "3     0.0  0.387749  0.566442  0.217195  0.143029  0.579602  0.103823   \n",
       "4     0.0  0.599820  0.932602  0.430135  0.224050  0.423480  0.267877   \n",
       "5     0.0  0.435820  0.607050  0.633460  0.598439  0.598084  0.117106   \n",
       "6     0.0  0.228809  0.488587  0.529479  0.395888  0.588018  0.448561   \n",
       "7     0.0  0.435820  0.625076  0.612654  0.514342  0.753035  0.485428   \n",
       "8     0.0  0.435820  0.679597  0.430135  0.488758  0.598084  0.392834   \n",
       "9     0.0  0.435820  0.679597  0.430135  0.488758  0.598084  0.392834   \n",
       "\n",
       "          w         s         t         a         X  index2       h_y  \\\n",
       "0  0.215881  0.798174  0.388434  0.584110  0.105691     0.0  1.482401   \n",
       "1  0.150927  0.929053  0.198385  0.500580  0.722441     0.0  1.841125   \n",
       "2  0.824139  0.658815  0.554572  0.608795  1.349654     0.0  1.652130   \n",
       "3  0.519677  0.430405  0.111228  0.519840  0.907590     0.0  1.652130   \n",
       "4  0.523457  0.935946  0.439969  0.601146  1.200967     0.0  1.652130   \n",
       "5  0.519677  0.266043  0.217487  0.798112  0.831743     0.0  1.652130   \n",
       "6  0.678056  0.742475  0.808966  0.955661  1.184470     0.0  1.652130   \n",
       "7  0.725599  0.638038  0.388434  0.104637  0.130646     0.0  1.652130   \n",
       "8  0.519677  0.674869  0.388434  0.584110  0.804150     0.0  1.076799   \n",
       "9  0.519677  0.674869  0.388434  0.584110  0.804150     0.0  2.208195   \n",
       "\n",
       "        o_y       d_y  \n",
       "0  4.473314  2.082649  \n",
       "1  0.137012  1.579557  \n",
       "2  1.744069  1.579557  \n",
       "3  1.744069  1.579557  \n",
       "4  1.744069  1.579557  \n",
       "5  1.744069  1.579557  \n",
       "6  1.744069  1.579557  \n",
       "7  1.744069  1.579557  \n",
       "8  2.256795  0.287685  \n",
       "9  0.109155  2.368336  "
      ]
     },
     "execution_count": 592,
     "metadata": {},
     "output_type": "execute_result"
    }
   ],
   "source": [
    "df3"
   ]
  },
  {
   "cell_type": "code",
   "execution_count": 593,
   "metadata": {},
   "outputs": [],
   "source": [
    "books = pd.Series(data = ['Great Expectations', 'Of Mice and Men', 'Romeo and Juliet', 'The Time Machine', 'Alice in Wonderland' ])\n",
    "authors = pd.Series(data = ['Charles Dickens', 'John Steinbeck', 'William Shakespeare', ' H. G. Wells', 'Lewis Carroll' ])\n",
    "\n",
    "user_1 = pd.Series(data = [3.2, np.nan ,2.5])\n",
    "user_2 = pd.Series(data = [5., 1.3, 4.0, 3.8])\n",
    "user_3 = pd.Series(data = [2.0, 2.3, np.nan, 4])\n",
    "user_4 = pd.Series(data = [4, 3.5, 4, 5, 4.2])"
   ]
  },
  {
   "cell_type": "code",
   "execution_count": 594,
   "metadata": {},
   "outputs": [
    {
     "data": {
      "text/html": [
       "<div>\n",
       "<style scoped>\n",
       "    .dataframe tbody tr th:only-of-type {\n",
       "        vertical-align: middle;\n",
       "    }\n",
       "\n",
       "    .dataframe tbody tr th {\n",
       "        vertical-align: top;\n",
       "    }\n",
       "\n",
       "    .dataframe thead th {\n",
       "        text-align: right;\n",
       "    }\n",
       "</style>\n",
       "<table border=\"1\" class=\"dataframe\">\n",
       "  <thead>\n",
       "    <tr style=\"text-align: right;\">\n",
       "      <th></th>\n",
       "      <th>Book</th>\n",
       "      <th>Author</th>\n",
       "      <th>User1</th>\n",
       "      <th>User2</th>\n",
       "      <th>User3</th>\n",
       "      <th>User4</th>\n",
       "    </tr>\n",
       "  </thead>\n",
       "  <tbody>\n",
       "    <tr>\n",
       "      <th>0</th>\n",
       "      <td>Great Expectations</td>\n",
       "      <td>Charles Dickens</td>\n",
       "      <td>3.2</td>\n",
       "      <td>5.0</td>\n",
       "      <td>2.0</td>\n",
       "      <td>4.0</td>\n",
       "    </tr>\n",
       "    <tr>\n",
       "      <th>1</th>\n",
       "      <td>Of Mice and Men</td>\n",
       "      <td>John Steinbeck</td>\n",
       "      <td>NaN</td>\n",
       "      <td>1.3</td>\n",
       "      <td>2.3</td>\n",
       "      <td>3.5</td>\n",
       "    </tr>\n",
       "    <tr>\n",
       "      <th>2</th>\n",
       "      <td>Romeo and Juliet</td>\n",
       "      <td>William Shakespeare</td>\n",
       "      <td>2.5</td>\n",
       "      <td>4.0</td>\n",
       "      <td>NaN</td>\n",
       "      <td>4.0</td>\n",
       "    </tr>\n",
       "    <tr>\n",
       "      <th>3</th>\n",
       "      <td>The Time Machine</td>\n",
       "      <td>H. G. Wells</td>\n",
       "      <td>NaN</td>\n",
       "      <td>3.8</td>\n",
       "      <td>4.0</td>\n",
       "      <td>5.0</td>\n",
       "    </tr>\n",
       "    <tr>\n",
       "      <th>4</th>\n",
       "      <td>Alice in Wonderland</td>\n",
       "      <td>Lewis Carroll</td>\n",
       "      <td>NaN</td>\n",
       "      <td>NaN</td>\n",
       "      <td>NaN</td>\n",
       "      <td>4.2</td>\n",
       "    </tr>\n",
       "  </tbody>\n",
       "</table>\n",
       "</div>"
      ],
      "text/plain": [
       "                  Book               Author  User1  User2  User3  User4\n",
       "0   Great Expectations      Charles Dickens    3.2    5.0    2.0    4.0\n",
       "1      Of Mice and Men       John Steinbeck    NaN    1.3    2.3    3.5\n",
       "2     Romeo and Juliet  William Shakespeare    2.5    4.0    NaN    4.0\n",
       "3     The Time Machine          H. G. Wells    NaN    3.8    4.0    5.0\n",
       "4  Alice in Wonderland        Lewis Carroll    NaN    NaN    NaN    4.2"
      ]
     },
     "execution_count": 594,
     "metadata": {},
     "output_type": "execute_result"
    }
   ],
   "source": [
    "items = {'Book':books, 'Author':authors, 'User1':user_1,'User2':user_2, 'User3':user_3,'User4':user_4}\n",
    "pd.DataFrame(items)"
   ]
  },
  {
   "cell_type": "code",
   "execution_count": 595,
   "metadata": {},
   "outputs": [],
   "source": [
    "book_ratings = pd.DataFrame(items)"
   ]
  },
  {
   "cell_type": "code",
   "execution_count": 597,
   "metadata": {},
   "outputs": [
    {
     "data": {
      "text/plain": [
       "Index(['User1', 'User2', 'User3', 'User4'], dtype='object')"
      ]
     },
     "execution_count": 597,
     "metadata": {},
     "output_type": "execute_result"
    }
   ],
   "source": [
    "book_ratings.columns[2:]"
   ]
  },
  {
   "cell_type": "code",
   "execution_count": 607,
   "metadata": {},
   "outputs": [
    {
     "data": {
      "text/plain": [
       "User1    2.850000\n",
       "User2    3.525000\n",
       "User3    2.766667\n",
       "User4    4.140000\n",
       "dtype: float64"
      ]
     },
     "execution_count": 607,
     "metadata": {},
     "output_type": "execute_result"
    }
   ],
   "source": [
    "book_ratings.mean()"
   ]
  },
  {
   "cell_type": "code",
   "execution_count": 598,
   "metadata": {},
   "outputs": [
    {
     "name": "stdout",
     "output_type": "stream",
     "text": [
      "User1    2.850000\n",
      "User2    3.525000\n",
      "User3    2.766667\n",
      "User4    4.140000\n",
      "dtype: float64\n",
      "User1    2.850000\n",
      "User2    3.525000\n",
      "User3    2.766667\n",
      "User4    4.140000\n",
      "dtype: float64\n",
      "User1    2.850000\n",
      "User2    3.525000\n",
      "User3    2.766667\n",
      "User4    4.140000\n",
      "dtype: float64\n",
      "User1    2.850000\n",
      "User2    3.525000\n",
      "User3    2.766667\n",
      "User4    4.140000\n",
      "dtype: float64\n"
     ]
    }
   ],
   "source": [
    "for col in book_ratings.columns[2:]:   #book_ratings.fillna(book_ratings.mean(), inplace = True)\n",
    "    print(book_ratings.mean())\n",
    "    if(book_ratings[col].mean() != 'nan'):\n",
    "        book_ratings[col].fillna(book_ratings[col].mean(),inplace=True)"
   ]
  },
  {
   "cell_type": "code",
   "execution_count": 599,
   "metadata": {},
   "outputs": [
    {
     "data": {
      "text/html": [
       "<div>\n",
       "<style scoped>\n",
       "    .dataframe tbody tr th:only-of-type {\n",
       "        vertical-align: middle;\n",
       "    }\n",
       "\n",
       "    .dataframe tbody tr th {\n",
       "        vertical-align: top;\n",
       "    }\n",
       "\n",
       "    .dataframe thead th {\n",
       "        text-align: right;\n",
       "    }\n",
       "</style>\n",
       "<table border=\"1\" class=\"dataframe\">\n",
       "  <thead>\n",
       "    <tr style=\"text-align: right;\">\n",
       "      <th></th>\n",
       "      <th>Book</th>\n",
       "      <th>Author</th>\n",
       "      <th>User1</th>\n",
       "      <th>User2</th>\n",
       "      <th>User3</th>\n",
       "      <th>User4</th>\n",
       "    </tr>\n",
       "  </thead>\n",
       "  <tbody>\n",
       "    <tr>\n",
       "      <th>0</th>\n",
       "      <td>Great Expectations</td>\n",
       "      <td>Charles Dickens</td>\n",
       "      <td>3.20</td>\n",
       "      <td>5.000</td>\n",
       "      <td>2.000000</td>\n",
       "      <td>4.0</td>\n",
       "    </tr>\n",
       "    <tr>\n",
       "      <th>1</th>\n",
       "      <td>Of Mice and Men</td>\n",
       "      <td>John Steinbeck</td>\n",
       "      <td>2.85</td>\n",
       "      <td>1.300</td>\n",
       "      <td>2.300000</td>\n",
       "      <td>3.5</td>\n",
       "    </tr>\n",
       "    <tr>\n",
       "      <th>2</th>\n",
       "      <td>Romeo and Juliet</td>\n",
       "      <td>William Shakespeare</td>\n",
       "      <td>2.50</td>\n",
       "      <td>4.000</td>\n",
       "      <td>2.766667</td>\n",
       "      <td>4.0</td>\n",
       "    </tr>\n",
       "    <tr>\n",
       "      <th>3</th>\n",
       "      <td>The Time Machine</td>\n",
       "      <td>H. G. Wells</td>\n",
       "      <td>2.85</td>\n",
       "      <td>3.800</td>\n",
       "      <td>4.000000</td>\n",
       "      <td>5.0</td>\n",
       "    </tr>\n",
       "    <tr>\n",
       "      <th>4</th>\n",
       "      <td>Alice in Wonderland</td>\n",
       "      <td>Lewis Carroll</td>\n",
       "      <td>2.85</td>\n",
       "      <td>3.525</td>\n",
       "      <td>2.766667</td>\n",
       "      <td>4.2</td>\n",
       "    </tr>\n",
       "  </tbody>\n",
       "</table>\n",
       "</div>"
      ],
      "text/plain": [
       "                  Book               Author  User1  User2     User3  User4\n",
       "0   Great Expectations      Charles Dickens   3.20  5.000  2.000000    4.0\n",
       "1      Of Mice and Men       John Steinbeck   2.85  1.300  2.300000    3.5\n",
       "2     Romeo and Juliet  William Shakespeare   2.50  4.000  2.766667    4.0\n",
       "3     The Time Machine          H. G. Wells   2.85  3.800  4.000000    5.0\n",
       "4  Alice in Wonderland        Lewis Carroll   2.85  3.525  2.766667    4.2"
      ]
     },
     "execution_count": 599,
     "metadata": {},
     "output_type": "execute_result"
    }
   ],
   "source": [
    "book_ratings"
   ]
  },
  {
   "cell_type": "code",
   "execution_count": 603,
   "metadata": {},
   "outputs": [
    {
     "data": {
      "text/html": [
       "<div>\n",
       "<style scoped>\n",
       "    .dataframe tbody tr th:only-of-type {\n",
       "        vertical-align: middle;\n",
       "    }\n",
       "\n",
       "    .dataframe tbody tr th {\n",
       "        vertical-align: top;\n",
       "    }\n",
       "\n",
       "    .dataframe thead th {\n",
       "        text-align: right;\n",
       "    }\n",
       "</style>\n",
       "<table border=\"1\" class=\"dataframe\">\n",
       "  <thead>\n",
       "    <tr style=\"text-align: right;\">\n",
       "      <th></th>\n",
       "      <th>Book</th>\n",
       "      <th>Author</th>\n",
       "      <th>User1</th>\n",
       "      <th>User2</th>\n",
       "      <th>User3</th>\n",
       "      <th>User4</th>\n",
       "    </tr>\n",
       "  </thead>\n",
       "  <tbody>\n",
       "    <tr>\n",
       "      <th>0</th>\n",
       "      <td>Great Expectations</td>\n",
       "      <td>Charles Dickens</td>\n",
       "      <td>3.20</td>\n",
       "      <td>5.0</td>\n",
       "      <td>2.0</td>\n",
       "      <td>4.0</td>\n",
       "    </tr>\n",
       "    <tr>\n",
       "      <th>3</th>\n",
       "      <td>The Time Machine</td>\n",
       "      <td>H. G. Wells</td>\n",
       "      <td>2.85</td>\n",
       "      <td>3.8</td>\n",
       "      <td>4.0</td>\n",
       "      <td>5.0</td>\n",
       "    </tr>\n",
       "  </tbody>\n",
       "</table>\n",
       "</div>"
      ],
      "text/plain": [
       "                 Book           Author  User1  User2  User3  User4\n",
       "0  Great Expectations  Charles Dickens   3.20    5.0    2.0    4.0\n",
       "3    The Time Machine      H. G. Wells   2.85    3.8    4.0    5.0"
      ]
     },
     "execution_count": 603,
     "metadata": {},
     "output_type": "execute_result"
    }
   ],
   "source": [
    "book_ratings.loc[(book_ratings == 5).any(axis = 1)]"
   ]
  },
  {
   "cell_type": "code",
   "execution_count": 606,
   "metadata": {},
   "outputs": [
    {
     "data": {
      "text/plain": [
       "array(['Great Expectations', 'The Time Machine'], dtype=object)"
      ]
     },
     "execution_count": 606,
     "metadata": {},
     "output_type": "execute_result"
    }
   ],
   "source": [
    "book_ratings.loc[(book_ratings == 5).any(axis = 1),'Book'].values"
   ]
  },
  {
   "cell_type": "code",
   "execution_count": 11,
   "metadata": {},
   "outputs": [],
   "source": [
    "text = \"public relations\"\n",
    "text2= \"crap built on lies\""
   ]
  },
  {
   "cell_type": "code",
   "execution_count": 16,
   "metadata": {},
   "outputs": [
    {
     "data": {
      "text/plain": [
       "True"
      ]
     },
     "execution_count": 16,
     "metadata": {},
     "output_type": "execute_result"
    }
   ],
   "source": [
    "''.join(sorted(text2.lower().replace(' ',''))) == ''.join(sorted(text.lower().replace(' ','')))"
   ]
  },
  {
   "cell_type": "code",
   "execution_count": 18,
   "metadata": {},
   "outputs": [],
   "source": [
    "dict2 = {}\n",
    "dict1 = {}\n",
    "for letter in text2.lower().replace(' ',''):\n",
    "    dict2[letter] = dict2.get(letter,0) +  1\n",
    "for letter in text.lower().replace(' ',''):\n",
    "    dict1[letter] = dict1.get(letter,0) +  1   "
   ]
  },
  {
   "cell_type": "code",
   "execution_count": 19,
   "metadata": {},
   "outputs": [
    {
     "data": {
      "text/plain": [
       "{'a': 1,\n",
       " 'b': 1,\n",
       " 'c': 1,\n",
       " 'e': 1,\n",
       " 'i': 2,\n",
       " 'l': 2,\n",
       " 'n': 1,\n",
       " 'o': 1,\n",
       " 'p': 1,\n",
       " 'r': 1,\n",
       " 's': 1,\n",
       " 't': 1,\n",
       " 'u': 1}"
      ]
     },
     "execution_count": 19,
     "metadata": {},
     "output_type": "execute_result"
    }
   ],
   "source": [
    "dict2"
   ]
  },
  {
   "cell_type": "code",
   "execution_count": 20,
   "metadata": {},
   "outputs": [
    {
     "data": {
      "text/plain": [
       "{'a': 1,\n",
       " 'b': 1,\n",
       " 'c': 1,\n",
       " 'e': 1,\n",
       " 'i': 2,\n",
       " 'l': 2,\n",
       " 'n': 1,\n",
       " 'o': 1,\n",
       " 'p': 1,\n",
       " 'r': 1,\n",
       " 's': 1,\n",
       " 't': 1,\n",
       " 'u': 1}"
      ]
     },
     "execution_count": 20,
     "metadata": {},
     "output_type": "execute_result"
    }
   ],
   "source": [
    "dict1"
   ]
  },
  {
   "cell_type": "code",
   "execution_count": 21,
   "metadata": {},
   "outputs": [
    {
     "data": {
      "text/plain": [
       "True"
      ]
     },
     "execution_count": 21,
     "metadata": {},
     "output_type": "execute_result"
    }
   ],
   "source": [
    "dict2 == dict1"
   ]
  },
  {
   "cell_type": "code",
   "execution_count": 23,
   "metadata": {},
   "outputs": [
    {
     "data": {
      "text/plain": [
       "{'a': 1,\n",
       " 'b': 1,\n",
       " 'c': 1,\n",
       " 'e': 1,\n",
       " 'i': 1,\n",
       " 'l': 1,\n",
       " 'n': 1,\n",
       " 'o': 1,\n",
       " 'p': 1,\n",
       " 'r': 1,\n",
       " 's': 1,\n",
       " 't': 1,\n",
       " 'u': 1}"
      ]
     },
     "execution_count": 23,
     "metadata": {},
     "output_type": "execute_result"
    }
   ],
   "source": [
    "dict2 = {}\n",
    "{letter: dict2.get(letter,0) + 1 for letter in text2.lower().replace(' ','')}  # not working"
   ]
  },
  {
   "cell_type": "code",
   "execution_count": null,
   "metadata": {},
   "outputs": [],
   "source": []
  }
 ],
 "metadata": {
  "kernelspec": {
   "display_name": "Python [conda env:Anaconda3]",
   "language": "python",
   "name": "conda-env-Anaconda3-py"
  },
  "language_info": {
   "codemirror_mode": {
    "name": "ipython",
    "version": 3
   },
   "file_extension": ".py",
   "mimetype": "text/x-python",
   "name": "python",
   "nbconvert_exporter": "python",
   "pygments_lexer": "ipython3",
   "version": "3.6.4"
  }
 },
 "nbformat": 4,
 "nbformat_minor": 2
}
